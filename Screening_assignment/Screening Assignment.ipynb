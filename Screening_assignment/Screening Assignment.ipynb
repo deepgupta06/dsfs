{
 "cells": [
  {
   "cell_type": "markdown",
   "id": "aabe99cf",
   "metadata": {},
   "source": [
    "# Python Screening Assignment"
   ]
  },
  {
   "cell_type": "markdown",
   "id": "0ffd63f2",
   "metadata": {},
   "source": [
    "### 1. Create a function in python to read the text file and replace specific content of the file.\n",
    "\n",
    "File name --> example.txt\n",
    "\n",
    "Origin file content --> This is a placement assignment\n",
    "\n",
    "Replace string --> Placement should be replaced by screening.\n",
    "\n",
    "Replaced file content --> This is a screening assignment"
   ]
  },
  {
   "cell_type": "code",
   "execution_count": 38,
   "id": "8613d3e9",
   "metadata": {},
   "outputs": [],
   "source": [
    "def replace_file_content():\n",
    "    pass"
   ]
  },
  {
   "cell_type": "code",
   "execution_count": 60,
   "id": "348fa648",
   "metadata": {},
   "outputs": [
    {
     "name": "stdout",
     "output_type": "stream",
     "text": [
      "['This is a placement assignment']\n",
      "['This is a screening assignment']\n"
     ]
    }
   ],
   "source": [
    "text_file = \"example.txt\"\n",
    "with open(text_file, \"r\") as file:\n",
    "    lines = file.readlines()\n",
    "    print(lines)\n",
    "    for idx, line in enumerate(lines):\n",
    "        lines[idx] = line.replace(\"placement\", \"screening\")\n",
    "        print(lines)\n",
    "with open(text_file, \"w\") as file:\n",
    "    file.writelines(lines)\n",
    "        "
   ]
  },
  {
   "cell_type": "code",
   "execution_count": 52,
   "id": "ece278e7",
   "metadata": {},
   "outputs": [
    {
     "data": {
      "text/plain": [
       "['This is a placement assignment.\\n', 'This is a placement assignment2.']"
      ]
     },
     "execution_count": 52,
     "metadata": {},
     "output_type": "execute_result"
    }
   ],
   "source": [
    "content"
   ]
  },
  {
   "cell_type": "markdown",
   "id": "6ec08fdf",
   "metadata": {},
   "source": [
    "### 2. Demonstrate use of abstract class, multiple inheritance and decorator in python using examples."
   ]
  },
  {
   "cell_type": "markdown",
   "id": "54f5504b",
   "metadata": {},
   "source": [
    "### Abstract class"
   ]
  },
  {
   "cell_type": "code",
   "execution_count": 24,
   "id": "1b38ca05",
   "metadata": {},
   "outputs": [],
   "source": [
    "from abc import ABC, abstractmethod\n",
    "\n",
    "class Cal(ABC):\n",
    "    def __init__(self, a, b):\n",
    "        self.a = a\n",
    "        self.b = b\n",
    "    \n",
    "    def print_value(self):\n",
    "        print(f\"Printing the value  a={self.a} and b={self.b}.\")\n",
    "    @abstractmethod\n",
    "    def calculate(self):\n",
    "        pass\n",
    "\n",
    "class Add(Cal):\n",
    "    def __init__(self, a, b):\n",
    "        Cal.__init__(self, a, b)\n",
    "    \n",
    "    def calculate(self):\n",
    "        Cal.print_value(self)\n",
    "        print(f\"Addition Result:{self.a+self.b}\")\n",
    "\n",
    "class Subtract(Cal):\n",
    "    def __init__(self, a, b):\n",
    "        Cal.__init__(self, a, b)\n",
    "    \n",
    "    def calculate(self):\n",
    "        Cal.print_value(self)\n",
    "        print(f\"Subtraction Result:{self.a-self.b}\")\n",
    "        \n",
    "class Multiplay(Cal):\n",
    "    def __init__(self, a, b):\n",
    "        Cal.__init__(self, a, b)\n",
    "    \n",
    "    def calculate(self):\n",
    "        Cal.print_value(self)\n",
    "        print(f\"Multiplication Result:{self.a*self.b}\")\n",
    "        \n",
    "class Divide(Cal):\n",
    "    def __init__(self, a, b):\n",
    "        Cal.__init__(self, a, b)\n",
    "    \n",
    "    def calculate(self):\n",
    "        Cal.print_value(self)\n",
    "        print(f\"Division Result:{round(self.a/self.b, 2)}\")\n",
    "        \n",
    "        "
   ]
  },
  {
   "cell_type": "code",
   "execution_count": 25,
   "id": "46b75bc5",
   "metadata": {},
   "outputs": [
    {
     "name": "stdout",
     "output_type": "stream",
     "text": [
      "Printing the value  a=13 and b=16.\n",
      "Addition Result:29\n"
     ]
    }
   ],
   "source": [
    "add = Add(13,16)\n",
    "add.calculate()"
   ]
  },
  {
   "cell_type": "code",
   "execution_count": 26,
   "id": "0fe3a173",
   "metadata": {},
   "outputs": [
    {
     "name": "stdout",
     "output_type": "stream",
     "text": [
      "Printing the value  a=352 and b=205.\n",
      "Subtraction Result:147\n"
     ]
    }
   ],
   "source": [
    "sub = Subtract(352, 205)\n",
    "sub.calculate()"
   ]
  },
  {
   "cell_type": "code",
   "execution_count": 27,
   "id": "3e4a3ab2",
   "metadata": {},
   "outputs": [
    {
     "name": "stdout",
     "output_type": "stream",
     "text": [
      "Printing the value  a=267 and b=458.\n",
      "Multiplication Result:122286\n"
     ]
    }
   ],
   "source": [
    "mult = Multiplay(267, 458)\n",
    "mult.calculate()"
   ]
  },
  {
   "cell_type": "code",
   "execution_count": 28,
   "id": "a0eab8f5",
   "metadata": {},
   "outputs": [
    {
     "name": "stdout",
     "output_type": "stream",
     "text": [
      "Printing the value  a=7064 and b=252.\n",
      "Division Result:28.03\n"
     ]
    }
   ],
   "source": [
    "div = Divide(7064, 252)\n",
    "div.calculate()"
   ]
  },
  {
   "cell_type": "markdown",
   "id": "6a3cc527",
   "metadata": {},
   "source": [
    "### Multiple inheritance"
   ]
  },
  {
   "cell_type": "code",
   "execution_count": 16,
   "id": "2708aa43",
   "metadata": {},
   "outputs": [],
   "source": [
    "class Add:\n",
    "    def calculate(self, a, b):\n",
    "        print(f\"Addition Result:{a+b}\")\n",
    "class Subtract:\n",
    "    def calculate(self, a, b):\n",
    "        print(f\"Subtraction Result:{a-b}\")\n",
    "class Multiplay:\n",
    "    def calculate(self, a, b):\n",
    "        print(f\"Multiplication Result:{a*b}\")\n",
    "class Divide:\n",
    "    def calculate(self, a, b):\n",
    "        print(f\"Division Result:{round(a/b, 2)}\")\n",
    "        \n",
    "\n",
    "class Calculator(Add, Subtract, Multiplay, Divide):\n",
    "    def calculate(self, a, b):\n",
    "        Add.calculate(self, a,b)\n",
    "        Subtract.calculate(self, a,b)\n",
    "        Multiplay.calculate(self, a,b)\n",
    "        Divide.calculate(self, a,b)\n",
    "              "
   ]
  },
  {
   "cell_type": "code",
   "execution_count": 17,
   "id": "77448991",
   "metadata": {},
   "outputs": [],
   "source": [
    "cal = Calculator()"
   ]
  },
  {
   "cell_type": "code",
   "execution_count": 18,
   "id": "f36d2626",
   "metadata": {},
   "outputs": [
    {
     "name": "stdout",
     "output_type": "stream",
     "text": [
      "Addition Result:22\n",
      "Subtraction Result:-2\n",
      "Multiplication Result:120\n",
      "Division Result:0.83\n"
     ]
    }
   ],
   "source": [
    "cal.calculate(10,12)"
   ]
  },
  {
   "cell_type": "markdown",
   "id": "97119147",
   "metadata": {},
   "source": [
    "### Decorator"
   ]
  },
  {
   "cell_type": "code",
   "execution_count": 35,
   "id": "e13b187a",
   "metadata": {},
   "outputs": [],
   "source": [
    "def calculator(func):\n",
    "    def calculate(*args):\n",
    "        value = func(*args)\n",
    "        print(value)\n",
    "        \n",
    "        return value\n",
    "    return calculate\n",
    "\n",
    "#@calculator\n",
    "def add(a,b):\n",
    "    return a+b"
   ]
  },
  {
   "cell_type": "code",
   "execution_count": 36,
   "id": "1b7736aa",
   "metadata": {},
   "outputs": [],
   "source": [
    "a = 25\n",
    "b = 65"
   ]
  },
  {
   "cell_type": "code",
   "execution_count": 37,
   "id": "82f2eeeb",
   "metadata": {},
   "outputs": [
    {
     "data": {
      "text/plain": [
       "90"
      ]
     },
     "execution_count": 37,
     "metadata": {},
     "output_type": "execute_result"
    }
   ],
   "source": [
    "add(a, b)"
   ]
  },
  {
   "cell_type": "code",
   "execution_count": null,
   "id": "08be8995",
   "metadata": {},
   "outputs": [],
   "source": []
  }
 ],
 "metadata": {
  "kernelspec": {
   "display_name": "Python 3 (ipykernel)",
   "language": "python",
   "name": "python3"
  },
  "language_info": {
   "codemirror_mode": {
    "name": "ipython",
    "version": 3
   },
   "file_extension": ".py",
   "mimetype": "text/x-python",
   "name": "python",
   "nbconvert_exporter": "python",
   "pygments_lexer": "ipython3",
   "version": "3.9.7"
  }
 },
 "nbformat": 4,
 "nbformat_minor": 5
}
