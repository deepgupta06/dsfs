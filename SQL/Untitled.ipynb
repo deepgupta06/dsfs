{
 "cells": [
  {
   "cell_type": "code",
   "execution_count": 1,
   "id": "42239d37",
   "metadata": {},
   "outputs": [
    {
     "name": "stdout",
     "output_type": "stream",
     "text": [
      "Collecting mysql-connector-python\n",
      "  Downloading mysql_connector_python-8.0.28-cp39-cp39-win_amd64.whl (7.2 MB)\n",
      "Collecting protobuf>=3.0.0\n",
      "  Downloading protobuf-3.19.4-cp39-cp39-win_amd64.whl (895 kB)\n",
      "Installing collected packages: protobuf, mysql-connector-python\n",
      "Successfully installed mysql-connector-python-8.0.28 protobuf-3.19.4\n"
     ]
    }
   ],
   "source": [
    "!pip install mysql-connector-python"
   ]
  },
  {
   "cell_type": "code",
   "execution_count": 2,
   "id": "10afb644",
   "metadata": {},
   "outputs": [],
   "source": [
    "import mysql.connector as conn"
   ]
  },
  {
   "cell_type": "code",
   "execution_count": 4,
   "id": "cffdb4f6",
   "metadata": {},
   "outputs": [],
   "source": [
    "mydb = conn.connect(host=\"localhost\", user=\"root\", passwd=\"admin\")"
   ]
  },
  {
   "cell_type": "code",
   "execution_count": 5,
   "id": "6774b7dc",
   "metadata": {},
   "outputs": [
    {
     "data": {
      "text/plain": [
       "<mysql.connector.connection_cext.CMySQLConnection at 0x2c447d48a30>"
      ]
     },
     "execution_count": 5,
     "metadata": {},
     "output_type": "execute_result"
    }
   ],
   "source": [
    "mydb"
   ]
  },
  {
   "cell_type": "code",
   "execution_count": 6,
   "id": "8b55c50d",
   "metadata": {},
   "outputs": [],
   "source": [
    "cursor = mydb.cursor()"
   ]
  },
  {
   "cell_type": "code",
   "execution_count": 9,
   "id": "e0d6a522",
   "metadata": {},
   "outputs": [],
   "source": [
    "cursor.execute(\"show databases\")"
   ]
  },
  {
   "cell_type": "code",
   "execution_count": 11,
   "id": "96f40fe5",
   "metadata": {},
   "outputs": [
    {
     "data": {
      "text/plain": [
       "[('information_schema',),\n",
       " ('mysql',),\n",
       " ('netflix',),\n",
       " ('performance_schema',),\n",
       " ('sakila',),\n",
       " ('student',),\n",
       " ('sys',),\n",
       " ('world',)]"
      ]
     },
     "execution_count": 11,
     "metadata": {},
     "output_type": "execute_result"
    }
   ],
   "source": [
    "cursor.fetchall()"
   ]
  },
  {
   "cell_type": "code",
   "execution_count": 12,
   "id": "dba54956",
   "metadata": {},
   "outputs": [],
   "source": [
    "cursor = mydb.cursor()"
   ]
  },
  {
   "cell_type": "code",
   "execution_count": 13,
   "id": "6d1bc4ba",
   "metadata": {},
   "outputs": [],
   "source": [
    "cursor.execute(\"create database learningtest\")"
   ]
  },
  {
   "cell_type": "code",
   "execution_count": 14,
   "id": "d08f8fdd",
   "metadata": {},
   "outputs": [],
   "source": [
    "cursor.execute('create table learningtest.student(studentid INT(10), firstname VARCHAR(30), lastname VARCHAR(30), regid INT(10) )')"
   ]
  },
  {
   "cell_type": "code",
   "execution_count": 16,
   "id": "97f5399d",
   "metadata": {},
   "outputs": [],
   "source": [
    "cursor.execute(\"use learningtest\")\n",
    "cursor.execute(\"show tables\")"
   ]
  },
  {
   "cell_type": "code",
   "execution_count": 17,
   "id": "b2f1bb6a",
   "metadata": {},
   "outputs": [
    {
     "data": {
      "text/plain": [
       "[('student',)]"
      ]
     },
     "execution_count": 17,
     "metadata": {},
     "output_type": "execute_result"
    }
   ],
   "source": [
    "cursor.fetchall()"
   ]
  },
  {
   "cell_type": "code",
   "execution_count": 18,
   "id": "863e38f4",
   "metadata": {},
   "outputs": [],
   "source": [
    "cursor.execute(\"insert into learningtest.student VALUE(12345, 'Deep', 'Gupta', '1121')\")"
   ]
  },
  {
   "cell_type": "code",
   "execution_count": 30,
   "id": "259d6442",
   "metadata": {},
   "outputs": [],
   "source": [
    "cursor.execute(\"select * from learningtest.student\")"
   ]
  },
  {
   "cell_type": "code",
   "execution_count": 31,
   "id": "2f37ff71",
   "metadata": {},
   "outputs": [],
   "source": [
    "new = cursor.fetchall()"
   ]
  },
  {
   "cell_type": "code",
   "execution_count": 32,
   "id": "cf4096c4",
   "metadata": {},
   "outputs": [
    {
     "data": {
      "text/plain": [
       "[(12345, 'Deep', 'Gupta', 1121)]"
      ]
     },
     "execution_count": 32,
     "metadata": {},
     "output_type": "execute_result"
    }
   ],
   "source": [
    "new"
   ]
  },
  {
   "cell_type": "code",
   "execution_count": null,
   "id": "2f4cccd3",
   "metadata": {},
   "outputs": [],
   "source": []
  }
 ],
 "metadata": {
  "kernelspec": {
   "display_name": "Python 3 (ipykernel)",
   "language": "python",
   "name": "python3"
  },
  "language_info": {
   "codemirror_mode": {
    "name": "ipython",
    "version": 3
   },
   "file_extension": ".py",
   "mimetype": "text/x-python",
   "name": "python",
   "nbconvert_exporter": "python",
   "pygments_lexer": "ipython3",
   "version": "3.9.7"
  }
 },
 "nbformat": 4,
 "nbformat_minor": 5
}
