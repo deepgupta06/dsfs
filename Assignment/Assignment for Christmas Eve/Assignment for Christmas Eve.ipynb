{
 "cells": [
  {
   "cell_type": "markdown",
   "id": "29caf9a5",
   "metadata": {},
   "source": [
    "### 1. You have to write a fun which will take string and return a len of it without using a inbuilt fun len.\n",
    "Ans:"
   ]
  },
  {
   "cell_type": "code",
   "execution_count": 1,
   "id": "90856ee5",
   "metadata": {},
   "outputs": [],
   "source": [
    "def len_(input_):\n",
    "    count =0\n",
    "    for index, _ in enumerate(input_):\n",
    "        pass\n",
    "    return index+1"
   ]
  },
  {
   "cell_type": "code",
   "execution_count": 2,
   "id": "aa832cc4",
   "metadata": {},
   "outputs": [],
   "source": [
    "input_ = \"Cause if we can’t protect the Earth, you can be damn sure we’ll avenge it\""
   ]
  },
  {
   "cell_type": "code",
   "execution_count": 3,
   "id": "f70656d1",
   "metadata": {},
   "outputs": [
    {
     "data": {
      "text/plain": [
       "73"
      ]
     },
     "execution_count": 3,
     "metadata": {},
     "output_type": "execute_result"
    }
   ],
   "source": [
    "len_(input_)"
   ]
  },
  {
   "cell_type": "code",
   "execution_count": 4,
   "id": "84a2d787",
   "metadata": {},
   "outputs": [
    {
     "data": {
      "text/plain": [
       "73"
      ]
     },
     "execution_count": 4,
     "metadata": {},
     "output_type": "execute_result"
    }
   ],
   "source": [
    "len(input_)"
   ]
  },
  {
   "cell_type": "markdown",
   "id": "abf0f3ef",
   "metadata": {},
   "source": [
    "### 2/6. Write a fun which will be able to print an index of all premitive element which you will pass."
   ]
  },
  {
   "cell_type": "code",
   "execution_count": 5,
   "id": "ee3b8f8e",
   "metadata": {},
   "outputs": [],
   "source": [
    "def index_(input_, looking_item, occurrence=1):\n",
    "    \"\"\"This function will use to find out the position of lookup item in iterable object.\n",
    "    input_: iterable object\n",
    "    looking_item: The item which we are looking for\n",
    "    occurance:This is an optional argument\"\"\"\n",
    "    input_item_dic = {}\n",
    "    for idx, item in enumerate(input_):\n",
    "        if item == looking_item and occurrence == input_[0:idx+1].count(looking_item):\n",
    "            return idx"
   ]
  },
  {
   "cell_type": "code",
   "execution_count": 6,
   "id": "3044664c",
   "metadata": {},
   "outputs": [],
   "source": [
    "input_ = [1,2,3,4,5,1,2,1,1,2,3,3,3,4]"
   ]
  },
  {
   "cell_type": "code",
   "execution_count": 7,
   "id": "335e7ffc",
   "metadata": {},
   "outputs": [
    {
     "data": {
      "text/plain": [
       "5"
      ]
     },
     "execution_count": 7,
     "metadata": {},
     "output_type": "execute_result"
    }
   ],
   "source": [
    "index_(input_,1, 2)"
   ]
  },
  {
   "cell_type": "code",
   "execution_count": 8,
   "id": "7f35cc05",
   "metadata": {},
   "outputs": [],
   "source": [
    "input_string = \"deep\""
   ]
  },
  {
   "cell_type": "code",
   "execution_count": 9,
   "id": "4a51e036",
   "metadata": {},
   "outputs": [
    {
     "data": {
      "text/plain": [
       "2"
      ]
     },
     "execution_count": 9,
     "metadata": {},
     "output_type": "execute_result"
    }
   ],
   "source": [
    "index_(input_string, \"e\", 2)"
   ]
  },
  {
   "cell_type": "markdown",
   "id": "f850e47d",
   "metadata": {},
   "source": [
    "### 3. Write a fun which will take input as a dict and give me out as a list of all the values even in case of 2 level nesting it should work.\n",
    "Ans:"
   ]
  },
  {
   "cell_type": "code",
   "execution_count": 10,
   "id": "1b23c940",
   "metadata": {},
   "outputs": [],
   "source": [
    "def get_values_from_dict(dic_, output_list = []):\n",
    "    try:\n",
    "        #print(dic_)\n",
    "        output_value=[]\n",
    "        if output_list:\n",
    "            for idx, item in enumerate(output_list):\n",
    "                #print(f\"item:{item}\")\n",
    "                for key, value in item.items():\n",
    "                    output_value.append(value)\n",
    "            #print(\"if\")\n",
    "            output_list=output_value\n",
    "        else:\n",
    "            #print(\"else\")\n",
    "            #print(output_list)\n",
    "            for key, value in dic_.items():\n",
    "                output_value.append(value)\n",
    "            output_list=output_value\n",
    "        #print(output_list)\n",
    "        if type(output_list[0])!=dict:\n",
    "            if type(output_list[0]) == list:\n",
    "                output_ = [x for x in output_list[0]]\n",
    "                return output_\n",
    "            return output_list\n",
    "        else:\n",
    "            output_value = []\n",
    "            return get_values_from_dict(dic_, output_list)\n",
    "    except:\n",
    "        output_list=[]\n",
    "        return get_values_from_dict(dic_,output_list)\n"
   ]
  },
  {
   "cell_type": "code",
   "execution_count": 11,
   "id": "4dc04075",
   "metadata": {},
   "outputs": [],
   "source": [
    "nested_1 = {\n",
    "    \"2010\":1,\n",
    "    \"2011\":2,\n",
    "    \"2012\":3\n",
    "}"
   ]
  },
  {
   "cell_type": "code",
   "execution_count": 12,
   "id": "43d074af",
   "metadata": {},
   "outputs": [],
   "source": [
    "nested_2 = {\n",
    "    \n",
    "        \"2010\":{\n",
    "                'A':2,\n",
    "                'B':3,\n",
    "                'C':5\n",
    "            },\n",
    "        \"2011\":{\n",
    "                'A':1,\n",
    "                'B':2,\n",
    "                'C':3\n",
    "            },\n",
    "        \"2012\":{\n",
    "                'A':1,\n",
    "                'B':2,\n",
    "                'C':4\n",
    "            }\n",
    "    }"
   ]
  },
  {
   "cell_type": "code",
   "execution_count": 13,
   "id": "9ef62b4c",
   "metadata": {},
   "outputs": [],
   "source": [
    "nested_3 = {\n",
    "    \"data1\":{\n",
    "            \"2010\":{\n",
    "                    'A':2,\n",
    "                    'B':3,\n",
    "                    'C':5\n",
    "                },\n",
    "            \"2011\":{\n",
    "                    'A':1,\n",
    "                    'B':2,\n",
    "                    'C':3\n",
    "                },\n",
    "            \"2012\":{\n",
    "                    'A':1,\n",
    "                    'B':2,\n",
    "                    'C':4\n",
    "                }\n",
    "    },\n",
    "    \"data2\":{\n",
    "            \"2010\":{\n",
    "                    'A':10,\n",
    "                    'B':30,\n",
    "                    'C':50\n",
    "                },\n",
    "            \"2011\":{\n",
    "                    'A':10,\n",
    "                    'B':20,\n",
    "                    'C':30\n",
    "                },\n",
    "            \"2012\":{\n",
    "                    'A':10,\n",
    "                    'B':20,\n",
    "                    'C':70\n",
    "                }\n",
    "    }\n",
    "}\n"
   ]
  },
  {
   "cell_type": "code",
   "execution_count": 14,
   "id": "91ebb82f",
   "metadata": {},
   "outputs": [
    {
     "data": {
      "text/plain": [
       "[1, 2, 3]"
      ]
     },
     "execution_count": 14,
     "metadata": {},
     "output_type": "execute_result"
    }
   ],
   "source": [
    "get_values_from_dict(nested_1)"
   ]
  },
  {
   "cell_type": "code",
   "execution_count": 15,
   "id": "b04153bd",
   "metadata": {},
   "outputs": [
    {
     "data": {
      "text/plain": [
       "[2, 3, 5, 1, 2, 3, 1, 2, 4]"
      ]
     },
     "execution_count": 15,
     "metadata": {},
     "output_type": "execute_result"
    }
   ],
   "source": [
    "get_values_from_dict(nested_2)"
   ]
  },
  {
   "cell_type": "code",
   "execution_count": 16,
   "id": "a3f4d04e",
   "metadata": {},
   "outputs": [
    {
     "data": {
      "text/plain": [
       "[2, 3, 5, 1, 2, 3, 1, 2, 4, 10, 30, 50, 10, 20, 30, 10, 20, 70]"
      ]
     },
     "execution_count": 16,
     "metadata": {},
     "output_type": "execute_result"
    }
   ],
   "source": [
    "get_values_from_dict(nested_3)"
   ]
  },
  {
   "cell_type": "markdown",
   "id": "2061808b",
   "metadata": {},
   "source": [
    "### 5. Write a function which will take multiple list as a input and give me concatnation of all the element as and output."
   ]
  },
  {
   "cell_type": "code",
   "execution_count": 17,
   "id": "bc02380a",
   "metadata": {},
   "outputs": [],
   "source": [
    "def list_element_concat(*args):\n",
    "    output_string = \"\"\n",
    "    for elements in args:\n",
    "        for element in elements:\n",
    "            output_string += str(element)\n",
    "    return output_string"
   ]
  },
  {
   "cell_type": "code",
   "execution_count": 18,
   "id": "ceda6a90",
   "metadata": {},
   "outputs": [
    {
     "data": {
      "text/plain": [
       "'123321324443'"
      ]
     },
     "execution_count": 18,
     "metadata": {},
     "output_type": "execute_result"
    }
   ],
   "source": [
    "list_element_concat([123, 321], [324, 443])"
   ]
  },
  {
   "cell_type": "code",
   "execution_count": 19,
   "id": "e73f2731",
   "metadata": {},
   "outputs": [
    {
     "data": {
      "text/plain": [
       "'abczyx'"
      ]
     },
     "execution_count": 19,
     "metadata": {},
     "output_type": "execute_result"
    }
   ],
   "source": [
    "list_element_concat([\"a\",\"b\",\"c\"], [\"z\", \"y\", \"x\"])"
   ]
  },
  {
   "cell_type": "markdown",
   "id": "aa8ed31c",
   "metadata": {},
   "source": [
    "### 9. Write a function which will be able to show date and time"
   ]
  },
  {
   "cell_type": "code",
   "execution_count": 20,
   "id": "6e0a46fb",
   "metadata": {},
   "outputs": [],
   "source": [
    "from tkinter import Tk\n",
    "from tkinter import Label\n",
    "from datetime import datetime\n",
    "\n",
    "#Defining the main window of the application\n",
    "root = Tk()\n",
    "#Setting of window size of the application\n",
    "root.geometry(\"200x100\")\n",
    "icon_img = r\"icon.ico\"\n",
    "root.title(\"Digital Clock\")\n",
    "root.iconbitmap(icon_img)\n",
    "\n",
    "#time updating function, it will update the time by replacing the previous label\n",
    "def time_update():\n",
    "    now_time = datetime.now()\n",
    "    time_ = now_time.strftime(\"%I:%M:%S%p\")\n",
    "    date_ =now_time.strftime(\"%d %B %Y\") \n",
    "    label_time = Label(root, text = time_, font=(\"Arial\", 25 ))\n",
    "    label_time.grid(row=0, column=0)\n",
    "    label_date = Label(root, text = date_, font=(\"Arial\", 10 ))\n",
    "    label_date.grid(row=1, column=0)\n",
    "    #This will run the time update function with 1s time interval\n",
    "    root.after(1000, time_update)\n",
    "    \n",
    "root.after(1000, time_update)\n",
    "root.mainloop()"
   ]
  },
  {
   "cell_type": "markdown",
   "id": "59c42162",
   "metadata": {},
   "source": [
    "### 7. Write a function which will whould return list of all the file name from a directory .\n",
    "Ans:"
   ]
  },
  {
   "cell_type": "code",
   "execution_count": 21,
   "id": "3fde25d5",
   "metadata": {},
   "outputs": [],
   "source": [
    "def get_filename(path):\n",
    "    \"\"\"This function will take directory path as an input \n",
    "    and return a list containing all the filename, available in the directory\"\"\"\n",
    "    from os import listdir\n",
    "    return listdir(path)"
   ]
  },
  {
   "cell_type": "code",
   "execution_count": 23,
   "id": "1768a6ae",
   "metadata": {},
   "outputs": [
    {
     "data": {
      "text/plain": [
       "[b'.ipynb_checkpoints',\n",
       " b'after_merged.pdf',\n",
       " b'Assignment for Christmas Eve.ipynb',\n",
       " b'Avenger_poster.jpg',\n",
       " b'file_move',\n",
       " b'icon.ico',\n",
       " b'pdf_1.pdf',\n",
       " b'pdf_2.pdf',\n",
       " b'pdf_reading.pdf',\n",
       " b'Video_file.mp4',\n",
       " b'word file.docx']"
      ]
     },
     "execution_count": 23,
     "metadata": {},
     "output_type": "execute_result"
    }
   ],
   "source": [
    "import os\n",
    "path = os.getcwdb()\n",
    "get_filename(path)"
   ]
  },
  {
   "cell_type": "markdown",
   "id": "76495986",
   "metadata": {},
   "source": [
    "### 8. Write a function which will be able to show your system configuration.\n",
    "Ans:"
   ]
  },
  {
   "cell_type": "code",
   "execution_count": 24,
   "id": "b2342e70",
   "metadata": {},
   "outputs": [],
   "source": [
    "def systeminfo():\n",
    "    import subprocess\n",
    "    subprocess = subprocess.Popen(\"systeminfo\", shell=True, stdout=subprocess.PIPE)\n",
    "    subprocess_return = subprocess.stdout.read()\n",
    "    subprocess_return = subprocess_return.decode(\"utf-8\")\n",
    "    print(subprocess_return)"
   ]
  },
  {
   "cell_type": "code",
   "execution_count": 25,
   "id": "5945254d",
   "metadata": {},
   "outputs": [
    {
     "name": "stdout",
     "output_type": "stream",
     "text": [
      "\r\n",
      "Host Name:                 DEEPGUPTA\r\n",
      "OS Name:                   Microsoft Windows 10 Pro\r\n",
      "OS Version:                10.0.19044 N/A Build 19044\r\n",
      "OS Manufacturer:           Microsoft Corporation\r\n",
      "OS Configuration:          Member Workstation\r\n",
      "OS Build Type:             Multiprocessor Free\r\n",
      "Registered Owner:          Windows User\r\n",
      "Registered Organization:   \r\n",
      "Product ID:                00330-50638-03797-AAOEM\r\n",
      "Original Install Date:     20/04/2021, 01:50:17\r\n",
      "System Boot Time:          14/01/2022, 13:18:49\r\n",
      "System Manufacturer:       LENOVO\r\n",
      "System Model:              80WR\r\n",
      "System Type:               x64-based PC\r\n",
      "Processor(s):              1 Processor(s) Installed.\r\n",
      "                           [01]: Intel64 Family 6 Model 78 Stepping 3 GenuineIntel ~2000 Mhz\r\n",
      "BIOS Version:              LENOVO 0ZCN41WW, 15/09/2017\r\n",
      "Windows Directory:         C:\\WINDOWS\r\n",
      "System Directory:          C:\\WINDOWS\\system32\r\n",
      "Boot Device:               \\Device\\HarddiskVolume1\r\n",
      "System Locale:             en-us;English (United States)\r\n",
      "Input Locale:              00004009\r\n",
      "Time Zone:                 (UTC+05:30) Chennai, Kolkata, Mumbai, New Delhi\r\n",
      "Total Physical Memory:     7,912 MB\r\n",
      "Available Physical Memory: 3,522 MB\r\n",
      "Virtual Memory: Max Size:  12,776 MB\r\n",
      "Virtual Memory: Available: 7,879 MB\r\n",
      "Virtual Memory: In Use:    4,897 MB\r\n",
      "Page File Location(s):     C:\\pagefile.sys\r\n",
      "Domain:                    vspl.com\r\n",
      "Logon Server:              \\\\RDC\r\n",
      "Hotfix(s):                 10 Hotfix(s) Installed.\r\n",
      "                           [01]: KB5008876\r\n",
      "                           [02]: KB4562830\r\n",
      "                           [03]: KB4577586\r\n",
      "                           [04]: KB4580325\r\n",
      "                           [05]: KB5000736\r\n",
      "                           [06]: KB5003791\r\n",
      "                           [07]: KB5009543\r\n",
      "                           [08]: KB5006753\r\n",
      "                           [09]: KB5007273\r\n",
      "                           [10]: KB5005699\r\n",
      "Network Card(s):           3 NIC(s) Installed.\r\n",
      "                           [01]: Qualcomm Atheros QCA9377 Wireless Network Adapter\r\n",
      "                                 Connection Name: Wi-Fi\r\n",
      "                                 DHCP Enabled:    Yes\r\n",
      "                                 DHCP Server:     1.1.1.1\r\n",
      "                                 IP address(es)\r\n",
      "                                 [01]: 192.168.72.186\r\n",
      "                                 [02]: fe80::297f:a425:662c:2640\r\n",
      "                           [02]: Realtek PCIe GBE Family Controller\r\n",
      "                                 Connection Name: Ethernet\r\n",
      "                                 Status:          Media disconnected\r\n",
      "                           [03]: Sophos SSL VPN Adapter\r\n",
      "                                 Connection Name: Ethernet 2\r\n",
      "                                 Status:          Media disconnected\r\n",
      "Hyper-V Requirements:      VM Monitor Mode Extensions: Yes\r\n",
      "                           Virtualization Enabled In Firmware: No\r\n",
      "                           Second Level Address Translation: Yes\r\n",
      "                           Data Execution Prevention Available: Yes\r\n",
      "\n"
     ]
    }
   ],
   "source": [
    "systeminfo()"
   ]
  },
  {
   "cell_type": "markdown",
   "id": "727b41a3",
   "metadata": {},
   "source": [
    "### 10 . write a function which will be able to read a image file and show it to you ."
   ]
  },
  {
   "cell_type": "code",
   "execution_count": 30,
   "id": "1e418c45",
   "metadata": {},
   "outputs": [],
   "source": [
    "def openImage(img_path):\n",
    "    from subprocess import Popen, PIPE\n",
    "    process = Popen(img_path, shell=True, stdout=PIPE)"
   ]
  },
  {
   "cell_type": "code",
   "execution_count": 31,
   "id": "b406bb06",
   "metadata": {},
   "outputs": [],
   "source": [
    "img_path = \"Avenger_poster.jpg\"\n",
    "openImage(img_path)"
   ]
  },
  {
   "cell_type": "markdown",
   "id": "8a03d305",
   "metadata": {},
   "source": [
    "### 11 . write a function which can read video file and play for you."
   ]
  },
  {
   "cell_type": "code",
   "execution_count": 32,
   "id": "c64878da",
   "metadata": {},
   "outputs": [],
   "source": [
    "def playVideo(video_path):\n",
    "    from subprocess import Popen, PIPE\n",
    "    process = Popen(video_path, shell=True, stdout=PIPE)"
   ]
  },
  {
   "cell_type": "code",
   "execution_count": 33,
   "id": "15b24748",
   "metadata": {},
   "outputs": [],
   "source": [
    "video_path = \"Video_file.mp4\"\n",
    "playVideo(video_path)"
   ]
  },
  {
   "cell_type": "markdown",
   "id": "2fc541c0",
   "metadata": {},
   "source": [
    "### 19 . write a function by which you can print an ip address of your system . "
   ]
  },
  {
   "cell_type": "code",
   "execution_count": 34,
   "id": "0546e400",
   "metadata": {},
   "outputs": [],
   "source": [
    "def ipconfig():\n",
    "    import subprocess\n",
    "    subprocess = subprocess.Popen(\"ipconfig\", shell=True, stdout=subprocess.PIPE)\n",
    "    subprocess_return = subprocess.stdout.read()\n",
    "    subprocess_return = subprocess_return.decode(\"utf-8\")\n",
    "    ip_info = subprocess_return[subprocess_return.find(\"IPv4\")::]\n",
    "    ip_subnet_gateway = []\n",
    "    for element in ip_info.split(\"\\r\\n\"):\n",
    "        ip_subnet_gateway.append(element[element.find(\":\")+1::].strip())\n",
    "    ip_subnet_gateway = ip_subnet_gateway[:3]\n",
    "    return ip_subnet_gateway"
   ]
  },
  {
   "cell_type": "code",
   "execution_count": 35,
   "id": "6c811554",
   "metadata": {},
   "outputs": [
    {
     "data": {
      "text/plain": [
       "['192.168.72.186', '255.255.255.0', '192.168.72.254']"
      ]
     },
     "execution_count": 35,
     "metadata": {},
     "output_type": "execute_result"
    }
   ],
   "source": [
    "ipconfig()"
   ]
  },
  {
   "cell_type": "markdown",
   "id": "b52f4620",
   "metadata": {},
   "source": [
    "### 18 . Write a function which can help you to filter only word file from a directory . "
   ]
  },
  {
   "cell_type": "code",
   "execution_count": 36,
   "id": "4dddc8cd",
   "metadata": {},
   "outputs": [],
   "source": [
    "def filtered_filename(serching_path, extension):\n",
    "    \"\"\"This function will take a directory where we are going to search, \n",
    "    and extension of file type which type of file we are looking for.\n",
    "    As a return it will return a dictionary where all keys are file name and values are exact path of the file\"\"\"\n",
    "    import glob,os\n",
    "    filename_filepath = {}\n",
    "    full_path_list = []\n",
    "    for root, dir_, file in os.walk(serching_path):\n",
    "            full_path_list += glob.glob(os.path.join(root,\"*\"+extension)) \n",
    "    #full_path_list = glob.glob(os.path.join(serching_path,\"*\"+extension))\n",
    "    for path in full_path_list:\n",
    "        filename = os.path.basename(path)\n",
    "        filename_filepath[filename] = path\n",
    "    return filename_filepath"
   ]
  },
  {
   "cell_type": "code",
   "execution_count": 37,
   "id": "e0794bd6",
   "metadata": {},
   "outputs": [],
   "source": [
    "path = r\"C:\\Users\\deep.g\\Documents\""
   ]
  },
  {
   "cell_type": "code",
   "execution_count": 38,
   "id": "f506dfe4",
   "metadata": {},
   "outputs": [
    {
     "data": {
      "text/plain": [
       "dict_keys(['01.docx', 'Deep CV V3.2.docx', 'Deep Photo 156x156.docx', 'Deep Photo A4.docx', 'get.docx', 'image_read_script.docx', 'Modules for MAS.docx', 'PMS_20-21.docx', '~$age_read_script.docx', 'IRLibReference.docx', 'project2_report.docx', 'Folder arrangement should be like sharefolder.docx', '~$lder arrangement should be like sharefolder.docx', 'word file.docx', 'Assignment1.docx', 'Assignment2.docx', 'Assignment3.docx', '~$signment1.docx', 'Assignment_1.docx', 'Assignment_10.docx', 'Assignment_11.docx', 'Assignment_12.docx', 'Assignment_13.docx', 'Assignment_14.docx', 'Assignment_15.docx', 'Assignment_16.docx', 'Assignment_17.docx', 'Assignment_18.docx', 'Assignment_19.docx', 'Assignment_2.docx', 'Assignment_20.docx', 'Assignment_21.docx', 'Assignment_22.docx', 'Assignment_23.docx', 'Assignment_24.docx', 'Assignment_25.docx', 'Assignment_3.docx', 'Assignment_4.docx', 'Assignment_5.docx', 'Assignment_6.docx', 'Assignment_7.docx', 'Assignment_8.docx', 'Assignment_9.docx', 'Programming_Assingment1.docx', 'Programming_Assingment10.docx', 'Programming_Assingment11.docx', 'Programming_Assingment12.docx', 'Programming_Assingment13.docx', 'Programming_Assingment14.docx', 'Programming_Assingment15.docx', 'Programming_Assingment16.docx', 'Programming_Assingment17.docx', 'Programming_Assingment18.docx', 'Programming_Assingment19.docx', 'Programming_Assingment2.docx', 'Programming_Assingment20.docx', 'Programming_Assingment21.docx', 'Programming_Assingment22.docx', 'Programming_Assingment23.docx', 'Programming_Assingment24.docx', 'Programming_Assingment25.docx', 'Programming_Assingment3.docx', 'Programming_Assingment4.docx', 'Programming_Assingment5.docx', 'Programming_Assingment6.docx', 'Programming_Assingment7.docx', 'Programming_Assingment8.docx', 'Programming_Assingment9.docx'])"
      ]
     },
     "execution_count": 38,
     "metadata": {},
     "output_type": "execute_result"
    }
   ],
   "source": [
    "filtered_filename(path, \"docx\").keys()"
   ]
  },
  {
   "cell_type": "markdown",
   "id": "a01f67de",
   "metadata": {},
   "source": [
    "#### Copying all filtered file"
   ]
  },
  {
   "cell_type": "code",
   "execution_count": 39,
   "id": "0f76b7e2",
   "metadata": {},
   "outputs": [],
   "source": [
    "def copying_filtered_file(**kargs):\n",
    "    \"\"\"This function will take serching path where we are going to search all file with same kind extension.\n",
    "    and destination where we are going to copy all the filtered file.\"\"\"\n",
    "    filename_filepath = filtered_filename(kargs[\"serching_path\"], kargs[\"extension\"])\n",
    "    from shutil import copyfile,copy\n",
    "    from tqdm import tqdm\n",
    "    destination_dir = kargs[\"destination\"]\n",
    "    for keys, values in tqdm(filename_filepath.items()):\n",
    "        try:\n",
    "            copy(values, destination, follow_symlinks=False)\n",
    "        except:\n",
    "            print(f\"Problem occurred while copying {keys} form {values}\\n\")\n",
    "            pass"
   ]
  },
  {
   "cell_type": "code",
   "execution_count": 41,
   "id": "bd3e2e50",
   "metadata": {},
   "outputs": [
    {
     "name": "stderr",
     "output_type": "stream",
     "text": [
      " 76%|████████████████████████████████████████████████████████████                   | 809/1063 [00:49<00:41,  6.12it/s]"
     ]
    },
    {
     "name": "stdout",
     "output_type": "stream",
     "text": [
      "Problem occurred while copying pdf form E:\\Arranging\\Daily Work\\Offline Website\\www.excel-easy.com\\www.excel-easy.com\\examples\\images\\pdf\n",
      "\n"
     ]
    },
    {
     "name": "stderr",
     "output_type": "stream",
     "text": [
      "100%|██████████████████████████████████████████████████████████████████████████████| 1063/1063 [01:15<00:00, 14.15it/s]\n"
     ]
    }
   ],
   "source": [
    "serching_path = r\"E:\\Arranging\"\n",
    "destination = r\"C:\\Users\\deep.g\\Documents\\Learning\\dsfs\\clone_3\\dsfs\\Assignment\\Assignment for Christmas Eve\\file_move\"\n",
    "copying_filtered_file(serching_path = serching_path, destination = destination, extension = \"pdf\")"
   ]
  },
  {
   "cell_type": "markdown",
   "id": "a7d4803d",
   "metadata": {},
   "source": [
    "### 12. write a function which can move a file from one directory to another directory."
   ]
  },
  {
   "cell_type": "code",
   "execution_count": 42,
   "id": "8bf7d2cb",
   "metadata": {},
   "outputs": [],
   "source": [
    "def file_move(source_file, moving_dir):\n",
    "    from shutil import move\n",
    "    from os.path import basename\n",
    "    move(source_file, moving_dir)\n",
    "    print(f\"{basename(source_file)} moved to {moving_dir}\")"
   ]
  },
  {
   "cell_type": "code",
   "execution_count": 45,
   "id": "35134b3f",
   "metadata": {},
   "outputs": [],
   "source": [
    "source_file = r\"C:\\Users\\deep.g\\Documents\\Learning\\dsfs\\clone_3\\dsfs\\Assignment\\Assignment for Christmas Eve\\file_move.pdf\"\n",
    "moving_dir = r\"C:\\Users\\deep.g\\Documents\\Learning\\dsfs\\clone_3\\dsfs\\Assignment\\Assignment for Christmas Eve\\file_move\""
   ]
  },
  {
   "cell_type": "code",
   "execution_count": 46,
   "id": "ad4c621c",
   "metadata": {},
   "outputs": [
    {
     "name": "stdout",
     "output_type": "stream",
     "text": [
      "file_move.pdf moved to C:\\Users\\deep.g\\Documents\\Learning\\dsfs\\clone_3\\dsfs\\Assignment\\Assignment for Christmas Eve\\file_move\n"
     ]
    }
   ],
   "source": [
    "file_move(source_file, moving_dir)"
   ]
  },
  {
   "cell_type": "markdown",
   "id": "57976634",
   "metadata": {},
   "source": [
    "#### Moving all filtered file"
   ]
  },
  {
   "cell_type": "code",
   "execution_count": 47,
   "id": "89cd516a",
   "metadata": {},
   "outputs": [],
   "source": [
    "def moving_filtered_file(**kargs):\n",
    "    filename_filepath = filtered_filename(kargs[\"serching_path\"], kargs[\"extension\"])\n",
    "    from shutil import move\n",
    "    from tqdm import tqdm\n",
    "    destination_dir = kargs[\"destination\"]\n",
    "    for keys, values in tqdm(filename_filepath.items()):\n",
    "        try:\n",
    "            move(values, destination, follow_symlinks=False)\n",
    "        except:\n",
    "            print(f\"Problem occurred while copying {keys} form {values}\\n\")\n",
    "            pass"
   ]
  },
  {
   "cell_type": "code",
   "execution_count": null,
   "id": "e8345eeb",
   "metadata": {},
   "outputs": [],
   "source": []
  },
  {
   "cell_type": "markdown",
   "id": "31c8b90e",
   "metadata": {},
   "source": [
    "### 15. Write a func by whcih i can send a mail to anyone ."
   ]
  },
  {
   "cell_type": "code",
   "execution_count": 48,
   "id": "d2360faa",
   "metadata": {},
   "outputs": [],
   "source": [
    "import smtplib\n",
    "import email\n",
    "from email.mime.multipart import MIMEMultipart\n",
    "from email.mime.text import MIMEText"
   ]
  },
  {
   "cell_type": "code",
   "execution_count": 49,
   "id": "48c9490f",
   "metadata": {},
   "outputs": [],
   "source": [
    "username = \"xxxxx@gmail.com\" # Provide your gmail email id\n",
    "password = \"xxxxxxxxxxxxxx\" # Provide your app password"
   ]
  },
  {
   "cell_type": "code",
   "execution_count": 50,
   "id": "1961d5e4",
   "metadata": {},
   "outputs": [],
   "source": [
    "def send_mail(from_email, to_email, subject, body):\n",
    "    email_content = MIMEMultipart()\n",
    "    email_content[\"From\"] = from_email\n",
    "    email_content[\"To\"] = to_email\n",
    "    email_content[\"Subject\"] = subject\n",
    "    email_body = MIMEText(body, \"plain\")\n",
    "    email_content.attach(email_body)\n",
    "    \n",
    "    email_content = email_content.as_string()\n",
    "    \n",
    "    with smtplib.SMTP(host = \"smtp.gmail.com\", port = 587) as server:\n",
    "        server.ehlo()\n",
    "        server.starttls()\n",
    "        server.login(username, password)\n",
    "        server.sendmail(from_email, to_email, email_content)\n",
    "    sent = True\n",
    "\n",
    "    \n",
    "    "
   ]
  },
  {
   "cell_type": "code",
   "execution_count": null,
   "id": "6ac0bc44",
   "metadata": {},
   "outputs": [],
   "source": [
    "subject = \"For Test\"\n",
    "body = \"This msg is send to test the script\"\n",
    "send_mail(from_email = \"Deep<ddgkcem@gmail.com>\", to_email = \"deepgupta0695@gmail.com\", subject=subject, body=body)"
   ]
  },
  {
   "cell_type": "markdown",
   "id": "2e880870",
   "metadata": {},
   "source": [
    "### 13. Write a function which will be able to shutdonw your system . "
   ]
  },
  {
   "cell_type": "code",
   "execution_count": 51,
   "id": "9e3514eb",
   "metadata": {},
   "outputs": [],
   "source": [
    "def shutdown():\n",
    "    from subprocess import PIPE, Popen\n",
    "    process = Popen(\"shutdown /s\", shell= True, stdout=PIPE)"
   ]
  },
  {
   "cell_type": "code",
   "execution_count": 52,
   "id": "0ca3733e",
   "metadata": {},
   "outputs": [],
   "source": [
    "#shutdown()  #Uncomment this line to shutdown your system"
   ]
  },
  {
   "cell_type": "markdown",
   "id": "f288b4ec",
   "metadata": {},
   "source": [
    "### 16. write a func to read a complete PDf file . "
   ]
  },
  {
   "cell_type": "code",
   "execution_count": 53,
   "id": "ecffc3f1",
   "metadata": {},
   "outputs": [],
   "source": [
    "import PyPDF2"
   ]
  },
  {
   "cell_type": "code",
   "execution_count": 54,
   "id": "62f0cf83",
   "metadata": {},
   "outputs": [],
   "source": [
    "def pdf_reading(pdf_path):\n",
    "    pdfFile = open(pdf_path, \"rb\")\n",
    "    pdf_reader = PyPDF2.PdfFileReader(pdfFile)\n",
    "    for page_number in range(pdf_reader.numPages):\n",
    "        print(pdf_reader.getPage(page_number).extractText())\n",
    "    pdfFile.close()"
   ]
  },
  {
   "cell_type": "code",
   "execution_count": 55,
   "id": "1c00f9b2",
   "metadata": {},
   "outputs": [
    {
     "name": "stdout",
     "output_type": "stream",
     "text": [
      "This is for \n",
      "demonstration\n",
      " \n",
      "of pdf file reading.\n",
      " \n",
      " \n",
      "Page No 1\n",
      " \n",
      " \n",
      " \n",
      " \n",
      "\n",
      "This is for \n",
      "demonstration\n",
      " \n",
      "of pdf file reading.\n",
      " \n",
      " \n",
      "Page No 2\n",
      " \n",
      " \n",
      " \n",
      " \n",
      "\n",
      " \n",
      " \n",
      "\n"
     ]
    }
   ],
   "source": [
    "pdf_path = \"pdf_reading.pdf\"\n",
    "pdf_reading(pdf_path)"
   ]
  },
  {
   "cell_type": "markdown",
   "id": "d2167ded",
   "metadata": {},
   "source": [
    "### 20 . Write a function by which you will be able to append two PDF files . "
   ]
  },
  {
   "cell_type": "code",
   "execution_count": 56,
   "id": "aafaf7a4",
   "metadata": {},
   "outputs": [],
   "source": [
    "def pdf_merge(list_of_pdfs, output_filename):\n",
    "    merger = PyPDF2.PdfFileMerger()\n",
    "    for pdf_file in list_of_pdfs:\n",
    "        merger.append(pdf_file)\n",
    "    \n",
    "    output_file = open(output_filename, \"wb\")\n",
    "    merger.write(output_file)"
   ]
  },
  {
   "cell_type": "code",
   "execution_count": 57,
   "id": "d172bc5c",
   "metadata": {},
   "outputs": [],
   "source": [
    "pdf_files = [\"pdf_1.pdf\", \"pdf_2.pdf\"]\n",
    "pdf_merge(pdf_files, \"after_merged.pdf\")"
   ]
  },
  {
   "cell_type": "markdown",
   "id": "c5c550fe",
   "metadata": {},
   "source": [
    "### Pending\n",
    "4 . write a fun which will take another function as an input and return me an output\n",
    "\n",
    "14 . write a function which will be able to access your mail . \n",
    "\n",
    "17. write a function to read a word file . "
   ]
  },
  {
   "cell_type": "code",
   "execution_count": 58,
   "id": "1b372153",
   "metadata": {},
   "outputs": [],
   "source": [
    "import pandas as pd"
   ]
  },
  {
   "cell_type": "code",
   "execution_count": 77,
   "id": "3f1118f1",
   "metadata": {},
   "outputs": [],
   "source": [
    "datafile = r\"C:\\Users\\deep.g\\Documents\\Dev\\hu_image_finding\\Output_df.csv\"\n",
    "df = pd.read_csv(datafile)"
   ]
  },
  {
   "cell_type": "code",
   "execution_count": 78,
   "id": "2172183f",
   "metadata": {},
   "outputs": [],
   "source": [
    "df.to_csv(\"Output_df.csv\")"
   ]
  },
  {
   "cell_type": "code",
   "execution_count": 79,
   "id": "8cceb89f",
   "metadata": {},
   "outputs": [
    {
     "data": {
      "text/html": [
       "<div>\n",
       "<style scoped>\n",
       "    .dataframe tbody tr th:only-of-type {\n",
       "        vertical-align: middle;\n",
       "    }\n",
       "\n",
       "    .dataframe tbody tr th {\n",
       "        vertical-align: top;\n",
       "    }\n",
       "\n",
       "    .dataframe thead th {\n",
       "        text-align: right;\n",
       "    }\n",
       "</style>\n",
       "<table border=\"1\" class=\"dataframe\">\n",
       "  <thead>\n",
       "    <tr style=\"text-align: right;\">\n",
       "      <th></th>\n",
       "      <th>Unnamed: 0</th>\n",
       "      <th>Serial Number</th>\n",
       "      <th>Material</th>\n",
       "      <th>Batch</th>\n",
       "      <th>Handling Unit</th>\n",
       "      <th>Date</th>\n",
       "      <th>Material Number</th>\n",
       "      <th>Time</th>\n",
       "      <th>Count.</th>\n",
       "      <th>Plant Responsible for UII</th>\n",
       "      <th>Created By</th>\n",
       "      <th>Created on</th>\n",
       "      <th>MovmtStatus</th>\n",
       "      <th>Handling unit status</th>\n",
       "    </tr>\n",
       "  </thead>\n",
       "  <tbody>\n",
       "    <tr>\n",
       "      <th>0</th>\n",
       "      <td>0</td>\n",
       "      <td>22183311</td>\n",
       "      <td>201301073350</td>\n",
       "      <td>161661N0HD</td>\n",
       "      <td>1000201857</td>\n",
       "      <td>06.12.2021</td>\n",
       "      <td>PV MODULES ELDORA VSP.72.335.05-36M</td>\n",
       "      <td>11:39:46</td>\n",
       "      <td></td>\n",
       "      <td></td>\n",
       "      <td>BISWAJIT.H</td>\n",
       "      <td>06.12.2021</td>\n",
       "      <td>0050</td>\n",
       "      <td>Posted for GI</td>\n",
       "    </tr>\n",
       "    <tr>\n",
       "      <th>1</th>\n",
       "      <td>1</td>\n",
       "      <td>22162797</td>\n",
       "      <td>200301073350</td>\n",
       "      <td>161652N0HD</td>\n",
       "      <td>1000201855</td>\n",
       "      <td>06.12.2021</td>\n",
       "      <td>PV MODULES ELDORA VSP.72.335.05-36M_18V</td>\n",
       "      <td>09:17:25</td>\n",
       "      <td></td>\n",
       "      <td></td>\n",
       "      <td>PUSPENDU.M</td>\n",
       "      <td>06.12.2021</td>\n",
       "      <td>0020</td>\n",
       "      <td>Stock at a non-HU storage location</td>\n",
       "    </tr>\n",
       "    <tr>\n",
       "      <th>2</th>\n",
       "      <td>2</td>\n",
       "      <td>22162806</td>\n",
       "      <td>200301073350</td>\n",
       "      <td>161652N0HD</td>\n",
       "      <td>1000201855</td>\n",
       "      <td>06.12.2021</td>\n",
       "      <td>PV MODULES ELDORA VSP.72.335.05-36M_18V</td>\n",
       "      <td>09:17:25</td>\n",
       "      <td></td>\n",
       "      <td></td>\n",
       "      <td>PUSPENDU.M</td>\n",
       "      <td>06.12.2021</td>\n",
       "      <td>0020</td>\n",
       "      <td>Stock at a non-HU storage location</td>\n",
       "    </tr>\n",
       "    <tr>\n",
       "      <th>3</th>\n",
       "      <td>3</td>\n",
       "      <td>22162815</td>\n",
       "      <td>200301073350</td>\n",
       "      <td>161652N0HD</td>\n",
       "      <td>1000201855</td>\n",
       "      <td>06.12.2021</td>\n",
       "      <td>PV MODULES ELDORA VSP.72.335.05-36M_18V</td>\n",
       "      <td>09:17:25</td>\n",
       "      <td></td>\n",
       "      <td></td>\n",
       "      <td>PUSPENDU.M</td>\n",
       "      <td>06.12.2021</td>\n",
       "      <td>0020</td>\n",
       "      <td>Stock at a non-HU storage location</td>\n",
       "    </tr>\n",
       "    <tr>\n",
       "      <th>4</th>\n",
       "      <td>4</td>\n",
       "      <td>22162819</td>\n",
       "      <td>200301073350</td>\n",
       "      <td>161652N0HD</td>\n",
       "      <td>1000201855</td>\n",
       "      <td>06.12.2021</td>\n",
       "      <td>PV MODULES ELDORA VSP.72.335.05-36M_18V</td>\n",
       "      <td>09:17:25</td>\n",
       "      <td></td>\n",
       "      <td></td>\n",
       "      <td>PUSPENDU.M</td>\n",
       "      <td>06.12.2021</td>\n",
       "      <td>0020</td>\n",
       "      <td>Stock at a non-HU storage location</td>\n",
       "    </tr>\n",
       "    <tr>\n",
       "      <th>...</th>\n",
       "      <td>...</td>\n",
       "      <td>...</td>\n",
       "      <td>...</td>\n",
       "      <td>...</td>\n",
       "      <td>...</td>\n",
       "      <td>...</td>\n",
       "      <td>...</td>\n",
       "      <td>...</td>\n",
       "      <td>...</td>\n",
       "      <td>...</td>\n",
       "      <td>...</td>\n",
       "      <td>...</td>\n",
       "      <td>...</td>\n",
       "      <td>...</td>\n",
       "    </tr>\n",
       "    <tr>\n",
       "      <th>341</th>\n",
       "      <td>341</td>\n",
       "      <td>22183294</td>\n",
       "      <td>201301073350</td>\n",
       "      <td>161661N0HD</td>\n",
       "      <td>1000195522</td>\n",
       "      <td>06.12.2021</td>\n",
       "      <td>PV MODULES ELDORA VSP.72.335.05-36M</td>\n",
       "      <td>11:39:46</td>\n",
       "      <td></td>\n",
       "      <td></td>\n",
       "      <td>PUSPENDU.M</td>\n",
       "      <td>23.10.2021</td>\n",
       "      <td>0050</td>\n",
       "      <td>Posted for GI</td>\n",
       "    </tr>\n",
       "    <tr>\n",
       "      <th>342</th>\n",
       "      <td>342</td>\n",
       "      <td>22183303</td>\n",
       "      <td>201301073350</td>\n",
       "      <td>161661N0HD</td>\n",
       "      <td>1000195522</td>\n",
       "      <td>06.12.2021</td>\n",
       "      <td>PV MODULES ELDORA VSP.72.335.05-36M</td>\n",
       "      <td>11:39:46</td>\n",
       "      <td></td>\n",
       "      <td></td>\n",
       "      <td>PUSPENDU.M</td>\n",
       "      <td>23.10.2021</td>\n",
       "      <td>0050</td>\n",
       "      <td>Posted for GI</td>\n",
       "    </tr>\n",
       "    <tr>\n",
       "      <th>343</th>\n",
       "      <td>343</td>\n",
       "      <td>22183306</td>\n",
       "      <td>201301073350</td>\n",
       "      <td>161661N0HD</td>\n",
       "      <td>1000195522</td>\n",
       "      <td>06.12.2021</td>\n",
       "      <td>PV MODULES ELDORA VSP.72.335.05-36M</td>\n",
       "      <td>11:39:46</td>\n",
       "      <td></td>\n",
       "      <td></td>\n",
       "      <td>PUSPENDU.M</td>\n",
       "      <td>23.10.2021</td>\n",
       "      <td>0050</td>\n",
       "      <td>Posted for GI</td>\n",
       "    </tr>\n",
       "    <tr>\n",
       "      <th>344</th>\n",
       "      <td>344</td>\n",
       "      <td>22183307</td>\n",
       "      <td>201301073350</td>\n",
       "      <td>161661N0HD</td>\n",
       "      <td>1000195522</td>\n",
       "      <td>06.12.2021</td>\n",
       "      <td>PV MODULES ELDORA VSP.72.335.05-36M</td>\n",
       "      <td>11:39:46</td>\n",
       "      <td></td>\n",
       "      <td></td>\n",
       "      <td>PUSPENDU.M</td>\n",
       "      <td>23.10.2021</td>\n",
       "      <td>0050</td>\n",
       "      <td>Posted for GI</td>\n",
       "    </tr>\n",
       "    <tr>\n",
       "      <th>345</th>\n",
       "      <td>346</td>\n",
       "      <td>*</td>\n",
       "      <td></td>\n",
       "      <td></td>\n",
       "      <td></td>\n",
       "      <td></td>\n",
       "      <td></td>\n",
       "      <td></td>\n",
       "      <td>345</td>\n",
       "      <td></td>\n",
       "      <td></td>\n",
       "      <td></td>\n",
       "      <td></td>\n",
       "      <td></td>\n",
       "    </tr>\n",
       "  </tbody>\n",
       "</table>\n",
       "<p>346 rows × 14 columns</p>\n",
       "</div>"
      ],
      "text/plain": [
       "     Unnamed: 0   Serial Number      Material       Batch  Handling Unit  \\\n",
       "0             0   22183311       201301073350  161661N0HD  1000201857      \n",
       "1             1   22162797       200301073350  161652N0HD  1000201855      \n",
       "2             2   22162806       200301073350  161652N0HD  1000201855      \n",
       "3             3   22162815       200301073350  161652N0HD  1000201855      \n",
       "4             4   22162819       200301073350  161652N0HD  1000201855      \n",
       "..          ...             ...           ...         ...            ...   \n",
       "341         341   22183294       201301073350  161661N0HD  1000195522      \n",
       "342         342   22183303       201301073350  161661N0HD  1000195522      \n",
       "343         343   22183306       201301073350  161661N0HD  1000195522      \n",
       "344         344   22183307       201301073350  161661N0HD  1000195522      \n",
       "345         346  *                                                         \n",
       "\n",
       "           Date                          Material Number      Time  Count.  \\\n",
       "0    06.12.2021  PV MODULES ELDORA VSP.72.335.05-36M      11:39:46           \n",
       "1    06.12.2021  PV MODULES ELDORA VSP.72.335.05-36M_18V  09:17:25           \n",
       "2    06.12.2021  PV MODULES ELDORA VSP.72.335.05-36M_18V  09:17:25           \n",
       "3    06.12.2021  PV MODULES ELDORA VSP.72.335.05-36M_18V  09:17:25           \n",
       "4    06.12.2021  PV MODULES ELDORA VSP.72.335.05-36M_18V  09:17:25           \n",
       "..          ...                                      ...       ...     ...   \n",
       "341  06.12.2021  PV MODULES ELDORA VSP.72.335.05-36M      11:39:46           \n",
       "342  06.12.2021  PV MODULES ELDORA VSP.72.335.05-36M      11:39:46           \n",
       "343  06.12.2021  PV MODULES ELDORA VSP.72.335.05-36M      11:39:46           \n",
       "344  06.12.2021  PV MODULES ELDORA VSP.72.335.05-36M      11:39:46           \n",
       "345                                                                   345    \n",
       "\n",
       "     Plant Responsible for UII  Created By  Created on  MovmtStatus  \\\n",
       "0                               BISWAJIT.H  06.12.2021  0050          \n",
       "1                               PUSPENDU.M  06.12.2021  0020          \n",
       "2                               PUSPENDU.M  06.12.2021  0020          \n",
       "3                               PUSPENDU.M  06.12.2021  0020          \n",
       "4                               PUSPENDU.M  06.12.2021  0020          \n",
       "..                         ...         ...         ...          ...   \n",
       "341                             PUSPENDU.M  23.10.2021  0050          \n",
       "342                             PUSPENDU.M  23.10.2021  0050          \n",
       "343                             PUSPENDU.M  23.10.2021  0050          \n",
       "344                             PUSPENDU.M  23.10.2021  0050          \n",
       "345                                                                   \n",
       "\n",
       "                   Handling unit status  \n",
       "0    Posted for GI                       \n",
       "1    Stock at a non-HU storage location  \n",
       "2    Stock at a non-HU storage location  \n",
       "3    Stock at a non-HU storage location  \n",
       "4    Stock at a non-HU storage location  \n",
       "..                                  ...  \n",
       "341  Posted for GI                       \n",
       "342  Posted for GI                       \n",
       "343  Posted for GI                       \n",
       "344  Posted for GI                       \n",
       "345                                      \n",
       "\n",
       "[346 rows x 14 columns]"
      ]
     },
     "execution_count": 79,
     "metadata": {},
     "output_type": "execute_result"
    }
   ],
   "source": [
    "df"
   ]
  },
  {
   "cell_type": "code",
   "execution_count": 69,
   "id": "40f02a87",
   "metadata": {},
   "outputs": [],
   "source": [
    "df.drop(df.shape[0]-1,axis=0, inplace=True)"
   ]
  },
  {
   "cell_type": "code",
   "execution_count": 65,
   "id": "0ef31973",
   "metadata": {},
   "outputs": [
    {
     "data": {
      "text/plain": [
       "(346, 14)"
      ]
     },
     "execution_count": 65,
     "metadata": {},
     "output_type": "execute_result"
    }
   ],
   "source": [
    "df.shape"
   ]
  },
  {
   "cell_type": "code",
   "execution_count": 81,
   "id": "6b7742a7",
   "metadata": {},
   "outputs": [
    {
     "data": {
      "text/html": [
       "<div>\n",
       "<style scoped>\n",
       "    .dataframe tbody tr th:only-of-type {\n",
       "        vertical-align: middle;\n",
       "    }\n",
       "\n",
       "    .dataframe tbody tr th {\n",
       "        vertical-align: top;\n",
       "    }\n",
       "\n",
       "    .dataframe thead th {\n",
       "        text-align: right;\n",
       "    }\n",
       "</style>\n",
       "<table border=\"1\" class=\"dataframe\">\n",
       "  <thead>\n",
       "    <tr style=\"text-align: right;\">\n",
       "      <th></th>\n",
       "      <th>Unnamed: 0</th>\n",
       "      <th>Serial Number</th>\n",
       "      <th>Material</th>\n",
       "      <th>Batch</th>\n",
       "      <th>Handling Unit</th>\n",
       "      <th>Date</th>\n",
       "      <th>Material Number</th>\n",
       "      <th>Time</th>\n",
       "      <th>Count.</th>\n",
       "      <th>Plant Responsible for UII</th>\n",
       "      <th>Created By</th>\n",
       "      <th>Created on</th>\n",
       "      <th>MovmtStatus</th>\n",
       "      <th>Handling unit status</th>\n",
       "    </tr>\n",
       "  </thead>\n",
       "  <tbody>\n",
       "    <tr>\n",
       "      <th>0</th>\n",
       "      <td>0</td>\n",
       "      <td>22183311</td>\n",
       "      <td>201301073350</td>\n",
       "      <td>161661N0HD</td>\n",
       "      <td>1000201857</td>\n",
       "      <td>06.12.2021</td>\n",
       "      <td>PV MODULES ELDORA VSP.72.335.05-36M</td>\n",
       "      <td>11:39:46</td>\n",
       "      <td></td>\n",
       "      <td></td>\n",
       "      <td>BISWAJIT.H</td>\n",
       "      <td>06.12.2021</td>\n",
       "      <td>0050</td>\n",
       "      <td>Posted for GI</td>\n",
       "    </tr>\n",
       "    <tr>\n",
       "      <th>1</th>\n",
       "      <td>1</td>\n",
       "      <td>22162797</td>\n",
       "      <td>200301073350</td>\n",
       "      <td>161652N0HD</td>\n",
       "      <td>1000201855</td>\n",
       "      <td>06.12.2021</td>\n",
       "      <td>PV MODULES ELDORA VSP.72.335.05-36M_18V</td>\n",
       "      <td>09:17:25</td>\n",
       "      <td></td>\n",
       "      <td></td>\n",
       "      <td>PUSPENDU.M</td>\n",
       "      <td>06.12.2021</td>\n",
       "      <td>0020</td>\n",
       "      <td>Stock at a non-HU storage location</td>\n",
       "    </tr>\n",
       "    <tr>\n",
       "      <th>2</th>\n",
       "      <td>2</td>\n",
       "      <td>22162806</td>\n",
       "      <td>200301073350</td>\n",
       "      <td>161652N0HD</td>\n",
       "      <td>1000201855</td>\n",
       "      <td>06.12.2021</td>\n",
       "      <td>PV MODULES ELDORA VSP.72.335.05-36M_18V</td>\n",
       "      <td>09:17:25</td>\n",
       "      <td></td>\n",
       "      <td></td>\n",
       "      <td>PUSPENDU.M</td>\n",
       "      <td>06.12.2021</td>\n",
       "      <td>0020</td>\n",
       "      <td>Stock at a non-HU storage location</td>\n",
       "    </tr>\n",
       "    <tr>\n",
       "      <th>3</th>\n",
       "      <td>3</td>\n",
       "      <td>22162815</td>\n",
       "      <td>200301073350</td>\n",
       "      <td>161652N0HD</td>\n",
       "      <td>1000201855</td>\n",
       "      <td>06.12.2021</td>\n",
       "      <td>PV MODULES ELDORA VSP.72.335.05-36M_18V</td>\n",
       "      <td>09:17:25</td>\n",
       "      <td></td>\n",
       "      <td></td>\n",
       "      <td>PUSPENDU.M</td>\n",
       "      <td>06.12.2021</td>\n",
       "      <td>0020</td>\n",
       "      <td>Stock at a non-HU storage location</td>\n",
       "    </tr>\n",
       "    <tr>\n",
       "      <th>4</th>\n",
       "      <td>4</td>\n",
       "      <td>22162819</td>\n",
       "      <td>200301073350</td>\n",
       "      <td>161652N0HD</td>\n",
       "      <td>1000201855</td>\n",
       "      <td>06.12.2021</td>\n",
       "      <td>PV MODULES ELDORA VSP.72.335.05-36M_18V</td>\n",
       "      <td>09:17:25</td>\n",
       "      <td></td>\n",
       "      <td></td>\n",
       "      <td>PUSPENDU.M</td>\n",
       "      <td>06.12.2021</td>\n",
       "      <td>0020</td>\n",
       "      <td>Stock at a non-HU storage location</td>\n",
       "    </tr>\n",
       "    <tr>\n",
       "      <th>...</th>\n",
       "      <td>...</td>\n",
       "      <td>...</td>\n",
       "      <td>...</td>\n",
       "      <td>...</td>\n",
       "      <td>...</td>\n",
       "      <td>...</td>\n",
       "      <td>...</td>\n",
       "      <td>...</td>\n",
       "      <td>...</td>\n",
       "      <td>...</td>\n",
       "      <td>...</td>\n",
       "      <td>...</td>\n",
       "      <td>...</td>\n",
       "      <td>...</td>\n",
       "    </tr>\n",
       "    <tr>\n",
       "      <th>341</th>\n",
       "      <td>341</td>\n",
       "      <td>22183294</td>\n",
       "      <td>201301073350</td>\n",
       "      <td>161661N0HD</td>\n",
       "      <td>1000195522</td>\n",
       "      <td>06.12.2021</td>\n",
       "      <td>PV MODULES ELDORA VSP.72.335.05-36M</td>\n",
       "      <td>11:39:46</td>\n",
       "      <td></td>\n",
       "      <td></td>\n",
       "      <td>PUSPENDU.M</td>\n",
       "      <td>23.10.2021</td>\n",
       "      <td>0050</td>\n",
       "      <td>Posted for GI</td>\n",
       "    </tr>\n",
       "    <tr>\n",
       "      <th>342</th>\n",
       "      <td>342</td>\n",
       "      <td>22183303</td>\n",
       "      <td>201301073350</td>\n",
       "      <td>161661N0HD</td>\n",
       "      <td>1000195522</td>\n",
       "      <td>06.12.2021</td>\n",
       "      <td>PV MODULES ELDORA VSP.72.335.05-36M</td>\n",
       "      <td>11:39:46</td>\n",
       "      <td></td>\n",
       "      <td></td>\n",
       "      <td>PUSPENDU.M</td>\n",
       "      <td>23.10.2021</td>\n",
       "      <td>0050</td>\n",
       "      <td>Posted for GI</td>\n",
       "    </tr>\n",
       "    <tr>\n",
       "      <th>343</th>\n",
       "      <td>343</td>\n",
       "      <td>22183306</td>\n",
       "      <td>201301073350</td>\n",
       "      <td>161661N0HD</td>\n",
       "      <td>1000195522</td>\n",
       "      <td>06.12.2021</td>\n",
       "      <td>PV MODULES ELDORA VSP.72.335.05-36M</td>\n",
       "      <td>11:39:46</td>\n",
       "      <td></td>\n",
       "      <td></td>\n",
       "      <td>PUSPENDU.M</td>\n",
       "      <td>23.10.2021</td>\n",
       "      <td>0050</td>\n",
       "      <td>Posted for GI</td>\n",
       "    </tr>\n",
       "    <tr>\n",
       "      <th>344</th>\n",
       "      <td>344</td>\n",
       "      <td>22183307</td>\n",
       "      <td>201301073350</td>\n",
       "      <td>161661N0HD</td>\n",
       "      <td>1000195522</td>\n",
       "      <td>06.12.2021</td>\n",
       "      <td>PV MODULES ELDORA VSP.72.335.05-36M</td>\n",
       "      <td>11:39:46</td>\n",
       "      <td></td>\n",
       "      <td></td>\n",
       "      <td>PUSPENDU.M</td>\n",
       "      <td>23.10.2021</td>\n",
       "      <td>0050</td>\n",
       "      <td>Posted for GI</td>\n",
       "    </tr>\n",
       "    <tr>\n",
       "      <th>345</th>\n",
       "      <td>346</td>\n",
       "      <td>*</td>\n",
       "      <td></td>\n",
       "      <td></td>\n",
       "      <td></td>\n",
       "      <td></td>\n",
       "      <td></td>\n",
       "      <td></td>\n",
       "      <td>345</td>\n",
       "      <td></td>\n",
       "      <td></td>\n",
       "      <td></td>\n",
       "      <td></td>\n",
       "      <td></td>\n",
       "    </tr>\n",
       "  </tbody>\n",
       "</table>\n",
       "<p>346 rows × 14 columns</p>\n",
       "</div>"
      ],
      "text/plain": [
       "     Unnamed: 0   Serial Number      Material       Batch  Handling Unit  \\\n",
       "0             0   22183311       201301073350  161661N0HD  1000201857      \n",
       "1             1   22162797       200301073350  161652N0HD  1000201855      \n",
       "2             2   22162806       200301073350  161652N0HD  1000201855      \n",
       "3             3   22162815       200301073350  161652N0HD  1000201855      \n",
       "4             4   22162819       200301073350  161652N0HD  1000201855      \n",
       "..          ...             ...           ...         ...            ...   \n",
       "341         341   22183294       201301073350  161661N0HD  1000195522      \n",
       "342         342   22183303       201301073350  161661N0HD  1000195522      \n",
       "343         343   22183306       201301073350  161661N0HD  1000195522      \n",
       "344         344   22183307       201301073350  161661N0HD  1000195522      \n",
       "345         346  *                                                         \n",
       "\n",
       "           Date                          Material Number      Time  Count.  \\\n",
       "0    06.12.2021  PV MODULES ELDORA VSP.72.335.05-36M      11:39:46           \n",
       "1    06.12.2021  PV MODULES ELDORA VSP.72.335.05-36M_18V  09:17:25           \n",
       "2    06.12.2021  PV MODULES ELDORA VSP.72.335.05-36M_18V  09:17:25           \n",
       "3    06.12.2021  PV MODULES ELDORA VSP.72.335.05-36M_18V  09:17:25           \n",
       "4    06.12.2021  PV MODULES ELDORA VSP.72.335.05-36M_18V  09:17:25           \n",
       "..          ...                                      ...       ...     ...   \n",
       "341  06.12.2021  PV MODULES ELDORA VSP.72.335.05-36M      11:39:46           \n",
       "342  06.12.2021  PV MODULES ELDORA VSP.72.335.05-36M      11:39:46           \n",
       "343  06.12.2021  PV MODULES ELDORA VSP.72.335.05-36M      11:39:46           \n",
       "344  06.12.2021  PV MODULES ELDORA VSP.72.335.05-36M      11:39:46           \n",
       "345                                                                   345    \n",
       "\n",
       "     Plant Responsible for UII  Created By  Created on  MovmtStatus  \\\n",
       "0                               BISWAJIT.H  06.12.2021  0050          \n",
       "1                               PUSPENDU.M  06.12.2021  0020          \n",
       "2                               PUSPENDU.M  06.12.2021  0020          \n",
       "3                               PUSPENDU.M  06.12.2021  0020          \n",
       "4                               PUSPENDU.M  06.12.2021  0020          \n",
       "..                         ...         ...         ...          ...   \n",
       "341                             PUSPENDU.M  23.10.2021  0050          \n",
       "342                             PUSPENDU.M  23.10.2021  0050          \n",
       "343                             PUSPENDU.M  23.10.2021  0050          \n",
       "344                             PUSPENDU.M  23.10.2021  0050          \n",
       "345                                                                   \n",
       "\n",
       "                   Handling unit status  \n",
       "0    Posted for GI                       \n",
       "1    Stock at a non-HU storage location  \n",
       "2    Stock at a non-HU storage location  \n",
       "3    Stock at a non-HU storage location  \n",
       "4    Stock at a non-HU storage location  \n",
       "..                                  ...  \n",
       "341  Posted for GI                       \n",
       "342  Posted for GI                       \n",
       "343  Posted for GI                       \n",
       "344  Posted for GI                       \n",
       "345                                      \n",
       "\n",
       "[346 rows x 14 columns]"
      ]
     },
     "execution_count": 81,
     "metadata": {},
     "output_type": "execute_result"
    }
   ],
   "source": [
    "df"
   ]
  },
  {
   "cell_type": "code",
   "execution_count": 84,
   "id": "7d27a7e6",
   "metadata": {},
   "outputs": [
    {
     "data": {
      "text/plain": [
       "Unnamed: 0                                                       346\n",
       "Serial Number                                         *             \n",
       "Material                                                            \n",
       "Batch                                                               \n",
       "Handling Unit                                                       \n",
       "Date                                                                \n",
       "Material Number                                                     \n",
       "Time                                                                \n",
       "Count.                                                          345 \n",
       "Plant Responsible for UII                                           \n",
       "Created By                                                          \n",
       "Created on                                                          \n",
       "MovmtStatus                                                         \n",
       "Handling unit status                                                \n",
       "Name: 345, dtype: object"
      ]
     },
     "execution_count": 84,
     "metadata": {},
     "output_type": "execute_result"
    }
   ],
   "source": [
    "df.iloc[345]"
   ]
  },
  {
   "cell_type": "code",
   "execution_count": 82,
   "id": "d67d3c11",
   "metadata": {},
   "outputs": [
    {
     "data": {
      "text/html": [
       "<div>\n",
       "<style scoped>\n",
       "    .dataframe tbody tr th:only-of-type {\n",
       "        vertical-align: middle;\n",
       "    }\n",
       "\n",
       "    .dataframe tbody tr th {\n",
       "        vertical-align: top;\n",
       "    }\n",
       "\n",
       "    .dataframe thead th {\n",
       "        text-align: right;\n",
       "    }\n",
       "</style>\n",
       "<table border=\"1\" class=\"dataframe\">\n",
       "  <thead>\n",
       "    <tr style=\"text-align: right;\">\n",
       "      <th></th>\n",
       "      <th>Unnamed: 0</th>\n",
       "      <th>Serial Number</th>\n",
       "      <th>Material</th>\n",
       "      <th>Batch</th>\n",
       "      <th>Handling Unit</th>\n",
       "      <th>Date</th>\n",
       "      <th>Material Number</th>\n",
       "      <th>Time</th>\n",
       "      <th>Count.</th>\n",
       "      <th>Plant Responsible for UII</th>\n",
       "      <th>Created By</th>\n",
       "      <th>Created on</th>\n",
       "      <th>MovmtStatus</th>\n",
       "      <th>Handling unit status</th>\n",
       "    </tr>\n",
       "  </thead>\n",
       "  <tbody>\n",
       "    <tr>\n",
       "      <th>0</th>\n",
       "      <td>0</td>\n",
       "      <td>22183311</td>\n",
       "      <td>201301073350</td>\n",
       "      <td>161661N0HD</td>\n",
       "      <td>1000201857</td>\n",
       "      <td>06.12.2021</td>\n",
       "      <td>PV MODULES ELDORA VSP.72.335.05-36M</td>\n",
       "      <td>11:39:46</td>\n",
       "      <td></td>\n",
       "      <td></td>\n",
       "      <td>BISWAJIT.H</td>\n",
       "      <td>06.12.2021</td>\n",
       "      <td>0050</td>\n",
       "      <td>Posted for GI</td>\n",
       "    </tr>\n",
       "    <tr>\n",
       "      <th>1</th>\n",
       "      <td>1</td>\n",
       "      <td>22162797</td>\n",
       "      <td>200301073350</td>\n",
       "      <td>161652N0HD</td>\n",
       "      <td>1000201855</td>\n",
       "      <td>06.12.2021</td>\n",
       "      <td>PV MODULES ELDORA VSP.72.335.05-36M_18V</td>\n",
       "      <td>09:17:25</td>\n",
       "      <td></td>\n",
       "      <td></td>\n",
       "      <td>PUSPENDU.M</td>\n",
       "      <td>06.12.2021</td>\n",
       "      <td>0020</td>\n",
       "      <td>Stock at a non-HU storage location</td>\n",
       "    </tr>\n",
       "    <tr>\n",
       "      <th>2</th>\n",
       "      <td>2</td>\n",
       "      <td>22162806</td>\n",
       "      <td>200301073350</td>\n",
       "      <td>161652N0HD</td>\n",
       "      <td>1000201855</td>\n",
       "      <td>06.12.2021</td>\n",
       "      <td>PV MODULES ELDORA VSP.72.335.05-36M_18V</td>\n",
       "      <td>09:17:25</td>\n",
       "      <td></td>\n",
       "      <td></td>\n",
       "      <td>PUSPENDU.M</td>\n",
       "      <td>06.12.2021</td>\n",
       "      <td>0020</td>\n",
       "      <td>Stock at a non-HU storage location</td>\n",
       "    </tr>\n",
       "    <tr>\n",
       "      <th>3</th>\n",
       "      <td>3</td>\n",
       "      <td>22162815</td>\n",
       "      <td>200301073350</td>\n",
       "      <td>161652N0HD</td>\n",
       "      <td>1000201855</td>\n",
       "      <td>06.12.2021</td>\n",
       "      <td>PV MODULES ELDORA VSP.72.335.05-36M_18V</td>\n",
       "      <td>09:17:25</td>\n",
       "      <td></td>\n",
       "      <td></td>\n",
       "      <td>PUSPENDU.M</td>\n",
       "      <td>06.12.2021</td>\n",
       "      <td>0020</td>\n",
       "      <td>Stock at a non-HU storage location</td>\n",
       "    </tr>\n",
       "    <tr>\n",
       "      <th>4</th>\n",
       "      <td>4</td>\n",
       "      <td>22162819</td>\n",
       "      <td>200301073350</td>\n",
       "      <td>161652N0HD</td>\n",
       "      <td>1000201855</td>\n",
       "      <td>06.12.2021</td>\n",
       "      <td>PV MODULES ELDORA VSP.72.335.05-36M_18V</td>\n",
       "      <td>09:17:25</td>\n",
       "      <td></td>\n",
       "      <td></td>\n",
       "      <td>PUSPENDU.M</td>\n",
       "      <td>06.12.2021</td>\n",
       "      <td>0020</td>\n",
       "      <td>Stock at a non-HU storage location</td>\n",
       "    </tr>\n",
       "    <tr>\n",
       "      <th>...</th>\n",
       "      <td>...</td>\n",
       "      <td>...</td>\n",
       "      <td>...</td>\n",
       "      <td>...</td>\n",
       "      <td>...</td>\n",
       "      <td>...</td>\n",
       "      <td>...</td>\n",
       "      <td>...</td>\n",
       "      <td>...</td>\n",
       "      <td>...</td>\n",
       "      <td>...</td>\n",
       "      <td>...</td>\n",
       "      <td>...</td>\n",
       "      <td>...</td>\n",
       "    </tr>\n",
       "    <tr>\n",
       "      <th>341</th>\n",
       "      <td>341</td>\n",
       "      <td>22183294</td>\n",
       "      <td>201301073350</td>\n",
       "      <td>161661N0HD</td>\n",
       "      <td>1000195522</td>\n",
       "      <td>06.12.2021</td>\n",
       "      <td>PV MODULES ELDORA VSP.72.335.05-36M</td>\n",
       "      <td>11:39:46</td>\n",
       "      <td></td>\n",
       "      <td></td>\n",
       "      <td>PUSPENDU.M</td>\n",
       "      <td>23.10.2021</td>\n",
       "      <td>0050</td>\n",
       "      <td>Posted for GI</td>\n",
       "    </tr>\n",
       "    <tr>\n",
       "      <th>342</th>\n",
       "      <td>342</td>\n",
       "      <td>22183303</td>\n",
       "      <td>201301073350</td>\n",
       "      <td>161661N0HD</td>\n",
       "      <td>1000195522</td>\n",
       "      <td>06.12.2021</td>\n",
       "      <td>PV MODULES ELDORA VSP.72.335.05-36M</td>\n",
       "      <td>11:39:46</td>\n",
       "      <td></td>\n",
       "      <td></td>\n",
       "      <td>PUSPENDU.M</td>\n",
       "      <td>23.10.2021</td>\n",
       "      <td>0050</td>\n",
       "      <td>Posted for GI</td>\n",
       "    </tr>\n",
       "    <tr>\n",
       "      <th>343</th>\n",
       "      <td>343</td>\n",
       "      <td>22183306</td>\n",
       "      <td>201301073350</td>\n",
       "      <td>161661N0HD</td>\n",
       "      <td>1000195522</td>\n",
       "      <td>06.12.2021</td>\n",
       "      <td>PV MODULES ELDORA VSP.72.335.05-36M</td>\n",
       "      <td>11:39:46</td>\n",
       "      <td></td>\n",
       "      <td></td>\n",
       "      <td>PUSPENDU.M</td>\n",
       "      <td>23.10.2021</td>\n",
       "      <td>0050</td>\n",
       "      <td>Posted for GI</td>\n",
       "    </tr>\n",
       "    <tr>\n",
       "      <th>344</th>\n",
       "      <td>344</td>\n",
       "      <td>22183307</td>\n",
       "      <td>201301073350</td>\n",
       "      <td>161661N0HD</td>\n",
       "      <td>1000195522</td>\n",
       "      <td>06.12.2021</td>\n",
       "      <td>PV MODULES ELDORA VSP.72.335.05-36M</td>\n",
       "      <td>11:39:46</td>\n",
       "      <td></td>\n",
       "      <td></td>\n",
       "      <td>PUSPENDU.M</td>\n",
       "      <td>23.10.2021</td>\n",
       "      <td>0050</td>\n",
       "      <td>Posted for GI</td>\n",
       "    </tr>\n",
       "    <tr>\n",
       "      <th>345</th>\n",
       "      <td>346</td>\n",
       "      <td>*</td>\n",
       "      <td></td>\n",
       "      <td></td>\n",
       "      <td></td>\n",
       "      <td></td>\n",
       "      <td></td>\n",
       "      <td></td>\n",
       "      <td>345</td>\n",
       "      <td></td>\n",
       "      <td></td>\n",
       "      <td></td>\n",
       "      <td></td>\n",
       "      <td></td>\n",
       "    </tr>\n",
       "  </tbody>\n",
       "</table>\n",
       "<p>346 rows × 14 columns</p>\n",
       "</div>"
      ],
      "text/plain": [
       "     Unnamed: 0   Serial Number      Material       Batch  Handling Unit  \\\n",
       "0             0   22183311       201301073350  161661N0HD  1000201857      \n",
       "1             1   22162797       200301073350  161652N0HD  1000201855      \n",
       "2             2   22162806       200301073350  161652N0HD  1000201855      \n",
       "3             3   22162815       200301073350  161652N0HD  1000201855      \n",
       "4             4   22162819       200301073350  161652N0HD  1000201855      \n",
       "..          ...             ...           ...         ...            ...   \n",
       "341         341   22183294       201301073350  161661N0HD  1000195522      \n",
       "342         342   22183303       201301073350  161661N0HD  1000195522      \n",
       "343         343   22183306       201301073350  161661N0HD  1000195522      \n",
       "344         344   22183307       201301073350  161661N0HD  1000195522      \n",
       "345         346  *                                                         \n",
       "\n",
       "           Date                          Material Number      Time  Count.  \\\n",
       "0    06.12.2021  PV MODULES ELDORA VSP.72.335.05-36M      11:39:46           \n",
       "1    06.12.2021  PV MODULES ELDORA VSP.72.335.05-36M_18V  09:17:25           \n",
       "2    06.12.2021  PV MODULES ELDORA VSP.72.335.05-36M_18V  09:17:25           \n",
       "3    06.12.2021  PV MODULES ELDORA VSP.72.335.05-36M_18V  09:17:25           \n",
       "4    06.12.2021  PV MODULES ELDORA VSP.72.335.05-36M_18V  09:17:25           \n",
       "..          ...                                      ...       ...     ...   \n",
       "341  06.12.2021  PV MODULES ELDORA VSP.72.335.05-36M      11:39:46           \n",
       "342  06.12.2021  PV MODULES ELDORA VSP.72.335.05-36M      11:39:46           \n",
       "343  06.12.2021  PV MODULES ELDORA VSP.72.335.05-36M      11:39:46           \n",
       "344  06.12.2021  PV MODULES ELDORA VSP.72.335.05-36M      11:39:46           \n",
       "345                                                                   345    \n",
       "\n",
       "     Plant Responsible for UII  Created By  Created on  MovmtStatus  \\\n",
       "0                               BISWAJIT.H  06.12.2021  0050          \n",
       "1                               PUSPENDU.M  06.12.2021  0020          \n",
       "2                               PUSPENDU.M  06.12.2021  0020          \n",
       "3                               PUSPENDU.M  06.12.2021  0020          \n",
       "4                               PUSPENDU.M  06.12.2021  0020          \n",
       "..                         ...         ...         ...          ...   \n",
       "341                             PUSPENDU.M  23.10.2021  0050          \n",
       "342                             PUSPENDU.M  23.10.2021  0050          \n",
       "343                             PUSPENDU.M  23.10.2021  0050          \n",
       "344                             PUSPENDU.M  23.10.2021  0050          \n",
       "345                                                                   \n",
       "\n",
       "                   Handling unit status  \n",
       "0    Posted for GI                       \n",
       "1    Stock at a non-HU storage location  \n",
       "2    Stock at a non-HU storage location  \n",
       "3    Stock at a non-HU storage location  \n",
       "4    Stock at a non-HU storage location  \n",
       "..                                  ...  \n",
       "341  Posted for GI                       \n",
       "342  Posted for GI                       \n",
       "343  Posted for GI                       \n",
       "344  Posted for GI                       \n",
       "345                                      \n",
       "\n",
       "[346 rows x 14 columns]"
      ]
     },
     "execution_count": 82,
     "metadata": {},
     "output_type": "execute_result"
    }
   ],
   "source": [
    "df.dropna()"
   ]
  },
  {
   "cell_type": "code",
   "execution_count": null,
   "id": "faf77a3f",
   "metadata": {},
   "outputs": [],
   "source": []
  }
 ],
 "metadata": {
  "kernelspec": {
   "display_name": "Python 3",
   "language": "python",
   "name": "python3"
  },
  "language_info": {
   "codemirror_mode": {
    "name": "ipython",
    "version": 3
   },
   "file_extension": ".py",
   "mimetype": "text/x-python",
   "name": "python",
   "nbconvert_exporter": "python",
   "pygments_lexer": "ipython3",
   "version": "3.8.8"
  }
 },
 "nbformat": 4,
 "nbformat_minor": 5
}
