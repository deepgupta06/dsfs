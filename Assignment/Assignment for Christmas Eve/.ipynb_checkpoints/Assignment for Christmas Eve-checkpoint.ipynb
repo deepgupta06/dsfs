{
 "cells": [
  {
   "cell_type": "markdown",
   "id": "29caf9a5",
   "metadata": {},
   "source": [
    "### 1. You have to write a fun which will take string and return a len of it without using a inbuilt fun len.\n",
    "Ans:"
   ]
  },
  {
   "cell_type": "code",
   "execution_count": 4,
   "id": "90856ee5",
   "metadata": {},
   "outputs": [],
   "source": [
    "def len_(input_):\n",
    "    count =0\n",
    "    for index, _ in enumerate(input_):\n",
    "        pass\n",
    "    return index+1"
   ]
  },
  {
   "cell_type": "code",
   "execution_count": 9,
   "id": "aa832cc4",
   "metadata": {},
   "outputs": [],
   "source": [
    "input_ = \"Cause if we can’t protect the Earth, you can be damn sure we’ll avenge it\""
   ]
  },
  {
   "cell_type": "code",
   "execution_count": 10,
   "id": "f70656d1",
   "metadata": {},
   "outputs": [
    {
     "data": {
      "text/plain": [
       "73"
      ]
     },
     "execution_count": 10,
     "metadata": {},
     "output_type": "execute_result"
    }
   ],
   "source": [
    "len_(input_)"
   ]
  },
  {
   "cell_type": "code",
   "execution_count": 11,
   "id": "84a2d787",
   "metadata": {},
   "outputs": [
    {
     "data": {
      "text/plain": [
       "73"
      ]
     },
     "execution_count": 11,
     "metadata": {},
     "output_type": "execute_result"
    }
   ],
   "source": [
    "len(input_)"
   ]
  },
  {
   "cell_type": "markdown",
   "id": "abf0f3ef",
   "metadata": {},
   "source": [
    "### 2. Write a fun which will be able to print an index of all premitive element which you will pass."
   ]
  },
  {
   "cell_type": "code",
   "execution_count": 38,
   "id": "ee3b8f8e",
   "metadata": {},
   "outputs": [],
   "source": [
    "def index_(input_, looking_item, occurrence=1):\n",
    "    \"\"\"This function will use to find out the position of lookup item in iterable object.\n",
    "    input_: iterable object\n",
    "    looking_item: The item which we are looking for\n",
    "    occurance:This is an optional argument\"\"\"\n",
    "    input_item_dic = {}\n",
    "    for idx, item in enumerate(input_):\n",
    "        if item == looking_item and occurrence == input_[0:idx+1].count(looking_item):\n",
    "            return idx"
   ]
  },
  {
   "cell_type": "code",
   "execution_count": 39,
   "id": "3044664c",
   "metadata": {},
   "outputs": [],
   "source": [
    "input_ = [1,2,3,4,5,1,2,1,1,2,3,3,3,4]"
   ]
  },
  {
   "cell_type": "code",
   "execution_count": 40,
   "id": "335e7ffc",
   "metadata": {},
   "outputs": [
    {
     "data": {
      "text/plain": [
       "5"
      ]
     },
     "execution_count": 40,
     "metadata": {},
     "output_type": "execute_result"
    }
   ],
   "source": [
    "index_(input_,1, 2)"
   ]
  },
  {
   "cell_type": "code",
   "execution_count": 41,
   "id": "7f35cc05",
   "metadata": {},
   "outputs": [],
   "source": [
    "input_string = \"deep\""
   ]
  },
  {
   "cell_type": "code",
   "execution_count": 42,
   "id": "4a51e036",
   "metadata": {},
   "outputs": [
    {
     "data": {
      "text/plain": [
       "2"
      ]
     },
     "execution_count": 42,
     "metadata": {},
     "output_type": "execute_result"
    }
   ],
   "source": [
    "index_(input_string, \"e\", 2)"
   ]
  },
  {
   "cell_type": "markdown",
   "id": "f850e47d",
   "metadata": {},
   "source": [
    "### 3. Write a fun which will take input as a dict and give me out as a list of all the values even in case of 2 level nesting it should work.\n",
    "Ans:"
   ]
  },
  {
   "cell_type": "code",
   "execution_count": 111,
   "id": "1b23c940",
   "metadata": {},
   "outputs": [],
   "source": [
    "def get_values_from_dict(dic_, output_list = []):\n",
    "    try:\n",
    "        #print(dic_)\n",
    "        output_value=[]\n",
    "        if output_list:\n",
    "            for idx, item in enumerate(output_list):\n",
    "                #print(f\"item:{item}\")\n",
    "                for key, value in item.items():\n",
    "                    output_value.append(value)\n",
    "            #print(\"if\")\n",
    "            output_list=output_value\n",
    "        else:\n",
    "            #print(\"else\")\n",
    "            #print(output_list)\n",
    "            for key, value in dic_.items():\n",
    "                output_value.append(value)\n",
    "            output_list=output_value\n",
    "        #print(output_list)\n",
    "        if type(output_list[0])!=dict:\n",
    "            if type(output_list[0]) == list:\n",
    "                output_ = [x for x in output_list[0]]\n",
    "                return output_\n",
    "            return output_list\n",
    "        else:\n",
    "            output_value = []\n",
    "            return get_values_from_dict(dic_, output_list)\n",
    "    except:\n",
    "        output_list=[]\n",
    "        return get_values_from_dict(dic_,output_list)\n"
   ]
  },
  {
   "cell_type": "code",
   "execution_count": 96,
   "id": "4dc04075",
   "metadata": {},
   "outputs": [],
   "source": [
    "nested_1 = {\n",
    "    \"2010\":1,\n",
    "    \"2011\":2,\n",
    "    \"2012\":3\n",
    "}"
   ]
  },
  {
   "cell_type": "code",
   "execution_count": 106,
   "id": "43d074af",
   "metadata": {},
   "outputs": [],
   "source": [
    "nested_2 = {\n",
    "    \n",
    "        \"2010\":{\n",
    "                'A':2,\n",
    "                'B':3,\n",
    "                'C':5\n",
    "            },\n",
    "        \"2011\":{\n",
    "                'A':1,\n",
    "                'B':2,\n",
    "                'C':3\n",
    "            },\n",
    "        \"2012\":{\n",
    "                'A':1,\n",
    "                'B':2,\n",
    "                'C':4\n",
    "            }\n",
    "    }"
   ]
  },
  {
   "cell_type": "code",
   "execution_count": 107,
   "id": "9ef62b4c",
   "metadata": {},
   "outputs": [],
   "source": [
    "nested_3 = {\n",
    "    \"data1\":{\n",
    "            \"2010\":{\n",
    "                    'A':2,\n",
    "                    'B':3,\n",
    "                    'C':5\n",
    "                },\n",
    "            \"2011\":{\n",
    "                    'A':1,\n",
    "                    'B':2,\n",
    "                    'C':3\n",
    "                },\n",
    "            \"2012\":{\n",
    "                    'A':1,\n",
    "                    'B':2,\n",
    "                    'C':4\n",
    "                }\n",
    "    },\n",
    "    \"data2\":{\n",
    "            \"2010\":{\n",
    "                    'A':10,\n",
    "                    'B':30,\n",
    "                    'C':50\n",
    "                },\n",
    "            \"2011\":{\n",
    "                    'A':10,\n",
    "                    'B':20,\n",
    "                    'C':30\n",
    "                },\n",
    "            \"2012\":{\n",
    "                    'A':10,\n",
    "                    'B':20,\n",
    "                    'C':70\n",
    "                }\n",
    "    }\n",
    "}\n"
   ]
  },
  {
   "cell_type": "code",
   "execution_count": 112,
   "id": "91ebb82f",
   "metadata": {},
   "outputs": [
    {
     "data": {
      "text/plain": [
       "[1, 2, 3]"
      ]
     },
     "execution_count": 112,
     "metadata": {},
     "output_type": "execute_result"
    }
   ],
   "source": [
    "get_values_from_dict(nested_1)"
   ]
  },
  {
   "cell_type": "code",
   "execution_count": 113,
   "id": "b04153bd",
   "metadata": {},
   "outputs": [
    {
     "data": {
      "text/plain": [
       "[2, 3, 5, 1, 2, 3, 1, 2, 4]"
      ]
     },
     "execution_count": 113,
     "metadata": {},
     "output_type": "execute_result"
    }
   ],
   "source": [
    "get_values_from_dict(nested_2)"
   ]
  },
  {
   "cell_type": "code",
   "execution_count": 114,
   "id": "a3f4d04e",
   "metadata": {},
   "outputs": [
    {
     "data": {
      "text/plain": [
       "[2, 3, 5, 1, 2, 3, 1, 2, 4, 10, 30, 50, 10, 20, 30, 10, 20, 70]"
      ]
     },
     "execution_count": 114,
     "metadata": {},
     "output_type": "execute_result"
    }
   ],
   "source": [
    "get_values_from_dict(nested_3)"
   ]
  },
  {
   "cell_type": "markdown",
   "id": "2061808b",
   "metadata": {},
   "source": [
    "### 5. Write a function which will take multiple list as a input and give me concatnation of all the element as and output."
   ]
  },
  {
   "cell_type": "code",
   "execution_count": 120,
   "id": "bc02380a",
   "metadata": {},
   "outputs": [],
   "source": [
    "def list_element_concat(*args):\n",
    "    output_string = \"\"\n",
    "    for elements in args:\n",
    "        for element in elements:\n",
    "            output_string += str(element)\n",
    "    return output_string"
   ]
  },
  {
   "cell_type": "code",
   "execution_count": 121,
   "id": "ceda6a90",
   "metadata": {},
   "outputs": [
    {
     "data": {
      "text/plain": [
       "'123321324443'"
      ]
     },
     "execution_count": 121,
     "metadata": {},
     "output_type": "execute_result"
    }
   ],
   "source": [
    "list_element_concat([123, 321], [324, 443])"
   ]
  },
  {
   "cell_type": "code",
   "execution_count": 122,
   "id": "e73f2731",
   "metadata": {},
   "outputs": [
    {
     "data": {
      "text/plain": [
       "'abczyx'"
      ]
     },
     "execution_count": 122,
     "metadata": {},
     "output_type": "execute_result"
    }
   ],
   "source": [
    "list_element_concat([\"a\",\"b\",\"c\"], [\"z\", \"y\", \"x\"])"
   ]
  },
  {
   "cell_type": "markdown",
   "id": "aa8ed31c",
   "metadata": {},
   "source": [
    "### 9. Write a function which will be able to show date and time"
   ]
  },
  {
   "cell_type": "code",
   "execution_count": 187,
   "id": "6e0a46fb",
   "metadata": {},
   "outputs": [],
   "source": [
    "from tkinter import Tk\n",
    "from tkinter import Label\n",
    "from datetime import datetime\n",
    "\n",
    "#Defining the main window of the application\n",
    "root = Tk()\n",
    "#Setting of window size of the application\n",
    "root.geometry(\"200x100\")\n",
    "icon_img = r\"icon.ico\"\n",
    "root.title(\"Digital Clock\")\n",
    "root.iconbitmap(icon_img)\n",
    "\n",
    "#time updating function, it will update the time by replacing the previous label\n",
    "def time_update():\n",
    "    now_time = datetime.now()\n",
    "    time_ = now_time.strftime(\"%I:%M:%S%p\")\n",
    "    date_ =now_time.strftime(\"%d %B %Y\") \n",
    "    label_time = Label(root, text = time_, font=(\"Arial\", 25 ))\n",
    "    label_time.grid(row=0, column=0)\n",
    "    label_date = Label(root, text = date_, font=(\"Arial\", 10 ))\n",
    "    label_date.grid(row=1, column=0)\n",
    "    #This will run the time update function with 1s time interval\n",
    "    root.after(1000, time_update)\n",
    "    \n",
    "root.after(1000, time_update)\n",
    "root.mainloop()"
   ]
  },
  {
   "cell_type": "markdown",
   "id": "59c42162",
   "metadata": {},
   "source": [
    "### 7. Write a function which will whould return list of all the file name from a directory .\n",
    "Ans:"
   ]
  },
  {
   "cell_type": "code",
   "execution_count": 189,
   "id": "3fde25d5",
   "metadata": {},
   "outputs": [],
   "source": [
    "def get_filename(path):\n",
    "    \"\"\"This function will take directory path as an input \n",
    "    and return a list containing all the filename, available in the directory\"\"\"\n",
    "    from os import listdir\n",
    "    return listdir(path)"
   ]
  },
  {
   "cell_type": "code",
   "execution_count": 193,
   "id": "1768a6ae",
   "metadata": {},
   "outputs": [
    {
     "data": {
      "text/plain": [
       "[b'.ipynb_checkpoints',\n",
       " b'Assignment for Christmas Eve.ipynb',\n",
       " b'icon.ico',\n",
       " b'Python Basic Assignment',\n",
       " b'Python Programming Basic Assignment']"
      ]
     },
     "execution_count": 193,
     "metadata": {},
     "output_type": "execute_result"
    }
   ],
   "source": [
    "path = os.getcwdb()\n",
    "get_filename(path)"
   ]
  },
  {
   "cell_type": "markdown",
   "id": "76495986",
   "metadata": {},
   "source": [
    "### 8. Write a function which will be able to show your system configuration.\n",
    "Ans:"
   ]
  },
  {
   "cell_type": "code",
   "execution_count": 194,
   "id": "5bdc2db7",
   "metadata": {},
   "outputs": [],
   "source": [
    "import os"
   ]
  },
  {
   "cell_type": "code",
   "execution_count": 205,
   "id": "b04fe0ca",
   "metadata": {},
   "outputs": [
    {
     "ename": "NameError",
     "evalue": "name 'cd' is not defined",
     "output_type": "error",
     "traceback": [
      "\u001b[1;31m---------------------------------------------------------------------------\u001b[0m",
      "\u001b[1;31mNameError\u001b[0m                                 Traceback (most recent call last)",
      "\u001b[1;32m<ipython-input-205-5be9d14582b0>\u001b[0m in \u001b[0;36m<module>\u001b[1;34m\u001b[0m\n\u001b[1;32m----> 1\u001b[1;33m \u001b[0mos\u001b[0m\u001b[1;33m.\u001b[0m\u001b[0msystem\u001b[0m\u001b[1;33m(\u001b[0m\u001b[0mcd\u001b[0m\u001b[1;33m)\u001b[0m\u001b[1;33m\u001b[0m\u001b[1;33m\u001b[0m\u001b[0m\n\u001b[0m",
      "\u001b[1;31mNameError\u001b[0m: name 'cd' is not defined"
     ]
    }
   ],
   "source": [
    "os.system(cd)"
   ]
  },
  {
   "cell_type": "code",
   "execution_count": 206,
   "id": "ce76302c",
   "metadata": {},
   "outputs": [],
   "source": [
    "import platform"
   ]
  },
  {
   "cell_type": "code",
   "execution_count": 207,
   "id": "9f2d4332",
   "metadata": {},
   "outputs": [],
   "source": [
    "import sys"
   ]
  },
  {
   "cell_type": "code",
   "execution_count": 209,
   "id": "b8935a50",
   "metadata": {},
   "outputs": [
    {
     "data": {
      "text/plain": [
       "'win32'"
      ]
     },
     "execution_count": 209,
     "metadata": {},
     "output_type": "execute_result"
    }
   ],
   "source": [
    "sys.platform"
   ]
  },
  {
   "cell_type": "code",
   "execution_count": 214,
   "id": "c8f00343",
   "metadata": {},
   "outputs": [
    {
     "data": {
      "text/plain": [
       "sys.getwindowsversion(major=10, minor=0, build=19044, platform=2, service_pack='')"
      ]
     },
     "execution_count": 214,
     "metadata": {},
     "output_type": "execute_result"
    }
   ],
   "source": [
    "sys.getwindowsversion()"
   ]
  },
  {
   "cell_type": "markdown",
   "id": "727b41a3",
   "metadata": {},
   "source": [
    "### 10 . write a function whihc will be able to read a image file and show it to you ."
   ]
  },
  {
   "cell_type": "code",
   "execution_count": 12,
   "id": "bd642d49",
   "metadata": {},
   "outputs": [],
   "source": [
    "import cv2\n",
    "from screeninfo import get_monitors"
   ]
  },
  {
   "cell_type": "code",
   "execution_count": 10,
   "id": "0f9eac75",
   "metadata": {},
   "outputs": [],
   "source": [
    "img_path = \"Avenger_poster.jpg\"\n",
    "img = cv2.imread(img_path)\n",
    "half = cv2.resize(img, (0, 0), fx = .98, fy = .37)"
   ]
  },
  {
   "cell_type": "code",
   "execution_count": 11,
   "id": "6b640182",
   "metadata": {},
   "outputs": [],
   "source": [
    "cv2.imshow(\"Image Viewer\", half)\n",
    "cv2.waitKey(0)\n",
    "cv2.destroyAllWindows()"
   ]
  },
  {
   "cell_type": "code",
   "execution_count": 2,
   "id": "9dadb2ea",
   "metadata": {},
   "outputs": [],
   "source": [
    "import os"
   ]
  },
  {
   "cell_type": "code",
   "execution_count": 5,
   "id": "442e766b",
   "metadata": {},
   "outputs": [
    {
     "data": {
      "text/plain": [
       "0.375"
      ]
     },
     "execution_count": 5,
     "metadata": {},
     "output_type": "execute_result"
    }
   ],
   "source": [
    "get_monitors()[0].height/img.shape[0]"
   ]
  },
  {
   "cell_type": "code",
   "execution_count": 20,
   "id": "a00cafd2",
   "metadata": {},
   "outputs": [
    {
     "data": {
      "text/plain": [
       "0"
      ]
     },
     "execution_count": 20,
     "metadata": {},
     "output_type": "execute_result"
    }
   ],
   "source": [
    "get_monitors()[0].height/img.shape[0]"
   ]
  },
  {
   "cell_type": "code",
   "execution_count": 17,
   "id": "fc7f07be",
   "metadata": {},
   "outputs": [
    {
     "data": {
      "text/plain": [
       "1382"
      ]
     },
     "execution_count": 17,
     "metadata": {},
     "output_type": "execute_result"
    }
   ],
   "source": [
    "img.shape[0] #---> Height\n",
    "img.shape[1] #--->width"
   ]
  },
  {
   "cell_type": "code",
   "execution_count": 15,
   "id": "0dcce52b",
   "metadata": {},
   "outputs": [
    {
     "data": {
      "text/plain": [
       "(1366, 768)"
      ]
     },
     "execution_count": 15,
     "metadata": {},
     "output_type": "execute_result"
    }
   ],
   "source": [
    "get_monitors()[0].width, get_monitors()[0].height"
   ]
  },
  {
   "cell_type": "markdown",
   "id": "4bd72da7",
   "metadata": {},
   "source": []
  },
  {
   "cell_type": "code",
   "execution_count": 30,
   "id": "1e418c45",
   "metadata": {},
   "outputs": [],
   "source": [
    "a=[1,2]"
   ]
  },
  {
   "cell_type": "markdown",
   "id": "ea4b4b51",
   "metadata": {},
   "source": [
    "4 . write a fun which will take another function as an input and return me an output \n",
    "6 . write a function which will be able to take a list as an input return an index of each element \n",
    "like a inbuilt index function but even if we have repetative element it should return index \n",
    "8  . write a function which will be able to show your system configuration . \n",
    "10 . write a function which will be able to read a image file and show it to you .\n",
    "11 . write a function which can read video file and play for you . \n",
    "12  . write a function which can move a file from one directory to another directory . \n",
    "13 . write a function which will be able to shutdonw your system . \n",
    "14 . write a function which will be able to access your mail . \n",
    "15 . write a func bywhcih i can send a mail to anyone .\n",
    "16. write a func to read a complete PDf file . \n",
    "17. write a function to read a word file . \n",
    "18 . write a function which can help you to filter only word file from a directory . \n",
    "19 . write a function by which you can print an ip address of your system . \n",
    "20 . write a function by which you will be able to append two PDF files . "
   ]
  },
  {
   "cell_type": "code",
   "execution_count": null,
   "id": "a3003cb0",
   "metadata": {},
   "outputs": [],
   "source": []
  }
 ],
 "metadata": {
  "kernelspec": {
   "display_name": "Python 3",
   "language": "python",
   "name": "python3"
  },
  "language_info": {
   "codemirror_mode": {
    "name": "ipython",
    "version": 3
   },
   "file_extension": ".py",
   "mimetype": "text/x-python",
   "name": "python",
   "nbconvert_exporter": "python",
   "pygments_lexer": "ipython3",
   "version": "3.8.8"
  }
 },
 "nbformat": 4,
 "nbformat_minor": 5
}
