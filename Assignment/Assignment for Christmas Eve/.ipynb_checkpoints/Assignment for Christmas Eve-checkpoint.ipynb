{
 "cells": [
  {
   "cell_type": "markdown",
   "id": "29caf9a5",
   "metadata": {},
   "source": [
    "### 1. You have to write a fun which will take string and return a len of it without using a inbuilt fun len.\n",
    "Ans:"
   ]
  },
  {
   "cell_type": "code",
   "execution_count": 4,
   "id": "90856ee5",
   "metadata": {},
   "outputs": [],
   "source": [
    "def len_(input_):\n",
    "    count =0\n",
    "    for index, _ in enumerate(input_):\n",
    "        pass\n",
    "    return index+1"
   ]
  },
  {
   "cell_type": "code",
   "execution_count": 9,
   "id": "aa832cc4",
   "metadata": {},
   "outputs": [],
   "source": [
    "input_ = \"Cause if we can’t protect the Earth, you can be damn sure we’ll avenge it\""
   ]
  },
  {
   "cell_type": "code",
   "execution_count": 10,
   "id": "f70656d1",
   "metadata": {},
   "outputs": [
    {
     "data": {
      "text/plain": [
       "73"
      ]
     },
     "execution_count": 10,
     "metadata": {},
     "output_type": "execute_result"
    }
   ],
   "source": [
    "len_(input_)"
   ]
  },
  {
   "cell_type": "code",
   "execution_count": 11,
   "id": "84a2d787",
   "metadata": {},
   "outputs": [
    {
     "data": {
      "text/plain": [
       "73"
      ]
     },
     "execution_count": 11,
     "metadata": {},
     "output_type": "execute_result"
    }
   ],
   "source": [
    "len(input_)"
   ]
  },
  {
   "cell_type": "markdown",
   "id": "abf0f3ef",
   "metadata": {},
   "source": [
    "### 2/6. Write a fun which will be able to print an index of all premitive element which you will pass."
   ]
  },
  {
   "cell_type": "code",
   "execution_count": 38,
   "id": "ee3b8f8e",
   "metadata": {},
   "outputs": [],
   "source": [
    "def index_(input_, looking_item, occurrence=1):\n",
    "    \"\"\"This function will use to find out the position of lookup item in iterable object.\n",
    "    input_: iterable object\n",
    "    looking_item: The item which we are looking for\n",
    "    occurance:This is an optional argument\"\"\"\n",
    "    input_item_dic = {}\n",
    "    for idx, item in enumerate(input_):\n",
    "        if item == looking_item and occurrence == input_[0:idx+1].count(looking_item):\n",
    "            return idx"
   ]
  },
  {
   "cell_type": "code",
   "execution_count": 39,
   "id": "3044664c",
   "metadata": {},
   "outputs": [],
   "source": [
    "input_ = [1,2,3,4,5,1,2,1,1,2,3,3,3,4]"
   ]
  },
  {
   "cell_type": "code",
   "execution_count": 40,
   "id": "335e7ffc",
   "metadata": {},
   "outputs": [
    {
     "data": {
      "text/plain": [
       "5"
      ]
     },
     "execution_count": 40,
     "metadata": {},
     "output_type": "execute_result"
    }
   ],
   "source": [
    "index_(input_,1, 2)"
   ]
  },
  {
   "cell_type": "code",
   "execution_count": 41,
   "id": "7f35cc05",
   "metadata": {},
   "outputs": [],
   "source": [
    "input_string = \"deep\""
   ]
  },
  {
   "cell_type": "code",
   "execution_count": 42,
   "id": "4a51e036",
   "metadata": {},
   "outputs": [
    {
     "data": {
      "text/plain": [
       "2"
      ]
     },
     "execution_count": 42,
     "metadata": {},
     "output_type": "execute_result"
    }
   ],
   "source": [
    "index_(input_string, \"e\", 2)"
   ]
  },
  {
   "cell_type": "markdown",
   "id": "f850e47d",
   "metadata": {},
   "source": [
    "### 3. Write a fun which will take input as a dict and give me out as a list of all the values even in case of 2 level nesting it should work.\n",
    "Ans:"
   ]
  },
  {
   "cell_type": "code",
   "execution_count": 111,
   "id": "1b23c940",
   "metadata": {},
   "outputs": [],
   "source": [
    "def get_values_from_dict(dic_, output_list = []):\n",
    "    try:\n",
    "        #print(dic_)\n",
    "        output_value=[]\n",
    "        if output_list:\n",
    "            for idx, item in enumerate(output_list):\n",
    "                #print(f\"item:{item}\")\n",
    "                for key, value in item.items():\n",
    "                    output_value.append(value)\n",
    "            #print(\"if\")\n",
    "            output_list=output_value\n",
    "        else:\n",
    "            #print(\"else\")\n",
    "            #print(output_list)\n",
    "            for key, value in dic_.items():\n",
    "                output_value.append(value)\n",
    "            output_list=output_value\n",
    "        #print(output_list)\n",
    "        if type(output_list[0])!=dict:\n",
    "            if type(output_list[0]) == list:\n",
    "                output_ = [x for x in output_list[0]]\n",
    "                return output_\n",
    "            return output_list\n",
    "        else:\n",
    "            output_value = []\n",
    "            return get_values_from_dict(dic_, output_list)\n",
    "    except:\n",
    "        output_list=[]\n",
    "        return get_values_from_dict(dic_,output_list)\n"
   ]
  },
  {
   "cell_type": "code",
   "execution_count": 96,
   "id": "4dc04075",
   "metadata": {},
   "outputs": [],
   "source": [
    "nested_1 = {\n",
    "    \"2010\":1,\n",
    "    \"2011\":2,\n",
    "    \"2012\":3\n",
    "}"
   ]
  },
  {
   "cell_type": "code",
   "execution_count": 106,
   "id": "43d074af",
   "metadata": {},
   "outputs": [],
   "source": [
    "nested_2 = {\n",
    "    \n",
    "        \"2010\":{\n",
    "                'A':2,\n",
    "                'B':3,\n",
    "                'C':5\n",
    "            },\n",
    "        \"2011\":{\n",
    "                'A':1,\n",
    "                'B':2,\n",
    "                'C':3\n",
    "            },\n",
    "        \"2012\":{\n",
    "                'A':1,\n",
    "                'B':2,\n",
    "                'C':4\n",
    "            }\n",
    "    }"
   ]
  },
  {
   "cell_type": "code",
   "execution_count": 107,
   "id": "9ef62b4c",
   "metadata": {},
   "outputs": [],
   "source": [
    "nested_3 = {\n",
    "    \"data1\":{\n",
    "            \"2010\":{\n",
    "                    'A':2,\n",
    "                    'B':3,\n",
    "                    'C':5\n",
    "                },\n",
    "            \"2011\":{\n",
    "                    'A':1,\n",
    "                    'B':2,\n",
    "                    'C':3\n",
    "                },\n",
    "            \"2012\":{\n",
    "                    'A':1,\n",
    "                    'B':2,\n",
    "                    'C':4\n",
    "                }\n",
    "    },\n",
    "    \"data2\":{\n",
    "            \"2010\":{\n",
    "                    'A':10,\n",
    "                    'B':30,\n",
    "                    'C':50\n",
    "                },\n",
    "            \"2011\":{\n",
    "                    'A':10,\n",
    "                    'B':20,\n",
    "                    'C':30\n",
    "                },\n",
    "            \"2012\":{\n",
    "                    'A':10,\n",
    "                    'B':20,\n",
    "                    'C':70\n",
    "                }\n",
    "    }\n",
    "}\n"
   ]
  },
  {
   "cell_type": "code",
   "execution_count": 112,
   "id": "91ebb82f",
   "metadata": {},
   "outputs": [
    {
     "data": {
      "text/plain": [
       "[1, 2, 3]"
      ]
     },
     "execution_count": 112,
     "metadata": {},
     "output_type": "execute_result"
    }
   ],
   "source": [
    "get_values_from_dict(nested_1)"
   ]
  },
  {
   "cell_type": "code",
   "execution_count": 113,
   "id": "b04153bd",
   "metadata": {},
   "outputs": [
    {
     "data": {
      "text/plain": [
       "[2, 3, 5, 1, 2, 3, 1, 2, 4]"
      ]
     },
     "execution_count": 113,
     "metadata": {},
     "output_type": "execute_result"
    }
   ],
   "source": [
    "get_values_from_dict(nested_2)"
   ]
  },
  {
   "cell_type": "code",
   "execution_count": 114,
   "id": "a3f4d04e",
   "metadata": {},
   "outputs": [
    {
     "data": {
      "text/plain": [
       "[2, 3, 5, 1, 2, 3, 1, 2, 4, 10, 30, 50, 10, 20, 30, 10, 20, 70]"
      ]
     },
     "execution_count": 114,
     "metadata": {},
     "output_type": "execute_result"
    }
   ],
   "source": [
    "get_values_from_dict(nested_3)"
   ]
  },
  {
   "cell_type": "markdown",
   "id": "2061808b",
   "metadata": {},
   "source": [
    "### 5. Write a function which will take multiple list as a input and give me concatnation of all the element as and output."
   ]
  },
  {
   "cell_type": "code",
   "execution_count": 120,
   "id": "bc02380a",
   "metadata": {},
   "outputs": [],
   "source": [
    "def list_element_concat(*args):\n",
    "    output_string = \"\"\n",
    "    for elements in args:\n",
    "        for element in elements:\n",
    "            output_string += str(element)\n",
    "    return output_string"
   ]
  },
  {
   "cell_type": "code",
   "execution_count": 121,
   "id": "ceda6a90",
   "metadata": {},
   "outputs": [
    {
     "data": {
      "text/plain": [
       "'123321324443'"
      ]
     },
     "execution_count": 121,
     "metadata": {},
     "output_type": "execute_result"
    }
   ],
   "source": [
    "list_element_concat([123, 321], [324, 443])"
   ]
  },
  {
   "cell_type": "code",
   "execution_count": 122,
   "id": "e73f2731",
   "metadata": {},
   "outputs": [
    {
     "data": {
      "text/plain": [
       "'abczyx'"
      ]
     },
     "execution_count": 122,
     "metadata": {},
     "output_type": "execute_result"
    }
   ],
   "source": [
    "list_element_concat([\"a\",\"b\",\"c\"], [\"z\", \"y\", \"x\"])"
   ]
  },
  {
   "cell_type": "markdown",
   "id": "aa8ed31c",
   "metadata": {},
   "source": [
    "### 9. Write a function which will be able to show date and time"
   ]
  },
  {
   "cell_type": "code",
   "execution_count": 187,
   "id": "6e0a46fb",
   "metadata": {},
   "outputs": [],
   "source": [
    "from tkinter import Tk\n",
    "from tkinter import Label\n",
    "from datetime import datetime\n",
    "\n",
    "#Defining the main window of the application\n",
    "root = Tk()\n",
    "#Setting of window size of the application\n",
    "root.geometry(\"200x100\")\n",
    "icon_img = r\"icon.ico\"\n",
    "root.title(\"Digital Clock\")\n",
    "root.iconbitmap(icon_img)\n",
    "\n",
    "#time updating function, it will update the time by replacing the previous label\n",
    "def time_update():\n",
    "    now_time = datetime.now()\n",
    "    time_ = now_time.strftime(\"%I:%M:%S%p\")\n",
    "    date_ =now_time.strftime(\"%d %B %Y\") \n",
    "    label_time = Label(root, text = time_, font=(\"Arial\", 25 ))\n",
    "    label_time.grid(row=0, column=0)\n",
    "    label_date = Label(root, text = date_, font=(\"Arial\", 10 ))\n",
    "    label_date.grid(row=1, column=0)\n",
    "    #This will run the time update function with 1s time interval\n",
    "    root.after(1000, time_update)\n",
    "    \n",
    "root.after(1000, time_update)\n",
    "root.mainloop()"
   ]
  },
  {
   "cell_type": "markdown",
   "id": "59c42162",
   "metadata": {},
   "source": [
    "### 7. Write a function which will whould return list of all the file name from a directory .\n",
    "Ans:"
   ]
  },
  {
   "cell_type": "code",
   "execution_count": 189,
   "id": "3fde25d5",
   "metadata": {},
   "outputs": [],
   "source": [
    "def get_filename(path):\n",
    "    \"\"\"This function will take directory path as an input \n",
    "    and return a list containing all the filename, available in the directory\"\"\"\n",
    "    from os import listdir\n",
    "    return listdir(path)"
   ]
  },
  {
   "cell_type": "code",
   "execution_count": 193,
   "id": "1768a6ae",
   "metadata": {},
   "outputs": [
    {
     "data": {
      "text/plain": [
       "[b'.ipynb_checkpoints',\n",
       " b'Assignment for Christmas Eve.ipynb',\n",
       " b'icon.ico',\n",
       " b'Python Basic Assignment',\n",
       " b'Python Programming Basic Assignment']"
      ]
     },
     "execution_count": 193,
     "metadata": {},
     "output_type": "execute_result"
    }
   ],
   "source": [
    "path = os.getcwdb()\n",
    "get_filename(path)"
   ]
  },
  {
   "cell_type": "markdown",
   "id": "76495986",
   "metadata": {},
   "source": [
    "### 8. Write a function which will be able to show your system configuration.\n",
    "Ans:"
   ]
  },
  {
   "cell_type": "code",
   "execution_count": 165,
   "id": "c5b6fc44",
   "metadata": {},
   "outputs": [],
   "source": [
    "def systeminfo():\n",
    "    import subprocess\n",
    "    subprocess = subprocess.Popen(\"systeminfo\", shell=True, stdout=subprocess.PIPE)\n",
    "    subprocess_return = subprocess.stdout.read()\n",
    "    subprocess_return = subprocess_return.decode(\"utf-8\")\n",
    "    print(subprocess_return)"
   ]
  },
  {
   "cell_type": "code",
   "execution_count": 166,
   "id": "9aa67e5b",
   "metadata": {},
   "outputs": [
    {
     "name": "stdout",
     "output_type": "stream",
     "text": [
      "\r\n",
      "Host Name:                 DEEPGUPTA\r\n",
      "OS Name:                   Microsoft Windows 10 Pro\r\n",
      "OS Version:                10.0.19044 N/A Build 19044\r\n",
      "OS Manufacturer:           Microsoft Corporation\r\n",
      "OS Configuration:          Member Workstation\r\n",
      "OS Build Type:             Multiprocessor Free\r\n",
      "Registered Owner:          Windows User\r\n",
      "Registered Organization:   \r\n",
      "Product ID:                00330-50638-03797-AAOEM\r\n",
      "Original Install Date:     20/04/2021, 01:50:17\r\n",
      "System Boot Time:          03/01/2022, 15:31:58\r\n",
      "System Manufacturer:       LENOVO\r\n",
      "System Model:              80WR\r\n",
      "System Type:               x64-based PC\r\n",
      "Processor(s):              1 Processor(s) Installed.\r\n",
      "                           [01]: Intel64 Family 6 Model 78 Stepping 3 GenuineIntel ~2000 Mhz\r\n",
      "BIOS Version:              LENOVO 0ZCN41WW, 15/09/2017\r\n",
      "Windows Directory:         C:\\WINDOWS\r\n",
      "System Directory:          C:\\WINDOWS\\system32\r\n",
      "Boot Device:               \\Device\\HarddiskVolume1\r\n",
      "System Locale:             en-us;English (United States)\r\n",
      "Input Locale:              00004009\r\n",
      "Time Zone:                 (UTC+05:30) Chennai, Kolkata, Mumbai, New Delhi\r\n",
      "Total Physical Memory:     7,912 MB\r\n",
      "Available Physical Memory: 1,552 MB\r\n",
      "Virtual Memory: Max Size:  21,224 MB\r\n",
      "Virtual Memory: Available: 10,934 MB\r\n",
      "Virtual Memory: In Use:    10,290 MB\r\n",
      "Page File Location(s):     C:\\pagefile.sys\r\n",
      "Domain:                    vspl.com\r\n",
      "Logon Server:              \\\\CHENNAI-ADC\r\n",
      "Hotfix(s):                 10 Hotfix(s) Installed.\r\n",
      "                           [01]: KB5007289\r\n",
      "                           [02]: KB4562830\r\n",
      "                           [03]: KB4577586\r\n",
      "                           [04]: KB4580325\r\n",
      "                           [05]: KB5000736\r\n",
      "                           [06]: KB5003791\r\n",
      "                           [07]: KB5008212\r\n",
      "                           [08]: KB5006753\r\n",
      "                           [09]: KB5007273\r\n",
      "                           [10]: KB5005699\r\n",
      "Network Card(s):           3 NIC(s) Installed.\r\n",
      "                           [01]: Qualcomm Atheros QCA9377 Wireless Network Adapter\r\n",
      "                                 Connection Name: Wi-Fi\r\n",
      "                                 DHCP Enabled:    Yes\r\n",
      "                                 DHCP Server:     1.1.1.1\r\n",
      "                                 IP address(es)\r\n",
      "                                 [01]: 192.168.72.186\r\n",
      "                                 [02]: fe80::297f:a425:662c:2640\r\n",
      "                           [02]: Realtek PCIe GBE Family Controller\r\n",
      "                                 Connection Name: Ethernet\r\n",
      "                                 Status:          Media disconnected\r\n",
      "                           [03]: Sophos SSL VPN Adapter\r\n",
      "                                 Connection Name: Ethernet 2\r\n",
      "                                 Status:          Media disconnected\r\n",
      "Hyper-V Requirements:      VM Monitor Mode Extensions: Yes\r\n",
      "                           Virtualization Enabled In Firmware: No\r\n",
      "                           Second Level Address Translation: Yes\r\n",
      "                           Data Execution Prevention Available: Yes\r\n",
      "\n"
     ]
    }
   ],
   "source": [
    "systeminfo()"
   ]
  },
  {
   "cell_type": "markdown",
   "id": "727b41a3",
   "metadata": {},
   "source": [
    "### 10 . write a function which will be able to read a image file and show it to you ."
   ]
  },
  {
   "cell_type": "code",
   "execution_count": 12,
   "id": "bd642d49",
   "metadata": {},
   "outputs": [],
   "source": [
    "import cv2\n",
    "from screeninfo import get_monitors"
   ]
  },
  {
   "cell_type": "code",
   "execution_count": 50,
   "id": "0f9eac75",
   "metadata": {},
   "outputs": [],
   "source": [
    "img_path = \"Avenger_poster.jpg\"\n",
    "img = cv2.imread(img_path)\n",
    "half = cv2.resize(img, (0,0), fx = .3, fy = .35)"
   ]
  },
  {
   "cell_type": "code",
   "execution_count": 51,
   "id": "6b640182",
   "metadata": {},
   "outputs": [],
   "source": [
    "cv2.imshow(\"Image Viewer\", half)\n",
    "cv2.waitKey(0)\n",
    "cv2.destroyAllWindows()"
   ]
  },
  {
   "cell_type": "code",
   "execution_count": 2,
   "id": "9dadb2ea",
   "metadata": {},
   "outputs": [],
   "source": [
    "fixed_height = "
   ]
  },
  {
   "cell_type": "code",
   "execution_count": 5,
   "id": "442e766b",
   "metadata": {},
   "outputs": [
    {
     "data": {
      "text/plain": [
       "0.375"
      ]
     },
     "execution_count": 5,
     "metadata": {},
     "output_type": "execute_result"
    }
   ],
   "source": [
    "get_monitors()[0].height/img.shape[0]"
   ]
  },
  {
   "cell_type": "code",
   "execution_count": 20,
   "id": "a00cafd2",
   "metadata": {},
   "outputs": [
    {
     "data": {
      "text/plain": [
       "0"
      ]
     },
     "execution_count": 20,
     "metadata": {},
     "output_type": "execute_result"
    }
   ],
   "source": [
    "get_monitors()[0].height/img.shape[0]"
   ]
  },
  {
   "cell_type": "code",
   "execution_count": 17,
   "id": "fc7f07be",
   "metadata": {},
   "outputs": [
    {
     "data": {
      "text/plain": [
       "1382"
      ]
     },
     "execution_count": 17,
     "metadata": {},
     "output_type": "execute_result"
    }
   ],
   "source": [
    "img.shape[0] #---> Height\n",
    "img.shape[1] #--->width"
   ]
  },
  {
   "cell_type": "code",
   "execution_count": 29,
   "id": "0dcce52b",
   "metadata": {},
   "outputs": [],
   "source": [
    "factor = get_monitors()[0].height/get_monitors()[0].width"
   ]
  },
  {
   "cell_type": "markdown",
   "id": "4bd72da7",
   "metadata": {},
   "source": []
  },
  {
   "cell_type": "code",
   "execution_count": 30,
   "id": "1e418c45",
   "metadata": {},
   "outputs": [],
   "source": [
    "a=[1,2]"
   ]
  },
  {
   "cell_type": "markdown",
   "id": "ea4b4b51",
   "metadata": {},
   "source": [
    "4 . write a fun which will take another function as an input and return me an output\n",
    " \n",
    "10 . write a function which will be able to read a image file and show it to you .\n",
    "11 . write a function which can read video file and play for you . \n",
    "\n",
    "13 . write a function which will be able to shutdonw your system . \n",
    "14 . write a function which will be able to access your mail . \n",
    "15 . write a func bywhcih i can send a mail to anyone .\n",
    "16. write a func to read a complete PDf file . \n",
    "17. write a function to read a word file . \n",
    "\n",
    "20 . write a function by which you will be able to append two PDF files . "
   ]
  },
  {
   "cell_type": "markdown",
   "id": "67a9c2d9",
   "metadata": {},
   "source": [
    "### 19 . write a function by which you can print an ip address of your system . "
   ]
  },
  {
   "cell_type": "code",
   "execution_count": 99,
   "id": "6e71e61b",
   "metadata": {},
   "outputs": [],
   "source": [
    "def ipconfig():\n",
    "    import subprocess\n",
    "    subprocess = subprocess.Popen(\"ipconfig\", shell=True, stdout=subprocess.PIPE)\n",
    "    subprocess_return = subprocess.stdout.read()\n",
    "    subprocess_return = subprocess_return.decode(\"utf-8\")\n",
    "    ip_info = subprocess_return[subprocess_return.find(\"IPv4\")::]\n",
    "    ip_subnet_gateway = []\n",
    "    for element in ip_info.split(\"\\r\\n\"):\n",
    "        ip_subnet_gateway.append(element[element.find(\":\")+1::].strip())\n",
    "    ip_subnet_gateway = ip_subnet_gateway[:3]\n",
    "    return ip_subnet_gateway"
   ]
  },
  {
   "cell_type": "code",
   "execution_count": 100,
   "id": "f5ba15ae",
   "metadata": {},
   "outputs": [
    {
     "data": {
      "text/plain": [
       "['192.168.72.186', '255.255.255.0', '192.168.72.254']"
      ]
     },
     "execution_count": 100,
     "metadata": {},
     "output_type": "execute_result"
    }
   ],
   "source": [
    "ipconfig()"
   ]
  },
  {
   "cell_type": "markdown",
   "id": "180b8f7d",
   "metadata": {},
   "source": [
    "### 18 . Write a function which can help you to filter only word file from a directory . "
   ]
  },
  {
   "cell_type": "code",
   "execution_count": 148,
   "id": "4b0bdcf8",
   "metadata": {},
   "outputs": [],
   "source": [
    "def filtered_filename(serching_path, extension):\n",
    "    \"\"\"This function will take a directory where we are going to search, \n",
    "    and extension of file type which type of file we are looking for.\n",
    "    As a return it will return a dictionary where all keys are file name and values are exact path of the file\"\"\"\n",
    "    import glob,os\n",
    "    filename_filepath = {}\n",
    "    full_path_list = []\n",
    "    for root, dir_, file in os.walk(serching_path):\n",
    "            full_path_list += glob.glob(os.path.join(root,\"*\"+extension)) \n",
    "    #full_path_list = glob.glob(os.path.join(serching_path,\"*\"+extension))\n",
    "    for path in full_path_list:\n",
    "        filename = os.path.basename(path)\n",
    "        filename_filepath[filename] = path\n",
    "    return filename_filepath"
   ]
  },
  {
   "cell_type": "code",
   "execution_count": 149,
   "id": "e081d781",
   "metadata": {},
   "outputs": [],
   "source": [
    "path = r\"C:\\Users\\deep.g\\Documents\""
   ]
  },
  {
   "cell_type": "code",
   "execution_count": 150,
   "id": "4a3f0c09",
   "metadata": {},
   "outputs": [
    {
     "data": {
      "text/plain": [
       "dict_keys(['01.docx', 'Deep CV V3.2.docx', 'Deep Photo 156x156.docx', 'Deep Photo A4.docx', 'get.docx', 'image_read_script.docx', 'Modules for MAS.docx', 'PMS_20-21.docx', '~$age_read_script.docx', 'IRLibReference.docx', 'project2_report.docx', 'Folder arrangement should be like sharefolder.docx', '~$lder arrangement should be like sharefolder.docx', 'Assignment_1.docx', 'Assignment_10.docx', 'Assignment_11.docx', 'Assignment_12.docx', 'Assignment_13.docx', 'Assignment_14.docx', 'Assignment_15.docx', 'Assignment_16.docx', 'Assignment_17.docx', 'Assignment_18.docx', 'Assignment_19.docx', 'Assignment_2.docx', 'Assignment_20.docx', 'Assignment_21.docx', 'Assignment_22.docx', 'Assignment_23.docx', 'Assignment_24.docx', 'Assignment_25.docx', 'Assignment_3.docx', 'Assignment_4.docx', 'Assignment_5.docx', 'Assignment_6.docx', 'Assignment_7.docx', 'Assignment_8.docx', 'Assignment_9.docx', 'Programming_Assingment1.docx', 'Programming_Assingment10.docx', 'Programming_Assingment11.docx', 'Programming_Assingment12.docx', 'Programming_Assingment13.docx', 'Programming_Assingment14.docx', 'Programming_Assingment15.docx', 'Programming_Assingment16.docx', 'Programming_Assingment17.docx', 'Programming_Assingment18.docx', 'Programming_Assingment19.docx', 'Programming_Assingment2.docx', 'Programming_Assingment20.docx', 'Programming_Assingment21.docx', 'Programming_Assingment22.docx', 'Programming_Assingment23.docx', 'Programming_Assingment24.docx', 'Programming_Assingment25.docx', 'Programming_Assingment3.docx', 'Programming_Assingment4.docx', 'Programming_Assingment5.docx', 'Programming_Assingment6.docx', 'Programming_Assingment7.docx', 'Programming_Assingment8.docx', 'Programming_Assingment9.docx'])"
      ]
     },
     "execution_count": 150,
     "metadata": {},
     "output_type": "execute_result"
    }
   ],
   "source": [
    "filtered_filename(path, \"docx\").keys()"
   ]
  },
  {
   "cell_type": "markdown",
   "id": "4536ad5f",
   "metadata": {},
   "source": [
    "#### Copying all filtered file"
   ]
  },
  {
   "cell_type": "code",
   "execution_count": 151,
   "id": "0c6e5358",
   "metadata": {},
   "outputs": [],
   "source": [
    "def copying_filtered_file(**kargs):\n",
    "    \"\"\"This function will take serching path where we are going to search all file with same kind extension.\n",
    "    and destination where we are going to copy all the filtered file.\"\"\"\n",
    "    filename_filepath = filtered_filename(kargs[\"serching_path\"], kargs[\"extension\"])\n",
    "    from shutil import copyfile,copy\n",
    "    from tqdm import tqdm\n",
    "    destination_dir = kargs[\"destination\"]\n",
    "    for keys, values in tqdm(filename_filepath.items()):\n",
    "        try:\n",
    "            copy(values, destination, follow_symlinks=False)\n",
    "        except:\n",
    "            print(f\"Problem occurred while copying {keys} form {values}\\n\")\n",
    "            pass"
   ]
  },
  {
   "cell_type": "code",
   "execution_count": 147,
   "id": "0d795bbe",
   "metadata": {},
   "outputs": [
    {
     "name": "stderr",
     "output_type": "stream",
     "text": [
      "100%|██████████████████████████████████████████████████████████████████████████████| 2633/2633 [04:17<00:00, 10.22it/s]\n"
     ]
    }
   ],
   "source": [
    "serching_path = r\"E:\\Arranging\"\n",
    "destination = r\"E:\\filter_copy\"\n",
    "copying_filtered_file(serching_path = serching_path, destination = destination, extension = \"xlsx\")"
   ]
  },
  {
   "cell_type": "code",
   "execution_count": 120,
   "id": "ffa482f2",
   "metadata": {},
   "outputs": [],
   "source": [
    "from shutil import copyfile"
   ]
  },
  {
   "cell_type": "markdown",
   "id": "2f805f5b",
   "metadata": {},
   "source": [
    "### 12. write a function which can move a file from one directory to another directory."
   ]
  },
  {
   "cell_type": "code",
   "execution_count": 155,
   "id": "24f4fb5d",
   "metadata": {},
   "outputs": [],
   "source": [
    "def file_move(source_file, moving_dir):\n",
    "    from shutil import move\n",
    "    from os.path import basename\n",
    "    move(source_file, moving_dir)\n",
    "    print(f\"{basename(source_file)} moved to {moving_dir}\")"
   ]
  },
  {
   "cell_type": "code",
   "execution_count": 156,
   "id": "cf841ef0",
   "metadata": {},
   "outputs": [],
   "source": [
    "source_file = r\"C:\\Users\\deep.g\\Documents\\Learning\\dsfs\\clone_2\\dsfs\\Assignment\\Assignment for Christmas Eve\\moving_test.xlsx\"\n",
    "moving_dir = r\"C:\\Users\\deep.g\\Documents\\Learning\\dsfs\\clone_2\\dsfs\\Assignment\\Assignment for Christmas Eve\\file_move\""
   ]
  },
  {
   "cell_type": "code",
   "execution_count": 157,
   "id": "4633a9a9",
   "metadata": {},
   "outputs": [
    {
     "name": "stdout",
     "output_type": "stream",
     "text": [
      "moving_test.xlsx moved to C:\\Users\\deep.g\\Documents\\Learning\\dsfs\\clone_2\\dsfs\\Assignment\\Assignment for Christmas Eve\\file_move\n"
     ]
    }
   ],
   "source": [
    "file_move(source_file, moving_dir)"
   ]
  },
  {
   "cell_type": "markdown",
   "id": "19f61531",
   "metadata": {},
   "source": [
    "#### Moving all filtered file"
   ]
  },
  {
   "cell_type": "code",
   "execution_count": 158,
   "id": "cc880660",
   "metadata": {},
   "outputs": [],
   "source": [
    "def moving_filtered_file(**kargs):\n",
    "    filename_filepath = filtered_filename(kargs[\"serching_path\"], kargs[\"extension\"])\n",
    "    from shutil import move\n",
    "    from tqdm import tqdm\n",
    "    destination_dir = kargs[\"destination\"]\n",
    "    for keys, values in tqdm(filename_filepath.items()):\n",
    "        try:\n",
    "            move(values, destination, follow_symlinks=False)\n",
    "        except:\n",
    "            print(f\"Problem occurred while copying {keys} form {values}\\n\")\n",
    "            pass"
   ]
  },
  {
   "cell_type": "code",
   "execution_count": null,
   "id": "1b155093",
   "metadata": {},
   "outputs": [],
   "source": []
  }
 ],
 "metadata": {
  "kernelspec": {
   "display_name": "Python 3",
   "language": "python",
   "name": "python3"
  },
  "language_info": {
   "codemirror_mode": {
    "name": "ipython",
    "version": 3
   },
   "file_extension": ".py",
   "mimetype": "text/x-python",
   "name": "python",
   "nbconvert_exporter": "python",
   "pygments_lexer": "ipython3",
   "version": "3.8.8"
  }
 },
 "nbformat": 4,
 "nbformat_minor": 5
}
