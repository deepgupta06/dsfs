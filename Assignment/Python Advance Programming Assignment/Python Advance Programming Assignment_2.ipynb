{
 "cells": [
  {
   "cell_type": "markdown",
   "id": "93234952",
   "metadata": {},
   "source": [
    "# Python Advance Programming Assignment_2"
   ]
  },
  {
   "cell_type": "markdown",
   "id": "53dcde9e",
   "metadata": {},
   "source": [
    "### 1. Write a function that takes a positive integer num and calculates how many dots exist in a pentagonal shape around the center dot on the Nth iteration.\n",
    "\n",
    "In the image below you can see the first iteration is only a single dot. On the second, there are 6 dots. On the third, there are 16 dots, and on the fourth there are 31 dots.\n",
    "\n",
    "\n",
    "\n",
    "<img src=\"pentagonal_img.png\"></img>\n",
    "\n",
    "\n",
    "Return the number of dots that exist in the whole pentagon on the Nth iteration.\n",
    "\n",
    "Examples\n",
    "\n",
    "pentagonal(1) ➞ 1\n",
    "\n",
    "pentagonal(2) ➞ 6\n",
    "\n",
    "pentagonal(3) ➞ 16\n",
    "\n",
    "pentagonal(8) ➞ 141\n",
    "\n"
   ]
  },
  {
   "cell_type": "code",
   "execution_count": 85,
   "id": "a63ff335",
   "metadata": {},
   "outputs": [],
   "source": [
    "def pentagonal(nth_iteration):\n",
    "    \"\"\"This function will take +ve integer value of nth iteration,\n",
    "    and as a return it will give us number of dots exist in a \n",
    "    pentagonal shape around the center dot on the Nth iteration.\n",
    "    Formula of Centered pentagonal number is: (5n^2-5n+2)/2, wher n in nth iteration.\"\"\"\n",
    "    return int(((5*nth_iteration**2)-(5*nth_iteration)+2)/2)"
   ]
  },
  {
   "cell_type": "code",
   "execution_count": 18,
   "id": "cf3a9089",
   "metadata": {},
   "outputs": [
    {
     "data": {
      "text/plain": [
       "1"
      ]
     },
     "execution_count": 18,
     "metadata": {},
     "output_type": "execute_result"
    }
   ],
   "source": [
    "pentagonal(1)"
   ]
  },
  {
   "cell_type": "code",
   "execution_count": 19,
   "id": "de821b40",
   "metadata": {},
   "outputs": [
    {
     "data": {
      "text/plain": [
       "6"
      ]
     },
     "execution_count": 19,
     "metadata": {},
     "output_type": "execute_result"
    }
   ],
   "source": [
    "pentagonal(2)"
   ]
  },
  {
   "cell_type": "code",
   "execution_count": 20,
   "id": "a6a79fc4",
   "metadata": {},
   "outputs": [
    {
     "data": {
      "text/plain": [
       "16"
      ]
     },
     "execution_count": 20,
     "metadata": {},
     "output_type": "execute_result"
    }
   ],
   "source": [
    "pentagonal(3)"
   ]
  },
  {
   "cell_type": "code",
   "execution_count": 21,
   "id": "2e818009",
   "metadata": {},
   "outputs": [
    {
     "data": {
      "text/plain": [
       "31"
      ]
     },
     "execution_count": 21,
     "metadata": {},
     "output_type": "execute_result"
    }
   ],
   "source": [
    "pentagonal(4)"
   ]
  },
  {
   "cell_type": "code",
   "execution_count": 22,
   "id": "e314433a",
   "metadata": {},
   "outputs": [
    {
     "data": {
      "text/plain": [
       "51"
      ]
     },
     "execution_count": 22,
     "metadata": {},
     "output_type": "execute_result"
    }
   ],
   "source": [
    "pentagonal(5)"
   ]
  },
  {
   "cell_type": "markdown",
   "id": "eb626e59",
   "metadata": {},
   "source": [
    "### 2.  Make a function that encrypts a given input with these steps:\n",
    "\n",
    "Input: \"apple\"\n",
    "\n",
    "Step 1: Reverse the input: \"elppa\"\n",
    "\n",
    "Step 2: Replace all vowels using the following chart:\n",
    "\n",
    "a => 0\n",
    "e => 1\n",
    "i => 2\n",
    "o => 2\n",
    "u => 3\n",
    "\n",
    "<p># \"1lpp0\"</p>\n",
    "\n",
    "Step 3: Add \"aca\" to the end of the word: \"1lpp0aca\"\n",
    "\n",
    "Output: \"1lpp0aca\"\n",
    "\n",
    "Examples\n",
    "\n",
    "encrypt(\"banana\") ➞ \"0n0n0baca\"\n",
    "\n",
    "encrypt(\"karaca\") ➞ \"0c0r0kaca\"\n",
    "\n",
    "encrypt(\"burak\") ➞ \"k0r3baca\"\n",
    "\n",
    "encrypt(\"alpaca\") ➞ \"0c0pl0aca\"\n"
   ]
  },
  {
   "cell_type": "code",
   "execution_count": 90,
   "id": "fe0af7d4",
   "metadata": {},
   "outputs": [],
   "source": [
    "def encrypt(input_word):\n",
    "    \"\"\"This function will encrypt a string by following criteria:\n",
    "    Step 1: Reverse the input: \"elppa\"\n",
    "    Step 2: Replace all vowels using the following chart:\n",
    "    a => 0 e => 1 i => 2 o => 2 u => 3\n",
    "    # \"1lpp0\"\n",
    "    Step 3: Add \"aca\" to the end of the word: \"1lpp0aca\"\n",
    "    Output: \"1lpp0aca\"\n",
    "    Examples\n",
    "    encrypt(\"banana\") ➞ \"0n0n0baca\"\n",
    "    \"\"\"\n",
    "    vowels_chart = {\"a\":0,\"e\":1,\"i\":2,\"o\":2,\"u\":3}\n",
    "    output_string = \"\"\n",
    "    for item in input_word[::-1]:\n",
    "        if item in vowels_chart.keys():\n",
    "            item = str(vowels_chart[item])\n",
    "        output_string += item\n",
    "    return output_string+\"aca\""
   ]
  },
  {
   "cell_type": "code",
   "execution_count": 91,
   "id": "75456851",
   "metadata": {},
   "outputs": [
    {
     "data": {
      "text/plain": [
       "'0n0n0baca'"
      ]
     },
     "execution_count": 91,
     "metadata": {},
     "output_type": "execute_result"
    }
   ],
   "source": [
    "encrypt(\"banana\")"
   ]
  },
  {
   "cell_type": "code",
   "execution_count": 29,
   "id": "3df7f3c3",
   "metadata": {},
   "outputs": [
    {
     "data": {
      "text/plain": [
       "'0c0r0kaca'"
      ]
     },
     "execution_count": 29,
     "metadata": {},
     "output_type": "execute_result"
    }
   ],
   "source": [
    "encrypt(\"karaca\")"
   ]
  },
  {
   "cell_type": "code",
   "execution_count": 30,
   "id": "5f9ec8f7",
   "metadata": {},
   "outputs": [
    {
     "data": {
      "text/plain": [
       "'k0r3baca'"
      ]
     },
     "execution_count": 30,
     "metadata": {},
     "output_type": "execute_result"
    }
   ],
   "source": [
    "encrypt(\"burak\")"
   ]
  },
  {
   "cell_type": "code",
   "execution_count": 31,
   "id": "e5485cdb",
   "metadata": {},
   "outputs": [
    {
     "data": {
      "text/plain": [
       "'0c0pl0aca'"
      ]
     },
     "execution_count": 31,
     "metadata": {},
     "output_type": "execute_result"
    }
   ],
   "source": [
    "encrypt(\"alpaca\")"
   ]
  },
  {
   "cell_type": "code",
   "execution_count": 32,
   "id": "d57cab0a",
   "metadata": {},
   "outputs": [
    {
     "data": {
      "text/plain": [
       "'1lpp0aca'"
      ]
     },
     "execution_count": 32,
     "metadata": {},
     "output_type": "execute_result"
    }
   ],
   "source": [
    "encrypt(\"apple\")"
   ]
  },
  {
   "cell_type": "markdown",
   "id": "4db1bc33",
   "metadata": {},
   "source": [
    "### 3. Given the month and year as numbers, return whether that month contains a Friday 13th.(i.e You can check Python's datetime module)\n",
    "\n",
    "Examples\n",
    "\n",
    "has_friday_13(3, 2020) ➞ True\n",
    "\n",
    "has_friday_13(10, 2017) ➞ True\n",
    "\n",
    "has_friday_13(1, 1985) ➞ False\n"
   ]
  },
  {
   "cell_type": "code",
   "execution_count": 40,
   "id": "4bb2e945",
   "metadata": {},
   "outputs": [],
   "source": [
    "def has_friday_13(month, year):\n",
    "    \"\"\"\"\"\"\n",
    "    import datetime\n",
    "    date = f\"13/{month}/{year}\"\n",
    "    date = datetime.datetime.strptime(date, \"%d/%m/%Y\")\n",
    "    weekday = date.strftime(\"%a\")\n",
    "    if weekday==\"Fri\":\n",
    "        return True\n",
    "    else:\n",
    "        return False"
   ]
  },
  {
   "cell_type": "code",
   "execution_count": 43,
   "id": "f2f91246",
   "metadata": {},
   "outputs": [
    {
     "data": {
      "text/plain": [
       "True"
      ]
     },
     "execution_count": 43,
     "metadata": {},
     "output_type": "execute_result"
    }
   ],
   "source": [
    "has_friday_13(3,2020)"
   ]
  },
  {
   "cell_type": "code",
   "execution_count": 44,
   "id": "6c72ba31",
   "metadata": {},
   "outputs": [
    {
     "data": {
      "text/plain": [
       "True"
      ]
     },
     "execution_count": 44,
     "metadata": {},
     "output_type": "execute_result"
    }
   ],
   "source": [
    "has_friday_13(10,2017)"
   ]
  },
  {
   "cell_type": "code",
   "execution_count": 45,
   "id": "b8531fd2",
   "metadata": {},
   "outputs": [
    {
     "data": {
      "text/plain": [
       "False"
      ]
     },
     "execution_count": 45,
     "metadata": {},
     "output_type": "execute_result"
    }
   ],
   "source": [
    "has_friday_13(1,1985)"
   ]
  },
  {
   "cell_type": "markdown",
   "id": "6d124caf",
   "metadata": {},
   "source": [
    "### 4. Write a regular expression that will help us count how many bad cookies are produced every day. You must use RegEx negative lookbehind.\n",
    "\n",
    "Example\n",
    "\n",
    "lst = [\"bad cookie\", \"good cookie\", \"bad cookie\", \"good cookie\", \"good cookie\"]\n",
    "pattern = \"yourregularexpressionhere\"\n",
    "\n",
    "len(re.findall(pattern, \", \".join(lst))) ➞ 2\n"
   ]
  },
  {
   "cell_type": "code",
   "execution_count": 61,
   "id": "0421846a",
   "metadata": {},
   "outputs": [
    {
     "name": "stdout",
     "output_type": "stream",
     "text": [
      "good cookie,bad cookie,good cookie,good cookie,a bad cookie\n"
     ]
    },
    {
     "data": {
      "text/plain": [
       "2"
      ]
     },
     "execution_count": 61,
     "metadata": {},
     "output_type": "execute_result"
    }
   ],
   "source": [
    "lst = [\"good cookie\", \"bad cookie\", \"good cookie\", \"good cookie\", \"bad cookie\"]\n",
    "pattern = \"bad cookie\"\n",
    "import re\n",
    "print(\",\".join(lst))\n",
    "len(re.findall(pattern, \",\".join(lst)))"
   ]
  },
  {
   "cell_type": "code",
   "execution_count": 64,
   "id": "69ab8dc8",
   "metadata": {},
   "outputs": [
    {
     "ename": "AttributeError",
     "evalue": "'NoneType' object has no attribute 'group'",
     "output_type": "error",
     "traceback": [
      "\u001b[1;31m---------------------------------------------------------------------------\u001b[0m",
      "\u001b[1;31mAttributeError\u001b[0m                            Traceback (most recent call last)",
      "\u001b[1;32m<ipython-input-64-6dbbe994e53f>\u001b[0m in \u001b[0;36m<module>\u001b[1;34m\u001b[0m\n\u001b[0;32m      5\u001b[0m                     'geeksforgeeks')\n\u001b[0;32m      6\u001b[0m \u001b[1;33m\u001b[0m\u001b[0m\n\u001b[1;32m----> 7\u001b[1;33m \u001b[0mprint\u001b[0m\u001b[1;33m(\u001b[0m\u001b[0mexample\u001b[0m\u001b[1;33m.\u001b[0m\u001b[0mgroup\u001b[0m\u001b[1;33m(\u001b[0m\u001b[1;33m)\u001b[0m\u001b[1;33m)\u001b[0m\u001b[1;33m\u001b[0m\u001b[1;33m\u001b[0m\u001b[0m\n\u001b[0m\u001b[0;32m      8\u001b[0m print(\"Pattern found from index\", \n\u001b[0;32m      9\u001b[0m       example.start())\n",
      "\u001b[1;31mAttributeError\u001b[0m: 'NoneType' object has no attribute 'group'"
     ]
    }
   ],
   "source": [
    "import re\n",
    "  \n",
    "# Regex Lookbehind example\n",
    "example = re.search(r'(?<=deep)\\w', \n",
    "                    'geeksforgeeks')\n",
    "  \n",
    "print(example.group())\n",
    "print(\"Pattern found from index\", \n",
    "      example.start())"
   ]
  },
  {
   "cell_type": "code",
   "execution_count": 65,
   "id": "2826d5d3",
   "metadata": {},
   "outputs": [],
   "source": [
    "import re"
   ]
  },
  {
   "cell_type": "code",
   "execution_count": 67,
   "id": "116e475c",
   "metadata": {},
   "outputs": [
    {
     "data": {
      "text/plain": [
       "'lol'"
      ]
     },
     "execution_count": 67,
     "metadata": {},
     "output_type": "execute_result"
    }
   ],
   "source": [
    "re.search(\"lol\",\"loldfghdghlol\").group()"
   ]
  },
  {
   "cell_type": "code",
   "execution_count": 72,
   "id": "38e13109",
   "metadata": {},
   "outputs": [
    {
     "name": "stdout",
     "output_type": "stream",
     "text": [
      "geeks\n",
      "None\n"
     ]
    }
   ],
   "source": [
    "\n",
    "import re\n",
    "  \n",
    "# Lookbehind\n",
    "example1 = re.search('(?<=[a-z])geeks', \n",
    "                     'geeksforgeeks')\n",
    "print(example1.group())\n",
    "  \n",
    "# Negative Lookbehind\n",
    "example2 = re.search('(?<![a-z])123', \n",
    "                     'geeks123')\n",
    "  \n",
    "# Output is None because 123 \n",
    "# is preceded by a character i.e 's'\n",
    "print(example2)"
   ]
  },
  {
   "cell_type": "markdown",
   "id": "82087206",
   "metadata": {},
   "source": [
    "### 5. Given a list of words in the singular form, return a set of those words in the plural form if they appear more than once in the list.\n",
    "\n",
    "Examples\n",
    "\n",
    "pluralize([\"cow\", \"pig\", \"cow\", \"cow\"]) ➞ { \"cows\", \"pig\" }\n",
    "\n",
    "pluralize([\"table\", \"table\", \"table\"]) ➞ { \"tables\" }\n",
    "\n",
    "pluralize([\"chair\", \"pencil\", \"arm\"]) ➞ { \"chair\", \"pencil\", \"arm\" }\n"
   ]
  },
  {
   "cell_type": "code",
   "execution_count": 80,
   "id": "5040371f",
   "metadata": {},
   "outputs": [],
   "source": [
    "def pluralize(input_list):\n",
    "    output_list = []\n",
    "    for element in set(input_list):\n",
    "        if input_list.count(element)>1:\n",
    "            output_list.append(f\"{element}s\")\n",
    "        else:\n",
    "            output_list.append(element)\n",
    "    return set(output_list)\n",
    "    "
   ]
  },
  {
   "cell_type": "code",
   "execution_count": 82,
   "id": "70e7e194",
   "metadata": {},
   "outputs": [
    {
     "data": {
      "text/plain": [
       "{'cows', 'pig'}"
      ]
     },
     "execution_count": 82,
     "metadata": {},
     "output_type": "execute_result"
    }
   ],
   "source": [
    "pluralize([\"cow\", \"pig\", \"cow\", \"cow\"])"
   ]
  },
  {
   "cell_type": "code",
   "execution_count": 83,
   "id": "5ca4df70",
   "metadata": {},
   "outputs": [
    {
     "data": {
      "text/plain": [
       "{'tables'}"
      ]
     },
     "execution_count": 83,
     "metadata": {},
     "output_type": "execute_result"
    }
   ],
   "source": [
    "pluralize([\"table\", \"table\", \"table\"])"
   ]
  },
  {
   "cell_type": "code",
   "execution_count": 84,
   "id": "af6679e7",
   "metadata": {},
   "outputs": [
    {
     "data": {
      "text/plain": [
       "{'arm', 'chair', 'pencil'}"
      ]
     },
     "execution_count": 84,
     "metadata": {},
     "output_type": "execute_result"
    }
   ],
   "source": [
    "pluralize([\"chair\", \"pencil\", \"arm\"])"
   ]
  },
  {
   "cell_type": "code",
   "execution_count": null,
   "id": "de166e43",
   "metadata": {},
   "outputs": [],
   "source": []
  }
 ],
 "metadata": {
  "kernelspec": {
   "display_name": "Python 3",
   "language": "python",
   "name": "python3"
  },
  "language_info": {
   "codemirror_mode": {
    "name": "ipython",
    "version": 3
   },
   "file_extension": ".py",
   "mimetype": "text/x-python",
   "name": "python",
   "nbconvert_exporter": "python",
   "pygments_lexer": "ipython3",
   "version": "3.8.8"
  }
 },
 "nbformat": 4,
 "nbformat_minor": 5
}
