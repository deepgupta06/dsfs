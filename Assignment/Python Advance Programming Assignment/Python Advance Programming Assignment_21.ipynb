{
 "cells": [
  {
   "cell_type": "markdown",
   "id": "26dad8c0",
   "metadata": {},
   "source": [
    "# Python Advance Programming Assignment_21.ipynb"
   ]
  },
  {
   "cell_type": "markdown",
   "id": "248ed19a",
   "metadata": {},
   "source": [
    "### 1. Given a sentence, return the number of words which have the same first and last letter.\n",
    "\n",
    "Examples\n",
    "\n",
    "count_same_ends(\"Pop! goes the balloon\") ➞ 1\n",
    "\n",
    "count_same_ends(\"And the crowd goes wild!\") ➞ 0\n",
    "\n",
    "count_same_ends(\"No I am not in a gang.\") ➞ 1\n"
   ]
  },
  {
   "cell_type": "code",
   "execution_count": 9,
   "id": "87a2ae5f",
   "metadata": {},
   "outputs": [],
   "source": [
    "def count_same_ends(input_string):\n",
    "    import re\n",
    "    input_string = re.sub(\"\\W+\",\" \",input_string)\n",
    "    input_string_list = input_string.lower().split(\" \")\n",
    "    print(input_string_list)\n",
    "    count = 0\n",
    "    for i in input_string_list:\n",
    "        if i[0]==i[-1]:\n",
    "            count +=1\n",
    "    return count    "
   ]
  },
  {
   "cell_type": "code",
   "execution_count": 10,
   "id": "d441b5f1",
   "metadata": {},
   "outputs": [
    {
     "name": "stdout",
     "output_type": "stream",
     "text": [
      "['pop', 'goes', 'the', 'balloon']\n"
     ]
    },
    {
     "data": {
      "text/plain": [
       "1"
      ]
     },
     "execution_count": 10,
     "metadata": {},
     "output_type": "execute_result"
    }
   ],
   "source": [
    "count_same_ends(\"Pop! goes the balloon\")"
   ]
  },
  {
   "cell_type": "code",
   "execution_count": null,
   "id": "b47855f2",
   "metadata": {},
   "outputs": [],
   "source": []
  }
 ],
 "metadata": {
  "kernelspec": {
   "display_name": "Python 3 (ipykernel)",
   "language": "python",
   "name": "python3"
  },
  "language_info": {
   "codemirror_mode": {
    "name": "ipython",
    "version": 3
   },
   "file_extension": ".py",
   "mimetype": "text/x-python",
   "name": "python",
   "nbconvert_exporter": "python",
   "pygments_lexer": "ipython3",
   "version": "3.9.7"
  }
 },
 "nbformat": 4,
 "nbformat_minor": 5
}
