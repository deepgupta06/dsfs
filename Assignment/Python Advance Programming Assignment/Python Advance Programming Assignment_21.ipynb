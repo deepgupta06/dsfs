{
 "cells": [
  {
   "cell_type": "markdown",
   "id": "26dad8c0",
   "metadata": {},
   "source": [
    "# Python Advance Programming Assignment_21.ipynb"
   ]
  },
  {
   "cell_type": "markdown",
   "id": "248ed19a",
   "metadata": {},
   "source": [
    "### 1. Given a sentence, return the number of words which have the same first and last letter.\n",
    "\n",
    "Examples\n",
    "\n",
    "count_same_ends(\"Pop! goes the balloon\") ➞ 1\n",
    "\n",
    "count_same_ends(\"And the crowd goes wild!\") ➞ 0\n",
    "\n",
    "count_same_ends(\"No I am not in a gang.\") ➞ 1\n"
   ]
  },
  {
   "cell_type": "code",
   "execution_count": null,
   "id": "87a2ae5f",
   "metadata": {},
   "outputs": [],
   "source": [
    "def count_same_ends(input_string):\n",
    "    import re\n",
    "    input_string = re.sub(\"\\W+\",\" \",input_string)\n",
    "    input_string_list = input_string.lower().strip().split(\" \")\n",
    "    count = 0\n",
    "    for i in input_string_list:\n",
    "        if len(i) > 1:\n",
    "            if i[0]==i[-1]:\n",
    "                count +=1\n",
    "    return count    "
   ]
  },
  {
   "cell_type": "code",
   "execution_count": null,
   "id": "d441b5f1",
   "metadata": {},
   "outputs": [],
   "source": [
    "count_same_ends(\"Pop! goes the balloon\")"
   ]
  },
  {
   "cell_type": "code",
   "execution_count": null,
   "id": "b47855f2",
   "metadata": {},
   "outputs": [],
   "source": [
    "count_same_ends(\"And the crowd goes wild!\")"
   ]
  },
  {
   "cell_type": "code",
   "execution_count": null,
   "id": "9e211bd4",
   "metadata": {},
   "outputs": [],
   "source": [
    "count_same_ends(\"No I am not in a gang.\")"
   ]
  },
  {
   "cell_type": "markdown",
   "id": "b70b3cd7",
   "metadata": {},
   "source": [
    "### 2. The Atbash cipher is an encryption method in which each letter of a word is replaced with its \"mirror\" letter in the alphabet: A <=> Z; B <=> Y; C <=> X; etc.\n",
    "\n",
    "Create a function that takes a string and applies the Atbash cipher to it.\n",
    "\n",
    "Examples\n",
    "\n",
    "atbash(\"apple\") ➞ \"zkkov\"\n",
    "\n",
    "atbash(\"Hello world!\") ➞ \"Svool dliow!\"\n",
    "\n",
    "atbash(\"Christmas is the 25th of December\") ➞ \"Xsirhgnzh rh gsv 25gs lu Wvxvnyvi\"\n"
   ]
  },
  {
   "cell_type": "code",
   "execution_count": null,
   "id": "61c52a85",
   "metadata": {},
   "outputs": [],
   "source": [
    "def atbash(input_string):\n",
    "    cap_l = [chr(x) for x in range(ord(\"A\"), ord(\"Z\")+1)]\n",
    "    small_l = [chr(x) for x in range(ord(\"a\"), ord(\"z\")+1)]\n",
    "    str_ = \"\"\n",
    "    for i in input_string:\n",
    "        if i in cap_l:\n",
    "            str_ += cap_l[-cap_l.index(i)-1]\n",
    "        elif i in small_l:\n",
    "            str_ += small_l[-small_l.index(i)-1]\n",
    "        else:\n",
    "            str_ += i\n",
    "    return str_"
   ]
  },
  {
   "cell_type": "code",
   "execution_count": null,
   "id": "afcb262e",
   "metadata": {},
   "outputs": [],
   "source": [
    "atbash(\"Hello world!\")"
   ]
  },
  {
   "cell_type": "code",
   "execution_count": null,
   "id": "9ea7c807",
   "metadata": {},
   "outputs": [],
   "source": [
    "atbash(\"apple\") # \"zkkov\""
   ]
  },
  {
   "cell_type": "code",
   "execution_count": null,
   "id": "d8aa23d9",
   "metadata": {},
   "outputs": [],
   "source": [
    "atbash(\"Christmas is the 25th of December\")"
   ]
  },
  {
   "cell_type": "markdown",
   "id": "017c089f",
   "metadata": {},
   "source": [
    "### 3. Create a class Employee that will take a full name as argument, as well as a set of none, one or more keywords. Each instance should have a name and a lastname attributes plus one more attribute for each of the keywords, if any.\n",
    "\n",
    "Examples\n",
    "\n",
    "john = Employee(\"John Doe\")\n",
    "\n",
    "mary = Employee(\"Mary Major\", salary=120000)\n",
    "\n",
    "richard = Employee(\"Richard Roe\", salary=110000, height=178)\n",
    "\n",
    "giancarlo = Employee(\"Giancarlo Rossi\", salary=115000, height=182, nationality=\"Italian\")\n",
    "\n",
    "john.name ➞ \"John\"\n",
    "\n",
    "mary.lastname ➞ \"Major\"\n",
    "\n",
    "richard.height ➞ 178\n",
    "\n",
    "giancarlo.nationality ➞ \"Italian\"\n",
    "\n"
   ]
  },
  {
   "cell_type": "code",
   "execution_count": null,
   "id": "fe2d94e5",
   "metadata": {},
   "outputs": [],
   "source": [
    "class Employee:\n",
    "    def __init__(self, fullname, **kargs):\n",
    "        self.fullname = fullname\n",
    "        self.__dict__[\"name\"] = fullname.split()[0]\n",
    "        self.__dict__[\"lastname\"] = fullname.split()[1]\n",
    "        self.__dict__.update(kargs)"
   ]
  },
  {
   "cell_type": "code",
   "execution_count": null,
   "id": "27101f35",
   "metadata": {},
   "outputs": [],
   "source": [
    "john = Employee(\"John Doe\")\n",
    "\n",
    "mary = Employee(\"Mary Major\", salary=120000)\n",
    "\n",
    "richard = Employee(\"Richard Roe\", salary=110000, height=178)\n",
    "\n",
    "giancarlo = Employee(\"Giancarlo Rossi\", salary=115000, height=182, nationality=\"Italian\")\n"
   ]
  },
  {
   "cell_type": "code",
   "execution_count": null,
   "id": "437f7f70",
   "metadata": {},
   "outputs": [],
   "source": [
    "john.name"
   ]
  },
  {
   "cell_type": "code",
   "execution_count": null,
   "id": "55960382",
   "metadata": {},
   "outputs": [],
   "source": [
    "john.lastname"
   ]
  },
  {
   "cell_type": "code",
   "execution_count": null,
   "id": "ea042a53",
   "metadata": {},
   "outputs": [],
   "source": [
    "richard.height"
   ]
  },
  {
   "cell_type": "code",
   "execution_count": null,
   "id": "fe638235",
   "metadata": {},
   "outputs": [],
   "source": [
    "giancarlo.nationality"
   ]
  },
  {
   "cell_type": "markdown",
   "id": "f155b0fd",
   "metadata": {},
   "source": [
    "### 4. Create a function that determines whether each seat can \"see\" the front-stage. A number can \"see\" the front-stage if it is strictly greater than the number before it.\n",
    "\n",
    "Everyone can see the front-stage in the example below:\n",
    "\n",
    "$FRONT STAGE\n",
    "\n",
    "[[1, 2, 3, 2, 1, 1],\n",
    "\n",
    "[2, 4, 4, 3, 2, 2],\n",
    "\n",
    "[5, 5, 5, 5, 4, 4],\n",
    "\n",
    "[6, 6, 7, 6, 5, 5]]\n",
    "\n",
    "$Starting from the left, the 6 > 5 > 2 > 1, so all numbers can see.\n",
    "\n",
    "$6 > 5 > 4 > 2 - so all numbers can see, etc.\n",
    "\n",
    "Not everyone can see the front-stage in the example below:\n",
    "\n",
    "$FRONT STAGE\n",
    "\n",
    "[[1, 2, 3, 2, 1, 1], \n",
    "\n",
    "[2, 4, 4, 3, 2, 2], \n",
    "\n",
    "[5, 5, 5, 10, 4, 4], \n",
    "\n",
    "[6, 6, 7, 6, 5, 5]]\n",
    "\n",
    "$The 10 is directly in front of the 6 and blocking its view.\n",
    "\n",
    "The function should return True if every number can see the front-stage, and False if even a single number cannot.\n",
    "\n",
    "Examples\n",
    "\n",
    "can_see_stage([\n",
    "  [1, 2, 3],\n",
    "  [4, 5, 6],\n",
    "  [7, 8, 9]\n",
    "]) ➞ True\n",
    "\n",
    "can_see_stage([\n",
    "  [0, 0, 0],\n",
    "  [1, 1, 1],\n",
    "  [2, 2, 2]\n",
    "]) ➞ True\n",
    "\n",
    "can_see_stage([\n",
    "  [2, 0, 0], \n",
    "  [1, 1, 1], \n",
    "  [2, 2, 2]\n",
    "]) ➞ False\n",
    "\n",
    "can_see_stage([\n",
    "  [1, 0, 0],\n",
    "  [1, 1, 1],\n",
    "  [2, 2, 2]\n",
    "]) ➞ False\n",
    "\n",
    "$Number must be strictly smaller than \n",
    "\n",
    "$the number directly behind it.\n"
   ]
  },
  {
   "cell_type": "code",
   "execution_count": null,
   "id": "bc5b6c69",
   "metadata": {},
   "outputs": [],
   "source": [
    "seats = [[1, 2, 3, 2, 1, 1], [2, 4, 4, 3, 2, 2], [5, 5, 5, 10, 4, 4], [6, 6, 7, 6, 5, 5]]"
   ]
  },
  {
   "cell_type": "code",
   "execution_count": null,
   "id": "990ba37a",
   "metadata": {},
   "outputs": [],
   "source": [
    "def can_see_stage(seats):\n",
    "    seats_position = {}\n",
    "    for row in (seats):\n",
    "        for idx, seat in enumerate(row):\n",
    "            if idx not in seats_position.keys():\n",
    "                seats_position[idx] = []\n",
    "            seats_position[idx].append(str(seat))\n",
    "    seats_position_copy = seats_position.copy()\n",
    "    checking_list = []\n",
    "    for key in seats_position.keys():\n",
    "        eval_str = \"<\".join(seats_position[key])\n",
    "        checking_list.append(eval(eval_str))\n",
    "    return all(checking_list)"
   ]
  },
  {
   "cell_type": "code",
   "execution_count": null,
   "id": "c4700983",
   "metadata": {},
   "outputs": [],
   "source": [
    "can_see_stage(seats)"
   ]
  },
  {
   "cell_type": "code",
   "execution_count": null,
   "id": "65173577",
   "metadata": {},
   "outputs": [],
   "source": [
    "can_see_stage([ [1, 2, 3], [4, 5, 6], [7, 8, 9] ])"
   ]
  },
  {
   "cell_type": "code",
   "execution_count": null,
   "id": "2cd2107a",
   "metadata": {},
   "outputs": [],
   "source": [
    "can_see_stage([ [0, 0, 0], [1, 1, 1], [2, 2, 2] ])"
   ]
  },
  {
   "cell_type": "code",
   "execution_count": null,
   "id": "56c8249a",
   "metadata": {},
   "outputs": [],
   "source": [
    "can_see_stage([ [2, 0, 0], [1, 1, 1], [2, 2, 2] ])"
   ]
  },
  {
   "cell_type": "code",
   "execution_count": null,
   "id": "ede05de5",
   "metadata": {},
   "outputs": [],
   "source": [
    "can_see_stage([ [1, 0, 0], [1, 1, 1], [2, 2, 2] ])"
   ]
  },
  {
   "cell_type": "markdown",
   "id": "62589420",
   "metadata": {},
   "source": [
    "### 5. Create a Pizza class with the attributes order_number and ingredients (which is given as a list). Only the ingredients will be given as input.\n",
    "\n",
    "You should also make it so that its possible to choose a ready made pizza flavour rather than typing out the ingredients manually! As well as creating this Pizza class, hard-code the following pizza flavours.\n",
    "\n",
    "Name\t                    Ingredients\n",
    "\n",
    "hawaiian\t          ham, pineapple\n",
    "\n",
    "meat_festival\tbeef, meatball, bacon\n",
    "\n",
    "garden_feast\tspinach, olives, mushroom\n",
    "\n",
    "Examples\n",
    "\n",
    "p1 = Pizza([\"bacon\", \"parmesan\", \"ham\"])    # order 1\n",
    "\n",
    "p2 = Pizza.garden_feast()                  # order 2\n",
    "\n",
    "p1.ingredients ➞ [\"bacon\", \"parmesan\", \"ham\"]\n",
    "\n",
    "p2.ingredients ➞ [\"spinach\", \"olives\", \"mushroom\"]\n",
    "\n",
    "p1.order_number ➞ 1\n",
    "\n",
    "p2.order_number ➞ 2\n"
   ]
  },
  {
   "cell_type": "code",
   "execution_count": 5,
   "id": "17443105",
   "metadata": {},
   "outputs": [],
   "source": [
    "b = Pizza().hawaiian()"
   ]
  },
  {
   "cell_type": "code",
   "execution_count": 8,
   "id": "4ca8e299",
   "metadata": {},
   "outputs": [
    {
     "ename": "AttributeError",
     "evalue": "'NoneType' object has no attribute 'ingredients'",
     "output_type": "error",
     "traceback": [
      "\u001b[1;31m---------------------------------------------------------------------------\u001b[0m",
      "\u001b[1;31mAttributeError\u001b[0m                            Traceback (most recent call last)",
      "\u001b[1;32m<ipython-input-8-f17a1f6b6af8>\u001b[0m in \u001b[0;36m<module>\u001b[1;34m\u001b[0m\n\u001b[1;32m----> 1\u001b[1;33m \u001b[0mb\u001b[0m\u001b[1;33m.\u001b[0m\u001b[0mingredients\u001b[0m\u001b[1;33m\u001b[0m\u001b[1;33m\u001b[0m\u001b[0m\n\u001b[0m",
      "\u001b[1;31mAttributeError\u001b[0m: 'NoneType' object has no attribute 'ingredients'"
     ]
    }
   ],
   "source": [
    "b.ingredients"
   ]
  },
  {
   "cell_type": "code",
   "execution_count": null,
   "id": "a2e63448",
   "metadata": {},
   "outputs": [],
   "source": []
  }
 ],
 "metadata": {
  "kernelspec": {
   "display_name": "Python 3",
   "language": "python",
   "name": "python3"
  },
  "language_info": {
   "codemirror_mode": {
    "name": "ipython",
    "version": 3
   },
   "file_extension": ".py",
   "mimetype": "text/x-python",
   "name": "python",
   "nbconvert_exporter": "python",
   "pygments_lexer": "ipython3",
   "version": "3.8.8"
  }
 },
 "nbformat": 4,
 "nbformat_minor": 5
}
