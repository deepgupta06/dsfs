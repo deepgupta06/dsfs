{
 "cells": [
  {
   "cell_type": "markdown",
   "id": "c71051bc",
   "metadata": {},
   "source": [
    "# Python Advance Programming Assignment_1.ipynb"
   ]
  },
  {
   "cell_type": "markdown",
   "id": "c96e02c0",
   "metadata": {},
   "source": [
    "### 1. Given a list of numbers, create a function that removes 25% from every number in the list except the smallest number, and adds the total amount removed to the smallest number.\n",
    "\n",
    "Examples\n",
    "\n",
    "show_the_love([4, 1, 4]) ➞ [3, 3, 3]\n",
    "\n",
    "show_the_love([16, 10, 8]) ➞ [12, 7.5, 14.5]\n",
    "\n",
    "show_the_love([2, 100]) ➞ [27, 75]\n"
   ]
  },
  {
   "cell_type": "code",
   "execution_count": 1,
   "id": "07e29454",
   "metadata": {},
   "outputs": [],
   "source": [
    "def show_the_love(input_list):\n",
    "    removed_portion = 0\n",
    "    for idx, item in enumerate(input_list):\n",
    "        if item != min(input_list):\n",
    "            input_list[idx] = item*.75\n",
    "            removed_portion += item*.25\n",
    "    min_value_index = input_list.index(min(input_list))\n",
    "    input_list[min_value_index] = input_list[min_value_index]+removed_portion\n",
    "    return input_list"
   ]
  },
  {
   "cell_type": "code",
   "execution_count": 2,
   "id": "9797f89e",
   "metadata": {},
   "outputs": [
    {
     "data": {
      "text/plain": [
       "[3.0, 3.0, 3.0]"
      ]
     },
     "execution_count": 2,
     "metadata": {},
     "output_type": "execute_result"
    }
   ],
   "source": [
    "show_the_love([4,1,4])"
   ]
  },
  {
   "cell_type": "code",
   "execution_count": 3,
   "id": "e8cfda53",
   "metadata": {},
   "outputs": [
    {
     "data": {
      "text/plain": [
       "[12.0, 7.5, 14.5]"
      ]
     },
     "execution_count": 3,
     "metadata": {},
     "output_type": "execute_result"
    }
   ],
   "source": [
    "show_the_love([16,10,8])"
   ]
  },
  {
   "cell_type": "code",
   "execution_count": 4,
   "id": "9943dddb",
   "metadata": {},
   "outputs": [
    {
     "data": {
      "text/plain": [
       "[27.0, 75.0]"
      ]
     },
     "execution_count": 4,
     "metadata": {},
     "output_type": "execute_result"
    }
   ],
   "source": [
    "show_the_love([2,100])"
   ]
  },
  {
   "cell_type": "markdown",
   "id": "142e6ad6",
   "metadata": {},
   "source": [
    "### 2. Create a function that takes in two words as input and returns a list of three elements, in the following order:\n",
    "\n",
    "   1.Shared letters between two words.\n",
    "   2.Letters unique to word 1.\n",
    "   3.Letters unique to word 2.\n",
    "\n",
    "Each element should have unique letters, and have each letter be alphabetically sorted.\n",
    "\n",
    "Examples\n",
    "\n",
    "letters(\"sharp\", \"soap\") ➞ [\"aps\", \"hr\", \"o\"]\n",
    "\n",
    "letters(\"board\", \"bored\") ➞ [\"bdor\", \"a\", \"e\"]\n",
    "\n",
    "letters(\"happiness\", \"envelope\") ➞ [\"enp\", \"ahis\", \"lov\"]\n",
    "\n",
    "letters(\"kerfuffle\", \"fluffy\") ➞ [\"flu\", \"ekr\", \"y\"]\n",
    "\n",
    "#Even with multiple matching letters (e.g. 3 f's), there should \n",
    "\n",
    "#only exist a single \"f\" in your first element.\n",
    "\n",
    "letters(\"match\", \"ham\") ➞ [\"ahm\", \"ct\", \"\"]\n",
    "\n",
    "#\"ham\" does not contain any letters that are not found already \n",
    "\n",
    "#in \"match\".\n"
   ]
  },
  {
   "cell_type": "code",
   "execution_count": 5,
   "id": "ce14a678",
   "metadata": {},
   "outputs": [],
   "source": [
    "word1 = \"kerfuffle\"\n",
    "word2 = \"fluffy\""
   ]
  },
  {
   "cell_type": "code",
   "execution_count": 6,
   "id": "aebf931c",
   "metadata": {},
   "outputs": [],
   "source": [
    "def letters(word1, word2):\n",
    "    output_list = []\n",
    "    shared_letters = [x for x in word1 if x in word2]\n",
    "    unique_in_word1 = [x for x in word1 if x not in word2]\n",
    "    unique_in_word2 = [x for x in word2 if x not in word1]\n",
    "    shared_letters = list(set(shared_letters))\n",
    "    unique_in_word1 = list(set(unique_in_word1))\n",
    "    unique_in_word2 = list(set(unique_in_word2))\n",
    "    shared_letters.sort()\n",
    "    unique_in_word1.sort()\n",
    "    unique_in_word2.sort()\n",
    "    output_list.append(\"\".join(shared_letters))\n",
    "    output_list.append(\"\".join(unique_in_word1))\n",
    "    output_list.append(\"\".join(unique_in_word2))\n",
    "    return output_list"
   ]
  },
  {
   "cell_type": "code",
   "execution_count": 7,
   "id": "3a49e39c",
   "metadata": {},
   "outputs": [
    {
     "data": {
      "text/plain": [
       "['aps', 'hr', 'o']"
      ]
     },
     "execution_count": 7,
     "metadata": {},
     "output_type": "execute_result"
    }
   ],
   "source": [
    "letters(\"sharp\", \"soap\") "
   ]
  },
  {
   "cell_type": "code",
   "execution_count": 8,
   "id": "d8f7c4ee",
   "metadata": {},
   "outputs": [
    {
     "data": {
      "text/plain": [
       "['bdor', 'a', 'e']"
      ]
     },
     "execution_count": 8,
     "metadata": {},
     "output_type": "execute_result"
    }
   ],
   "source": [
    "letters(\"board\", \"bored\") "
   ]
  },
  {
   "cell_type": "code",
   "execution_count": 9,
   "id": "a570fb15",
   "metadata": {},
   "outputs": [
    {
     "data": {
      "text/plain": [
       "['enp', 'ahis', 'lov']"
      ]
     },
     "execution_count": 9,
     "metadata": {},
     "output_type": "execute_result"
    }
   ],
   "source": [
    "letters(\"happiness\", \"envelope\") "
   ]
  },
  {
   "cell_type": "code",
   "execution_count": 10,
   "id": "cb12bcf0",
   "metadata": {},
   "outputs": [
    {
     "data": {
      "text/plain": [
       "['flu', 'ekr', 'y']"
      ]
     },
     "execution_count": 10,
     "metadata": {},
     "output_type": "execute_result"
    }
   ],
   "source": [
    "letters(\"kerfuffle\", \"fluffy\") "
   ]
  },
  {
   "cell_type": "code",
   "execution_count": 11,
   "id": "064936f4",
   "metadata": {},
   "outputs": [
    {
     "data": {
      "text/plain": [
       "['ahm', 'ct', '']"
      ]
     },
     "execution_count": 11,
     "metadata": {},
     "output_type": "execute_result"
    }
   ],
   "source": [
    "letters(\"match\", \"ham\")"
   ]
  },
  {
   "cell_type": "markdown",
   "id": "d5d50f10",
   "metadata": {},
   "source": [
    "### 3. Write a function that pairs the first number in an array with the last, the second number with the second to last, etc.\n",
    "\n",
    "Examples\n",
    "\n",
    "pairs([1, 2, 3, 4, 5, 6, 7]) ➞ [[1, 7], [2, 6], [3, 5], [4, 4]]\n",
    "\n",
    "pairs([1, 2, 3, 4, 5, 6]) ➞ [[1, 6], [2, 5], [3, 4]]\n",
    "\n",
    "pairs([5, 9, 8, 1, 2]) ➞ [[5, 2], [9, 1], [8, 8]]\n",
    "\n",
    "pairs([]) ➞ []\n"
   ]
  },
  {
   "cell_type": "code",
   "execution_count": 12,
   "id": "d11dda2b",
   "metadata": {},
   "outputs": [],
   "source": [
    "def pairs(input_list):\n",
    "    result = []\n",
    "    for idx, item in enumerate(input_list):\n",
    "        pair = []\n",
    "        if idx != len(input_list)-idx and idx<(len(input_list)-idx):\n",
    "            pair.append(input_list[idx])\n",
    "            pair.append(input_list[::-1][idx])\n",
    "        if pair:\n",
    "            result.append(pair)\n",
    "    return result"
   ]
  },
  {
   "cell_type": "code",
   "execution_count": 13,
   "id": "03ee5a53",
   "metadata": {},
   "outputs": [
    {
     "data": {
      "text/plain": [
       "[[1, 7], [2, 6], [3, 5], [4, 4]]"
      ]
     },
     "execution_count": 13,
     "metadata": {},
     "output_type": "execute_result"
    }
   ],
   "source": [
    "pairs([1, 2, 3, 4, 5, 6, 7])"
   ]
  },
  {
   "cell_type": "code",
   "execution_count": 14,
   "id": "6abee7e9",
   "metadata": {},
   "outputs": [
    {
     "data": {
      "text/plain": [
       "[[1, 6], [2, 5], [3, 4]]"
      ]
     },
     "execution_count": 14,
     "metadata": {},
     "output_type": "execute_result"
    }
   ],
   "source": [
    "pairs([1, 2, 3, 4, 5, 6])"
   ]
  },
  {
   "cell_type": "code",
   "execution_count": 15,
   "id": "58adaf6b",
   "metadata": {},
   "outputs": [
    {
     "data": {
      "text/plain": [
       "[]"
      ]
     },
     "execution_count": 15,
     "metadata": {},
     "output_type": "execute_result"
    }
   ],
   "source": [
    "pairs([])"
   ]
  },
  {
   "cell_type": "markdown",
   "id": "81b6ff19",
   "metadata": {},
   "source": [
    "### 4. Write a function that adds two numbers. The catch, however, is that the numbers will be strings.\n",
    "\n",
    "Examples\n",
    "\n",
    "add_str_nums(\"4\", \"5\") ➞ \"9\"\n",
    "\n",
    "add_str_nums(\"abcdefg\", \"3\") ➞ \"-1\"\n",
    "\n",
    "add_str_nums(\"1\", \"\") ➞ \"1\"\n",
    "\n",
    "add_str_nums(\"1874682736267235927359283579235789257\", \"32652983572985729\") ➞ \"1874682736267235927391936562808774986\"\n"
   ]
  },
  {
   "cell_type": "code",
   "execution_count": 16,
   "id": "94c9c6fe",
   "metadata": {},
   "outputs": [],
   "source": [
    "def add_str_nums(num1, num2):\n",
    "    if (num1+num2).isnumeric():\n",
    "        try:\n",
    "            return str(int(num1)+int(num2))\n",
    "        except ValueError:\n",
    "            if num1:\n",
    "                return num1\n",
    "            else:\n",
    "                return num2\n",
    "    else:\n",
    "        return -1\n",
    "    "
   ]
  },
  {
   "cell_type": "code",
   "execution_count": 17,
   "id": "9475bb1a",
   "metadata": {},
   "outputs": [
    {
     "data": {
      "text/plain": [
       "'1'"
      ]
     },
     "execution_count": 17,
     "metadata": {},
     "output_type": "execute_result"
    }
   ],
   "source": [
    "add_str_nums(\"\", \"1\")"
   ]
  },
  {
   "cell_type": "code",
   "execution_count": 18,
   "id": "12e3c5be",
   "metadata": {},
   "outputs": [
    {
     "data": {
      "text/plain": [
       "'9'"
      ]
     },
     "execution_count": 18,
     "metadata": {},
     "output_type": "execute_result"
    }
   ],
   "source": [
    "add_str_nums(\"4\", \"5\") "
   ]
  },
  {
   "cell_type": "code",
   "execution_count": 19,
   "id": "833df3cf",
   "metadata": {},
   "outputs": [
    {
     "data": {
      "text/plain": [
       "-1"
      ]
     },
     "execution_count": 19,
     "metadata": {},
     "output_type": "execute_result"
    }
   ],
   "source": [
    "add_str_nums(\"qweqwe\", \"4\")"
   ]
  },
  {
   "cell_type": "code",
   "execution_count": 20,
   "id": "84bc1f1b",
   "metadata": {},
   "outputs": [
    {
     "data": {
      "text/plain": [
       "'1874682736267235927391936562808774986'"
      ]
     },
     "execution_count": 20,
     "metadata": {},
     "output_type": "execute_result"
    }
   ],
   "source": [
    "add_str_nums(\"1874682736267235927359283579235789257\", \"32652983572985729\") "
   ]
  },
  {
   "cell_type": "markdown",
   "id": "585c249c",
   "metadata": {},
   "source": [
    "### 5. lPaeesh le pemu mnxit ehess rtnisg! Oh, sorry, that was supposed to say: Please help me unmix these strings!\n",
    "\n",
    "Somehow my strings have all become mixed up; every pair of characters has been swapped. Help me undo this so I can understand my strings again.\n",
    "\n",
    "Examples\n",
    "\n",
    "unmix(\"123456\") ➞ \"214365\"\n",
    "\n",
    "unmix(\"hTsii  s aimex dpus rtni.g\") ➞ \"This is a mixed up string.\"\n",
    "\n",
    "unmix(\"badce\") ➞ \"abcde\"\n"
   ]
  },
  {
   "cell_type": "code",
   "execution_count": 21,
   "id": "09df80ed",
   "metadata": {},
   "outputs": [],
   "source": [
    "def unmix(string):\n",
    "    unmix_string = \"\"\n",
    "    starting_idx = 0\n",
    "    for idx in range(2,len(string)+1,2):\n",
    "        ending_indx = idx\n",
    "        unmix_string += string[starting_idx:ending_indx][::-1]\n",
    "        starting_idx = idx\n",
    "    return unmix_string"
   ]
  },
  {
   "cell_type": "code",
   "execution_count": 22,
   "id": "815b39b6",
   "metadata": {},
   "outputs": [
    {
     "data": {
      "text/plain": [
       "'214365'"
      ]
     },
     "execution_count": 22,
     "metadata": {},
     "output_type": "execute_result"
    }
   ],
   "source": [
    "unmix(\"123456\")"
   ]
  },
  {
   "cell_type": "code",
   "execution_count": 23,
   "id": "e0966385",
   "metadata": {},
   "outputs": [
    {
     "data": {
      "text/plain": [
       "'This is a mixed up string.'"
      ]
     },
     "execution_count": 23,
     "metadata": {},
     "output_type": "execute_result"
    }
   ],
   "source": [
    "unmix(\"hTsii  s aimex dpus rtni.g\") "
   ]
  },
  {
   "cell_type": "code",
   "execution_count": 24,
   "id": "135aa657",
   "metadata": {},
   "outputs": [
    {
     "data": {
      "text/plain": [
       "'abcd'"
      ]
     },
     "execution_count": 24,
     "metadata": {},
     "output_type": "execute_result"
    }
   ],
   "source": [
    "unmix(\"badce\")"
   ]
  },
  {
   "cell_type": "code",
   "execution_count": 25,
   "id": "18282909",
   "metadata": {},
   "outputs": [
    {
     "data": {
      "text/plain": [
       "'Please help me unmix these strings'"
      ]
     },
     "execution_count": 25,
     "metadata": {},
     "output_type": "execute_result"
    }
   ],
   "source": [
    "unmix(\"lPaeesh le pemu mnxit ehess rtnisg!\")"
   ]
  }
 ],
 "metadata": {
  "kernelspec": {
   "display_name": "Python 3",
   "language": "python",
   "name": "python3"
  },
  "language_info": {
   "codemirror_mode": {
    "name": "ipython",
    "version": 3
   },
   "file_extension": ".py",
   "mimetype": "text/x-python",
   "name": "python",
   "nbconvert_exporter": "python",
   "pygments_lexer": "ipython3",
   "version": "3.8.8"
  }
 },
 "nbformat": 4,
 "nbformat_minor": 5
}
