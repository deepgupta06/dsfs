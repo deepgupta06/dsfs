{
 "cells": [
  {
   "cell_type": "markdown",
   "id": "bb6eb89c",
   "metadata": {},
   "source": [
    "# Python Advance Programming Assignment_13"
   ]
  },
  {
   "cell_type": "markdown",
   "id": "25057b73",
   "metadata": {},
   "source": [
    "### 1. Create a function that takes a list and string. The function should remove the letters in the string from the list, and return the list.\n",
    "\n",
    "Examples\n",
    "\n",
    "remove_letters([\"s\", \"t\", \"r\", \"i\", \"n\", \"g\", \"w\"], \"string\") ➞ [\"w\"]\n",
    "\n",
    "remove_letters([\"b\", \"b\", \"l\", \"l\", \"g\", \"n\", \"o\", \"a\", \"w\"], \"balloon\") ➞ [\"b\", \"g\", \"w\"]\n",
    "\n",
    "remove_letters([\"d\", \"b\", \"t\", \"e\", \"a\", \"i\"], \"edabit\") ➞ []\n"
   ]
  },
  {
   "cell_type": "code",
   "execution_count": 1,
   "id": "0dc2d966",
   "metadata": {},
   "outputs": [],
   "source": [
    "def remove_letters(input_list, string):\n",
    "    for i in string:\n",
    "        try:\n",
    "            input_list.pop(input_list.index(i))\n",
    "        except ValueError:\n",
    "            pass\n",
    "    return input_list"
   ]
  },
  {
   "cell_type": "code",
   "execution_count": 2,
   "id": "f31d159a",
   "metadata": {},
   "outputs": [
    {
     "data": {
      "text/plain": [
       "['b', 'g', 'w']"
      ]
     },
     "execution_count": 2,
     "metadata": {},
     "output_type": "execute_result"
    }
   ],
   "source": [
    "remove_letters([\"b\", \"b\", \"l\", \"l\", \"g\", \"n\", \"o\", \"a\", \"w\"], \"balloon\")"
   ]
  },
  {
   "cell_type": "code",
   "execution_count": 3,
   "id": "ab514748",
   "metadata": {},
   "outputs": [
    {
     "data": {
      "text/plain": [
       "['w']"
      ]
     },
     "execution_count": 3,
     "metadata": {},
     "output_type": "execute_result"
    }
   ],
   "source": [
    "remove_letters([\"s\", \"t\", \"r\", \"i\", \"n\", \"g\", \"w\"], \"string\") "
   ]
  },
  {
   "cell_type": "code",
   "execution_count": 4,
   "id": "b5aa6f10",
   "metadata": {},
   "outputs": [
    {
     "data": {
      "text/plain": [
       "[]"
      ]
     },
     "execution_count": 4,
     "metadata": {},
     "output_type": "execute_result"
    }
   ],
   "source": [
    "remove_letters([\"d\", \"b\", \"t\", \"e\", \"a\", \"i\"], \"edabit\") "
   ]
  },
  {
   "cell_type": "markdown",
   "id": "a928dd7c",
   "metadata": {},
   "source": [
    "### 2. A block sequence in three dimensions. We can write a formula for this one:\n",
    "\n",
    "<img src = \"block_img.PNG\"></img>\n",
    "\n",
    "Create a function that takes a number (step) as an argument and returns the amount of blocks in that step.\n",
    "\n",
    "Examples\n",
    "\n",
    "blocks(1) ➞ 5\n",
    "\n",
    "blocks(5) ➞ 39\n",
    "\n",
    "blocks(2) ➞ 12\n"
   ]
  },
  {
   "cell_type": "code",
   "execution_count": 5,
   "id": "a0bf21e4",
   "metadata": {},
   "outputs": [],
   "source": [
    "def blocks(num):\n",
    "    return int(((num**2)+(11*num)-2)/2)"
   ]
  },
  {
   "cell_type": "code",
   "execution_count": 6,
   "id": "8812f9c0",
   "metadata": {},
   "outputs": [
    {
     "data": {
      "text/plain": [
       "5"
      ]
     },
     "execution_count": 6,
     "metadata": {},
     "output_type": "execute_result"
    }
   ],
   "source": [
    "blocks(1)"
   ]
  },
  {
   "cell_type": "code",
   "execution_count": 7,
   "id": "befa18a1",
   "metadata": {},
   "outputs": [
    {
     "data": {
      "text/plain": [
       "12"
      ]
     },
     "execution_count": 7,
     "metadata": {},
     "output_type": "execute_result"
    }
   ],
   "source": [
    "blocks(2)"
   ]
  },
  {
   "cell_type": "code",
   "execution_count": 8,
   "id": "509bdaff",
   "metadata": {},
   "outputs": [
    {
     "data": {
      "text/plain": [
       "20"
      ]
     },
     "execution_count": 8,
     "metadata": {},
     "output_type": "execute_result"
    }
   ],
   "source": [
    "blocks(3)"
   ]
  },
  {
   "cell_type": "code",
   "execution_count": 9,
   "id": "151461fe",
   "metadata": {},
   "outputs": [
    {
     "data": {
      "text/plain": [
       "29"
      ]
     },
     "execution_count": 9,
     "metadata": {},
     "output_type": "execute_result"
    }
   ],
   "source": [
    "blocks(4)"
   ]
  },
  {
   "cell_type": "code",
   "execution_count": 10,
   "id": "629d43e3",
   "metadata": {},
   "outputs": [
    {
     "data": {
      "text/plain": [
       "39"
      ]
     },
     "execution_count": 10,
     "metadata": {},
     "output_type": "execute_result"
    }
   ],
   "source": [
    "blocks(5)"
   ]
  },
  {
   "cell_type": "code",
   "execution_count": 11,
   "id": "82083254",
   "metadata": {},
   "outputs": [
    {
     "data": {
      "text/plain": [
       "50"
      ]
     },
     "execution_count": 11,
     "metadata": {},
     "output_type": "execute_result"
    }
   ],
   "source": [
    "blocks(6)"
   ]
  },
  {
   "cell_type": "markdown",
   "id": "666aeb0e",
   "metadata": {},
   "source": [
    "### 3. Create a function that subtracts one positive integer from another, without using any arithmetic operators such as -, %, /, +, etc.\n",
    "\n",
    "Examples\n",
    "\n",
    "my_sub(5, 9) ➞ 4\n",
    "\n",
    "my_sub(10, 30) ➞ 20\n",
    "\n",
    "my_sub(0, 0) ➞ 0\n"
   ]
  },
  {
   "cell_type": "code",
   "execution_count": 12,
   "id": "b9f568e7",
   "metadata": {},
   "outputs": [],
   "source": [
    "def my_sub(x,y):\n",
    "    if x>y:\n",
    "        while y!=0:\n",
    "            temp = ~x & y\n",
    "            x = x^y\n",
    "            y=temp<<1\n",
    "        return x\n",
    "    else:\n",
    "        while x!=0:\n",
    "            temp = ~y & x\n",
    "            y = y^x\n",
    "            x=temp<<1\n",
    "        return y\n",
    "        "
   ]
  },
  {
   "cell_type": "code",
   "execution_count": 13,
   "id": "3d78aefb",
   "metadata": {},
   "outputs": [
    {
     "data": {
      "text/plain": [
       "4"
      ]
     },
     "execution_count": 13,
     "metadata": {},
     "output_type": "execute_result"
    }
   ],
   "source": [
    "my_sub(6,10)"
   ]
  },
  {
   "cell_type": "code",
   "execution_count": 14,
   "id": "e082a8ef",
   "metadata": {},
   "outputs": [
    {
     "data": {
      "text/plain": [
       "2"
      ]
     },
     "execution_count": 14,
     "metadata": {},
     "output_type": "execute_result"
    }
   ],
   "source": [
    "my_sub(5,7)"
   ]
  },
  {
   "cell_type": "markdown",
   "id": "cf6791a0",
   "metadata": {},
   "source": [
    "### 4. Create a function that takes a string containing money in dollars and pounds sterling (seperated by comma) and returns the sum of dollar bills only, as an integer.\n",
    "\n",
    "For the input string:\n",
    "\n",
    "   - Each amount is prefixed by the currency symbol: $ for dollars and £ for pounds.\n",
    "   - Thousands are represented by the suffix k.\n",
    "\n",
    "i.e. $4k = $4,000 and £40k = £40,000\n",
    "\n",
    "Examples\n",
    "\n",
    "add_bill(\"d20,p40,p60,d50\") ➞ 20 + 50 = 70\n",
    "\n",
    "add_bill(\"p30,d20,p60,d150,p360\") ➞ 20  + 150 = 170\n",
    "\n",
    "add_bill(\"p30,d2k,p60,d200,p360\") ➞ 2 * 1000 + 200 = 2200\n"
   ]
  },
  {
   "cell_type": "code",
   "execution_count": 15,
   "id": "207be184",
   "metadata": {},
   "outputs": [],
   "source": [
    "input_string = \"d20,p40,p60,d50\""
   ]
  },
  {
   "cell_type": "code",
   "execution_count": null,
   "id": "293aa6c8",
   "metadata": {},
   "outputs": [],
   "source": []
  },
  {
   "cell_type": "code",
   "execution_count": 16,
   "id": "0c103f18",
   "metadata": {},
   "outputs": [],
   "source": [
    "def add_bill(input_string):\n",
    "    only_d = [x.replace(\"d\", \"\") for x in input_string.split(\",\") if \"d\" in x]\n",
    "    for idx, item in enumerate(only_d):\n",
    "        if item[-1]==\"k\":\n",
    "            only_d[idx] = int(item[:-1])*1000\n",
    "        else:\n",
    "            only_d[idx] = int(item)\n",
    "    return sum(only_d)"
   ]
  },
  {
   "cell_type": "code",
   "execution_count": 17,
   "id": "e7d9acde",
   "metadata": {},
   "outputs": [
    {
     "data": {
      "text/plain": [
       "70"
      ]
     },
     "execution_count": 17,
     "metadata": {},
     "output_type": "execute_result"
    }
   ],
   "source": [
    "add_bill(input_string)"
   ]
  },
  {
   "cell_type": "code",
   "execution_count": 18,
   "id": "9547a981",
   "metadata": {},
   "outputs": [
    {
     "data": {
      "text/plain": [
       "170"
      ]
     },
     "execution_count": 18,
     "metadata": {},
     "output_type": "execute_result"
    }
   ],
   "source": [
    "add_bill(\"p30,d20,p60,d150,p360\") "
   ]
  },
  {
   "cell_type": "code",
   "execution_count": 19,
   "id": "92cc2f36",
   "metadata": {},
   "outputs": [
    {
     "data": {
      "text/plain": [
       "2200"
      ]
     },
     "execution_count": 19,
     "metadata": {},
     "output_type": "execute_result"
    }
   ],
   "source": [
    "add_bill(\"p30,d2k,p60,d200,p360\") "
   ]
  },
  {
   "cell_type": "markdown",
   "id": "1690a133",
   "metadata": {},
   "source": [
    "### 5. Create a function that flips a horizontal list into a vertical list, and a vertical list into a horizontal list.\n",
    "\n",
    "\n",
    "In other words, take an 1 x n list (1 row + n columns) and flip it into a n x 1 list (n rows and 1 column), and vice versa.\n",
    "\n",
    "Examples\n",
    "\n",
    "flip_list([1, 2, 3, 4]) ➞ [[1], [2], [3], [4]]\n",
    "\n",
    "$Take a horizontal list and flip it vertical.\n",
    "\n",
    "flip_list([[5], [6], [9]]) ➞ [5, 6, 9]\n",
    "\n",
    "$Take a vertical list and flip it horizontal.\n",
    "\n",
    "flip_list([]) ➞ []\n"
   ]
  },
  {
   "cell_type": "code",
   "execution_count": 20,
   "id": "187f3abc",
   "metadata": {},
   "outputs": [],
   "source": [
    "def flip_list(input_list):\n",
    "    try:\n",
    "        if type(input_list[0]) ==list:\n",
    "            fliped_list = []\n",
    "            for item in input_list:\n",
    "                for i in item:\n",
    "                    fliped_list.append(i)\n",
    "            return fliped_list\n",
    "        else:\n",
    "            fliped_list = []\n",
    "            for item in input_list:\n",
    "                fliped_list.append([item])\n",
    "            return fliped_list\n",
    "    except IndexError:\n",
    "        return []"
   ]
  },
  {
   "cell_type": "code",
   "execution_count": 21,
   "id": "af6db57d",
   "metadata": {},
   "outputs": [
    {
     "data": {
      "text/plain": [
       "[1, 2]"
      ]
     },
     "execution_count": 21,
     "metadata": {},
     "output_type": "execute_result"
    }
   ],
   "source": [
    "flip_list([[1],[2]])"
   ]
  },
  {
   "cell_type": "code",
   "execution_count": 22,
   "id": "0b782046",
   "metadata": {},
   "outputs": [
    {
     "data": {
      "text/plain": [
       "[[1], [2]]"
      ]
     },
     "execution_count": 22,
     "metadata": {},
     "output_type": "execute_result"
    }
   ],
   "source": [
    "flip_list([1,2])"
   ]
  },
  {
   "cell_type": "code",
   "execution_count": 23,
   "id": "0f3e5156",
   "metadata": {},
   "outputs": [
    {
     "data": {
      "text/plain": [
       "[5, 6, 9]"
      ]
     },
     "execution_count": 23,
     "metadata": {},
     "output_type": "execute_result"
    }
   ],
   "source": [
    "flip_list([[5], [6], [9]]) "
   ]
  },
  {
   "cell_type": "code",
   "execution_count": 24,
   "id": "5821d450",
   "metadata": {},
   "outputs": [
    {
     "data": {
      "text/plain": [
       "[]"
      ]
     },
     "execution_count": 24,
     "metadata": {},
     "output_type": "execute_result"
    }
   ],
   "source": [
    "flip_list([])"
   ]
  },
  {
   "cell_type": "code",
   "execution_count": null,
   "id": "fa4b1d8c",
   "metadata": {},
   "outputs": [],
   "source": []
  }
 ],
 "metadata": {
  "kernelspec": {
   "display_name": "Python 3",
   "language": "python",
   "name": "python3"
  },
  "language_info": {
   "codemirror_mode": {
    "name": "ipython",
    "version": 3
   },
   "file_extension": ".py",
   "mimetype": "text/x-python",
   "name": "python",
   "nbconvert_exporter": "python",
   "pygments_lexer": "ipython3",
   "version": "3.8.8"
  }
 },
 "nbformat": 4,
 "nbformat_minor": 5
}
