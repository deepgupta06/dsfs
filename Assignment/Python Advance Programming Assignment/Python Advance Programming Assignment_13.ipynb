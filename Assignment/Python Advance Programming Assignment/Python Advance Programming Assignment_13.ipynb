{
 "cells": [
  {
   "cell_type": "markdown",
   "id": "3868d2a1",
   "metadata": {},
   "source": [
    "# Python Advance Programming Assignment_13"
   ]
  },
  {
   "cell_type": "markdown",
   "id": "89fb0e79",
   "metadata": {},
   "source": [
    "### 1. Create a function that takes a list and string. The function should remove the letters in the string from the list, and return the list.\n",
    "\n",
    "Examples\n",
    "\n",
    "remove_letters([\"s\", \"t\", \"r\", \"i\", \"n\", \"g\", \"w\"], \"string\") ➞ [\"w\"]\n",
    "\n",
    "remove_letters([\"b\", \"b\", \"l\", \"l\", \"g\", \"n\", \"o\", \"a\", \"w\"], \"balloon\") ➞ [\"b\", \"g\", \"w\"]\n",
    "\n",
    "remove_letters([\"d\", \"b\", \"t\", \"e\", \"a\", \"i\"], \"edabit\") ➞ []\n"
   ]
  },
  {
   "cell_type": "code",
   "execution_count": null,
   "id": "44b44733",
   "metadata": {},
   "outputs": [],
   "source": [
    "def remove_letters(input_list, string):\n",
    "    for i in string:\n",
    "        try:\n",
    "            input_list.pop(input_list.index(i))\n",
    "        except ValueError:\n",
    "            pass\n",
    "    return input_list"
   ]
  },
  {
   "cell_type": "code",
   "execution_count": null,
   "id": "f9214e3f",
   "metadata": {},
   "outputs": [],
   "source": [
    "remove_letters([\"b\", \"b\", \"l\", \"l\", \"g\", \"n\", \"o\", \"a\", \"w\"], \"balloon\")"
   ]
  },
  {
   "cell_type": "code",
   "execution_count": null,
   "id": "5cea4c43",
   "metadata": {},
   "outputs": [],
   "source": [
    "remove_letters([\"s\", \"t\", \"r\", \"i\", \"n\", \"g\", \"w\"], \"string\") "
   ]
  },
  {
   "cell_type": "code",
   "execution_count": null,
   "id": "ef7658f0",
   "metadata": {},
   "outputs": [],
   "source": [
    "remove_letters([\"d\", \"b\", \"t\", \"e\", \"a\", \"i\"], \"edabit\") "
   ]
  },
  {
   "cell_type": "markdown",
   "id": "30655f5a",
   "metadata": {},
   "source": [
    "### 2. A block sequence in three dimensions. We can write a formula for this one:\n",
    "\n",
    "<img src = \"block_img.PNG\"></img>\n",
    "\n",
    "Create a function that takes a number (step) as an argument and returns the amount of blocks in that step.\n",
    "\n",
    "Examples\n",
    "\n",
    "blocks(1) ➞ 5\n",
    "\n",
    "blocks(5) ➞ 39\n",
    "\n",
    "blocks(2) ➞ 12\n"
   ]
  },
  {
   "cell_type": "code",
   "execution_count": null,
   "id": "214738fa",
   "metadata": {},
   "outputs": [],
   "source": [
    "def blocks(num):\n",
    "    return int(((num**2)+(11*num)-2)/2)"
   ]
  },
  {
   "cell_type": "code",
   "execution_count": null,
   "id": "9f9ec275",
   "metadata": {},
   "outputs": [],
   "source": [
    "blocks(1)"
   ]
  },
  {
   "cell_type": "code",
   "execution_count": null,
   "id": "96dd0b78",
   "metadata": {},
   "outputs": [],
   "source": [
    "blocks(2)"
   ]
  },
  {
   "cell_type": "code",
   "execution_count": null,
   "id": "59888fdd",
   "metadata": {},
   "outputs": [],
   "source": [
    "blocks(3)"
   ]
  },
  {
   "cell_type": "code",
   "execution_count": null,
   "id": "4f107387",
   "metadata": {},
   "outputs": [],
   "source": [
    "blocks(4)"
   ]
  },
  {
   "cell_type": "code",
   "execution_count": null,
   "id": "fc9b9f61",
   "metadata": {},
   "outputs": [],
   "source": [
    "blocks(5)"
   ]
  },
  {
   "cell_type": "code",
   "execution_count": null,
   "id": "19dbb7c1",
   "metadata": {},
   "outputs": [],
   "source": [
    "blocks(6)"
   ]
  },
  {
   "cell_type": "markdown",
   "id": "51ec0d5a",
   "metadata": {},
   "source": [
    "### 3. Create a function that subtracts one positive integer from another, without using any arithmetic operators such as -, %, /, +, etc.\n",
    "\n",
    "Examples\n",
    "\n",
    "my_sub(5, 9) ➞ 4\n",
    "\n",
    "my_sub(10, 30) ➞ 20\n",
    "\n",
    "my_sub(0, 0) ➞ 0\n"
   ]
  },
  {
   "cell_type": "code",
   "execution_count": 11,
   "id": "cdae1ff2",
   "metadata": {},
   "outputs": [],
   "source": [
    "def my_sub(x,y):\n",
    "    if x>y:\n",
    "        while y!=0:\n",
    "            temp = ~x & y\n",
    "            x = x^y\n",
    "            y=temp<<1\n",
    "        return x\n",
    "    else:\n",
    "        while x!=0:\n",
    "            temp = ~y & x\n",
    "            y = y^x\n",
    "            x=temp<<1\n",
    "        return y\n",
    "        "
   ]
  },
  {
   "cell_type": "code",
   "execution_count": 12,
   "id": "9f9d476f",
   "metadata": {},
   "outputs": [
    {
     "data": {
      "text/plain": [
       "4"
      ]
     },
     "execution_count": 12,
     "metadata": {},
     "output_type": "execute_result"
    }
   ],
   "source": [
    "my_sub(6,10)"
   ]
  },
  {
   "cell_type": "code",
   "execution_count": 13,
   "id": "4c36ca7c",
   "metadata": {},
   "outputs": [
    {
     "data": {
      "text/plain": [
       "2"
      ]
     },
     "execution_count": 13,
     "metadata": {},
     "output_type": "execute_result"
    }
   ],
   "source": [
    "my_sub(5,7)"
   ]
  },
  {
   "cell_type": "markdown",
   "id": "7cc472d9",
   "metadata": {},
   "source": [
    "### 4. Create a function that takes a string containing money in dollars and pounds sterling (seperated by comma) and returns the sum of dollar bills only, as an integer.\n",
    "\n",
    "For the input string:\n",
    "\n",
    "   - Each amount is prefixed by the currency symbol: $ for dollars and £ for pounds.\n",
    "   - Thousands are represented by the suffix k.\n",
    "\n",
    "i.e. $4k = $4,000 and £40k = £40,000\n",
    "\n",
    "Examples\n",
    "\n",
    "add_bill(\"d20,p40,p60,d50\") ➞ 20 + 50 = 70\n",
    "\n",
    "add_bill(\"p30,d20,p60,d150,p360\") ➞ 20  + 150 = 170\n",
    "\n",
    "add_bill(\"p30,d2k,p60,d200,p360\") ➞ 2 * 1000 + 200 = 2200\n"
   ]
  },
  {
   "cell_type": "code",
   "execution_count": 14,
   "id": "4e779c54",
   "metadata": {},
   "outputs": [],
   "source": [
    "input_string = \"d20,p40,p60,d50\""
   ]
  },
  {
   "cell_type": "code",
   "execution_count": 17,
   "id": "aade1e47",
   "metadata": {},
   "outputs": [],
   "source": []
  },
  {
   "cell_type": "code",
   "execution_count": 39,
   "id": "743113cb",
   "metadata": {},
   "outputs": [],
   "source": [
    "def add_bill(input_string):\n",
    "    only_d = [x.replace(\"d\", \"\") for x in input_string.split(\",\") if \"d\" in x]\n",
    "    for idx, item in enumerate(only_d):\n",
    "        if item[-1]==\"k\":\n",
    "            only_d[idx] = int(item[:-1])*1000\n",
    "        else:\n",
    "            only_d[idx] = int(item)\n",
    "    return sum(only_d)"
   ]
  },
  {
   "cell_type": "code",
   "execution_count": 40,
   "id": "8a011ff3",
   "metadata": {},
   "outputs": [
    {
     "data": {
      "text/plain": [
       "70"
      ]
     },
     "execution_count": 40,
     "metadata": {},
     "output_type": "execute_result"
    }
   ],
   "source": [
    "add_bill(input_string)"
   ]
  },
  {
   "cell_type": "code",
   "execution_count": 41,
   "id": "f5e6855b",
   "metadata": {},
   "outputs": [
    {
     "data": {
      "text/plain": [
       "170"
      ]
     },
     "execution_count": 41,
     "metadata": {},
     "output_type": "execute_result"
    }
   ],
   "source": [
    "add_bill(\"p30,d20,p60,d150,p360\") "
   ]
  },
  {
   "cell_type": "code",
   "execution_count": 42,
   "id": "f679dae6",
   "metadata": {},
   "outputs": [
    {
     "data": {
      "text/plain": [
       "2200"
      ]
     },
     "execution_count": 42,
     "metadata": {},
     "output_type": "execute_result"
    }
   ],
   "source": [
    "add_bill(\"p30,d2k,p60,d200,p360\") "
   ]
  },
  {
   "cell_type": "markdown",
   "id": "75de768c",
   "metadata": {},
   "source": [
    "### 5. Create a function that flips a horizontal list into a vertical list, and a vertical list into a horizontal list.\n",
    "\n",
    "\n",
    "In other words, take an 1 x n list (1 row + n columns) and flip it into a n x 1 list (n rows and 1 column), and vice versa.\n",
    "\n",
    "Examples\n",
    "\n",
    "flip_list([1, 2, 3, 4]) ➞ [[1], [2], [3], [4]]\n",
    "\n",
    "$Take a horizontal list and flip it vertical.\n",
    "\n",
    "flip_list([[5], [6], [9]]) ➞ [5, 6, 9]\n",
    "\n",
    "$Take a vertical list and flip it horizontal.\n",
    "\n",
    "flip_list([]) ➞ []\n"
   ]
  },
  {
   "cell_type": "code",
   "execution_count": 58,
   "id": "0ba87fb0",
   "metadata": {},
   "outputs": [],
   "source": [
    "def flip_list(input_list):\n",
    "    try:\n",
    "        if type(input_list[0]) ==list:\n",
    "            fliped_list = []\n",
    "            for item in input_list:\n",
    "                for i in item:\n",
    "                    fliped_list.append(i)\n",
    "            return fliped_list\n",
    "        else:\n",
    "            fliped_list = []\n",
    "            for item in input_list:\n",
    "                fliped_list.append([item])\n",
    "            return fliped_list\n",
    "    except IndexError:\n",
    "        return []"
   ]
  },
  {
   "cell_type": "code",
   "execution_count": 59,
   "id": "b3a5476b",
   "metadata": {},
   "outputs": [
    {
     "data": {
      "text/plain": [
       "[1, 2]"
      ]
     },
     "execution_count": 59,
     "metadata": {},
     "output_type": "execute_result"
    }
   ],
   "source": [
    "flip_list([[1],[2]])"
   ]
  },
  {
   "cell_type": "code",
   "execution_count": 60,
   "id": "581974c2",
   "metadata": {},
   "outputs": [
    {
     "data": {
      "text/plain": [
       "[[1], [2]]"
      ]
     },
     "execution_count": 60,
     "metadata": {},
     "output_type": "execute_result"
    }
   ],
   "source": [
    "flip_list([1,2])"
   ]
  },
  {
   "cell_type": "code",
   "execution_count": 61,
   "id": "2cfdd2ea",
   "metadata": {},
   "outputs": [
    {
     "data": {
      "text/plain": [
       "[5, 6, 9]"
      ]
     },
     "execution_count": 61,
     "metadata": {},
     "output_type": "execute_result"
    }
   ],
   "source": [
    "flip_list([[5], [6], [9]]) "
   ]
  },
  {
   "cell_type": "code",
   "execution_count": 62,
   "id": "51e4ed1e",
   "metadata": {},
   "outputs": [
    {
     "data": {
      "text/plain": [
       "[]"
      ]
     },
     "execution_count": 62,
     "metadata": {},
     "output_type": "execute_result"
    }
   ],
   "source": [
    "flip_list([])"
   ]
  },
  {
   "cell_type": "code",
   "execution_count": null,
   "id": "e4afe8c2",
   "metadata": {},
   "outputs": [],
   "source": []
  }
 ],
 "metadata": {
  "kernelspec": {
   "display_name": "Python 3",
   "language": "python",
   "name": "python3"
  },
  "language_info": {
   "codemirror_mode": {
    "name": "ipython",
    "version": 3
   },
   "file_extension": ".py",
   "mimetype": "text/x-python",
   "name": "python",
   "nbconvert_exporter": "python",
   "pygments_lexer": "ipython3",
   "version": "3.8.8"
  }
 },
 "nbformat": 4,
 "nbformat_minor": 5
}
