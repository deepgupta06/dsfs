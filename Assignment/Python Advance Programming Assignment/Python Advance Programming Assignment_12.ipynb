{
 "cells": [
  {
   "cell_type": "markdown",
   "id": "2edcc6f4",
   "metadata": {},
   "source": [
    "# Python Advance Programming Assignment_12"
   ]
  },
  {
   "cell_type": "markdown",
   "id": "87899242",
   "metadata": {},
   "source": [
    "### 1. For this challenge, forget how to add two numbers together. The best explanation on what to do for this function is this meme:\n",
    "\n",
    "<img src =\"add_meme.PNG\"></img>\n",
    "\n",
    "Examples\n",
    "\n",
    "meme_sum(26, 39) ➞ 515\n",
    "\n",
    "$ 2+3 = 5, 6+9 = 15\n",
    "\n",
    "$ 26 + 39 = 515\n",
    "\n",
    "meme_sum(122, 81) ➞ 1103\n",
    "\n",
    "$ 1+0 = 1, 2+8 = 10, 2+1 = 3\n",
    "\n",
    "$ 122 + 81 = 1103\n",
    "\n",
    "meme_sum(1222, 30277) ➞ 31499\n",
    "\n"
   ]
  },
  {
   "cell_type": "code",
   "execution_count": 1,
   "id": "27777316",
   "metadata": {},
   "outputs": [],
   "source": [
    "def meme_sum(first_number, second_number):\n",
    "    max_length = max(len(str(first_number)), len(str(second_number)))\n",
    "    add_number = []\n",
    "    for i in range(1,max_length+1):\n",
    "        try:\n",
    "            digit_of_first_number = str(first_number)[-i]\n",
    "        except IndexError:\n",
    "            digit_of_first_number = str(0)\n",
    "        try:\n",
    "            digit_of_sec_number = str(second_number)[-i]\n",
    "        except IndexError:\n",
    "            digit_of_sec_number = str(0)\n",
    "        add_number.append(str(int(digit_of_first_number)+int(digit_of_sec_number)))\n",
    "    add_number.reverse()\n",
    "    output = \"\".join(add_number)\n",
    "    return int(output)"
   ]
  },
  {
   "cell_type": "code",
   "execution_count": 2,
   "id": "6422bb5e",
   "metadata": {},
   "outputs": [
    {
     "data": {
      "text/plain": [
       "515"
      ]
     },
     "execution_count": 2,
     "metadata": {},
     "output_type": "execute_result"
    }
   ],
   "source": [
    "meme_sum(26,39)"
   ]
  },
  {
   "cell_type": "code",
   "execution_count": 3,
   "id": "41f11993",
   "metadata": {},
   "outputs": [
    {
     "data": {
      "text/plain": [
       "1103"
      ]
     },
     "execution_count": 3,
     "metadata": {},
     "output_type": "execute_result"
    }
   ],
   "source": [
    "meme_sum(122, 81)"
   ]
  },
  {
   "cell_type": "code",
   "execution_count": 4,
   "id": "300f0d8f",
   "metadata": {},
   "outputs": [
    {
     "data": {
      "text/plain": [
       "31499"
      ]
     },
     "execution_count": 4,
     "metadata": {},
     "output_type": "execute_result"
    }
   ],
   "source": [
    "meme_sum(1222, 30277)"
   ]
  },
  {
   "cell_type": "markdown",
   "id": "c640d44e",
   "metadata": {},
   "source": [
    "### 2. Given an integer, create a function that returns the next prime. If the number is prime, return the number itself.\n",
    "\n",
    "Examples\n",
    "\n",
    "next_prime(12) ➞ 13\n",
    "\n",
    "next_prime(24) ➞ 29\n",
    "\n",
    "next_prime(11) ➞ 11\n",
    "\n",
    "$ 11 is a prime, so we return the number itself.\n"
   ]
  },
  {
   "cell_type": "code",
   "execution_count": 5,
   "id": "b1eec2d8",
   "metadata": {},
   "outputs": [],
   "source": [
    "def isprimenumber(num):\n",
    "    checker = False\n",
    "    if num>1:\n",
    "        for i in range(2, num):\n",
    "            if num%i==0:\n",
    "                checker = True\n",
    "        if checker==True:\n",
    "            pass\n",
    "        else:\n",
    "            return True"
   ]
  },
  {
   "cell_type": "code",
   "execution_count": 6,
   "id": "e391f9e8",
   "metadata": {},
   "outputs": [],
   "source": [
    "def next_prime(input_number):\n",
    "    if isprimenumber(input_number):\n",
    "        return input_number\n",
    "    while isprimenumber(input_number) != True:\n",
    "        input_number += 1\n",
    "        if isprimenumber(input_number):\n",
    "            return input_number"
   ]
  },
  {
   "cell_type": "code",
   "execution_count": 7,
   "id": "4e136e54",
   "metadata": {},
   "outputs": [
    {
     "data": {
      "text/plain": [
       "11"
      ]
     },
     "execution_count": 7,
     "metadata": {},
     "output_type": "execute_result"
    }
   ],
   "source": [
    "next_prime(11)"
   ]
  },
  {
   "cell_type": "code",
   "execution_count": 8,
   "id": "d9eb0efe",
   "metadata": {},
   "outputs": [
    {
     "data": {
      "text/plain": [
       "13"
      ]
     },
     "execution_count": 8,
     "metadata": {},
     "output_type": "execute_result"
    }
   ],
   "source": [
    "next_prime(12)"
   ]
  },
  {
   "cell_type": "code",
   "execution_count": 9,
   "id": "fd7dbf9f",
   "metadata": {},
   "outputs": [
    {
     "data": {
      "text/plain": [
       "29"
      ]
     },
     "execution_count": 9,
     "metadata": {},
     "output_type": "execute_result"
    }
   ],
   "source": [
    "next_prime(24)"
   ]
  },
  {
   "cell_type": "code",
   "execution_count": 10,
   "id": "9456be86",
   "metadata": {},
   "outputs": [
    {
     "data": {
      "text/plain": [
       "479"
      ]
     },
     "execution_count": 10,
     "metadata": {},
     "output_type": "execute_result"
    }
   ],
   "source": [
    "next_prime(476)"
   ]
  },
  {
   "cell_type": "markdown",
   "id": "6b416356",
   "metadata": {},
   "source": [
    "### 3. If a person traveled up a hill for 18mins at 20mph and then traveled back down the same path at 60mph then their average speed traveled was 30mph.\n",
    "\n",
    "Write a function that returns the average speed traveled given an uphill time, uphill rate and a downhill rate. Uphill time is given in minutes. Return the rate as an integer (mph). No rounding is necessary.\n",
    "\n",
    "Examples\n",
    "\n",
    "ave_spd(18, 20, 60) ➞ 30\n",
    "\n",
    "ave_spd(30, 10, 30) ➞ 15\n",
    "\n",
    "ave_spd(30, 8, 24) ➞ 12\n"
   ]
  },
  {
   "cell_type": "code",
   "execution_count": 11,
   "id": "4ec654e6",
   "metadata": {},
   "outputs": [],
   "source": [
    "def ave_spd(uphill_time, up_speed, down_speed):\n",
    "    uphill_time_in_hour = uphill_time/60\n",
    "    distance_covered = up_speed*uphill_time_in_hour\n",
    "    downhill_time_in_hour = distance_covered/down_speed\n",
    "    total_time = uphill_time_in_hour + downhill_time_in_hour\n",
    "    average_speed = (distance_covered*2)/total_time\n",
    "    return average_speed"
   ]
  },
  {
   "cell_type": "code",
   "execution_count": 12,
   "id": "779286cf",
   "metadata": {},
   "outputs": [
    {
     "data": {
      "text/plain": [
       "30.0"
      ]
     },
     "execution_count": 12,
     "metadata": {},
     "output_type": "execute_result"
    }
   ],
   "source": [
    "ave_spd(18,20,60)"
   ]
  },
  {
   "cell_type": "code",
   "execution_count": 13,
   "id": "b1169df4",
   "metadata": {},
   "outputs": [
    {
     "data": {
      "text/plain": [
       "15.0"
      ]
     },
     "execution_count": 13,
     "metadata": {},
     "output_type": "execute_result"
    }
   ],
   "source": [
    "ave_spd(30,10,30)"
   ]
  },
  {
   "cell_type": "code",
   "execution_count": 14,
   "id": "fa6b35f0",
   "metadata": {},
   "outputs": [
    {
     "data": {
      "text/plain": [
       "12.0"
      ]
     },
     "execution_count": 14,
     "metadata": {},
     "output_type": "execute_result"
    }
   ],
   "source": [
    "ave_spd(30,8,24)"
   ]
  },
  {
   "cell_type": "markdown",
   "id": "4581fa50",
   "metadata": {},
   "source": [
    "### 4. The Kempner Function, applied to a composite number, permits to find the smallest integer greater than zero whose factorial is exactly divided by the number.\n",
    "\n",
    "kempner(6) ➞ 3\n",
    "\n",
    "1! = 1 % 6 > 0\n",
    "2! = 2 % 6 > 0\n",
    "3! = 6 % 6 === 0\n",
    "\n",
    "kempner(10) ➞ 5\n",
    "\n",
    "1! = 1 % 10 > 0\n",
    "2! = 2 % 10 > 0\n",
    "3! = 6 % 10 > 0\n",
    "4! = 24 % 10 > 0\n",
    "5! = 120 % 10 === 0\n",
    "\n",
    "A Kempner Function applied to a prime will always return the prime itself.\n",
    "\n",
    "kempner(2) ➞ 2\n",
    "kempner(5) ➞ 5\n",
    "\n",
    "Given an integer n, implement a Kempner Function.\n",
    "\n",
    "Examples\n",
    "\n",
    "kempner(6) ➞ 3\n",
    "\n",
    "kempner(10) ➞ 5\n",
    "\n",
    "kempner(2) ➞ 2\n"
   ]
  },
  {
   "cell_type": "code",
   "execution_count": 15,
   "id": "d0941e79",
   "metadata": {},
   "outputs": [],
   "source": [
    "def getFactorial(num):\n",
    "    result = 1\n",
    "    for i in range(1,num+1):\n",
    "        result = result*i\n",
    "    return result\n",
    "\n",
    "def isprimenumber(num):\n",
    "    checker = False\n",
    "    if num>1:\n",
    "        for i in range(2, num):\n",
    "            if num%i==0:\n",
    "                checker = True\n",
    "        if checker==True:\n",
    "            pass\n",
    "        else:\n",
    "            return True\n",
    "\n",
    "def kempner(input_number):\n",
    "    if isprimenumber(input_number):\n",
    "        return input_number\n",
    "    else:\n",
    "        for i in range(1, input_number+1):\n",
    "            if getFactorial(i)%input_number ==0:\n",
    "                return i\n",
    "    "
   ]
  },
  {
   "cell_type": "code",
   "execution_count": 16,
   "id": "e6e653a4",
   "metadata": {},
   "outputs": [
    {
     "data": {
      "text/plain": [
       "5"
      ]
     },
     "execution_count": 16,
     "metadata": {},
     "output_type": "execute_result"
    }
   ],
   "source": [
    "kempner(10)"
   ]
  },
  {
   "cell_type": "code",
   "execution_count": 17,
   "id": "e793e451",
   "metadata": {},
   "outputs": [
    {
     "data": {
      "text/plain": [
       "3"
      ]
     },
     "execution_count": 17,
     "metadata": {},
     "output_type": "execute_result"
    }
   ],
   "source": [
    "kempner(6)"
   ]
  },
  {
   "cell_type": "code",
   "execution_count": 18,
   "id": "7f2d840b",
   "metadata": {},
   "outputs": [
    {
     "data": {
      "text/plain": [
       "10"
      ]
     },
     "execution_count": 18,
     "metadata": {},
     "output_type": "execute_result"
    }
   ],
   "source": [
    "kempner(25)"
   ]
  },
  {
   "cell_type": "markdown",
   "id": "d4f439f2",
   "metadata": {},
   "source": [
    "### 5. You work in a factory, and your job is to take items from a conveyor belt and pack them into boxes. Each box can hold a maximum of 10 kgs. Given a list containing the weight (in kg) of each item, how many boxes would you need to pack all of the items?\n",
    "\n",
    "Example\n",
    "\n",
    "boxes([2, 1, 2, 5, 4, 3, 6, 1, 1, 9, 3, 2]) ➞ 5\n",
    "\n",
    "$ Box 1 = [2, 1, 2, 5] (10kg)\n",
    "\n",
    "$ Box 2 = [4, 3] (7kg)\n",
    "\n",
    "$ Box 3 = [6, 1, 1] (8kg)\n",
    "\n",
    "$ Box 4 = [9] (9kg)\n",
    "\n",
    "$ Box 5 = [3, 2] (5kg)\n"
   ]
  },
  {
   "cell_type": "code",
   "execution_count": 19,
   "id": "033d5c50",
   "metadata": {},
   "outputs": [],
   "source": [
    "def boxes(input_list):\n",
    "    starting_pos = 0\n",
    "    ending_pos = 1\n",
    "    box_count = 0\n",
    "    while ending_pos != len(input_list)+1:\n",
    "        for i in range(starting_pos, ending_pos):\n",
    "            total_sum = sum(input_list[starting_pos:ending_pos])\n",
    "            if total_sum == 10:\n",
    "                starting_pos = ending_pos\n",
    "                ending_pos += 1\n",
    "                box_count += 1\n",
    "            elif total_sum>10:\n",
    "                starting_pos = ending_pos-1\n",
    "                ending_pos += 1\n",
    "                box_count += 1\n",
    "\n",
    "            elif ending_pos == len(input_list)+1 and total_sum<10:\n",
    "                box_count += 1\n",
    "\n",
    "            else:\n",
    "                ending_pos +=1\n",
    "    return box_count"
   ]
  },
  {
   "cell_type": "code",
   "execution_count": 20,
   "id": "aa1a3a3a",
   "metadata": {},
   "outputs": [
    {
     "data": {
      "text/plain": [
       "3"
      ]
     },
     "execution_count": 20,
     "metadata": {},
     "output_type": "execute_result"
    }
   ],
   "source": [
    "boxes([1,2,3,4,5,6])"
   ]
  },
  {
   "cell_type": "code",
   "execution_count": 21,
   "id": "7b86241c",
   "metadata": {},
   "outputs": [
    {
     "data": {
      "text/plain": [
       "5"
      ]
     },
     "execution_count": 21,
     "metadata": {},
     "output_type": "execute_result"
    }
   ],
   "source": [
    "boxes([2, 1, 2, 5, 4, 3, 6, 1, 1, 9, 3, 2]) "
   ]
  }
 ],
 "metadata": {
  "kernelspec": {
   "display_name": "Python 3",
   "language": "python",
   "name": "python3"
  },
  "language_info": {
   "codemirror_mode": {
    "name": "ipython",
    "version": 3
   },
   "file_extension": ".py",
   "mimetype": "text/x-python",
   "name": "python",
   "nbconvert_exporter": "python",
   "pygments_lexer": "ipython3",
   "version": "3.8.8"
  }
 },
 "nbformat": 4,
 "nbformat_minor": 5
}
