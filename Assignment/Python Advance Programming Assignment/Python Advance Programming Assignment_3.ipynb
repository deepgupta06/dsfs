{
 "cells": [
  {
   "cell_type": "markdown",
   "id": "fe632d4b",
   "metadata": {},
   "source": [
    "# Python Advance Programming Assignment_3.ipynb"
   ]
  },
  {
   "cell_type": "markdown",
   "id": "3db7d9c9",
   "metadata": {},
   "source": [
    "### 1. Create a function to perform basic arithmetic operations that includes addition, subtraction, multiplication and division on a string number (e.g. \"12 + 24\" or \"23 - 21\" or \"12 // 12\" or \"12 * 21\").\n",
    "\n",
    "Here, we have 1 followed by a space, operator followed by another space and 2. For the challenge, we are going to have only two numbers between 1 valid operator. The return value should be a number.\n",
    "\n",
    "eval() is not allowed. In case of division, whenever the second number equals \"0\" return -1.\n",
    "\n",
    "For example:\n",
    "\n",
    "\"15 // 0\"  ➞ -1\n",
    "\n",
    "Examples\n",
    "\n",
    "arithmetic_operation(\"12 + 12\") ➞ 24 // 12 + 12 = 24\n",
    "\n",
    "arithmetic_operation(\"12 - 12\") ➞ 24 // 12 - 12 = 0\n",
    "\n",
    "arithmetic_operation(\"12 * 12\") ➞ 144 // 12 * 12 = 144\n",
    "\n",
    "arithmetic_operation(\"12 // 0\") ➞ -1 // 12 / 0 = -1\n"
   ]
  },
  {
   "cell_type": "code",
   "execution_count": 1,
   "id": "93bd87a3",
   "metadata": {},
   "outputs": [],
   "source": [
    "def addition(a, b):\n",
    "    result = a + b\n",
    "    return result\n",
    "\n",
    "def division(a, b):\n",
    "    result = a // b\n",
    "    return result\n",
    "\n",
    "def subtraction(a, b):\n",
    "    result = a - b\n",
    "    return result\n",
    "\n",
    "def multiplication(a, b):\n",
    "    result = a * b\n",
    "    return result"
   ]
  },
  {
   "cell_type": "code",
   "execution_count": 2,
   "id": "c45b1d66",
   "metadata": {},
   "outputs": [],
   "source": [
    "def arithmetic_operation(expression_string):\n",
    "    \"\"\"This function will performe an arithmetic operation of a string number.\n",
    "    Note:In the input expression string operator should be space separeted both right and left side,\n",
    "    In case of division, whenever the second number equals \"0\" return -1\"\"\"\n",
    "    arithmetic_operator = [\"+\", \"-\", \"*\", \"//\"]\n",
    "    number_list = []\n",
    "    for operator in arithmetic_operator:\n",
    "        if operator in expression_string:\n",
    "            for number in (expression_string.split(operator)):\n",
    "                number_list.append(int(number.strip()))\n",
    "            if operator == \"+\":\n",
    "                return addition(number_list[0], number_list[1])\n",
    "            elif operator == \"-\":\n",
    "                return subtraction(number_list[0], number_list[1])\n",
    "            elif operator == \"*\":\n",
    "                return multiplication(number_list[0], number_list[1])\n",
    "            elif operator == \"//\":\n",
    "                if number_list[1]==0:\n",
    "                    return -1\n",
    "                else:\n",
    "                    return division(number_list[0], number_list[1])\n",
    "            "
   ]
  },
  {
   "cell_type": "code",
   "execution_count": 3,
   "id": "6e6a2aab",
   "metadata": {},
   "outputs": [
    {
     "data": {
      "text/plain": [
       "0"
      ]
     },
     "execution_count": 3,
     "metadata": {},
     "output_type": "execute_result"
    }
   ],
   "source": [
    "arithmetic_operation(\"12 - 12\") "
   ]
  },
  {
   "cell_type": "code",
   "execution_count": 4,
   "id": "77fb63fa",
   "metadata": {},
   "outputs": [
    {
     "data": {
      "text/plain": [
       "144"
      ]
     },
     "execution_count": 4,
     "metadata": {},
     "output_type": "execute_result"
    }
   ],
   "source": [
    "arithmetic_operation(\"12 * 12\")"
   ]
  },
  {
   "cell_type": "code",
   "execution_count": 5,
   "id": "9489f52e",
   "metadata": {},
   "outputs": [
    {
     "data": {
      "text/plain": [
       "-1"
      ]
     },
     "execution_count": 5,
     "metadata": {},
     "output_type": "execute_result"
    }
   ],
   "source": [
    "arithmetic_operation(\"12 // 0\")"
   ]
  },
  {
   "cell_type": "markdown",
   "id": "75c57dc9",
   "metadata": {},
   "source": [
    "### 2. Write a function that takes the coordinates of three points in the form of a 2d array and returns the perimeter of the triangle. The given points are the vertices of a triangle on a two-dimensional plane.\n",
    "\n",
    "Examples\n",
    "\n",
    "perimeter( [ [15, 7], [5, 22], [11, 1] ] ) ➞ 47.08\n",
    "\n",
    "perimeter( [ [0, 0], [0, 1], [1, 0] ] ) ➞ 3.42\n",
    "\n",
    "perimeter( [ [-10, -10], [10, 10 ], [-10, 10] ] ) ➞ 68.28\n"
   ]
  },
  {
   "cell_type": "code",
   "execution_count": 6,
   "id": "4a145182",
   "metadata": {},
   "outputs": [],
   "source": [
    "input_list =[ [15, 7], [5, 22], [11, 1] ]"
   ]
  },
  {
   "cell_type": "code",
   "execution_count": 7,
   "id": "c1849585",
   "metadata": {},
   "outputs": [],
   "source": [
    "def perimeter(list_of_coordinates):\n",
    "    \"\"\"This function will take coordinates of three points in \n",
    "    the form 2d array and as a return it will give us perimeter of the triangle\"\"\"\n",
    "    side_a = ((list_of_coordinates[1][0]-list_of_coordinates[0][0])**2+((list_of_coordinates[1][1]-list_of_coordinates[0][1])**2))**.5\n",
    "    side_b = ((list_of_coordinates[2][0]-list_of_coordinates[1][0])**2+((list_of_coordinates[2][1]-list_of_coordinates[1][1])**2))**.5\n",
    "    side_c = ((list_of_coordinates[2][0]-list_of_coordinates[0][0])**2+((list_of_coordinates[2][1]-list_of_coordinates[0][1])**2))**.5\n",
    "    return round(side_a+side_b+side_c, 2)\n"
   ]
  },
  {
   "cell_type": "code",
   "execution_count": 8,
   "id": "b74dd05b",
   "metadata": {},
   "outputs": [
    {
     "data": {
      "text/plain": [
       "47.08"
      ]
     },
     "execution_count": 8,
     "metadata": {},
     "output_type": "execute_result"
    }
   ],
   "source": [
    "perimeter([ [15, 7], [5, 22], [11, 1] ])"
   ]
  },
  {
   "cell_type": "code",
   "execution_count": 9,
   "id": "e870a119",
   "metadata": {},
   "outputs": [
    {
     "data": {
      "text/plain": [
       "3.41"
      ]
     },
     "execution_count": 9,
     "metadata": {},
     "output_type": "execute_result"
    }
   ],
   "source": [
    "perimeter( [ [0, 0], [0, 1], [1, 0] ] )"
   ]
  },
  {
   "cell_type": "code",
   "execution_count": 10,
   "id": "2fb4ea9a",
   "metadata": {},
   "outputs": [
    {
     "data": {
      "text/plain": [
       "68.28"
      ]
     },
     "execution_count": 10,
     "metadata": {},
     "output_type": "execute_result"
    }
   ],
   "source": [
    "perimeter( [ [-10, -10], [10, 10 ], [-10, 10] ] )"
   ]
  },
  {
   "cell_type": "markdown",
   "id": "7392ecf1",
   "metadata": {},
   "source": [
    "### 3. A city skyline can be represented as a 2-D list with 1s representing buildings. In the example below, the height of the tallest building is 4 (second-most right column).\n",
    "\n",
    "[[0, 0, 0, 0, 0, 0],\n",
    "[0, 0, 0, 0, 1, 0],\n",
    "[0, 0, 1, 0, 1, 0],\n",
    "[0, 1, 1, 1, 1, 0],\n",
    "[1, 1, 1, 1, 1, 1]]\n",
    "\n",
    "Create a function that takes a skyline (2-D list of 0's and 1's) and returns the height of the tallest skyscraper.\n",
    "\n",
    "Examples\n",
    "\n",
    "tallest_skyscraper([\n",
    "  [0, 0, 0, 0],\n",
    "  [0, 1, 0, 0],\n",
    "  [0, 1, 1, 0],\n",
    "  [1, 1, 1, 1]\n",
    "]) ➞ 3\n",
    "\n",
    "tallest_skyscraper([\n",
    "  [0, 1, 0, 0],\n",
    "  [0, 1, 0, 0],\n",
    "  [0, 1, 1, 0],\n",
    "  [1, 1, 1, 1]\n",
    "]) ➞ 4\n",
    "\n",
    "tallest_skyscraper([\n",
    "  [0, 0, 0, 0],\n",
    "  [0, 0, 0, 0],\n",
    "  [1, 1, 1, 0],\n",
    "  [1, 1, 1, 1]\n",
    "]) ➞ 2\n"
   ]
  },
  {
   "cell_type": "code",
   "execution_count": 11,
   "id": "9ca624a4",
   "metadata": {},
   "outputs": [],
   "source": [
    "def tallest_skyscraper(input_list):\n",
    "    tallest_count = {}\n",
    "    for idx_i in range(len(input_list)):\n",
    "        for idx_j in range(len(input_list[idx_i])):\n",
    "            if input_list[idx_i][idx_j]==1:\n",
    "                try:\n",
    "                    tallest_count[idx_j] = tallest_count[idx_j]+1\n",
    "                except:\n",
    "                    tallest_count[idx_j]=0\n",
    "                    tallest_count[idx_j] = tallest_count[idx_j]+1\n",
    "            else:\n",
    "                pass\n",
    "    return max(tallest_count.values())"
   ]
  },
  {
   "cell_type": "code",
   "execution_count": 12,
   "id": "3f898eda",
   "metadata": {},
   "outputs": [
    {
     "data": {
      "text/plain": [
       "3"
      ]
     },
     "execution_count": 12,
     "metadata": {},
     "output_type": "execute_result"
    }
   ],
   "source": [
    "tallest_skyscraper([ [0, 0, 0, 0], [0, 1, 0, 0], [0, 1, 1, 0], [1, 1, 1, 1] ])"
   ]
  },
  {
   "cell_type": "code",
   "execution_count": 13,
   "id": "08f48d24",
   "metadata": {},
   "outputs": [
    {
     "data": {
      "text/plain": [
       "4"
      ]
     },
     "execution_count": 13,
     "metadata": {},
     "output_type": "execute_result"
    }
   ],
   "source": [
    "tallest_skyscraper([ [0, 1, 0, 0], [0, 1, 0, 0], [0, 1, 1, 0], [1, 1, 1, 1] ])"
   ]
  },
  {
   "cell_type": "code",
   "execution_count": 14,
   "id": "3c4a43f8",
   "metadata": {},
   "outputs": [
    {
     "data": {
      "text/plain": [
       "2"
      ]
     },
     "execution_count": 14,
     "metadata": {},
     "output_type": "execute_result"
    }
   ],
   "source": [
    "tallest_skyscraper([ [0, 0, 0, 0], [0, 0, 0, 0], [1, 1, 1, 0], [1, 1, 1, 1] ])"
   ]
  },
  {
   "cell_type": "markdown",
   "id": "68edbf63",
   "metadata": {},
   "source": [
    "### 4. A financial institution provides professional services to banks and claims charges from the customers based on the number of man-days provided. Internally, it has set a scheme to motivate and reward staff to meet and exceed targeted billable utilization and revenues by paying a bonus for each day claimed from customers in excess of a threshold target.\n",
    "\n",
    "This quarterly scheme is calculated with a threshold target of 32 days per quarter, and the incentive payment for each billable day in excess of such threshold target is shown as follows:\n",
    "\n",
    "<table style=\"width:30%\">\n",
    "  <tr>\n",
    "    <th>Day</th>\n",
    "    <th>Bonus</th>\n",
    "  </tr>\n",
    "  <tr>\n",
    "    <td>0 to 32 days</td>\n",
    "    <td>Zero</td>\n",
    "  </tr>\n",
    "  <tr>\n",
    "    <td>33 to 40 days</td>\n",
    "    <td>SGD-325 per billable day</td>\n",
    "  </tr>\n",
    "  <tr>\n",
    "    <td>41 to 48 days</td>\n",
    "    <td>SGD-550 per billable day</td>\n",
    "  </tr>\n",
    "  <tr>\n",
    "    <td>Greater than 48 days</td>\n",
    "    <td>SGD-600 per billable day</td>\n",
    "  </tr>\n",
    "</table>\n",
    "Please note that incentive payment is calculated progressively. As an example, if an employee reached total billable days of 45 in a quarter, his/her incentive payment is computed as follows:\n",
    "\n",
    "<p>32*0 + 8*325 + 5*550 = 5350</p>\n",
    "\n",
    "Write a function to read the billable days of an employee and return the bonus he/she has obtained in that quarter.\n",
    "\n",
    "Examples\n",
    "\n",
    "bonus(15) ➞ 0\n",
    "\n",
    "bonus(37) ➞ 1625\n",
    "\n",
    "bonus(50) ➞ 8200\n"
   ]
  },
  {
   "cell_type": "code",
   "execution_count": 15,
   "id": "e3036d59",
   "metadata": {},
   "outputs": [],
   "source": [
    "def bonus(billable_day):\n",
    "    if billable_day<33:\n",
    "        return 0\n",
    "    elif billable_day>32 and billable_day<41:\n",
    "        return (billable_day-32)*325\n",
    "    elif billable_day>40 and billable_day<49:\n",
    "        return 2600+(billable_day-40)*550\n",
    "    elif billable_day>48:\n",
    "        return 2600+4400+(billable_day-48)*600"
   ]
  },
  {
   "cell_type": "code",
   "execution_count": 16,
   "id": "65c53dba",
   "metadata": {},
   "outputs": [
    {
     "data": {
      "text/plain": [
       "0"
      ]
     },
     "execution_count": 16,
     "metadata": {},
     "output_type": "execute_result"
    }
   ],
   "source": [
    "bonus(15)"
   ]
  },
  {
   "cell_type": "code",
   "execution_count": 17,
   "id": "15aeab74",
   "metadata": {},
   "outputs": [
    {
     "data": {
      "text/plain": [
       "1625"
      ]
     },
     "execution_count": 17,
     "metadata": {},
     "output_type": "execute_result"
    }
   ],
   "source": [
    "bonus(37)"
   ]
  },
  {
   "cell_type": "code",
   "execution_count": 18,
   "id": "13a79f8a",
   "metadata": {},
   "outputs": [
    {
     "data": {
      "text/plain": [
       "8200"
      ]
     },
     "execution_count": 18,
     "metadata": {},
     "output_type": "execute_result"
    }
   ],
   "source": [
    "bonus(50)"
   ]
  },
  {
   "cell_type": "code",
   "execution_count": 19,
   "id": "6bb511d6",
   "metadata": {},
   "outputs": [
    {
     "data": {
      "text/plain": [
       "5350"
      ]
     },
     "execution_count": 19,
     "metadata": {},
     "output_type": "execute_result"
    }
   ],
   "source": [
    "bonus(45)"
   ]
  },
  {
   "cell_type": "markdown",
   "id": "0c9ea56d",
   "metadata": {},
   "source": [
    "### 5. A number is said to be Disarium if the sum of its digits raised to their respective positions is the number itself.\n",
    "\n",
    "Create a function that determines whether a number is a Disarium or not.\n",
    "\n",
    "Examples\n",
    "\n",
    "is_disarium(75) ➞ False\n",
    "#7^1 + 5^2 = 7 + 25 = 32\n",
    "\n",
    "is_disarium(135) ➞ True\n",
    "#1^1 + 3^2 + 5^3 = 1 + 9 + 125 = 135\n",
    "\n",
    "is_disarium(544) ➞ False\n",
    "\n",
    "is_disarium(518) ➞ True\n",
    "\n",
    "is_disarium(466) ➞ False\n",
    "\n",
    "is_disarium(8) ➞ True\n",
    "\n"
   ]
  },
  {
   "cell_type": "code",
   "execution_count": 20,
   "id": "6dba1393",
   "metadata": {},
   "outputs": [],
   "source": [
    "def is_disarium(input_number):\n",
    "    result = 0\n",
    "    for idx, digit in enumerate(str(input_number)):\n",
    "        result += int(digit)**(idx+1)\n",
    "    if result == input_number:\n",
    "        return True\n",
    "    else:\n",
    "        return False"
   ]
  },
  {
   "cell_type": "code",
   "execution_count": 21,
   "id": "7cd8e639",
   "metadata": {},
   "outputs": [
    {
     "data": {
      "text/plain": [
       "False"
      ]
     },
     "execution_count": 21,
     "metadata": {},
     "output_type": "execute_result"
    }
   ],
   "source": [
    "is_disarium(75)"
   ]
  },
  {
   "cell_type": "code",
   "execution_count": 22,
   "id": "6de993f1",
   "metadata": {},
   "outputs": [
    {
     "data": {
      "text/plain": [
       "True"
      ]
     },
     "execution_count": 22,
     "metadata": {},
     "output_type": "execute_result"
    }
   ],
   "source": [
    "is_disarium(135)"
   ]
  },
  {
   "cell_type": "code",
   "execution_count": 23,
   "id": "5b0c3791",
   "metadata": {},
   "outputs": [
    {
     "data": {
      "text/plain": [
       "False"
      ]
     },
     "execution_count": 23,
     "metadata": {},
     "output_type": "execute_result"
    }
   ],
   "source": [
    "is_disarium(544)"
   ]
  },
  {
   "cell_type": "code",
   "execution_count": 24,
   "id": "8a9b2530",
   "metadata": {},
   "outputs": [
    {
     "data": {
      "text/plain": [
       "True"
      ]
     },
     "execution_count": 24,
     "metadata": {},
     "output_type": "execute_result"
    }
   ],
   "source": [
    "is_disarium(518)"
   ]
  },
  {
   "cell_type": "code",
   "execution_count": 25,
   "id": "d36bfa33",
   "metadata": {},
   "outputs": [
    {
     "data": {
      "text/plain": [
       "False"
      ]
     },
     "execution_count": 25,
     "metadata": {},
     "output_type": "execute_result"
    }
   ],
   "source": [
    "is_disarium(466)"
   ]
  },
  {
   "cell_type": "code",
   "execution_count": 26,
   "id": "235ab23f",
   "metadata": {},
   "outputs": [
    {
     "data": {
      "text/plain": [
       "True"
      ]
     },
     "execution_count": 26,
     "metadata": {},
     "output_type": "execute_result"
    }
   ],
   "source": [
    "is_disarium(8)"
   ]
  }
 ],
 "metadata": {
  "kernelspec": {
   "display_name": "Python 3",
   "language": "python",
   "name": "python3"
  },
  "language_info": {
   "codemirror_mode": {
    "name": "ipython",
    "version": 3
   },
   "file_extension": ".py",
   "mimetype": "text/x-python",
   "name": "python",
   "nbconvert_exporter": "python",
   "pygments_lexer": "ipython3",
   "version": "3.8.8"
  }
 },
 "nbformat": 4,
 "nbformat_minor": 5
}
