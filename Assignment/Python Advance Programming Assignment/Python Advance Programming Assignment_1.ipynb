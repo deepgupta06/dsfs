{
 "cells": [
  {
   "cell_type": "markdown",
   "id": "3e92248f",
   "metadata": {},
   "source": [
    "# Python Advance Programming Assignment_1"
   ]
  },
  {
   "cell_type": "markdown",
   "id": "7f8e78c9",
   "metadata": {},
   "source": [
    "### 1. Write a function that takes a list of lists and returns the value of all of the symbols in it, where each symbol adds or takes something from the total score. Symbol values:\n",
    "\n",
    "<p># = 5\n",
    "O = 3\n",
    "X = 1\n",
    "! = -1\n",
    "!! = -3\n",
    "!!! = -5\n",
    "\n",
    "A list of lists containing 2 #s, a O, and a !!! would equal (0 + 5 + 5 + 3 - 5) 8.\n",
    "\n",
    "If the final score is negative, return 0 (e.g. 3 #s, 3 !!s, 2 !!!s and a X would be (0 + 5 + 5 + 5 - 3 - 3 - 3 - 5 - 5 + 1) -3, so return 0.\n",
    "\n",
    "Examples\n",
    "\n",
    "check_score([\n",
    "  [\"#\", \"!\"],\n",
    "  [\"!!\", \"X\"]\n",
    "]) ➞ 2\n",
    "\n",
    "check_score([\n",
    "  [\"!!!\", \"O\", \"!\"],\n",
    "  [\"X\", \"#\", \"!!!\"],\n",
    "  [\"!!\", \"X\", \"O\"]\n",
    "]) ➞ 0\n",
    "</p>"
   ]
  },
  {
   "cell_type": "code",
   "execution_count": 1,
   "id": "0a478595",
   "metadata": {},
   "outputs": [],
   "source": [
    "def check_score(input_list):\n",
    "    '''This function will take a list of lists and as a return it will give a value of the symbols in it, \n",
    "    where each symbol adds or take somthing from the total score\n",
    "    \n",
    "    Symbol values:\n",
    "    # = 5 O = 3 X = 1 ! = -1 !! = -3 !!! = -5'''\n",
    "    \n",
    "    symbol_value = {\"#\":5,\"O\":3, \"X\":1, \"!\":-1, \"!!\":-3, \"!!!\":-5}\n",
    "    \n",
    "    assert isinstance(input_list, list), \"As a input please provide list of lists\"\n",
    "    merged_list = []\n",
    "    score = 0\n",
    "    for element in input_list:\n",
    "        assert isinstance(element, list), \"As a input please provide list of lists\"\n",
    "        merged_list += element\n",
    "        for item in element:\n",
    "            score += symbol_value[item]\n",
    "    if score<0:\n",
    "        return 0\n",
    "    else:\n",
    "        return score   "
   ]
  },
  {
   "cell_type": "code",
   "execution_count": 2,
   "id": "ec40e699",
   "metadata": {},
   "outputs": [
    {
     "data": {
      "text/plain": [
       "2"
      ]
     },
     "execution_count": 2,
     "metadata": {},
     "output_type": "execute_result"
    }
   ],
   "source": [
    "check_score([[\"#\", \"!\"], [\"!!\", \"X\"]])"
   ]
  },
  {
   "cell_type": "code",
   "execution_count": 3,
   "id": "2f46d718",
   "metadata": {},
   "outputs": [
    {
     "data": {
      "text/plain": [
       "0"
      ]
     },
     "execution_count": 3,
     "metadata": {},
     "output_type": "execute_result"
    }
   ],
   "source": [
    "check_score([ [\"!!!\", \"O\", \"!\"], [\"X\", \"#\", \"!!!\"], [\"!!\", \"X\", \"O\"] ])"
   ]
  },
  {
   "cell_type": "markdown",
   "id": "f09344a7",
   "metadata": {},
   "source": [
    "### 2. Create a function that takes a variable number of arguments, each argument representing the number of items in a group, and returns the number of permutations (combinations) of items that you could get by taking one item from each group.\n",
    "\n",
    "Examples\n",
    "\n",
    "combinations(2, 3) ➞ 6\n",
    "\n",
    "combinations(3, 7, 4) ➞ 84\n",
    "\n",
    "combinations(2, 3, 4, 5) ➞ 120\n"
   ]
  },
  {
   "cell_type": "code",
   "execution_count": 4,
   "id": "51863a1c",
   "metadata": {},
   "outputs": [],
   "source": [
    "def getFactorial(num):\n",
    "    result = 1\n",
    "    for i in range(1,num+1):\n",
    "        result = result*i\n",
    "    return result\n",
    "def combinations(*args):\n",
    "    result = 1\n",
    "    for i in args:\n",
    "        result *= (getFactorial(i)/getFactorial(i-1))\n",
    "    return int(result)"
   ]
  },
  {
   "cell_type": "code",
   "execution_count": 5,
   "id": "e2c9f659",
   "metadata": {},
   "outputs": [
    {
     "data": {
      "text/plain": [
       "84"
      ]
     },
     "execution_count": 5,
     "metadata": {},
     "output_type": "execute_result"
    }
   ],
   "source": [
    "combinations(3,7,4)"
   ]
  },
  {
   "cell_type": "code",
   "execution_count": 6,
   "id": "f5beb8a0",
   "metadata": {},
   "outputs": [
    {
     "data": {
      "text/plain": [
       "6"
      ]
     },
     "execution_count": 6,
     "metadata": {},
     "output_type": "execute_result"
    }
   ],
   "source": [
    "combinations(2,3)"
   ]
  },
  {
   "cell_type": "code",
   "execution_count": 7,
   "id": "3a4394ec",
   "metadata": {},
   "outputs": [
    {
     "data": {
      "text/plain": [
       "120"
      ]
     },
     "execution_count": 7,
     "metadata": {},
     "output_type": "execute_result"
    }
   ],
   "source": [
    "combinations(2,3,4,5)"
   ]
  },
  {
   "cell_type": "markdown",
   "id": "8158dd70",
   "metadata": {},
   "source": [
    "### 3. Create a function that takes a string as an argument and returns the Morse code equivalent.\n",
    "\n",
    "Examples\n",
    "\n",
    "encode_morse(\"EDABBIT CHALLENGE\") ➞ \". -.. .- -... -... .. -   -.-. .... .- .-.. .-.. . -. --. .\"\n",
    "\n",
    "encode_morse(\"HELP ME !\") ➞ \".... . .-.. .--.   -- .   -.-.--\"\n",
    "\n",
    "This dictionary can be used for coding:\n",
    "\n",
    "char_to_dots = {\n",
    "  'A': '.-', 'B': '-...', 'C': '-.-.', 'D': '-..', 'E': '.', 'F': '..-.',\n",
    "  'G': '--.', 'H': '....', 'I': '..', 'J': '.---', 'K': '-.-', 'L': '.-..',\n",
    "  'M': '--', 'N': '-.', 'O': '---', 'P': '.--.', 'Q': '--.-', 'R': '.-.',\n",
    "  'S': '...', 'T': '-', 'U': '..-', 'V': '...-', 'W': '.--', 'X': '-..-',\n",
    "  'Y': '-.--', 'Z': '--..', ' ': ' ', '0': '-----',\n",
    "  '1': '.----', '2': '..---', '3': '...--', '4': '....-', '5': '.....',\n",
    "  '6': '-....', '7': '--...', '8': '---..', '9': '----.',\n",
    "  '&': '.-...', \"'\": '.----.', '@': '.--.-.', ')': '-.--.-', '(': '-.--.',\n",
    "  ':': '---...', ',': '--..--', '=': '-...-', '!': '-.-.--', '.': '.-.-.-',\n",
    "  '-': '-....-', '+': '.-.-.', '\"': '.-..-.', '?': '..--..', '/': '-..-.'\n",
    "}\n"
   ]
  },
  {
   "cell_type": "code",
   "execution_count": 8,
   "id": "095d233d",
   "metadata": {},
   "outputs": [],
   "source": [
    "def encode_morse(input_string):\n",
    "    char_to_dots = { 'A': '.-', 'B': '-...', 'C': '-.-.', 'D': '-..', \n",
    "                    'E': '.', 'F': '..-.', 'G': '--.', 'H': '....', \n",
    "                    'I': '..', 'J': '.---', 'K': '-.-', 'L': '.-..', \n",
    "                    'M': '--', 'N': '-.', 'O': '---', 'P': '.--.', \n",
    "                    'Q': '--.-', 'R': '.-.', 'S': '...', 'T': '-', \n",
    "                    'U': '..-', 'V': '...-', 'W': '.--', 'X': '-..-', \n",
    "                    'Y': '-.--', 'Z': '--..', ' ': ' ', '0': '-----', \n",
    "                    '1': '.----', '2': '..---', '3': '...--', '4': '....-', \n",
    "                    '5': '.....', '6': '-....', '7': '--...', '8': '---..', \n",
    "                    '9': '----.', '&': '.-...', \"'\": '.----.', '@': '.--.-.', \n",
    "                    ')': '-.--.-', '(': '-.--.', ':': '---...', ',': '--..--', \n",
    "                    '=': '-...-', '!': '-.-.--', '.': '.-.-.-', '-': '-....-', \n",
    "                    '+': '.-.-.', '\"': '.-..-.', '?': '..--..', '/': '-..-.' }\n",
    "    \n",
    "    encoded_msg = \"\"\n",
    "    for idx, i in enumerate(input_string):\n",
    "        if i == \" \":\n",
    "            encoded_msg += char_to_dots[i]\n",
    "            encoded_msg += char_to_dots[i]\n",
    "            \n",
    "        else:\n",
    "            if idx == len(input_string)-1:\n",
    "                encoded_msg += char_to_dots[i]\n",
    "            else:\n",
    "                encoded_msg += char_to_dots[i]\n",
    "                encoded_msg += char_to_dots[\" \"]\n",
    "    return encoded_msg"
   ]
  },
  {
   "cell_type": "code",
   "execution_count": 9,
   "id": "f80653e2",
   "metadata": {},
   "outputs": [
    {
     "data": {
      "text/plain": [
       "'.... . .-.. .--.   -- .   -.-.--'"
      ]
     },
     "execution_count": 9,
     "metadata": {},
     "output_type": "execute_result"
    }
   ],
   "source": [
    "encode_morse(\"HELP ME !\")"
   ]
  },
  {
   "cell_type": "code",
   "execution_count": 10,
   "id": "d4bc66b9",
   "metadata": {},
   "outputs": [
    {
     "data": {
      "text/plain": [
       "'. -.. .- -... -... .. -   -.-. .... .- .-.. .-.. . -. --. .'"
      ]
     },
     "execution_count": 10,
     "metadata": {},
     "output_type": "execute_result"
    }
   ],
   "source": [
    "encode_morse(\"EDABBIT CHALLENGE\")"
   ]
  },
  {
   "cell_type": "markdown",
   "id": "faef339b",
   "metadata": {},
   "source": [
    "### 4.  Write a function that takes a number and returns True if it's a prime; False otherwise. The number can be 2^64-1 (2 to the power of 63, not XOR). With the standard technique it would be O(2^64-1), which is much too large for the 10 second time limit.\n",
    "\n",
    "Examples\n",
    "\n",
    "prime(7) ➞ True\n",
    "\n",
    "prime(56963) ➞ True\n",
    "\n",
    "prime(5151512515524) ➞ False\n"
   ]
  },
  {
   "cell_type": "code",
   "execution_count": null,
   "id": "5b1b24f9",
   "metadata": {},
   "outputs": [],
   "source": []
  },
  {
   "cell_type": "code",
   "execution_count": 11,
   "id": "c91db311",
   "metadata": {},
   "outputs": [
    {
     "data": {
      "text/plain": [
       "9223372036854775808"
      ]
     },
     "execution_count": 11,
     "metadata": {},
     "output_type": "execute_result"
    }
   ],
   "source": [
    "2**63"
   ]
  },
  {
   "cell_type": "markdown",
   "id": "abb97724",
   "metadata": {},
   "source": [
    "### 5.  Create a function that converts a word to a bitstring and then to a boolean list based on the following criteria:\n",
    "\n",
    "    1. Locate the position of the letter in the English alphabet (from 1 to 26).\n",
    "    2. Odd positions will be represented as 1 and 0 otherwise.\n",
    "    3. Convert the represented positions to boolean values, 1 for True and 0 for False.\n",
    "    4. Store the conversions into an array.\n",
    "\n",
    "Examples\n",
    "\n",
    "to_boolean_list(\"deep\") ➞ [False, True, True, False]\n",
    "<p>\n",
    "    # deep converts to 0110\n",
    "\n",
    "    # d is the 4th alphabet - 0\n",
    "\n",
    "    # e is the 5th alphabet - 1\n",
    "\n",
    "    # e is the 5th alphabet - 1\n",
    "\n",
    "    # p is the 16th alphabet - 0</p>\n",
    "\n",
    "to_boolean_list(\"loves\") ➞ [False, True, False, True, True]\n",
    "\n",
    "to_boolean_list(\"tesh\") ➞ [False, True, True, False]\n",
    "\n"
   ]
  },
  {
   "cell_type": "code",
   "execution_count": 12,
   "id": "ee31df20",
   "metadata": {},
   "outputs": [],
   "source": [
    "def to_boolean_list(input_string):\n",
    "    bool_list = []\n",
    "    for i in input_string:\n",
    "        order = ord(i.lower())-96\n",
    "        if order%2==0:\n",
    "            bool_list.append(0)\n",
    "        else:\n",
    "            bool_list.append(1)\n",
    "    bool_list = [bool(x) for x in bool_list]\n",
    "    return bool_list"
   ]
  },
  {
   "cell_type": "code",
   "execution_count": 13,
   "id": "4994c0b7",
   "metadata": {},
   "outputs": [
    {
     "data": {
      "text/plain": [
       "[False, True, True, False]"
      ]
     },
     "execution_count": 13,
     "metadata": {},
     "output_type": "execute_result"
    }
   ],
   "source": [
    "to_boolean_list(\"deep\")"
   ]
  },
  {
   "cell_type": "code",
   "execution_count": 14,
   "id": "fde2f80c",
   "metadata": {},
   "outputs": [
    {
     "data": {
      "text/plain": [
       "[False, True, False, True, True]"
      ]
     },
     "execution_count": 14,
     "metadata": {},
     "output_type": "execute_result"
    }
   ],
   "source": [
    "to_boolean_list(\"loves\")"
   ]
  },
  {
   "cell_type": "code",
   "execution_count": 15,
   "id": "f27188a7",
   "metadata": {},
   "outputs": [
    {
     "data": {
      "text/plain": [
       "[False, True, True, False]"
      ]
     },
     "execution_count": 15,
     "metadata": {},
     "output_type": "execute_result"
    }
   ],
   "source": [
    "to_boolean_list(\"tesh\")"
   ]
  },
  {
   "cell_type": "code",
   "execution_count": null,
   "id": "15b55dbf",
   "metadata": {},
   "outputs": [],
   "source": []
  }
 ],
 "metadata": {
  "kernelspec": {
   "display_name": "Python 3",
   "language": "python",
   "name": "python3"
  },
  "language_info": {
   "codemirror_mode": {
    "name": "ipython",
    "version": 3
   },
   "file_extension": ".py",
   "mimetype": "text/x-python",
   "name": "python",
   "nbconvert_exporter": "python",
   "pygments_lexer": "ipython3",
   "version": "3.8.8"
  }
 },
 "nbformat": 4,
 "nbformat_minor": 5
}
