{
 "cells": [
  {
   "cell_type": "markdown",
   "id": "129f4eff",
   "metadata": {},
   "source": [
    "# Python Advance Programming Assignment_5"
   ]
  },
  {
   "cell_type": "markdown",
   "id": "d3f72791",
   "metadata": {},
   "source": [
    "### 1. Create a function that takes a number n (integer greater than zero) as an argument, and returns 2 if n is odd and 8 if n is even.\n",
    "\n",
    "<p>You can only use the following arithmetic operators: addition of numbers +, subtraction of numbers -, multiplication of number *, division of number /, and exponentiation **.</p>\n",
    "\n",
    "You are not allowed to use any other methods in this challenge (i.e. no if statements, comparison operators, etc).\n",
    "\n",
    "Examples\n",
    "\n",
    "f(1) ➞ 2\n",
    "\n",
    "f(2) ➞ 8\n",
    "\n",
    "f(3) ➞ 2\n"
   ]
  },
  {
   "cell_type": "code",
   "execution_count": 1,
   "id": "a50d0dea",
   "metadata": {},
   "outputs": [],
   "source": [
    "def f(num):\n",
    "    return_value = [8,2]\n",
    "    check = round(((num/2)-int((num/2)))+.1)\n",
    "    return return_value[check]"
   ]
  },
  {
   "cell_type": "code",
   "execution_count": 2,
   "id": "678a2a8a",
   "metadata": {},
   "outputs": [
    {
     "data": {
      "text/plain": [
       "2"
      ]
     },
     "execution_count": 2,
     "metadata": {},
     "output_type": "execute_result"
    }
   ],
   "source": [
    "f(1)"
   ]
  },
  {
   "cell_type": "code",
   "execution_count": 3,
   "id": "a3afb200",
   "metadata": {},
   "outputs": [
    {
     "data": {
      "text/plain": [
       "8"
      ]
     },
     "execution_count": 3,
     "metadata": {},
     "output_type": "execute_result"
    }
   ],
   "source": [
    "f(2)"
   ]
  },
  {
   "cell_type": "code",
   "execution_count": 4,
   "id": "dafbb8ef",
   "metadata": {},
   "outputs": [
    {
     "data": {
      "text/plain": [
       "2"
      ]
     },
     "execution_count": 4,
     "metadata": {},
     "output_type": "execute_result"
    }
   ],
   "source": [
    "f(3)"
   ]
  },
  {
   "cell_type": "code",
   "execution_count": 5,
   "id": "ad9b402b",
   "metadata": {},
   "outputs": [
    {
     "data": {
      "text/plain": [
       "2"
      ]
     },
     "execution_count": 5,
     "metadata": {},
     "output_type": "execute_result"
    }
   ],
   "source": [
    "f(11)"
   ]
  },
  {
   "cell_type": "code",
   "execution_count": 6,
   "id": "2f75df65",
   "metadata": {},
   "outputs": [
    {
     "data": {
      "text/plain": [
       "8"
      ]
     },
     "execution_count": 6,
     "metadata": {},
     "output_type": "execute_result"
    }
   ],
   "source": [
    "f(20)"
   ]
  },
  {
   "cell_type": "markdown",
   "id": "b1bfc34d",
   "metadata": {},
   "source": [
    "### 2. Create a function that returns the majority vote in a list. A majority vote is an element that occurs > N/2 times in a list (where N is the length of the list).\n",
    "\n",
    "Examples\n",
    "\n",
    "majority_vote([\"A\", \"A\", \"B\"]) ➞ \"A\"\n",
    "\n",
    "majority_vote([\"A\", \"A\", \"A\", \"B\", \"C\", \"A\"]) ➞ \"A\"\n",
    "\n",
    "majority_vote([\"A\", \"B\", \"B\", \"A\", \"C\", \"C\"]) ➞ None\n"
   ]
  },
  {
   "cell_type": "code",
   "execution_count": 7,
   "id": "20c92b45",
   "metadata": {},
   "outputs": [],
   "source": [
    "input_list = [\"A\", \"A\", \"A\", \"B\", \"C\", \"A\"]"
   ]
  },
  {
   "cell_type": "code",
   "execution_count": 8,
   "id": "6a7b6d13",
   "metadata": {},
   "outputs": [],
   "source": [
    "def majority_vote(input_list):\n",
    "    vote_count = {}\n",
    "    for i in input_list:\n",
    "        vote_count[input_list.count(i)] = []\n",
    "    for i in input_list:\n",
    "        if i in vote_count[input_list.count(i)]:\n",
    "            pass\n",
    "        else:\n",
    "            vote_count[input_list.count(i)].append(i) \n",
    "    majority_count = max(vote_count.keys())\n",
    "    if majority_count > len(input_list)/2:\n",
    "        return vote_count[majority_count][0]\n",
    "    else:\n",
    "        return None"
   ]
  },
  {
   "cell_type": "code",
   "execution_count": 9,
   "id": "21f1c03c",
   "metadata": {},
   "outputs": [],
   "source": [
    "majority_vote([\"A\", \"B\", \"B\", \"A\", \"C\", \"C\"])"
   ]
  },
  {
   "cell_type": "code",
   "execution_count": 10,
   "id": "f157fc19",
   "metadata": {},
   "outputs": [
    {
     "data": {
      "text/plain": [
       "'B'"
      ]
     },
     "execution_count": 10,
     "metadata": {},
     "output_type": "execute_result"
    }
   ],
   "source": [
    "majority_vote([\"A\", \"A\", \"B\",\"B\",\"B\"])"
   ]
  },
  {
   "cell_type": "code",
   "execution_count": 11,
   "id": "7c9f9f53",
   "metadata": {},
   "outputs": [
    {
     "data": {
      "text/plain": [
       "'A'"
      ]
     },
     "execution_count": 11,
     "metadata": {},
     "output_type": "execute_result"
    }
   ],
   "source": [
    "majority_vote([\"A\", \"A\", \"A\", \"B\", \"C\", \"A\"])"
   ]
  },
  {
   "cell_type": "markdown",
   "id": "020ef7e7",
   "metadata": {},
   "source": [
    "### 3. Create a function that takes a string txt and censors any word from a given list lst. The text removed must be replaced by the given character char.\n",
    "\n",
    "Examples\n",
    "\n",
    "<p>censor_string(\"Today is a Wednesday!\", [\"Today\", \"a\"], \"-\") ➞ \"----- is - Wednesday!\"</p>\n",
    "\n",
    "<p>censor_string(\"The cow jumped over the moon.\", [\"cow\", \"over\"], \"*\"), \"The *** jumped **** the moon.\")</p>\n",
    "\n",
    "<p>censor_string(\"Why did the chicken cross the road?\", [\"Did\", \"chicken\", \"road\"], \"*\") ➞ \"Why *** the ******* cross the ****?\"</p>\n"
   ]
  },
  {
   "cell_type": "code",
   "execution_count": 12,
   "id": "5470a37d",
   "metadata": {},
   "outputs": [],
   "source": [
    "def censor_string(input_string, censor_word, replaced_char):\n",
    "    input_list = input_string.split()\n",
    "    for i in censor_word:\n",
    "        for idx, word in enumerate(input_list):\n",
    "            if word == i or word == i.capitalize() or word.capitalize()==i or word.capitalize()==i.capitalize():\n",
    "                input_list[idx] = len(i)*replaced_char\n",
    "            \n",
    "    return \" \".join(input_list)"
   ]
  },
  {
   "cell_type": "code",
   "execution_count": 13,
   "id": "7b98a03c",
   "metadata": {},
   "outputs": [
    {
     "data": {
      "text/plain": [
       "'Deep'"
      ]
     },
     "execution_count": 13,
     "metadata": {},
     "output_type": "execute_result"
    }
   ],
   "source": [
    "a = \"deep\"\n",
    "a.capitalize()"
   ]
  },
  {
   "cell_type": "code",
   "execution_count": 14,
   "id": "a688c61d",
   "metadata": {},
   "outputs": [
    {
     "data": {
      "text/plain": [
       "'My **** is ****'"
      ]
     },
     "execution_count": 14,
     "metadata": {},
     "output_type": "execute_result"
    }
   ],
   "source": [
    "input_string = \"My name is deep\"\n",
    "censor_word = [\"name\", \"deep\"]\n",
    "replaced_char = \"*\"\n",
    "censor_string(input_string, censor_word, replaced_char)"
   ]
  },
  {
   "cell_type": "code",
   "execution_count": 15,
   "id": "8b6d2ba4",
   "metadata": {},
   "outputs": [
    {
     "data": {
      "text/plain": [
       "'----- is - Wednesday!'"
      ]
     },
     "execution_count": 15,
     "metadata": {},
     "output_type": "execute_result"
    }
   ],
   "source": [
    "censor_string(\"Today is a Wednesday!\", [\"Today\", \"a\"], \"-\")"
   ]
  },
  {
   "cell_type": "code",
   "execution_count": 16,
   "id": "2c5a62d2",
   "metadata": {},
   "outputs": [
    {
     "data": {
      "text/plain": [
       "'The *** jumped **** the moon.'"
      ]
     },
     "execution_count": 16,
     "metadata": {},
     "output_type": "execute_result"
    }
   ],
   "source": [
    "censor_string(\"The cow jumped over the moon.\", [\"cow\", \"over\"], \"*\") #\"The *** jumped **** the moon.\")"
   ]
  },
  {
   "cell_type": "code",
   "execution_count": 17,
   "id": "8d47f0a5",
   "metadata": {},
   "outputs": [
    {
     "data": {
      "text/plain": [
       "'Why *** the ******* cross the road?'"
      ]
     },
     "execution_count": 17,
     "metadata": {},
     "output_type": "execute_result"
    }
   ],
   "source": [
    "censor_string(\"Why did the chicken cross the road?\", [\"Did\", \"chicken\", \"road\"], \"*\")\n",
    "#Output -- >\"Why *** the ******* cross the ****?\""
   ]
  },
  {
   "cell_type": "markdown",
   "id": "2f553bfe",
   "metadata": {},
   "source": [
    "### 4. In mathematics a Polydivisible Number (or magic number) is a number in a given number base with digits abcde... that has the following properties:\n",
    "\n",
    "-  Its first digit a is not 0.\n",
    "- The number formed by its first two digits ab is a multiple of 2.\n",
    "- The number formed by its first three digits abc is a multiple of 3.\n",
    "- The number formed by its first four digits abcd is a multiple of 4.\n",
    "\n",
    "Create a function which takes an integer n and returns True if the given number is a Polydivisible Number and False otherwise.\n",
    "\n",
    "Examples\n",
    "\n",
    "is_polydivisible(1232) ➞ True\n",
    "<p>#1     / 1 = 1</p>\n",
    "<p>#12    / 2 = 6</p>\n",
    "<p>#123   / 3 = 41</p>\n",
    "<p>#1232  / 4 = 308</p>\n",
    "\n",
    "is_polydivisible(123220 ) ➞ False\n",
    "<p># 1   / 1 = 1</p>\n",
    "<p># 12   / 2 = 6</p>\n",
    "<p># 123   / 3 = 41</p>\n",
    "<p># 1232   / 4 = 308</p>\n",
    "<p># 12322   / 5 = 2464.4         # Not a Whole Number</p>\n",
    "<p># 123220   /6 = 220536.333...  # Not a Whole Number</p>\n"
   ]
  },
  {
   "cell_type": "code",
   "execution_count": 18,
   "id": "198fb0b3",
   "metadata": {},
   "outputs": [],
   "source": [
    "def is_polydivisible(num):\n",
    "    for idx in range(1, len(str(num))+1):\n",
    "        if int(str(num)[0:idx])%idx != 0:\n",
    "            return False\n",
    "    return True"
   ]
  },
  {
   "cell_type": "code",
   "execution_count": 19,
   "id": "d6b0aaf3",
   "metadata": {},
   "outputs": [
    {
     "data": {
      "text/plain": [
       "True"
      ]
     },
     "execution_count": 19,
     "metadata": {},
     "output_type": "execute_result"
    }
   ],
   "source": [
    "is_polydivisible(1232)"
   ]
  },
  {
   "cell_type": "code",
   "execution_count": 20,
   "id": "5830ca86",
   "metadata": {},
   "outputs": [
    {
     "data": {
      "text/plain": [
       "False"
      ]
     },
     "execution_count": 20,
     "metadata": {},
     "output_type": "execute_result"
    }
   ],
   "source": [
    "is_polydivisible(123220)"
   ]
  },
  {
   "cell_type": "markdown",
   "id": "60ea66c8",
   "metadata": {},
   "source": [
    "### 5. Create a function that takes a list of numbers and returns the sum of all prime numbers in the list.\n",
    "\n",
    "Examples\n",
    "\n",
    "sum_primes([1, 2, 3, 4, 5, 6, 7, 8, 9, 10]) ➞ 17\n",
    "\n",
    "sum_primes([2, 3, 4, 11, 20, 50, 71]) ➞ 87\n",
    "\n",
    "sum_primes([]) ➞ None\n"
   ]
  },
  {
   "cell_type": "code",
   "execution_count": 21,
   "id": "664802f0",
   "metadata": {},
   "outputs": [],
   "source": [
    "def is_primenumber(num):\n",
    "    checker = True\n",
    "    if num>1:\n",
    "        for i in range(2, num):\n",
    "            if num%i==0:\n",
    "                checker = False\n",
    "        return checker\n",
    "def sum_primes(input_list):\n",
    "    prime_list = []\n",
    "    for item in input_list:\n",
    "        if is_primenumber(item):\n",
    "            prime_list.append(item)\n",
    "    if prime_list:\n",
    "        return sum(prime_list)\n",
    "    else:\n",
    "        return None"
   ]
  },
  {
   "cell_type": "code",
   "execution_count": 22,
   "id": "79394d5c",
   "metadata": {},
   "outputs": [
    {
     "data": {
      "text/plain": [
       "17"
      ]
     },
     "execution_count": 22,
     "metadata": {},
     "output_type": "execute_result"
    }
   ],
   "source": [
    "sum_primes([1, 2, 3, 4, 5, 6, 7, 8, 9, 10])"
   ]
  },
  {
   "cell_type": "code",
   "execution_count": 23,
   "id": "663054ad",
   "metadata": {},
   "outputs": [
    {
     "data": {
      "text/plain": [
       "87"
      ]
     },
     "execution_count": 23,
     "metadata": {},
     "output_type": "execute_result"
    }
   ],
   "source": [
    "sum_primes([2, 3, 4, 11, 20, 50, 71])"
   ]
  },
  {
   "cell_type": "code",
   "execution_count": 24,
   "id": "1ba4ac29",
   "metadata": {},
   "outputs": [],
   "source": [
    "sum_primes([])"
   ]
  },
  {
   "cell_type": "code",
   "execution_count": 25,
   "id": "2f09cf23",
   "metadata": {},
   "outputs": [],
   "source": [
    "sum_primes([6,8,10])"
   ]
  },
  {
   "cell_type": "code",
   "execution_count": null,
   "id": "8294c081",
   "metadata": {},
   "outputs": [],
   "source": []
  }
 ],
 "metadata": {
  "kernelspec": {
   "display_name": "Python 3",
   "language": "python",
   "name": "python3"
  },
  "language_info": {
   "codemirror_mode": {
    "name": "ipython",
    "version": 3
   },
   "file_extension": ".py",
   "mimetype": "text/x-python",
   "name": "python",
   "nbconvert_exporter": "python",
   "pygments_lexer": "ipython3",
   "version": "3.8.8"
  }
 },
 "nbformat": 4,
 "nbformat_minor": 5
}
