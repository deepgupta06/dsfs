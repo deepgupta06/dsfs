{
 "cells": [
  {
   "cell_type": "markdown",
   "id": "b633ab46",
   "metadata": {},
   "source": [
    "# Python Advance Programming Assignment_9"
   ]
  },
  {
   "cell_type": "markdown",
   "id": "d8f38901",
   "metadata": {},
   "source": [
    "### 1. YouTube offers different playback speed options for users. This allows users to increase or decrease the speed of the video content. Given the actual duration and playback speed of the video, calculate the playback duration of the video.\n",
    "\n",
    "Examples\n",
    "\n",
    "playback_duration(\"00:30:00\", 2) ➞ \"00:15:00\"\n",
    "\n",
    "playback_duration(\"01:20:00\", 1.5) ➞ \"00:53:20\"\n",
    "\n",
    "playback_duration(\"51:20:09\", 0.5) ➞ \"102:40:18\"\n"
   ]
  },
  {
   "cell_type": "code",
   "execution_count": 1,
   "id": "025c890a",
   "metadata": {},
   "outputs": [],
   "source": [
    "def playback_duration(input_time, speed):\n",
    "    #import pdb; pdb.set_trace()\n",
    "    hour_ = input_time.split(\":\")[0]\n",
    "    minute_ = input_time.split(\":\")[1]\n",
    "    second_ = input_time.split(\":\")[2]\n",
    "    hour_in_sec = int(hour_)*3600\n",
    "    minute_in_sec = int(minute_)*60\n",
    "    total_sec = hour_in_sec+minute_in_sec+int(second_)\n",
    "    total_sec= total_sec/speed\n",
    "    new_hour = int(total_sec//3600)\n",
    "    total_sec = total_sec%3600\n",
    "    new_minute = int(total_sec//60)\n",
    "    total_sec = int(round(total_sec%60))\n",
    "    new_duration = \"%02d:%02d:%02d\"  %(new_hour, new_minute, total_sec)\n",
    "    return new_duration"
   ]
  },
  {
   "cell_type": "code",
   "execution_count": 2,
   "id": "038d6e52",
   "metadata": {},
   "outputs": [
    {
     "data": {
      "text/plain": [
       "'00:15:00'"
      ]
     },
     "execution_count": 2,
     "metadata": {},
     "output_type": "execute_result"
    }
   ],
   "source": [
    "playback_duration(\"00:30:00\", 2)"
   ]
  },
  {
   "cell_type": "code",
   "execution_count": 3,
   "id": "7fa19af3",
   "metadata": {},
   "outputs": [
    {
     "data": {
      "text/plain": [
       "'00:53:20'"
      ]
     },
     "execution_count": 3,
     "metadata": {},
     "output_type": "execute_result"
    }
   ],
   "source": [
    "playback_duration(\"01:20:00\", 1.5)"
   ]
  },
  {
   "cell_type": "code",
   "execution_count": 4,
   "id": "04e050d7",
   "metadata": {},
   "outputs": [
    {
     "data": {
      "text/plain": [
       "'102:40:18'"
      ]
     },
     "execution_count": 4,
     "metadata": {},
     "output_type": "execute_result"
    }
   ],
   "source": [
    "playback_duration(\"51:20:09\", 0.5)"
   ]
  },
  {
   "cell_type": "markdown",
   "id": "cba9f5aa",
   "metadata": {},
   "source": [
    "### 2. We needs your help to construct a building which will be a pile of n cubes. The cube at the bottom will have a volume of n^3, the cube above will have volume of (n-1)^3 and so on until the top which will have a volume of 1^3.\n",
    "\n",
    "Given the total volume m of the building, can you find the number of cubes n required for the building?\n",
    "\n",
    "In other words, you have to return an integer n such that:\n",
    "\n",
    "n^3 + (n-1)^3 + ... + 1^3 == m\n",
    "\n",
    "Return None if there is no such number.\n",
    "\n",
    "Examples\n",
    "\n",
    "pile_of_cubes(1071225) ➞ 45\n",
    "\n",
    "pile_of_cubes(4183059834009) ➞ 2022\n",
    "\n",
    "pile_of_cubes(16) ➞ None\n"
   ]
  },
  {
   "cell_type": "code",
   "execution_count": 5,
   "id": "23d0753e",
   "metadata": {},
   "outputs": [],
   "source": [
    "def get_n(a,b,c):\n",
    "    \"\"\"Genarel form of a Quadratic equqtion is ax^2 + bx + c = 0\n",
    "    where a,b,c is known number, where a is not equal to 0.\"\"\"\n",
    "    x1 = (-b+(b**2-(4*a*c))**0.5)/(2*a)\n",
    "    x2 = (-b-(b**2-(4*a*c))**0.5)/(2*a)\n",
    "    return (x1,x2)\n",
    "def pile_of_cubes(m):\n",
    "    \n",
    "    a = 1\n",
    "    b = 1\n",
    "    c = -2*(m**.5)\n",
    "    x1, x2 = get_n(a,b,c)\n",
    "    if x1>0 and x1==int(x1):\n",
    "        return int(x1)\n",
    "    elif x2>0 and x2==int(x2):\n",
    "        return int(x2)\n",
    "    elif x1<0 and x2<0:\n",
    "        return None"
   ]
  },
  {
   "cell_type": "code",
   "execution_count": 6,
   "id": "ac8b4816",
   "metadata": {},
   "outputs": [
    {
     "data": {
      "text/plain": [
       "45"
      ]
     },
     "execution_count": 6,
     "metadata": {},
     "output_type": "execute_result"
    }
   ],
   "source": [
    "pile_of_cubes(1071225)"
   ]
  },
  {
   "cell_type": "code",
   "execution_count": 7,
   "id": "ed8e5253",
   "metadata": {},
   "outputs": [
    {
     "data": {
      "text/plain": [
       "2022"
      ]
     },
     "execution_count": 7,
     "metadata": {},
     "output_type": "execute_result"
    }
   ],
   "source": [
    "pile_of_cubes(4183059834009)"
   ]
  },
  {
   "cell_type": "code",
   "execution_count": 8,
   "id": "29f6e1c9",
   "metadata": {},
   "outputs": [],
   "source": [
    "pile_of_cubes(16)"
   ]
  },
  {
   "cell_type": "code",
   "execution_count": 9,
   "id": "9cf355d9",
   "metadata": {},
   "outputs": [],
   "source": [
    "pile_of_cubes(15)"
   ]
  },
  {
   "cell_type": "markdown",
   "id": "a160bad0",
   "metadata": {},
   "source": [
    "### 3. A fulcrum of a list is an integer such that all elements to the left of it and all elements to the right of it sum to the same value. Write a function that finds the fulcrum of a list.\n",
    "\n",
    "To illustrate:\n",
    "\n",
    "find_fulcrum([3, 1, 5, 2, 4, 6, -1]) ➞ 2\n",
    "\n",
    "// Since [3, 1, 5] and [4, 6, -1] both sum to 9\n",
    "\n",
    "Examples\n",
    "\n",
    "find_fulcrum([1, 2, 4, 9, 10, -10, -9, 3]) ➞ 4\n",
    "\n",
    "find_fulcrum([9, 1, 9]) ➞ 1\n",
    "\n",
    "find_fulcrum([7, -1, 0, -1, 1, 1, 2, 3]) ➞ 0\n",
    "\n",
    "find_fulcrum([8, 8, 8, 8]) ➞ -1\n"
   ]
  },
  {
   "cell_type": "code",
   "execution_count": 10,
   "id": "dcb9a44e",
   "metadata": {},
   "outputs": [],
   "source": [
    "input_list = [8, 8, 8, 8]"
   ]
  },
  {
   "cell_type": "code",
   "execution_count": 11,
   "id": "71702b5c",
   "metadata": {},
   "outputs": [],
   "source": [
    "def find_fulcrum(input_list):\n",
    "    if type(input_list)!=list:\n",
    "        raise TypeError(f\"Data type of input_list must be list insted of {type(input_list)}\")\n",
    "    for idx in range(len(input_list)):\n",
    "        if sum(input_list[0:idx])== sum(input_list[idx+1::]):\n",
    "            return (input_list[idx])\n",
    "    return -1"
   ]
  },
  {
   "cell_type": "code",
   "execution_count": 12,
   "id": "aac9b1d9",
   "metadata": {},
   "outputs": [
    {
     "data": {
      "text/plain": [
       "1"
      ]
     },
     "execution_count": 12,
     "metadata": {},
     "output_type": "execute_result"
    }
   ],
   "source": [
    "find_fulcrum([1])"
   ]
  },
  {
   "cell_type": "code",
   "execution_count": 13,
   "id": "8f6beaeb",
   "metadata": {},
   "outputs": [
    {
     "data": {
      "text/plain": [
       "-1"
      ]
     },
     "execution_count": 13,
     "metadata": {},
     "output_type": "execute_result"
    }
   ],
   "source": [
    "find_fulcrum([8,8,8,8])"
   ]
  },
  {
   "cell_type": "code",
   "execution_count": 14,
   "id": "e3ad2fcf",
   "metadata": {},
   "outputs": [
    {
     "data": {
      "text/plain": [
       "2"
      ]
     },
     "execution_count": 14,
     "metadata": {},
     "output_type": "execute_result"
    }
   ],
   "source": [
    "find_fulcrum([3, 1, 5, 2, 4, 6, -1])"
   ]
  },
  {
   "cell_type": "code",
   "execution_count": 15,
   "id": "b0f7f1c9",
   "metadata": {},
   "outputs": [
    {
     "data": {
      "text/plain": [
       "4"
      ]
     },
     "execution_count": 15,
     "metadata": {},
     "output_type": "execute_result"
    }
   ],
   "source": [
    "find_fulcrum([1, 2, 4, 9, 10, -10, -9, 3])"
   ]
  },
  {
   "cell_type": "code",
   "execution_count": 16,
   "id": "7f0b4826",
   "metadata": {},
   "outputs": [
    {
     "data": {
      "text/plain": [
       "0"
      ]
     },
     "execution_count": 16,
     "metadata": {},
     "output_type": "execute_result"
    }
   ],
   "source": [
    "find_fulcrum([7, -1, 0, -1, 1, 1, 2, 3])"
   ]
  },
  {
   "cell_type": "code",
   "execution_count": 17,
   "id": "367036d6",
   "metadata": {},
   "outputs": [
    {
     "data": {
      "text/plain": [
       "1"
      ]
     },
     "execution_count": 17,
     "metadata": {},
     "output_type": "execute_result"
    }
   ],
   "source": [
    "find_fulcrum([9, 1, 9])"
   ]
  },
  {
   "cell_type": "markdown",
   "id": "78ac917a",
   "metadata": {},
   "source": [
    "### 4. Given a list of integers representing the color of each sock, determine how many pairs of socks with matching colors there are. For example, there are 7 socks with colors [1, 2, 1, 2, 1, 3, 2]. There is one pair of color 1 and one of color 2. There are three odd socks left, one of each color. The number of pairs is 2.\n",
    "\n",
    "Create a function that returns an integer representing the number of matching pairs of socks that are available.\n",
    "\n",
    "Examples\n",
    "\n",
    "sock_merchant([10, 20, 20, 10, 10, 30, 50, 10, 20]) ➞ 3\n",
    "\n",
    "sock_merchant([50, 20, 30, 90, 30, 20, 50, 20, 90]) ➞ 4\n",
    "\n",
    "sock_merchant([]) ➞ 0\n"
   ]
  },
  {
   "cell_type": "code",
   "execution_count": 18,
   "id": "f3b77b21",
   "metadata": {},
   "outputs": [],
   "source": [
    "input_list = [50, 20, 30, 90, 30, 20, 50, 20, 90]"
   ]
  },
  {
   "cell_type": "code",
   "execution_count": 19,
   "id": "2ed55686",
   "metadata": {},
   "outputs": [],
   "source": [
    "def sock_merchant(input_list):\n",
    "    if type(input_list)!=list:\n",
    "        raise TypeError(f\"Data type of input_list must be list insted of {type(input_list)}\")\n",
    "    pairs = 0\n",
    "    for item in set(input_list):\n",
    "        pairs += input_list.count(item)//2\n",
    "    return pairs"
   ]
  },
  {
   "cell_type": "code",
   "execution_count": 20,
   "id": "38b24132",
   "metadata": {},
   "outputs": [
    {
     "data": {
      "text/plain": [
       "4"
      ]
     },
     "execution_count": 20,
     "metadata": {},
     "output_type": "execute_result"
    }
   ],
   "source": [
    "sock_merchant(input_list)"
   ]
  },
  {
   "cell_type": "code",
   "execution_count": 21,
   "id": "eca8744b",
   "metadata": {},
   "outputs": [
    {
     "data": {
      "text/plain": [
       "3"
      ]
     },
     "execution_count": 21,
     "metadata": {},
     "output_type": "execute_result"
    }
   ],
   "source": [
    "sock_merchant([10, 20, 20, 10, 10, 30, 50, 10, 20]) "
   ]
  },
  {
   "cell_type": "code",
   "execution_count": 22,
   "id": "2576393a",
   "metadata": {},
   "outputs": [
    {
     "data": {
      "text/plain": [
       "0"
      ]
     },
     "execution_count": 22,
     "metadata": {},
     "output_type": "execute_result"
    }
   ],
   "source": [
    "sock_merchant([])"
   ]
  },
  {
   "cell_type": "markdown",
   "id": "812d3bc1",
   "metadata": {},
   "source": [
    "### 5. Create a function that takes a string containing integers as well as other characters and return the sum of the negative integers only.\n",
    "\n",
    "Examples\n",
    "\n",
    "negative_sum(\"-12 13%14&-11\") ➞ -23\n",
    "\n",
    "#-12 + -11 = -23\n",
    "\n",
    "negative_sum(\"22 13%14&-11-22 13 12\") ➞ -33\n",
    "\n",
    "#-11 + -22 = -33\n"
   ]
  },
  {
   "cell_type": "code",
   "execution_count": 23,
   "id": "31c32798",
   "metadata": {},
   "outputs": [],
   "source": [
    "def negative_sum(input_string):\n",
    "    import re\n",
    "    pattern = r\"-\\d+\"\n",
    "    negative_number = re.findall(pattern, input_string)\n",
    "    negative_number = [int(x) for x in negative_number]\n",
    "    return sum(negative_number)"
   ]
  },
  {
   "cell_type": "code",
   "execution_count": 25,
   "id": "9ae13bbd",
   "metadata": {},
   "outputs": [
    {
     "data": {
      "text/plain": [
       "-23"
      ]
     },
     "execution_count": 25,
     "metadata": {},
     "output_type": "execute_result"
    }
   ],
   "source": [
    "negative_sum(\"-12 13%14&-11\")"
   ]
  },
  {
   "cell_type": "code",
   "execution_count": 26,
   "id": "25ef6cbe",
   "metadata": {},
   "outputs": [
    {
     "data": {
      "text/plain": [
       "-33"
      ]
     },
     "execution_count": 26,
     "metadata": {},
     "output_type": "execute_result"
    }
   ],
   "source": [
    "negative_sum(\"22 13%14&-11-22 13 12\")"
   ]
  }
 ],
 "metadata": {
  "kernelspec": {
   "display_name": "Python 3",
   "language": "python",
   "name": "python3"
  },
  "language_info": {
   "codemirror_mode": {
    "name": "ipython",
    "version": 3
   },
   "file_extension": ".py",
   "mimetype": "text/x-python",
   "name": "python",
   "nbconvert_exporter": "python",
   "pygments_lexer": "ipython3",
   "version": "3.8.8"
  }
 },
 "nbformat": 4,
 "nbformat_minor": 5
}
