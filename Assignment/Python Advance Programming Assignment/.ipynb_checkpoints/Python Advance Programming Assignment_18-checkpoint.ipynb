{
 "cells": [
  {
   "cell_type": "markdown",
   "id": "76db1ac1",
   "metadata": {},
   "source": [
    "### 1. A robot has been given a list of movement instructions. Each instruction is either left, right, up or down, followed by a distance to move. The robot starts at [0, 0]. You want to calculate where the robot will end up and return its final position as a list.\n",
    "\n",
    "To illustrate, if the robot is given the following instructions:\n",
    "\n",
    "[\"right 10\", \"up 50\", \"left 30\", \"down 10\"]\n",
    "\n",
    "It will end up 20 left and 40 up from where it started, so we return [-20, 40].\n",
    "\n",
    "Examples\n",
    "\n",
    "track_robot([\"right 10\", \"up 50\", \"left 30\", \"down 10\"]) ➞ [-20, 40]\n",
    "\n",
    "track_robot([]) ➞ [0, 0]\n",
    "// If there are no instructions, the robot doesn't move.\n",
    "\n",
    "track_robot([\"right 100\", \"right 100\", \"up 500\", \"up 10000\"]) ➞ [200, 10500]\n"
   ]
  },
  {
   "cell_type": "markdown",
   "id": "f0c59748",
   "metadata": {},
   "source": [
    "### 2. Write a function that will return the longest word in a sentence. In cases where more than one word is found, return the first one.\n",
    "\n",
    "Examples\n",
    "\n",
    "find_longest(\"A thing of beauty is a joy forever.\") ➞ \"forever\"\n",
    "\n",
    "find_longest(\"Forgetfulness is by all means powerless!\") ➞ \"forgetfulness\"\n",
    "\n",
    "find_longest(\"\\\"Strengths\\\" is the longest and most commonly used word that contains only a single vowel.\") ➞ \"strengths\"\n",
    "\n"
   ]
  },
  {
   "cell_type": "code",
   "execution_count": null,
   "id": "39ba2a33",
   "metadata": {},
   "outputs": [],
   "source": []
  },
  {
   "cell_type": "markdown",
   "id": "e3296e83",
   "metadata": {},
   "source": [
    "### 3. Create a function to check if a candidate is qualified in an imaginary coding interview of an imaginary tech startup.\n",
    "\n",
    "The criteria for a candidate to be qualified in the coding interview is:\n",
    "\n",
    "   1. The candidate should have complete all the questions.\n",
    "   2. The maximum time given to complete the interview is 120 minutes.\n",
    "   3. The maximum time given for very easy questions is 5 minutes each.\n",
    "   4. The maximum time given for easy questions is 10 minutes each.\n",
    "   5. The maximum time given for medium questions is 15 minutes each.\n",
    "   6. The maximum time given for hard questions is 20 minutes each.\n",
    "\n",
    "If all the above conditions are satisfied, return \"qualified\", else return \"disqualified\".\n",
    "\n",
    "You will be given a list of time taken by a candidate to solve a particular question and the total time taken by the candidate to complete the interview.\n",
    "\n",
    "Given a list , in a true condition will always be in the format [very easy, very easy, easy, easy, medium, medium, hard, hard].\n",
    "\n",
    "The maximum time to complete the interview includes a buffer time of 20 minutes.\n",
    "\n",
    "Examples\n",
    "\n",
    "interview([5, 5, 10, 10, 15, 15, 20, 20], 120) ➞ \"qualified\"\n",
    "\n",
    "interview([2, 3, 8, 6, 5, 12, 10, 18], 64) ➞  \"qualified\"\n",
    "\n",
    "interview([5, 5, 10, 10, 25, 15, 20, 20], 120) ➞ \"disqualified\"\n",
    "\n",
    "#Exceeded the time limit for a medium question.\n",
    "\n",
    "interview([5, 5, 10, 10, 15, 15, 20], 120) ➞ \"disqualified\"\n",
    "\n",
    "#Did not complete all the questions.\n",
    "\n",
    "interview([5, 5, 10, 10, 15, 15, 20, 20], 130) ➞ \"disqualified\"\n",
    "\n",
    "#Solved all the questions in their respected time limits but exceeded the total time limit of the interview.\n"
   ]
  },
  {
   "cell_type": "code",
   "execution_count": 75,
   "id": "aa5fd82f",
   "metadata": {},
   "outputs": [],
   "source": [
    "input_list = [5, 5, 10, 15, 15, 15, 20, 20]\n",
    "time_taken = 120\n",
    "#[very easy, very easy, easy, easy, medium, medium, hard, hard]"
   ]
  },
  {
   "cell_type": "code",
   "execution_count": 86,
   "id": "e8432308",
   "metadata": {},
   "outputs": [],
   "source": []
  },
  {
   "cell_type": "code",
   "execution_count": 118,
   "id": "b393da81",
   "metadata": {},
   "outputs": [],
   "source": [
    "def interview(input_list, time_taken):\n",
    "    time_checker = [5,5,10,10,15,15,20,20]\n",
    "    q_time_checker = []\n",
    "    if len(input_list) == 8:\n",
    "        if time_taken <=120:\n",
    "            for idx, question_time in enumerate(input_list):\n",
    "                if question_time <= time_checker[idx]:\n",
    "                    q_time_checker.append(True)\n",
    "                else:\n",
    "                    q_time_checker.append(False)\n",
    "        else:\n",
    "            return \"disqualify\"\n",
    "    else:\n",
    "        return \"disqualify\"\n",
    "    if q_time_checker.count(True)==8:\n",
    "        return \"qualify\"\n",
    "    else:\n",
    "        return \"disqualify\""
   ]
  },
  {
   "cell_type": "code",
   "execution_count": 119,
   "id": "cf48da82",
   "metadata": {},
   "outputs": [
    {
     "data": {
      "text/plain": [
       "'disqualify'"
      ]
     },
     "execution_count": 119,
     "metadata": {},
     "output_type": "execute_result"
    }
   ],
   "source": [
    "interview(input_list, time_taken)"
   ]
  },
  {
   "cell_type": "code",
   "execution_count": 120,
   "id": "a113d6a8",
   "metadata": {},
   "outputs": [
    {
     "data": {
      "text/plain": [
       "'qualify'"
      ]
     },
     "execution_count": 120,
     "metadata": {},
     "output_type": "execute_result"
    }
   ],
   "source": [
    "interview([5, 5, 10, 10, 15, 15, 20, 20], 120)"
   ]
  },
  {
   "cell_type": "code",
   "execution_count": 121,
   "id": "912d8c6a",
   "metadata": {},
   "outputs": [
    {
     "data": {
      "text/plain": [
       "'qualify'"
      ]
     },
     "execution_count": 121,
     "metadata": {},
     "output_type": "execute_result"
    }
   ],
   "source": [
    "interview([5, 5, 10, 10, 15, 15, 20, 20], 120)"
   ]
  },
  {
   "cell_type": "code",
   "execution_count": 122,
   "id": "3608ec0b",
   "metadata": {},
   "outputs": [
    {
     "data": {
      "text/plain": [
       "'qualify'"
      ]
     },
     "execution_count": 122,
     "metadata": {},
     "output_type": "execute_result"
    }
   ],
   "source": [
    "interview([2, 3, 8, 6, 5, 12, 10, 18], 64)"
   ]
  },
  {
   "cell_type": "code",
   "execution_count": 123,
   "id": "42fb6340",
   "metadata": {},
   "outputs": [
    {
     "data": {
      "text/plain": [
       "'disqualify'"
      ]
     },
     "execution_count": 123,
     "metadata": {},
     "output_type": "execute_result"
    }
   ],
   "source": [
    "interview([5, 5, 10, 10, 25, 15, 20, 20], 120)"
   ]
  },
  {
   "cell_type": "code",
   "execution_count": 124,
   "id": "88516a56",
   "metadata": {},
   "outputs": [
    {
     "data": {
      "text/plain": [
       "'disqualify'"
      ]
     },
     "execution_count": 124,
     "metadata": {},
     "output_type": "execute_result"
    }
   ],
   "source": [
    "interview([5, 5, 10, 10, 15, 15, 20], 120)"
   ]
  },
  {
   "cell_type": "code",
   "execution_count": 131,
   "id": "e93929d7",
   "metadata": {},
   "outputs": [
    {
     "data": {
      "text/plain": [
       "'qualify'"
      ]
     },
     "execution_count": 131,
     "metadata": {},
     "output_type": "execute_result"
    }
   ],
   "source": [
    "interview([5, 5, 10, 10, 15, 15, 20, 20], 120)"
   ]
  },
  {
   "cell_type": "markdown",
   "id": "124d16d3",
   "metadata": {},
   "source": [
    "### 4. Write a function that divides a list into chunks of size n, where n is the length of each chunk.\n",
    "\n",
    "Examples\n",
    "\n",
    "chunkify([2, 3, 4, 5], 2) ➞ [[2, 3], [4, 5]]\n",
    "\n",
    "chunkify([2, 3, 4, 5, 6], 2) ➞ [[2, 3], [4, 5], [6]]\n",
    "\n",
    "chunkify([2, 3, 4, 5, 6, 7], 3) ➞ [[2, 3, 4], [5, 6, 7]]\n",
    "\n",
    "chunkify([2, 3, 4, 5, 6, 7], 1) ➞ [[2], [3], [4], [5], [6], [7]]\n",
    "\n",
    "chunkify([2, 3, 4, 5, 6, 7], 7) ➞ [[2, 3, 4, 5, 6, 7]]\n"
   ]
  },
  {
   "cell_type": "code",
   "execution_count": 63,
   "id": "b33637fc",
   "metadata": {},
   "outputs": [],
   "source": [
    "def chunkify(input_list, n):\n",
    "    output_list =[]\n",
    "    starting_pos = 0\n",
    "    ending_pos = n\n",
    "    for i in range(round(len(input_list)/n +0.1)):\n",
    "        #print(f\"Start:{starting_pos}, Ending pos:{ending_pos}\")\n",
    "        sliced_list = input_list[starting_pos:ending_pos]\n",
    "        #print(f\"inpu_list[{starting_pos}:{ending_pos}] = {sliced_list}\")\n",
    "        starting_pos = ending_pos\n",
    "        ending_pos += n\n",
    "        output_list.append(sliced_list)\n",
    "    return output_list"
   ]
  },
  {
   "cell_type": "code",
   "execution_count": 64,
   "id": "79295ad2",
   "metadata": {},
   "outputs": [
    {
     "data": {
      "text/plain": [
       "[[2, 3], [4, 5]]"
      ]
     },
     "execution_count": 64,
     "metadata": {},
     "output_type": "execute_result"
    }
   ],
   "source": [
    "chunkify([2, 3, 4, 5], 2) #output [[2, 3], [4, 5]]"
   ]
  },
  {
   "cell_type": "code",
   "execution_count": 65,
   "id": "ab6e01de",
   "metadata": {},
   "outputs": [
    {
     "data": {
      "text/plain": [
       "[[2, 3], [4, 5], [6]]"
      ]
     },
     "execution_count": 65,
     "metadata": {},
     "output_type": "execute_result"
    }
   ],
   "source": [
    "chunkify([2, 3, 4, 5, 6], 2) #output [[2, 3], [4, 5], [6]]\n"
   ]
  },
  {
   "cell_type": "code",
   "execution_count": 66,
   "id": "b2fe190a",
   "metadata": {},
   "outputs": [
    {
     "data": {
      "text/plain": [
       "[[2, 3, 4], [5, 6, 7]]"
      ]
     },
     "execution_count": 66,
     "metadata": {},
     "output_type": "execute_result"
    }
   ],
   "source": [
    "chunkify([2, 3, 4, 5, 6, 7], 3) #output [[2, 3, 4], [5, 6, 7]]"
   ]
  },
  {
   "cell_type": "code",
   "execution_count": 67,
   "id": "7cfd4aaa",
   "metadata": {},
   "outputs": [
    {
     "data": {
      "text/plain": [
       "[[2], [3], [4], [5], [6], [7]]"
      ]
     },
     "execution_count": 67,
     "metadata": {},
     "output_type": "execute_result"
    }
   ],
   "source": [
    "chunkify([2, 3, 4, 5, 6, 7], 1) #output [[2], [3], [4], [5], [6], [7]]"
   ]
  },
  {
   "cell_type": "code",
   "execution_count": 68,
   "id": "4c0fdc21",
   "metadata": {},
   "outputs": [
    {
     "data": {
      "text/plain": [
       "[[2, 3, 4, 5, 6, 7]]"
      ]
     },
     "execution_count": 68,
     "metadata": {},
     "output_type": "execute_result"
    }
   ],
   "source": [
    "chunkify([2, 3, 4, 5, 6, 7], 7) #output [[2, 3, 4, 5, 6, 7]]"
   ]
  },
  {
   "cell_type": "markdown",
   "id": "7143dac7",
   "metadata": {},
   "source": [
    "### 5. You are given a list of strings consisting of grocery items, with prices in parentheses. Return a list of prices in float format.\n",
    "\n",
    "Examples\n",
    "\n",
    "get_prices([\"salad ($4.99)\"]) ➞ [4.99]\n",
    "\n",
    "get_prices([</p>\n",
    "\n",
    "\"artichokes ($1.99)\",\n",
    "\n",
    "  \"rotiserrie chicken ($5.99)\",\n",
    "\n",
    "\"gum ($0.75)\"\n",
    "\n",
    "])\n",
    "\n",
    "➞ [1.99, 5.99, 0.75]\n",
    "\n",
    "get_prices([\n",
    "\n",
    "\"ice cream ($5.99)\",\n",
    "\n",
    "\"banana ($0.20)\",\n",
    "\n",
    "\"sandwich ($8.50)\",\n",
    "\n",
    "\"soup ($1.99)\"\n",
    "\n",
    "])\n",
    "\n",
    "➞ [5.99, 0.2, 8.50, 1.99]\n",
    "</p>"
   ]
  },
  {
   "cell_type": "code",
   "execution_count": 9,
   "id": "ae1cf34b",
   "metadata": {},
   "outputs": [
    {
     "data": {
      "text/plain": [
       "'soup ($10.0)'"
      ]
     },
     "execution_count": 9,
     "metadata": {},
     "output_type": "execute_result"
    }
   ],
   "source": [
    "a"
   ]
  },
  {
   "cell_type": "code",
   "execution_count": 16,
   "id": "885f91bc",
   "metadata": {},
   "outputs": [
    {
     "data": {
      "text/plain": [
       "'$10.0'"
      ]
     },
     "execution_count": 16,
     "metadata": {},
     "output_type": "execute_result"
    }
   ],
   "source": [
    "a[a.index(\"(\")+1:a.index(\")\")]"
   ]
  },
  {
   "cell_type": "code",
   "execution_count": 22,
   "id": "451f6399",
   "metadata": {},
   "outputs": [],
   "source": [
    "def get_prices(input_list):\n",
    "    price_list = []\n",
    "    for item in input_list:\n",
    "        price = item[item.index(\"(\")+1:item.index(\")\")]\n",
    "        price = price.strip()\n",
    "        price = price.replace(\"$\", \"\")\n",
    "        price_list.append(float(price))\n",
    "    return price_list"
   ]
  },
  {
   "cell_type": "code",
   "execution_count": 23,
   "id": "4745fc59",
   "metadata": {},
   "outputs": [
    {
     "data": {
      "text/plain": [
       "[5.99, 0.2, 8.5, 1.99]"
      ]
     },
     "execution_count": 23,
     "metadata": {},
     "output_type": "execute_result"
    }
   ],
   "source": [
    "get_prices([\n",
    "\n",
    "\"ice cream ($5.99)\",\n",
    "\n",
    "\"banana ($0.20)\",\n",
    "\n",
    "\"sandwich ($8.50)\",\n",
    "\n",
    "\"soup ($1.99)\"\n",
    "\n",
    "])"
   ]
  },
  {
   "cell_type": "code",
   "execution_count": 24,
   "id": "0b49eda2",
   "metadata": {},
   "outputs": [
    {
     "data": {
      "text/plain": [
       "[4.99]"
      ]
     },
     "execution_count": 24,
     "metadata": {},
     "output_type": "execute_result"
    }
   ],
   "source": [
    "get_prices([\"salad ($4.99)\"])"
   ]
  },
  {
   "cell_type": "code",
   "execution_count": 26,
   "id": "090b49da",
   "metadata": {},
   "outputs": [
    {
     "data": {
      "text/plain": [
       "[1.99, 5.99, 0.75]"
      ]
     },
     "execution_count": 26,
     "metadata": {},
     "output_type": "execute_result"
    }
   ],
   "source": [
    "get_prices([\n",
    "\n",
    "\"artichokes ($1.99)\",\n",
    "\n",
    "\"rotiserrie chicken ($5.99)\",\n",
    "\n",
    "\"gum ($0.75)\"\n",
    "\n",
    "])"
   ]
  },
  {
   "cell_type": "code",
   "execution_count": null,
   "id": "5b41dd0f",
   "metadata": {},
   "outputs": [],
   "source": []
  }
 ],
 "metadata": {
  "kernelspec": {
   "display_name": "Python 3",
   "language": "python",
   "name": "python3"
  },
  "language_info": {
   "codemirror_mode": {
    "name": "ipython",
    "version": 3
   },
   "file_extension": ".py",
   "mimetype": "text/x-python",
   "name": "python",
   "nbconvert_exporter": "python",
   "pygments_lexer": "ipython3",
   "version": "3.8.8"
  }
 },
 "nbformat": 4,
 "nbformat_minor": 5
}
