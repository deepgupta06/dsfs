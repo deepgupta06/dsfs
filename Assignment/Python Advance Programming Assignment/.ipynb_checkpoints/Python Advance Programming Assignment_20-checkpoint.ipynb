{
 "cells": [
  {
   "cell_type": "markdown",
   "id": "c87e7fe7",
   "metadata": {},
   "source": [
    "# Python Advance Programming Assignment_20"
   ]
  },
  {
   "cell_type": "markdown",
   "id": "73905176",
   "metadata": {},
   "source": [
    "### 1. Create a function based on the input and output. Look at the examples, there is a pattern.\n",
    "\n",
    "Examples\n",
    "\n",
    "secret(\"p.one.two.three\") ➞ \"<.p class='one two three'></.p>\"\n",
    "\n",
    "secret(\"p.one\") ➞ \"<.p class='one'></.p>\"\n",
    "\n",
    "secret(\"p.four.five\") ➞ \"<.p class='four five'></.p>\"\n",
    "\n"
   ]
  },
  {
   "cell_type": "code",
   "execution_count": 15,
   "id": "7d094ae3",
   "metadata": {},
   "outputs": [],
   "source": [
    "def secret(input_string):\n",
    "    input_string = input_string.split(\".\")\n",
    "    return f\"<{input_string[0]} class=\\'{' '.join(input_string[1:len(input_string)])}\\'></{input_string[0]}>\""
   ]
  },
  {
   "cell_type": "code",
   "execution_count": 17,
   "id": "37c32676",
   "metadata": {},
   "outputs": [
    {
     "data": {
      "text/plain": [
       "\"<p class='one'></p>\""
      ]
     },
     "execution_count": 17,
     "metadata": {},
     "output_type": "execute_result"
    }
   ],
   "source": [
    "secret(\"p.one\")"
   ]
  },
  {
   "cell_type": "code",
   "execution_count": 18,
   "id": "5e612d37",
   "metadata": {},
   "outputs": [
    {
     "data": {
      "text/plain": [
       "\"<p class='four five'></p>\""
      ]
     },
     "execution_count": 18,
     "metadata": {},
     "output_type": "execute_result"
    }
   ],
   "source": [
    "secret(\"p.four.five\")"
   ]
  },
  {
   "cell_type": "code",
   "execution_count": 16,
   "id": "44237eda",
   "metadata": {},
   "outputs": [
    {
     "data": {
      "text/plain": [
       "\"<p class='one two three'></p>\""
      ]
     },
     "execution_count": 16,
     "metadata": {},
     "output_type": "execute_result"
    }
   ],
   "source": [
    "secret(\"p.one.two.three\")"
   ]
  },
  {
   "cell_type": "markdown",
   "id": "f5582d17",
   "metadata": {},
   "source": [
    "### 2. Create a function which counts how many lone 1s appear in a given number. Lone means the number doesn't appear twice or more in a row.\n",
    "\n",
    "Examples\n",
    "\n",
    "count_lone_ones(101) ➞ 2\n",
    "\n",
    "count_lone_ones(1191) ➞ 1\n",
    "\n",
    "count_lone_ones(1111) ➞ 0\n",
    "\n",
    "count_lone_ones(462) ➞ 0\n"
   ]
  },
  {
   "cell_type": "code",
   "execution_count": 44,
   "id": "96c8d0ed",
   "metadata": {},
   "outputs": [],
   "source": [
    "def count_lone_ones(input_number):\n",
    "    input_number_str = str(input_number)\n",
    "    count = 0\n",
    "    for i in range(0, len(input_number_str)):\n",
    "        if i ==0:\n",
    "            if  input_number_str[i+1] != \"1\" and input_number_str[i]==\"1\":\n",
    "                count +=1\n",
    "        elif i == len(input_number_str)-1:\n",
    "            if  input_number_str[i-1] != \"1\" and input_number_str[i]==\"1\":\n",
    "                count +=1\n",
    "        else:\n",
    "            if input_number_str[i-1]!=\"1\" and input_number_str[i+1] != \"1\" and input_number_str[i]==\"1\":\n",
    "                count +=1\n",
    "    return count"
   ]
  },
  {
   "cell_type": "code",
   "execution_count": 45,
   "id": "43960ddd",
   "metadata": {},
   "outputs": [
    {
     "data": {
      "text/plain": [
       "2"
      ]
     },
     "execution_count": 45,
     "metadata": {},
     "output_type": "execute_result"
    }
   ],
   "source": [
    "count_lone_ones(101)"
   ]
  },
  {
   "cell_type": "code",
   "execution_count": 46,
   "id": "5f6cc01f",
   "metadata": {},
   "outputs": [
    {
     "data": {
      "text/plain": [
       "1"
      ]
     },
     "execution_count": 46,
     "metadata": {},
     "output_type": "execute_result"
    }
   ],
   "source": [
    "count_lone_ones(1191)"
   ]
  },
  {
   "cell_type": "code",
   "execution_count": 47,
   "id": "11460845",
   "metadata": {},
   "outputs": [
    {
     "data": {
      "text/plain": [
       "0"
      ]
     },
     "execution_count": 47,
     "metadata": {},
     "output_type": "execute_result"
    }
   ],
   "source": [
    "count_lone_ones(492)"
   ]
  },
  {
   "cell_type": "code",
   "execution_count": 48,
   "id": "0d574890",
   "metadata": {},
   "outputs": [
    {
     "data": {
      "text/plain": [
       "3"
      ]
     },
     "execution_count": 48,
     "metadata": {},
     "output_type": "execute_result"
    }
   ],
   "source": [
    "count_lone_ones(110101101011101)"
   ]
  },
  {
   "cell_type": "code",
   "execution_count": 49,
   "id": "a6f914e2",
   "metadata": {},
   "outputs": [
    {
     "data": {
      "text/plain": [
       "0"
      ]
     },
     "execution_count": 49,
     "metadata": {},
     "output_type": "execute_result"
    }
   ],
   "source": [
    "count_lone_ones(1111)"
   ]
  },
  {
   "cell_type": "markdown",
   "id": "ebafc93d",
   "metadata": {},
   "source": [
    "### 3. Write a method that accepts two integer parameters rows and cols. The output is a 2d array of numbers displayed in column-major order, meaning the numbers shown increase sequentially down each column and wrap to the top of the next column to the right once the bottom of the current column is reached.\n",
    "\n",
    "Examples\n",
    "\n",
    "printGrid(3, 6) ➞ [\n",
    "  [1, 4, 7, 10, 13, 16],\n",
    "  [2, 5, 8, 11, 14, 17],\n",
    "  [3, 6, 9, 12, 15, 18]\n",
    "]\n",
    "\n",
    "printGrid(5, 3) ➞ [\n",
    "  [1, 6, 11],\n",
    "  [2, 7, 12],\n",
    "  [3, 8, 13],\n",
    "  [4, 9, 14],\n",
    "  [5, 10, 15]\n",
    "]\n",
    "\n",
    "printGrid(4, 1) ➞ [\n",
    "  [1],\n",
    "  [2],\n",
    "  [3],\n",
    "  [4]\n",
    "]\n",
    "\n"
   ]
  },
  {
   "cell_type": "code",
   "execution_count": 60,
   "id": "08a1b476",
   "metadata": {},
   "outputs": [],
   "source": [
    "def printGrid(m, n):\n",
    "    output=[]\n",
    "    for i in range(1,m+1):\n",
    "        row = list(range(i, i+(m*n),m))\n",
    "        output.append(row)\n",
    "    return output"
   ]
  },
  {
   "cell_type": "code",
   "execution_count": 62,
   "id": "4236c497",
   "metadata": {},
   "outputs": [
    {
     "data": {
      "text/plain": [
       "[[1, 4, 7, 10, 13, 16], [2, 5, 8, 11, 14, 17], [3, 6, 9, 12, 15, 18]]"
      ]
     },
     "execution_count": 62,
     "metadata": {},
     "output_type": "execute_result"
    }
   ],
   "source": [
    "printGrid(3,6)"
   ]
  },
  {
   "cell_type": "code",
   "execution_count": 64,
   "id": "de420735",
   "metadata": {},
   "outputs": [
    {
     "data": {
      "text/plain": [
       "[[1], [2], [3], [4]]"
      ]
     },
     "execution_count": 64,
     "metadata": {},
     "output_type": "execute_result"
    }
   ],
   "source": [
    "printGrid(4,1)"
   ]
  },
  {
   "cell_type": "code",
   "execution_count": 65,
   "id": "a17836b3",
   "metadata": {},
   "outputs": [
    {
     "data": {
      "text/plain": [
       "[[1, 6, 11], [2, 7, 12], [3, 8, 13], [4, 9, 14], [5, 10, 15]]"
      ]
     },
     "execution_count": 65,
     "metadata": {},
     "output_type": "execute_result"
    }
   ],
   "source": [
    "printGrid(5,3)"
   ]
  },
  {
   "cell_type": "code",
   "execution_count": null,
   "id": "f0cf47d2",
   "metadata": {},
   "outputs": [],
   "source": [
    "4. Given a list of integers, return the smallest positive integer not present in the list.\n",
    "\n",
    "Here is a representative example. Consider the list:\n",
    "\n",
    "[-2, 6, 4, 5, 7, -1, 7, 1, 3, 6, 6, -2, 9, 10, 2, 2]\n",
    "\n",
    "After reordering, the list becomes:\n",
    "\n",
    "[-2, -2, -1, 1, 2, 2, 3, 4, 5, 6, 6, 6, 7, 7, 9, 10]\n",
    "\n",
    "from which we see that the smallest missing positive integer is 8.\n",
    "\n",
    "Examples\n",
    "\n",
    "min_miss_pos([-2, 6, 4, 5, 7, -1, 1, 3, 6, -2, 9, 10, 2, 2]) ➞ 8\n",
    "# After sorting, list becomes [-2, -2, -1, 1, 2, 2, 3, 4, 5, 6, 6, 7, 9, 10]\n",
    "# So the smallest missing positive integer is 8\n",
    "\n",
    "min_miss_pos([5, 9, -2, 0, 1, 3, 9, 3, 8, 9]) ➞ 2\n",
    "# After sorting, list becomes [-2, 0, 1, 3, 3, 5, 8, 9, 9, 9]\n",
    "# So the smallest missing positive integer is 2\n",
    "\n",
    "min_miss_pos([0, 4, 4, -1, 9, 4, 5, 2, 10, 7, 6, 3, 10, 9]) ➞ 1\n",
    "# After sorting, list becomes [-1, 0, 2, 3, 4, 4, 4, 5, 6, 7, 9, 9, 10, 10]\n",
    "# So the smallest missing positive integer is 1\n"
   ]
  },
  {
   "cell_type": "code",
   "execution_count": null,
   "id": "d5c1d71b",
   "metadata": {},
   "outputs": [],
   "source": []
  },
  {
   "cell_type": "code",
   "execution_count": null,
   "id": "d1683e6c",
   "metadata": {},
   "outputs": [],
   "source": []
  },
  {
   "cell_type": "code",
   "execution_count": null,
   "id": "67451476",
   "metadata": {},
   "outputs": [],
   "source": [
    "5. Google is launching a network of autonomous pizza delivery drones and wants you to create a flexible rewards system (Pizza Points™) that can be tweaked in the future. The rules are simple: if a customer has made at least N orders of at least Y price, they get a FREE pizza!\n",
    "\n",
    "Create a function that takes a dictionary of customers, a minimum number of orders and a minimum order price. Return a list of customers that are eligible for a free pizza.\n",
    "\n",
    "Examples\n",
    "\n",
    "customers = {\n",
    "  \"Batman\": [22, 30, 11, 17, 15, 52, 27, 12],\n",
    "  \"Spider-Man\": [5, 17, 30, 33, 40, 22, 26, 10, 11, 45]\n",
    "}\n",
    "\n",
    "  pizza_points(customers, 5, 20) ➞ [\"Spider-Man\"]\n",
    "\n",
    "  pizza_points(customers, 3, 10) ➞ [\"Batman\", \"Spider-Man\"]\n",
    "\n",
    "  pizza_points(customers, 5, 100) ➞ []\n"
   ]
  },
  {
   "cell_type": "code",
   "execution_count": null,
   "id": "b0dbe368",
   "metadata": {},
   "outputs": [],
   "source": []
  },
  {
   "cell_type": "code",
   "execution_count": null,
   "id": "37e6625f",
   "metadata": {},
   "outputs": [],
   "source": []
  },
  {
   "cell_type": "code",
   "execution_count": null,
   "id": "de1e0316",
   "metadata": {},
   "outputs": [],
   "source": []
  },
  {
   "cell_type": "code",
   "execution_count": null,
   "id": "09d0116e",
   "metadata": {},
   "outputs": [],
   "source": []
  },
  {
   "cell_type": "code",
   "execution_count": null,
   "id": "24bc73e6",
   "metadata": {},
   "outputs": [],
   "source": []
  },
  {
   "cell_type": "code",
   "execution_count": null,
   "id": "225967a8",
   "metadata": {},
   "outputs": [],
   "source": []
  },
  {
   "cell_type": "code",
   "execution_count": null,
   "id": "30093307",
   "metadata": {},
   "outputs": [],
   "source": []
  },
  {
   "cell_type": "code",
   "execution_count": null,
   "id": "619b3ede",
   "metadata": {},
   "outputs": [],
   "source": []
  },
  {
   "cell_type": "code",
   "execution_count": null,
   "id": "16d5948e",
   "metadata": {},
   "outputs": [],
   "source": []
  },
  {
   "cell_type": "code",
   "execution_count": null,
   "id": "e6579ea1",
   "metadata": {},
   "outputs": [],
   "source": []
  },
  {
   "cell_type": "code",
   "execution_count": null,
   "id": "90f33b76",
   "metadata": {},
   "outputs": [],
   "source": []
  },
  {
   "cell_type": "code",
   "execution_count": null,
   "id": "b3f37b06",
   "metadata": {},
   "outputs": [],
   "source": [
    "a"
   ]
  }
 ],
 "metadata": {
  "kernelspec": {
   "display_name": "Python 3",
   "language": "python",
   "name": "python3"
  },
  "language_info": {
   "codemirror_mode": {
    "name": "ipython",
    "version": 3
   },
   "file_extension": ".py",
   "mimetype": "text/x-python",
   "name": "python",
   "nbconvert_exporter": "python",
   "pygments_lexer": "ipython3",
   "version": "3.8.8"
  }
 },
 "nbformat": 4,
 "nbformat_minor": 5
}
