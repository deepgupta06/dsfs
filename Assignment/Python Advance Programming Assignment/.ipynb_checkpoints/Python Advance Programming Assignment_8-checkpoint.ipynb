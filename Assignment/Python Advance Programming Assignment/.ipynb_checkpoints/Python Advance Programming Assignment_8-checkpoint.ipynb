{
 "cells": [
  {
   "cell_type": "markdown",
   "id": "742c3412",
   "metadata": {},
   "source": [
    "# Python Advance Programming Assignment_8"
   ]
  },
  {
   "cell_type": "markdown",
   "id": "97dfd3cc",
   "metadata": {},
   "source": [
    "### 1. Given a sentence as txt, return True if any two adjacent words have this property: One word ends with a vowel, while the word immediately after begins with a vowel (a e i o u).\n",
    "\n",
    "Examples\n",
    "\n",
    "vowel_links(\"a very large appliance\") ➞ True\n",
    "\n",
    "vowel_links(\"go to edabit\") ➞ True\n",
    "\n",
    "vowel_links(\"an open fire\") ➞ False\n",
    "\n",
    "vowel_links(\"a sudden applause\") ➞ False\n"
   ]
  },
  {
   "cell_type": "code",
   "execution_count": 1,
   "id": "ae99de90",
   "metadata": {},
   "outputs": [],
   "source": [
    "def vowel_links(input_string):\n",
    "    string_split = input_string.split()\n",
    "    vowel = [\"a\",\"e\", \"i\", \"o\", \"u\"]\n",
    "    checker = False\n",
    "    for idx in range(len(string_split)-1):\n",
    "        if string_split[idx][len(string_split[idx])-1] in vowel and string_split[idx+1][0] in vowel:\n",
    "            checker = True\n",
    "        else:\n",
    "            checker = False\n",
    "    return checker\n",
    "        #print(string_split[idx][len(string_split[idx])-1], string_split[idx+1][0])\n",
    "        #print(string_split[idx], string_split[idx], item[len(item)-1])"
   ]
  },
  {
   "cell_type": "code",
   "execution_count": 2,
   "id": "0e0cf56c",
   "metadata": {},
   "outputs": [
    {
     "data": {
      "text/plain": [
       "True"
      ]
     },
     "execution_count": 2,
     "metadata": {},
     "output_type": "execute_result"
    }
   ],
   "source": [
    "vowel_links(\"a very large appliance\")"
   ]
  },
  {
   "cell_type": "code",
   "execution_count": 3,
   "id": "55ae64bb",
   "metadata": {},
   "outputs": [
    {
     "data": {
      "text/plain": [
       "False"
      ]
     },
     "execution_count": 3,
     "metadata": {},
     "output_type": "execute_result"
    }
   ],
   "source": [
    "vowel_links(\"an open fire\")"
   ]
  },
  {
   "cell_type": "code",
   "execution_count": 4,
   "id": "1a85aef7",
   "metadata": {},
   "outputs": [
    {
     "data": {
      "text/plain": [
       "False"
      ]
     },
     "execution_count": 4,
     "metadata": {},
     "output_type": "execute_result"
    }
   ],
   "source": [
    "vowel_links(\"a sudden applause\")"
   ]
  },
  {
   "cell_type": "code",
   "execution_count": 5,
   "id": "28f524cc",
   "metadata": {},
   "outputs": [
    {
     "data": {
      "text/plain": [
       "True"
      ]
     },
     "execution_count": 5,
     "metadata": {},
     "output_type": "execute_result"
    }
   ],
   "source": [
    "vowel_links(\"go to edabit\")"
   ]
  },
  {
   "cell_type": "markdown",
   "id": "bbcf7929",
   "metadata": {},
   "source": [
    "### 2. You are given three inputs: a string, one letter, and a second letter.\n",
    "\n",
    "Write a function that returns True if every instance of the first letter occurs before every instance of the second letter.\n",
    "\n",
    "Examples\n",
    "\n",
    "first_before_second(\"a rabbit jumps joyfully\", \"a\", \"j\") ➞ True\n",
    "\n",
    "#Every instance of \"a\" occurs before every instance of \"j\".\n",
    "\n",
    "first_before_second(\"knaves knew about waterfalls\", \"k\", \"w\") ➞  True\n",
    "\n",
    "first_before_second(\"happy birthday\", \"a\", \"y\") ➞ False\n",
    "\n",
    "#The \"a\" in \"birthday\" occurs after the \"y\" in \"happy\".\n",
    "\n",
    "first_before_second(\"precarious kangaroos\", \"k\", \"a\") ➞ False\n"
   ]
  },
  {
   "cell_type": "code",
   "execution_count": 6,
   "id": "eeca15ab",
   "metadata": {},
   "outputs": [],
   "source": [
    "def index_(input_, looking_item, occurrence=1):\n",
    "    \"\"\"This function will use to find out the position of lookup item in iterable object.\n",
    "    input_: iterable object\n",
    "    looking_item: The item which we are looking for\n",
    "    occurance:This is an optional argument\"\"\"\n",
    "    input_item_dic = {}\n",
    "    for idx, item in enumerate(input_):\n",
    "        if item == looking_item and occurrence == input_[0:idx+1].count(looking_item):\n",
    "            return idx\n",
    "\n",
    "def first_before_second(input_string, first, second):\n",
    "    first_index = []\n",
    "    second_index = []\n",
    "    for i in range(1,input_string.count(first)+1):\n",
    "        if index_(input_string, first,i):\n",
    "            first_index.append(index_(input_string, first,i))\n",
    "    for i in range(1,input_string.count(second)+1):\n",
    "        if index_(input_string, second,i):\n",
    "            second_index.append(index_(input_string, second,i))\n",
    "    if max(first_index)<min(second_index):\n",
    "        return True\n",
    "    else:\n",
    "        return False"
   ]
  },
  {
   "cell_type": "code",
   "execution_count": 7,
   "id": "ec3a527e",
   "metadata": {},
   "outputs": [
    {
     "data": {
      "text/plain": [
       "True"
      ]
     },
     "execution_count": 7,
     "metadata": {},
     "output_type": "execute_result"
    }
   ],
   "source": [
    "first_before_second(\"knaves knew about waterfalls\", \"k\", \"w\")"
   ]
  },
  {
   "cell_type": "code",
   "execution_count": 8,
   "id": "77fdf5f5",
   "metadata": {},
   "outputs": [
    {
     "data": {
      "text/plain": [
       "True"
      ]
     },
     "execution_count": 8,
     "metadata": {},
     "output_type": "execute_result"
    }
   ],
   "source": [
    "first_before_second(\"a rabbit jumps joyfully\", \"a\", \"j\")"
   ]
  },
  {
   "cell_type": "code",
   "execution_count": 9,
   "id": "bfdb72a9",
   "metadata": {},
   "outputs": [
    {
     "data": {
      "text/plain": [
       "False"
      ]
     },
     "execution_count": 9,
     "metadata": {},
     "output_type": "execute_result"
    }
   ],
   "source": [
    "first_before_second(\"happy birthday\", \"a\", \"y\")"
   ]
  },
  {
   "cell_type": "code",
   "execution_count": 10,
   "id": "e67fdfe9",
   "metadata": {},
   "outputs": [
    {
     "data": {
      "text/plain": [
       "False"
      ]
     },
     "execution_count": 10,
     "metadata": {},
     "output_type": "execute_result"
    }
   ],
   "source": [
    "first_before_second(\"precarious kangaroos\", \"k\", \"a\")"
   ]
  },
  {
   "cell_type": "markdown",
   "id": "2c9801fd",
   "metadata": {},
   "source": [
    "### 3. Create a function that returns the characters from a list or string r on odd or even positions, depending on the specifier s. The specifier will be \"odd\" for items on odd positions (1, 3, 5, ...) and \"even\" for items on even positions (2, 4, 6, ...).\n",
    "\n",
    "Examples\n",
    "\n",
    "char_at_pos([2, 4, 6, 8, 10], \"even\") ➞ [4, 8]\n",
    "\n",
    "#4 & 8 occupy the 2nd & 4th positions\n",
    "\n",
    "char_at_pos(\"EDABIT\", \"odd\") ➞ \"EAI\"\n",
    "\n",
    "#\"E\", \"A\" and \"I\" occupy the 1st, 3rd and 5th positions\n",
    "\n",
    "char_at_pos([\"A\", \"R\", \"B\", \"I\", \"T\", \"R\", \"A\", \"R\", \"I\", \"L\", \"Y\"], \"odd\") ➞ [\"A\", \"B\", \"T\", \"A\", \"I\", \"Y\"]\n"
   ]
  },
  {
   "cell_type": "code",
   "execution_count": 11,
   "id": "82a54f15",
   "metadata": {},
   "outputs": [],
   "source": [
    "input_ = \"mynameisdeep\""
   ]
  },
  {
   "cell_type": "code",
   "execution_count": 12,
   "id": "85b96208",
   "metadata": {},
   "outputs": [],
   "source": [
    "def is_even(num):\n",
    "    if num%2==0:\n",
    "        return True\n",
    "    else:\n",
    "        return False\n",
    "def char_at_pos(input_, specifier):\n",
    "    output_even = []\n",
    "    output_odd = []\n",
    "    if type(input_) != str and type(input_) != list:\n",
    "        raise TypeError(f\"input_ data type must be str or list type.\")\n",
    "    else:\n",
    "        for i in range(len(input_)):\n",
    "            if is_even(i+1):\n",
    "                output_even.append(input_[i])\n",
    "            else:\n",
    "                output_odd.append(input_[i])\n",
    "\n",
    "        if type(input_)==list:\n",
    "            if specifier == \"even\":\n",
    "                return output_even\n",
    "            else:\n",
    "                return output_odd\n",
    "        else:\n",
    "            if specifier == \"even\":\n",
    "                return \"\".join(output_even)\n",
    "            else:\n",
    "                return \"\".join(output_odd)"
   ]
  },
  {
   "cell_type": "code",
   "execution_count": 13,
   "id": "9204810f",
   "metadata": {},
   "outputs": [
    {
     "data": {
      "text/plain": [
       "[4, 8]"
      ]
     },
     "execution_count": 13,
     "metadata": {},
     "output_type": "execute_result"
    }
   ],
   "source": [
    "char_at_pos([2, 4, 6, 8, 10], \"even\")"
   ]
  },
  {
   "cell_type": "code",
   "execution_count": 14,
   "id": "348eb6d5",
   "metadata": {},
   "outputs": [
    {
     "data": {
      "text/plain": [
       "'EAI'"
      ]
     },
     "execution_count": 14,
     "metadata": {},
     "output_type": "execute_result"
    }
   ],
   "source": [
    "char_at_pos(\"EDABIT\", \"odd\")"
   ]
  },
  {
   "cell_type": "code",
   "execution_count": 15,
   "id": "0e71321c",
   "metadata": {},
   "outputs": [
    {
     "data": {
      "text/plain": [
       "['A', 'B', 'T', 'A', 'I', 'Y']"
      ]
     },
     "execution_count": 15,
     "metadata": {},
     "output_type": "execute_result"
    }
   ],
   "source": [
    "char_at_pos([\"A\", \"R\", \"B\", \"I\", \"T\", \"R\", \"A\", \"R\", \"I\", \"L\", \"Y\"], \"odd\")"
   ]
  },
  {
   "cell_type": "code",
   "execution_count": 16,
   "id": "96799f87",
   "metadata": {},
   "outputs": [
    {
     "ename": "TypeError",
     "evalue": "input_ data type must be str or list type.",
     "output_type": "error",
     "traceback": [
      "\u001b[1;31m---------------------------------------------------------------------------\u001b[0m",
      "\u001b[1;31mTypeError\u001b[0m                                 Traceback (most recent call last)",
      "\u001b[1;32m<ipython-input-16-96ad0446cd2f>\u001b[0m in \u001b[0;36m<module>\u001b[1;34m\u001b[0m\n\u001b[1;32m----> 1\u001b[1;33m \u001b[0mchar_at_pos\u001b[0m\u001b[1;33m(\u001b[0m\u001b[1;36m1\u001b[0m\u001b[1;33m,\u001b[0m \u001b[1;34m\"odd\"\u001b[0m\u001b[1;33m)\u001b[0m\u001b[1;33m\u001b[0m\u001b[1;33m\u001b[0m\u001b[0m\n\u001b[0m",
      "\u001b[1;32m<ipython-input-12-d8d5d6b5e849>\u001b[0m in \u001b[0;36mchar_at_pos\u001b[1;34m(input_, specifier)\u001b[0m\n\u001b[0;32m      8\u001b[0m     \u001b[0moutput_odd\u001b[0m \u001b[1;33m=\u001b[0m \u001b[1;33m[\u001b[0m\u001b[1;33m]\u001b[0m\u001b[1;33m\u001b[0m\u001b[1;33m\u001b[0m\u001b[0m\n\u001b[0;32m      9\u001b[0m     \u001b[1;32mif\u001b[0m \u001b[0mtype\u001b[0m\u001b[1;33m(\u001b[0m\u001b[0minput_\u001b[0m\u001b[1;33m)\u001b[0m \u001b[1;33m!=\u001b[0m \u001b[0mstr\u001b[0m \u001b[1;32mand\u001b[0m \u001b[0mtype\u001b[0m\u001b[1;33m(\u001b[0m\u001b[0minput_\u001b[0m\u001b[1;33m)\u001b[0m \u001b[1;33m!=\u001b[0m \u001b[0mlist\u001b[0m\u001b[1;33m:\u001b[0m\u001b[1;33m\u001b[0m\u001b[1;33m\u001b[0m\u001b[0m\n\u001b[1;32m---> 10\u001b[1;33m         \u001b[1;32mraise\u001b[0m \u001b[0mTypeError\u001b[0m\u001b[1;33m(\u001b[0m\u001b[1;34mf\"input_ data type must be str or list type.\"\u001b[0m\u001b[1;33m)\u001b[0m\u001b[1;33m\u001b[0m\u001b[1;33m\u001b[0m\u001b[0m\n\u001b[0m\u001b[0;32m     11\u001b[0m     \u001b[1;32melse\u001b[0m\u001b[1;33m:\u001b[0m\u001b[1;33m\u001b[0m\u001b[1;33m\u001b[0m\u001b[0m\n\u001b[0;32m     12\u001b[0m         \u001b[1;32mfor\u001b[0m \u001b[0mi\u001b[0m \u001b[1;32min\u001b[0m \u001b[0mrange\u001b[0m\u001b[1;33m(\u001b[0m\u001b[0mlen\u001b[0m\u001b[1;33m(\u001b[0m\u001b[0minput_\u001b[0m\u001b[1;33m)\u001b[0m\u001b[1;33m)\u001b[0m\u001b[1;33m:\u001b[0m\u001b[1;33m\u001b[0m\u001b[1;33m\u001b[0m\u001b[0m\n",
      "\u001b[1;31mTypeError\u001b[0m: input_ data type must be str or list type."
     ]
    }
   ],
   "source": [
    "char_at_pos(1, \"odd\")"
   ]
  },
  {
   "cell_type": "markdown",
   "id": "ec6efd71",
   "metadata": {},
   "source": [
    "### 4. Write a function that returns the greatest common divisor of all list elements. If the greatest common divisor is 1, return 1.\n",
    "\n",
    "Examples\n",
    "\n",
    "GCD([10, 20, 40]) ➞ 10\n",
    "\n",
    "GCD([1, 2, 3, 100]) ➞ 1\n",
    "\n",
    "GCD([1024, 192, 2048, 512]) ➞ 64\n"
   ]
  },
  {
   "cell_type": "code",
   "execution_count": 17,
   "id": "e41308fd",
   "metadata": {},
   "outputs": [],
   "source": [
    "def GCD(input_list):\n",
    "    common_div = []\n",
    "    for i in range(1,max(input_list)):\n",
    "        count = 0\n",
    "        for item in input_list:\n",
    "            if item%i==0:\n",
    "                count += 1\n",
    "            if count ==len(input_list):\n",
    "                common_div.append(i)\n",
    "    return max(common_div)"
   ]
  },
  {
   "cell_type": "code",
   "execution_count": 18,
   "id": "26a4f0a7",
   "metadata": {},
   "outputs": [
    {
     "data": {
      "text/plain": [
       "64"
      ]
     },
     "execution_count": 18,
     "metadata": {},
     "output_type": "execute_result"
    }
   ],
   "source": [
    "GCD([1024, 192, 2048, 512])"
   ]
  },
  {
   "cell_type": "code",
   "execution_count": 19,
   "id": "76769c13",
   "metadata": {},
   "outputs": [
    {
     "data": {
      "text/plain": [
       "1"
      ]
     },
     "execution_count": 19,
     "metadata": {},
     "output_type": "execute_result"
    }
   ],
   "source": [
    "GCD([1, 2, 3, 100])"
   ]
  },
  {
   "cell_type": "markdown",
   "id": "4fd4afd4",
   "metadata": {},
   "source": [
    "### 5. A number/string is a palindrome if the digits/characters are the same when read both forward and backward. Examples include \"racecar\" and 12321. Given a positive number n, check if n or the binary representation of n is palindromic. Return the following:\n",
    "\n",
    "- \"Decimal only.\" if only n is a palindrome.\n",
    "- \"Binary only.\" if only the binary representation of n is a palindrome.\n",
    "- \"Decimal and binary.\" if both are palindromes.\n",
    "- \"Neither!\" if neither are palindromes.\n",
    "\n",
    "Examples\n",
    "\n",
    "palindrome_type(1306031) ➞ \"Decimal only.\"\n",
    "\n",
    "#decimal = 1306031\n",
    "\n",
    "#binary  = \"100111110110110101111\"\n",
    "\n",
    "palindrome_type(427787) ➞ \"Binary only.\"\n",
    "\n",
    "#decimal = 427787\n",
    "\n",
    "#binary  = \"1101000011100001011\"\n",
    "\n",
    "palindrome_type(313) ➞ \"Decimal and binary.\"\n",
    "\n",
    "#decimal = 313\n",
    "\n",
    "#binary  = 100111001\n",
    "\n",
    "palindrome_type(934) ➞ \"Neither!\"\n",
    "\n",
    "#decimal = 934\n",
    "\n",
    "#binary  = \"1110100110\"\n"
   ]
  },
  {
   "cell_type": "code",
   "execution_count": 20,
   "id": "1acaa3c8",
   "metadata": {},
   "outputs": [],
   "source": [
    "def decconvert(num, convert_to):\n",
    "    \"\"\"This function will take a decimal number as input \n",
    "    and number format which we want to convert, \n",
    "    and as a return it will give us the required converted value.\"\"\"\n",
    "    qu = num\n",
    "    list_ = []\n",
    "    binary_digit = [\"0\", \"1\"]\n",
    "    oct_digit = [\"0\", \"1\", \"2\", \"3\", \"4\", \"5\", \"6\", \"7\", \"8\"]\n",
    "    hex_digit = [\"0\", \"1\", \"2\", \"3\", \"4\", \"5\", \"6\", \"7\", \"8\", \"9\", \"A\", \"B\", \"C\", \"D\", \"E\", \"F\"]    \n",
    "    \n",
    "    conversion_value = {\"bin\":{\"base\":2, \"digit\":binary_digit},\n",
    "                        \"oct\":{\"base\":8, \"digit\":oct_digit},\n",
    "                        \"hex\":{\"base\":16, \"digit\": hex_digit}}\n",
    "    \n",
    "    while qu > 1:\n",
    "        reminder = qu%conversion_value[convert_to][\"base\"]\n",
    "        qu = int(qu/conversion_value[convert_to][\"base\"])\n",
    "        list_.append(conversion_value[convert_to][\"digit\"][reminder])\n",
    "    list_.append(conversion_value[convert_to][\"digit\"][qu])\n",
    "    converted_number = \"\"\n",
    "    for i in list_[::-1]:\n",
    "        converted_number += str(i)\n",
    "    return converted_number\n",
    "\n",
    "def palindrome_type(input_number):\n",
    "    #import pdb;pdb.set_trace()\n",
    "    binary_string = list(str(decconvert(input_number, \"bin\")))\n",
    "    binary_string_copy = binary_string.copy()\n",
    "    binary_string_copy.reverse()\n",
    "    dec_string = list(str(input_number))\n",
    "    dec_string_copy = dec_string.copy()\n",
    "    dec_string_copy.reverse()\n",
    "    #return binary_string == binary_string_copy, dec_string==dec_string_copy\n",
    "    if binary_string == binary_string_copy and dec_string==dec_string_copy:\n",
    "        return \"Decimal and Binary\"\n",
    "    elif binary_string == binary_string_copy and dec_string != dec_string_copy:\n",
    "        return \"Binary\"\n",
    "    elif binary_string != binary_string_copy and dec_string==dec_string_copy:\n",
    "        return \"Decimal\"\n",
    "    elif binary_string != binary_string_copy and dec_string!=dec_string_copy:\n",
    "        return \"Neither\"\n"
   ]
  },
  {
   "cell_type": "code",
   "execution_count": 21,
   "id": "b6e2524c",
   "metadata": {},
   "outputs": [
    {
     "data": {
      "text/plain": [
       "'Binary'"
      ]
     },
     "execution_count": 21,
     "metadata": {},
     "output_type": "execute_result"
    }
   ],
   "source": [
    "palindrome_type(427787)"
   ]
  },
  {
   "cell_type": "code",
   "execution_count": 22,
   "id": "8723e466",
   "metadata": {},
   "outputs": [
    {
     "data": {
      "text/plain": [
       "'Decimal and Binary'"
      ]
     },
     "execution_count": 22,
     "metadata": {},
     "output_type": "execute_result"
    }
   ],
   "source": [
    "palindrome_type(313)"
   ]
  },
  {
   "cell_type": "code",
   "execution_count": 23,
   "id": "32baf048",
   "metadata": {},
   "outputs": [
    {
     "data": {
      "text/plain": [
       "'Decimal'"
      ]
     },
     "execution_count": 23,
     "metadata": {},
     "output_type": "execute_result"
    }
   ],
   "source": [
    "palindrome_type(1306031)"
   ]
  },
  {
   "cell_type": "code",
   "execution_count": 24,
   "id": "677a822f",
   "metadata": {},
   "outputs": [
    {
     "data": {
      "text/plain": [
       "'Neither'"
      ]
     },
     "execution_count": 24,
     "metadata": {},
     "output_type": "execute_result"
    }
   ],
   "source": [
    "palindrome_type(934)"
   ]
  }
 ],
 "metadata": {
  "kernelspec": {
   "display_name": "Python 3",
   "language": "python",
   "name": "python3"
  },
  "language_info": {
   "codemirror_mode": {
    "name": "ipython",
    "version": 3
   },
   "file_extension": ".py",
   "mimetype": "text/x-python",
   "name": "python",
   "nbconvert_exporter": "python",
   "pygments_lexer": "ipython3",
   "version": "3.8.8"
  }
 },
 "nbformat": 4,
 "nbformat_minor": 5
}
