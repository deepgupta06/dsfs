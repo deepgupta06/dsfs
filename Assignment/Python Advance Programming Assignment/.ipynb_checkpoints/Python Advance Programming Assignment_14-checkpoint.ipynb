{
 "cells": [
  {
   "cell_type": "markdown",
   "id": "8ca3ae8e",
   "metadata": {},
   "source": [
    "# Python Advance Programming Assignment_1.ipynb"
   ]
  },
  {
   "cell_type": "markdown",
   "id": "3ca09494",
   "metadata": {},
   "source": [
    "### 1. Given a list of numbers, create a function that removes 25% from every number in the list except the smallest number, and adds the total amount removed to the smallest number.\n",
    "\n",
    "Examples\n",
    "\n",
    "show_the_love([4, 1, 4]) ➞ [3, 3, 3]\n",
    "\n",
    "show_the_love([16, 10, 8]) ➞ [12, 7.5, 14.5]\n",
    "\n",
    "show_the_love([2, 100]) ➞ [27, 75]\n"
   ]
  },
  {
   "cell_type": "code",
   "execution_count": 5,
   "id": "733c1a43",
   "metadata": {},
   "outputs": [],
   "source": [
    "def show_the_love(input_list):\n",
    "    removed_portion = 0\n",
    "    for idx, item in enumerate(input_list):\n",
    "        if item != min(input_list):\n",
    "            input_list[idx] = item*.75\n",
    "            removed_portion += item*.25\n",
    "    min_value_index = input_list.index(min(input_list))\n",
    "    input_list[min_value_index] = input_list[min_value_index]+removed_portion\n",
    "    return input_list"
   ]
  },
  {
   "cell_type": "code",
   "execution_count": 6,
   "id": "5b47bc21",
   "metadata": {},
   "outputs": [
    {
     "data": {
      "text/plain": [
       "[3.0, 3.0, 3.0]"
      ]
     },
     "execution_count": 6,
     "metadata": {},
     "output_type": "execute_result"
    }
   ],
   "source": [
    "show_the_love([4,1,4])"
   ]
  },
  {
   "cell_type": "code",
   "execution_count": 7,
   "id": "5ac6be65",
   "metadata": {},
   "outputs": [
    {
     "data": {
      "text/plain": [
       "[12.0, 7.5, 14.5]"
      ]
     },
     "execution_count": 7,
     "metadata": {},
     "output_type": "execute_result"
    }
   ],
   "source": [
    "show_the_love([16,10,8])"
   ]
  },
  {
   "cell_type": "code",
   "execution_count": 8,
   "id": "a19797fd",
   "metadata": {},
   "outputs": [
    {
     "data": {
      "text/plain": [
       "[27.0, 75.0]"
      ]
     },
     "execution_count": 8,
     "metadata": {},
     "output_type": "execute_result"
    }
   ],
   "source": [
    "show_the_love([2,100])"
   ]
  },
  {
   "cell_type": "markdown",
   "id": "ce4b82d5",
   "metadata": {},
   "source": [
    "### 2. Create a function that takes in two words as input and returns a list of three elements, in the following order:\n",
    "\n",
    "   1.Shared letters between two words.\n",
    "   2.Letters unique to word 1.\n",
    "   3.Letters unique to word 2.\n",
    "\n",
    "Each element should have unique letters, and have each letter be alphabetically sorted.\n",
    "\n",
    "Examples\n",
    "\n",
    "letters(\"sharp\", \"soap\") ➞ [\"aps\", \"hr\", \"o\"]\n",
    "\n",
    "letters(\"board\", \"bored\") ➞ [\"bdor\", \"a\", \"e\"]\n",
    "\n",
    "letters(\"happiness\", \"envelope\") ➞ [\"enp\", \"ahis\", \"lov\"]\n",
    "\n",
    "letters(\"kerfuffle\", \"fluffy\") ➞ [\"flu\", \"ekr\", \"y\"]\n",
    "\n",
    "#Even with multiple matching letters (e.g. 3 f's), there should \n",
    "\n",
    "#only exist a single \"f\" in your first element.\n",
    "\n",
    "letters(\"match\", \"ham\") ➞ [\"ahm\", \"ct\", \"\"]\n",
    "\n",
    "#\"ham\" does not contain any letters that are not found already \n",
    "\n",
    "#in \"match\".\n"
   ]
  },
  {
   "cell_type": "code",
   "execution_count": 16,
   "id": "55c3ea8a",
   "metadata": {},
   "outputs": [],
   "source": [
    "word1 = \"kerfuffle\"\n",
    "word2 = \"fluffy\""
   ]
  },
  {
   "cell_type": "code",
   "execution_count": 36,
   "id": "0622036c",
   "metadata": {},
   "outputs": [],
   "source": [
    "def letters(word1, word2):\n",
    "    output_list = []\n",
    "    shared_letters = [x for x in word1 if x in word2]\n",
    "    unique_in_word1 = [x for x in word1 if x not in word2]\n",
    "    unique_in_word2 = [x for x in word2 if x not in word1]\n",
    "    shared_letters = list(set(shared_letters))\n",
    "    unique_in_word1 = list(set(unique_in_word1))\n",
    "    unique_in_word2 = list(set(unique_in_word2))\n",
    "    shared_letters.sort()\n",
    "    unique_in_word1.sort()\n",
    "    unique_in_word2.sort()\n",
    "    output_list.append(\"\".join(shared_letters))\n",
    "    output_list.append(\"\".join(unique_in_word1))\n",
    "    output_list.append(\"\".join(unique_in_word2))\n",
    "    return output_list"
   ]
  },
  {
   "cell_type": "code",
   "execution_count": 37,
   "id": "fb61b539",
   "metadata": {},
   "outputs": [
    {
     "data": {
      "text/plain": [
       "['aps', 'hr', 'o']"
      ]
     },
     "execution_count": 37,
     "metadata": {},
     "output_type": "execute_result"
    }
   ],
   "source": [
    "letters(\"sharp\", \"soap\") "
   ]
  },
  {
   "cell_type": "code",
   "execution_count": 38,
   "id": "50e80d0b",
   "metadata": {},
   "outputs": [
    {
     "data": {
      "text/plain": [
       "['bdor', 'a', 'e']"
      ]
     },
     "execution_count": 38,
     "metadata": {},
     "output_type": "execute_result"
    }
   ],
   "source": [
    "letters(\"board\", \"bored\") "
   ]
  },
  {
   "cell_type": "code",
   "execution_count": 39,
   "id": "cb647406",
   "metadata": {},
   "outputs": [
    {
     "data": {
      "text/plain": [
       "['enp', 'ahis', 'lov']"
      ]
     },
     "execution_count": 39,
     "metadata": {},
     "output_type": "execute_result"
    }
   ],
   "source": [
    "letters(\"happiness\", \"envelope\") "
   ]
  },
  {
   "cell_type": "code",
   "execution_count": 40,
   "id": "0724f96a",
   "metadata": {},
   "outputs": [
    {
     "data": {
      "text/plain": [
       "['flu', 'ekr', 'y']"
      ]
     },
     "execution_count": 40,
     "metadata": {},
     "output_type": "execute_result"
    }
   ],
   "source": [
    "letters(\"kerfuffle\", \"fluffy\") "
   ]
  },
  {
   "cell_type": "code",
   "execution_count": 41,
   "id": "86632c4c",
   "metadata": {},
   "outputs": [
    {
     "data": {
      "text/plain": [
       "['ahm', 'ct', '']"
      ]
     },
     "execution_count": 41,
     "metadata": {},
     "output_type": "execute_result"
    }
   ],
   "source": [
    "letters(\"match\", \"ham\")"
   ]
  },
  {
   "cell_type": "markdown",
   "id": "c265703e",
   "metadata": {},
   "source": [
    "### 3. Write a function that pairs the first number in an array with the last, the second number with the second to last, etc.\n",
    "\n",
    "Examples\n",
    "\n",
    "pairs([1, 2, 3, 4, 5, 6, 7]) ➞ [[1, 7], [2, 6], [3, 5], [4, 4]]\n",
    "\n",
    "pairs([1, 2, 3, 4, 5, 6]) ➞ [[1, 6], [2, 5], [3, 4]]\n",
    "\n",
    "pairs([5, 9, 8, 1, 2]) ➞ [[5, 2], [9, 1], [8, 8]]\n",
    "\n",
    "pairs([]) ➞ []\n"
   ]
  },
  {
   "cell_type": "code",
   "execution_count": 60,
   "id": "b2bbf233",
   "metadata": {},
   "outputs": [],
   "source": [
    "def pairs(input_list):\n",
    "    result = []\n",
    "    for idx, item in enumerate(input_list):\n",
    "        pair = []\n",
    "        if idx != len(input_list)-idx and idx<(len(input_list)-idx):\n",
    "            pair.append(input_list[idx])\n",
    "            pair.append(input_list[::-1][idx])\n",
    "        if pair:\n",
    "            result.append(pair)\n",
    "    return result"
   ]
  },
  {
   "cell_type": "code",
   "execution_count": 61,
   "id": "7c88d6f2",
   "metadata": {},
   "outputs": [
    {
     "data": {
      "text/plain": [
       "[[1, 7], [2, 6], [3, 5], [4, 4]]"
      ]
     },
     "execution_count": 61,
     "metadata": {},
     "output_type": "execute_result"
    }
   ],
   "source": [
    "pairs([1, 2, 3, 4, 5, 6, 7])"
   ]
  },
  {
   "cell_type": "code",
   "execution_count": 62,
   "id": "d9d6198a",
   "metadata": {},
   "outputs": [
    {
     "data": {
      "text/plain": [
       "[[1, 6], [2, 5], [3, 4]]"
      ]
     },
     "execution_count": 62,
     "metadata": {},
     "output_type": "execute_result"
    }
   ],
   "source": [
    "pairs([1, 2, 3, 4, 5, 6])"
   ]
  },
  {
   "cell_type": "code",
   "execution_count": 63,
   "id": "91b0ab47",
   "metadata": {},
   "outputs": [
    {
     "data": {
      "text/plain": [
       "[]"
      ]
     },
     "execution_count": 63,
     "metadata": {},
     "output_type": "execute_result"
    }
   ],
   "source": [
    "pairs([])"
   ]
  },
  {
   "cell_type": "markdown",
   "id": "d3a4b12f",
   "metadata": {},
   "source": [
    "### 4. Write a function that adds two numbers. The catch, however, is that the numbers will be strings.\n",
    "\n",
    "Examples\n",
    "\n",
    "add_str_nums(\"4\", \"5\") ➞ \"9\"\n",
    "\n",
    "add_str_nums(\"abcdefg\", \"3\") ➞ \"-1\"\n",
    "\n",
    "add_str_nums(\"1\", \"\") ➞ \"1\"\n",
    "\n",
    "add_str_nums(\"1874682736267235927359283579235789257\", \"32652983572985729\") ➞ \"1874682736267235927391936562808774986\"\n"
   ]
  },
  {
   "cell_type": "code",
   "execution_count": 90,
   "id": "159ee75b",
   "metadata": {},
   "outputs": [],
   "source": [
    "def add_str_nums(num1, num2):\n",
    "    if (num1+num2).isnumeric():\n",
    "        try:\n",
    "            return str(int(num1)+int(num2))\n",
    "        except ValueError:\n",
    "            if num1:\n",
    "                return num1\n",
    "            else:\n",
    "                return num2\n",
    "    else:\n",
    "        return -1\n",
    "    "
   ]
  },
  {
   "cell_type": "code",
   "execution_count": 91,
   "id": "352dc36b",
   "metadata": {},
   "outputs": [
    {
     "data": {
      "text/plain": [
       "'1'"
      ]
     },
     "execution_count": 91,
     "metadata": {},
     "output_type": "execute_result"
    }
   ],
   "source": [
    "add_str_nums(\"\", \"1\")"
   ]
  },
  {
   "cell_type": "code",
   "execution_count": 92,
   "id": "2dcffa0e",
   "metadata": {},
   "outputs": [
    {
     "data": {
      "text/plain": [
       "'9'"
      ]
     },
     "execution_count": 92,
     "metadata": {},
     "output_type": "execute_result"
    }
   ],
   "source": [
    "add_str_nums(\"4\", \"5\") "
   ]
  },
  {
   "cell_type": "code",
   "execution_count": 93,
   "id": "c23764d4",
   "metadata": {},
   "outputs": [
    {
     "data": {
      "text/plain": [
       "-1"
      ]
     },
     "execution_count": 93,
     "metadata": {},
     "output_type": "execute_result"
    }
   ],
   "source": [
    "add_str_nums(\"qweqwe\", \"4\")"
   ]
  },
  {
   "cell_type": "code",
   "execution_count": 94,
   "id": "22bef2f5",
   "metadata": {},
   "outputs": [
    {
     "data": {
      "text/plain": [
       "'1874682736267235927391936562808774986'"
      ]
     },
     "execution_count": 94,
     "metadata": {},
     "output_type": "execute_result"
    }
   ],
   "source": [
    "add_str_nums(\"1874682736267235927359283579235789257\", \"32652983572985729\") "
   ]
  },
  {
   "cell_type": "markdown",
   "id": "71b6d9ed",
   "metadata": {},
   "source": [
    "### 5. lPaeesh le pemu mnxit ehess rtnisg! Oh, sorry, that was supposed to say: Please help me unmix these strings!\n",
    "\n",
    "Somehow my strings have all become mixed up; every pair of characters has been swapped. Help me undo this so I can understand my strings again.\n",
    "\n",
    "Examples\n",
    "\n",
    "unmix(\"123456\") ➞ \"214365\"\n",
    "\n",
    "unmix(\"hTsii  s aimex dpus rtni.g\") ➞ \"This is a mixed up string.\"\n",
    "\n",
    "unmix(\"badce\") ➞ \"abcde\"\n"
   ]
  },
  {
   "cell_type": "code",
   "execution_count": 95,
   "id": "c873d180",
   "metadata": {},
   "outputs": [],
   "source": [
    "string = \"hTsii s aimex dpus rtni.g\""
   ]
  },
  {
   "cell_type": "code",
   "execution_count": 102,
   "id": "dbd9750d",
   "metadata": {},
   "outputs": [],
   "source": [
    "list1 = []\n",
    "list2 = []\n",
    "for i in range(0, len(string),2):\n",
    "    list1.append(string[i])\n",
    "for i in range(1, len(string),2):\n",
    "    list2.append(string[i])"
   ]
  },
  {
   "cell_type": "code",
   "execution_count": 109,
   "id": "9cba0a36",
   "metadata": {},
   "outputs": [
    {
     "data": {
      "text/plain": [
       "0.0"
      ]
     },
     "execution_count": 109,
     "metadata": {},
     "output_type": "execute_result"
    }
   ],
   "source": [
    "0/2"
   ]
  },
  {
   "cell_type": "code",
   "execution_count": 111,
   "id": "6ea07ba5",
   "metadata": {},
   "outputs": [
    {
     "data": {
      "text/plain": [
       "0.3333333333333333"
      ]
     },
     "execution_count": 111,
     "metadata": {},
     "output_type": "execute_result"
    }
   ],
   "source": [
    "1/3"
   ]
  },
  {
   "cell_type": "code",
   "execution_count": 104,
   "id": "3ced9481",
   "metadata": {},
   "outputs": [
    {
     "data": {
      "text/plain": [
       "['T', 'i', ' ', ' ', 'i', 'e', ' ', 'p', 's', 'r', 'n', '.']"
      ]
     },
     "execution_count": 104,
     "metadata": {},
     "output_type": "execute_result"
    }
   ],
   "source": [
    "list2"
   ]
  },
  {
   "cell_type": "code",
   "execution_count": 105,
   "id": "365bc5d5",
   "metadata": {},
   "outputs": [],
   "source": [
    "unmix_string = \"\"\n",
    "max_len = max(len(list1), len(list2))"
   ]
  },
  {
   "cell_type": "code",
   "execution_count": 106,
   "id": "d815bd5e",
   "metadata": {},
   "outputs": [
    {
     "data": {
      "text/plain": [
       "13"
      ]
     },
     "execution_count": 106,
     "metadata": {},
     "output_type": "execute_result"
    }
   ],
   "source": [
    "max_len"
   ]
  },
  {
   "cell_type": "code",
   "execution_count": 108,
   "id": "37c86151",
   "metadata": {},
   "outputs": [
    {
     "name": "stdout",
     "output_type": "stream",
     "text": [
      "This i siaem xpdsur nt.iThis i siaem xpdsur nt.ig\n"
     ]
    }
   ],
   "source": [
    "\n",
    "for i in range(max_len):\n",
    "    try:\n",
    "        unmix_string += list2[i]\n",
    "        unmix_string += list1[i]\n",
    "    except:\n",
    "        unmix_string += list1[i]\n",
    "        \n",
    "print(unmix_string)"
   ]
  },
  {
   "cell_type": "code",
   "execution_count": 119,
   "id": "613f6405",
   "metadata": {},
   "outputs": [
    {
     "ename": "SyntaxError",
     "evalue": "unexpected EOF while parsing (<ipython-input-119-a44bef10a8e0>, line 4)",
     "output_type": "error",
     "traceback": [
      "\u001b[1;36m  File \u001b[1;32m\"<ipython-input-119-a44bef10a8e0>\"\u001b[1;36m, line \u001b[1;32m4\u001b[0m\n\u001b[1;33m    \u001b[0m\n\u001b[1;37m    ^\u001b[0m\n\u001b[1;31mSyntaxError\u001b[0m\u001b[1;31m:\u001b[0m unexpected EOF while parsing\n"
     ]
    }
   ],
   "source": [
    "string = \"hTsii s aimex dpus rtni.g\"\n",
    "unmix_string = \"\"\n",
    "for idx in range(len(string),2):\n",
    "    "
   ]
  },
  {
   "cell_type": "code",
   "execution_count": 127,
   "id": "768128b3",
   "metadata": {},
   "outputs": [
    {
     "data": {
      "text/plain": [
       "'Th'"
      ]
     },
     "execution_count": 127,
     "metadata": {},
     "output_type": "execute_result"
    }
   ],
   "source": [
    "string[0:2][::-1]"
   ]
  },
  {
   "cell_type": "code",
   "execution_count": 128,
   "id": "2ee935b6",
   "metadata": {},
   "outputs": [
    {
     "data": {
      "text/plain": [
       "'is'"
      ]
     },
     "execution_count": 128,
     "metadata": {},
     "output_type": "execute_result"
    }
   ],
   "source": [
    "string[2:4][::-1]"
   ]
  },
  {
   "cell_type": "code",
   "execution_count": null,
   "id": "7d49afbb",
   "metadata": {},
   "outputs": [],
   "source": []
  }
 ],
 "metadata": {
  "kernelspec": {
   "display_name": "Python 3",
   "language": "python",
   "name": "python3"
  },
  "language_info": {
   "codemirror_mode": {
    "name": "ipython",
    "version": 3
   },
   "file_extension": ".py",
   "mimetype": "text/x-python",
   "name": "python",
   "nbconvert_exporter": "python",
   "pygments_lexer": "ipython3",
   "version": "3.8.8"
  }
 },
 "nbformat": 4,
 "nbformat_minor": 5
}
