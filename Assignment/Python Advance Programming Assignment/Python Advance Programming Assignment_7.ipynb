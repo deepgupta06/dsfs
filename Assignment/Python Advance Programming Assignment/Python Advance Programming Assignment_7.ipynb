{
 "cells": [
  {
   "cell_type": "markdown",
   "id": "eda4dbb1",
   "metadata": {},
   "source": [
    "# Python Advance Programming Assignment_7"
   ]
  },
  {
   "cell_type": "markdown",
   "id": "2c2b565c",
   "metadata": {},
   "source": [
    "### 1. Write a function that counts how many concentric layers a rug.\n",
    "\n",
    "Examples\n",
    "\n",
    "count_layers([\n",
    "\n",
    "\"AAAA\",\n",
    "\n",
    "\"ABBA\",\n",
    "\n",
    "\"AAAA\"\n",
    "\n",
    "]) ➞ 2\n",
    "\n",
    "count_layers([\n",
    "\n",
    "\"AAAAAAAAA\",\n",
    "\n",
    "\"ABBBBBBBA\",\n",
    "\n",
    "\"ABBAAABBA\",\n",
    "\n",
    "\"ABBBBBBBA\",\n",
    "\n",
    "\"AAAAAAAAA\"\n",
    "\n",
    "]) ➞ 3\n",
    "\n",
    "count_layers([\n",
    "\n",
    "\"AAAAAAAAAAA\",\n",
    "\n",
    "\"AABBBBBBBAA\",\n",
    "\n",
    "\"AABCCCCCBAA\",\n",
    "\n",
    "\"AABCAAACBAA\",\n",
    "\n",
    "\"AABCADACBAA\",\n",
    "\n",
    "\"AABCAAACBAA\",\n",
    "\n",
    "\"AABCCCCCBAA\",\n",
    "\n",
    "\"AABBBBBBBAA\",\n",
    "\n",
    "\"AAAAAAAAAAA\"\n",
    "\n",
    "]) ➞ 5\n"
   ]
  },
  {
   "cell_type": "code",
   "execution_count": 1,
   "id": "a2eb5d9e",
   "metadata": {},
   "outputs": [],
   "source": [
    "def count_layers(input_list):\n",
    "    count_list = []\n",
    "    for i in input_list:\n",
    "        count = 1\n",
    "        for idx in range(1,len(i)//2+1):\n",
    "            if i[idx-1]!=i[idx]:\n",
    "                count +=1\n",
    "            else:\n",
    "                pass\n",
    "        count_list.append(count)\n",
    "    return max(count_list)"
   ]
  },
  {
   "cell_type": "code",
   "execution_count": 2,
   "id": "ada664a9",
   "metadata": {},
   "outputs": [
    {
     "data": {
      "text/plain": [
       "2"
      ]
     },
     "execution_count": 2,
     "metadata": {},
     "output_type": "execute_result"
    }
   ],
   "source": [
    "count_layers([\n",
    "\n",
    "\"AAAA\",\n",
    "\n",
    "\"ABBA\",\n",
    "\n",
    "\"AAAA\"\n",
    "\n",
    "])"
   ]
  },
  {
   "cell_type": "code",
   "execution_count": 3,
   "id": "2c0239bb",
   "metadata": {},
   "outputs": [
    {
     "data": {
      "text/plain": [
       "3"
      ]
     },
     "execution_count": 3,
     "metadata": {},
     "output_type": "execute_result"
    }
   ],
   "source": [
    "count_layers([\n",
    "\n",
    "\"AAAAAAAAA\",\n",
    "\n",
    "\"ABBBBBBBA\",\n",
    "\n",
    "\"ABBAAABBA\",\n",
    "\n",
    "\"ABBBBBBBA\",\n",
    "\n",
    "\"AAAAAAAAA\"\n",
    "\n",
    "])"
   ]
  },
  {
   "cell_type": "code",
   "execution_count": 4,
   "id": "3e4ee5e9",
   "metadata": {},
   "outputs": [
    {
     "data": {
      "text/plain": [
       "5"
      ]
     },
     "execution_count": 4,
     "metadata": {},
     "output_type": "execute_result"
    }
   ],
   "source": [
    "count_layers([\n",
    "\n",
    "\"AAAAAAAAAAA\",\n",
    "\n",
    "\"AABBBBBBBAA\",\n",
    "\n",
    "\"AABCCCCCBAA\",\n",
    "\n",
    "\"AABCAAACBAA\",\n",
    "\n",
    "\"AABCADACBAA\",\n",
    "\n",
    "\"AABCAAACBAA\",\n",
    "\n",
    "\"AABCCCCCBAA\",\n",
    "\n",
    "\"AABBBBBBBAA\",\n",
    "\n",
    "\"AAAAAAAAAAA\"\n",
    "\n",
    "])"
   ]
  },
  {
   "cell_type": "markdown",
   "id": "db844c6d",
   "metadata": {},
   "source": [
    "### 2. There are many different styles of music and many albums exhibit multiple styles. Create a function that takes a list of musical styles from albums and returns how many styles are unique.\n",
    "\n",
    "Examples\n",
    "\n",
    "unique_styles([\n",
    "  \"Dub,Dancehall\",\n",
    "  \"Industrial,Heavy Metal\",\n",
    "  \"Techno,Dubstep\",\n",
    "  \"Synth-pop,Euro-Disco\",\n",
    "  \"Industrial,Techno,Minimal\"\n",
    "]) ➞ 9\n",
    "\n",
    "unique_styles([\n",
    "  \"Soul\",\n",
    "  \"House,Folk\",\n",
    "  \"Trance,Downtempo,Big Beat,House\",\n",
    "  \"Deep House\",\n",
    "  \"Soul\"\n",
    "]) ➞ 7\n"
   ]
  },
  {
   "cell_type": "code",
   "execution_count": 6,
   "id": "ba32439d",
   "metadata": {},
   "outputs": [],
   "source": [
    "def unique_styles(musical_styles):\n",
    "    if not type(musical_styles) is list:\n",
    "        raise TabError(f\"{musical_styles} is not list\")\n",
    "    else:\n",
    "        try:\n",
    "            new_musical_style = []\n",
    "            for item in musical_styles:\n",
    "                item_split = item.split(\",\")\n",
    "                if len(item_split)>1:\n",
    "                    for i in item_split:\n",
    "                        new_musical_style.append(i)\n",
    "                else:\n",
    "                    new_musical_style.append(item)\n",
    "            return len(set(new_musical_style))\n",
    "        except Exception as error:\n",
    "            print(error)\n",
    "            \n",
    "            "
   ]
  },
  {
   "cell_type": "code",
   "execution_count": 7,
   "id": "aee598a0",
   "metadata": {},
   "outputs": [
    {
     "data": {
      "text/plain": [
       "9"
      ]
     },
     "execution_count": 7,
     "metadata": {},
     "output_type": "execute_result"
    }
   ],
   "source": [
    "unique_styles([ \"Dub,Dancehall\", \"Industrial,Heavy Metal\", \"Techno,Dubstep\", \"Synth-pop,Euro-Disco\", \"Industrial,Techno,Minimal\" ])"
   ]
  },
  {
   "cell_type": "code",
   "execution_count": 8,
   "id": "b0031880",
   "metadata": {},
   "outputs": [
    {
     "data": {
      "text/plain": [
       "7"
      ]
     },
     "execution_count": 8,
     "metadata": {},
     "output_type": "execute_result"
    }
   ],
   "source": [
    "unique_styles([ \"Soul\", \"House,Folk\", \"Trance,Downtempo,Big Beat,House\", \"Deep House\", \"Soul\" ])"
   ]
  },
  {
   "cell_type": "markdown",
   "id": "ac2af107",
   "metadata": {},
   "source": [
    "### 3. Create a function that finds a target number in a list of prime numbers. Implement a binary search algorithm in your function. The target number will be from 2 through 97. If the target is prime then return \"yes\" else return \"no\".\n",
    "\n",
    "Examples\n",
    "\n",
    "primes = [2, 3, 5, 7, 11, 13, 17, 19, 23, 29, 31, 37, 41, 43, 47, 53, 59, 61, 67, 71, 73, 79, 83, 89, 97]\n",
    "\n",
    "\n",
    "is_prime(primes, 3) ➞ \"yes\"\n",
    "\n",
    "is_prime(primes, 4) ➞ \"no\"\n",
    "\n",
    "is_prime(primes, 67) ➞ \"yes\"\n",
    "\n",
    "is_prime(primes, 36) ➞ \"no\"\n"
   ]
  },
  {
   "cell_type": "code",
   "execution_count": 9,
   "id": "0fa7f908",
   "metadata": {},
   "outputs": [],
   "source": [
    "def is_prime(primes, looking_item):\n",
    "    \"\"\"This function will take a sorted list and and the item which we are \n",
    "    looking for as an input and it will return the index of the serching  \"\"\"\n",
    "    primes.sort()\n",
    "    lower_index = 0\n",
    "    #As index starting from 0\n",
    "    upper_index = len(primes)-1\n",
    "    present_index = [lower_index, upper_index]\n",
    "    previous_index = [0,0]\n",
    "    count=0\n",
    "    count2=0\n",
    "    while upper_index >= lower_index:\n",
    "        #need mid_point as integer value,\n",
    "        \n",
    "        previous_index = present_index\n",
    "        #print(f\"Previous Index:{previous_index}\")\n",
    "        #import pdb; pdb.set_trace()\n",
    "        mid_point = (upper_index+lower_index)//2\n",
    "        if primes[mid_point] == looking_item:\n",
    "            return \"Yes\"\n",
    "        elif primes[mid_point] < looking_item:\n",
    "            lower_index  = mid_point\n",
    "        else:\n",
    "            upper_index = mid_point\n",
    "        present_index = [lower_index, upper_index]\n",
    "        if upper_index-lower_index==1:\n",
    "            count+=1\n",
    "            #print(count)\n",
    "            if count==2:\n",
    "                lower_index=upper_index\n",
    "        elif upper_index-lower_index==0:\n",
    "            count2 +=1\n",
    "            if count==2:\n",
    "                return \"No\"\n",
    "        #print(f\"Present Index:{present_index}\")"
   ]
  },
  {
   "cell_type": "code",
   "execution_count": 10,
   "id": "05839393",
   "metadata": {},
   "outputs": [],
   "source": [
    "primes = [2, 3, 5, 7, 11, 13, 17, 19, 23, 29, 31, 37, 41, 43, 47, 53, 59, 61, 67, 71, 73, 79, 83, 89, 97]"
   ]
  },
  {
   "cell_type": "code",
   "execution_count": 11,
   "id": "af283b81",
   "metadata": {},
   "outputs": [
    {
     "data": {
      "text/plain": [
       "'Yes'"
      ]
     },
     "execution_count": 11,
     "metadata": {},
     "output_type": "execute_result"
    }
   ],
   "source": [
    "is_prime(primes, 3)"
   ]
  },
  {
   "cell_type": "code",
   "execution_count": 12,
   "id": "c9f09821",
   "metadata": {},
   "outputs": [
    {
     "data": {
      "text/plain": [
       "'No'"
      ]
     },
     "execution_count": 12,
     "metadata": {},
     "output_type": "execute_result"
    }
   ],
   "source": [
    "is_prime(primes, 4)"
   ]
  },
  {
   "cell_type": "code",
   "execution_count": 13,
   "id": "84335745",
   "metadata": {},
   "outputs": [
    {
     "data": {
      "text/plain": [
       "'Yes'"
      ]
     },
     "execution_count": 13,
     "metadata": {},
     "output_type": "execute_result"
    }
   ],
   "source": [
    "is_prime(primes, 67)"
   ]
  },
  {
   "cell_type": "code",
   "execution_count": 14,
   "id": "151ca1c6",
   "metadata": {},
   "outputs": [
    {
     "data": {
      "text/plain": [
       "'No'"
      ]
     },
     "execution_count": 14,
     "metadata": {},
     "output_type": "execute_result"
    }
   ],
   "source": [
    "is_prime(primes, 36)"
   ]
  },
  {
   "cell_type": "markdown",
   "id": "d3032a8e",
   "metadata": {},
   "source": [
    "### 4. Create a function that takes in n, a, b and returns the number of positive values raised to the nth power that lie in the range [a, b], inclusive.\n",
    "\n",
    "Examples\n",
    "\n",
    "power_ranger(2, 49, 65) ➞ 2\n",
    "\n",
    "#2 squares (n^2) lie between 49 and 65, 49 (7^2) and 64 (8^2)\n",
    "\n",
    "power_ranger(3, 1, 27) ➞ 3\n",
    "\n",
    "#3 cubes (n^3) lie between 1 and 27, 1 (1^3), 8 (2^3) and 27 (3^3)\n",
    "\n",
    "power_ranger(10, 1, 5) ➞ 1\n",
    "\n",
    "#1 value raised to the 10th power lies between 1 and 5, 1 (1^10)\n",
    "\n",
    "power_ranger(5, 31, 33) ➞ 1\n",
    "\n",
    "power_ranger(4, 250, 1300) ➞ 3\n",
    "\n"
   ]
  },
  {
   "cell_type": "code",
   "execution_count": 15,
   "id": "1e226a8c",
   "metadata": {},
   "outputs": [
    {
     "data": {
      "text/plain": [
       "4.020725758589058"
      ]
     },
     "execution_count": 15,
     "metadata": {},
     "output_type": "execute_result"
    }
   ],
   "source": [
    "65**(1/3)"
   ]
  },
  {
   "cell_type": "code",
   "execution_count": 16,
   "id": "06778a5f",
   "metadata": {},
   "outputs": [],
   "source": [
    "def power_ranger(n, a, b):\n",
    "    count = 0\n",
    "    for i in range(1, b):\n",
    "        cal_value = i**n\n",
    "        if cal_value>=a and cal_value<=b:\n",
    "            count += 1\n",
    "        elif cal_value>b:\n",
    "            return count"
   ]
  },
  {
   "cell_type": "code",
   "execution_count": 17,
   "id": "3d192d12",
   "metadata": {},
   "outputs": [
    {
     "data": {
      "text/plain": [
       "2"
      ]
     },
     "execution_count": 17,
     "metadata": {},
     "output_type": "execute_result"
    }
   ],
   "source": [
    "power_ranger(2,49,65)"
   ]
  },
  {
   "cell_type": "code",
   "execution_count": 18,
   "id": "78e21e0a",
   "metadata": {},
   "outputs": [
    {
     "data": {
      "text/plain": [
       "1"
      ]
     },
     "execution_count": 18,
     "metadata": {},
     "output_type": "execute_result"
    }
   ],
   "source": [
    "power_ranger(5, 31, 33)"
   ]
  },
  {
   "cell_type": "code",
   "execution_count": 19,
   "id": "787713b8",
   "metadata": {},
   "outputs": [
    {
     "data": {
      "text/plain": [
       "3"
      ]
     },
     "execution_count": 19,
     "metadata": {},
     "output_type": "execute_result"
    }
   ],
   "source": [
    "power_ranger(4, 250, 1300) "
   ]
  },
  {
   "cell_type": "code",
   "execution_count": 20,
   "id": "9bee3e3a",
   "metadata": {},
   "outputs": [
    {
     "data": {
      "text/plain": [
       "3"
      ]
     },
     "execution_count": 20,
     "metadata": {},
     "output_type": "execute_result"
    }
   ],
   "source": [
    "power_ranger(3, 1, 27) "
   ]
  },
  {
   "cell_type": "code",
   "execution_count": 21,
   "id": "855ad964",
   "metadata": {},
   "outputs": [
    {
     "data": {
      "text/plain": [
       "1"
      ]
     },
     "execution_count": 21,
     "metadata": {},
     "output_type": "execute_result"
    }
   ],
   "source": [
    "power_ranger(10, 1, 5) "
   ]
  },
  {
   "cell_type": "markdown",
   "id": "205c381e",
   "metadata": {},
   "source": [
    "### 5. Given a number, return the difference between the maximum and minimum numbers that can be formed when the digits are rearranged.\n",
    "\n",
    "Examples\n",
    "\n",
    "rearranged_difference(972882) ➞ 760833\n",
    "\n",
    "#988722 - 227889 = 760833\n",
    "\n",
    "rearranged_difference(3320707) ➞ 7709823\n",
    "\n",
    "#7733200 - 23377 = 7709823\n",
    "\n",
    "rearranged_difference(90010) ➞ 90981\n",
    "\n",
    "#91000 - 19 = 90981\n"
   ]
  },
  {
   "cell_type": "code",
   "execution_count": 22,
   "id": "0921a1dc",
   "metadata": {},
   "outputs": [],
   "source": [
    "def rearranged_difference(input_number):\n",
    "    if type(input_number)!= int:\n",
    "        raise TypeError(f\"input_number must be int insted of {type(input_number)}\")\n",
    "    else:\n",
    "        input_num_digit_list = list(str(input_number))\n",
    "        input_num_digit_list.sort(reverse=True)\n",
    "        max_number = int(\"\".join(input_num_digit_list))\n",
    "        input_num_digit_list.sort(reverse=False)\n",
    "        min_number = int(\"\".join(input_num_digit_list))\n",
    "        return max_number- min_number"
   ]
  },
  {
   "cell_type": "code",
   "execution_count": 23,
   "id": "aea79e7c",
   "metadata": {},
   "outputs": [
    {
     "data": {
      "text/plain": [
       "760833"
      ]
     },
     "execution_count": 23,
     "metadata": {},
     "output_type": "execute_result"
    }
   ],
   "source": [
    "rearranged_difference(972882)"
   ]
  },
  {
   "cell_type": "code",
   "execution_count": 24,
   "id": "6ca52953",
   "metadata": {},
   "outputs": [
    {
     "data": {
      "text/plain": [
       "7709823"
      ]
     },
     "execution_count": 24,
     "metadata": {},
     "output_type": "execute_result"
    }
   ],
   "source": [
    "rearranged_difference(3320707)"
   ]
  },
  {
   "cell_type": "code",
   "execution_count": 25,
   "id": "f1f04857",
   "metadata": {},
   "outputs": [
    {
     "data": {
      "text/plain": [
       "90981"
      ]
     },
     "execution_count": 25,
     "metadata": {},
     "output_type": "execute_result"
    }
   ],
   "source": [
    "rearranged_difference(90010)"
   ]
  },
  {
   "cell_type": "code",
   "execution_count": null,
   "id": "bcaf3b6d",
   "metadata": {},
   "outputs": [],
   "source": []
  }
 ],
 "metadata": {
  "kernelspec": {
   "display_name": "Python 3",
   "language": "python",
   "name": "python3"
  },
  "language_info": {
   "codemirror_mode": {
    "name": "ipython",
    "version": 3
   },
   "file_extension": ".py",
   "mimetype": "text/x-python",
   "name": "python",
   "nbconvert_exporter": "python",
   "pygments_lexer": "ipython3",
   "version": "3.8.8"
  }
 },
 "nbformat": 4,
 "nbformat_minor": 5
}
