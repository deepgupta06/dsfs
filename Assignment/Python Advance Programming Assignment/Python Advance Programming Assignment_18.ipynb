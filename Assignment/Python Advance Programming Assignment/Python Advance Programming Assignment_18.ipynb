{
 "cells": [
  {
   "cell_type": "markdown",
   "id": "a8c090ef",
   "metadata": {},
   "source": [
    "# Python Advance Programming Assignment_18"
   ]
  },
  {
   "cell_type": "markdown",
   "id": "66b89fe4",
   "metadata": {},
   "source": [
    "### 1. A robot has been given a list of movement instructions. Each instruction is either left, right, up or down, followed by a distance to move. The robot starts at [0, 0]. You want to calculate where the robot will end up and return its final position as a list.\n",
    "\n",
    "To illustrate, if the robot is given the following instructions:\n",
    "\n",
    "[\"right 10\", \"up 50\", \"left 30\", \"down 10\"]\n",
    "\n",
    "It will end up 20 left and 40 up from where it started, so we return [-20, 40].\n",
    "\n",
    "Examples\n",
    "\n",
    "track_robot([\"right 10\", \"up 50\", \"left 30\", \"down 10\"]) ➞ [-20, 40]\n",
    "\n",
    "track_robot([]) ➞ [0, 0]\n",
    "// If there are no instructions, the robot doesn't move.\n",
    "\n",
    "track_robot([\"right 100\", \"right 100\", \"up 500\", \"up 10000\"]) ➞ [200, 10500]\n"
   ]
  },
  {
   "cell_type": "code",
   "execution_count": 1,
   "id": "473556cd",
   "metadata": {},
   "outputs": [],
   "source": [
    "def track_robot(input_list):\n",
    "    for idx, item in enumerate(input_list):\n",
    "        input_list[idx] = item.split()\n",
    "    x = 0\n",
    "    y = 0    \n",
    "    for item in input_list:\n",
    "        direction = item[0]\n",
    "        axis_value = int(item[1])\n",
    "        if direction == \"right\":\n",
    "            x += axis_value\n",
    "        elif direction == \"left\":\n",
    "            x -= axis_value\n",
    "        elif direction ==  \"up\":\n",
    "            y += axis_value\n",
    "        elif direction == \"down\":\n",
    "            y -= axis_value\n",
    "    return [x,y]"
   ]
  },
  {
   "cell_type": "code",
   "execution_count": 2,
   "id": "cef1d7b3",
   "metadata": {},
   "outputs": [
    {
     "data": {
      "text/plain": [
       "[-20, 40]"
      ]
     },
     "execution_count": 2,
     "metadata": {},
     "output_type": "execute_result"
    }
   ],
   "source": [
    "track_robot([\"right 10\", \"up 50\", \"left 30\", \"down 10\"])"
   ]
  },
  {
   "cell_type": "code",
   "execution_count": 3,
   "id": "e2db7e80",
   "metadata": {},
   "outputs": [
    {
     "data": {
      "text/plain": [
       "[0, 0]"
      ]
     },
     "execution_count": 3,
     "metadata": {},
     "output_type": "execute_result"
    }
   ],
   "source": [
    "track_robot([])"
   ]
  },
  {
   "cell_type": "code",
   "execution_count": 4,
   "id": "54c993d1",
   "metadata": {},
   "outputs": [
    {
     "data": {
      "text/plain": [
       "[200, 10500]"
      ]
     },
     "execution_count": 4,
     "metadata": {},
     "output_type": "execute_result"
    }
   ],
   "source": [
    "track_robot([\"right 100\", \"right 100\", \"up 500\", \"up 10000\"])"
   ]
  },
  {
   "cell_type": "markdown",
   "id": "9b774a8e",
   "metadata": {},
   "source": [
    "### 2. Write a function that will return the longest word in a sentence. In cases where more than one word is found, return the first one.\n",
    "\n",
    "Examples\n",
    "\n",
    "find_longest(\"A thing of beauty is a joy forever.\") ➞ \"forever\"\n",
    "\n",
    "find_longest(\"Forgetfulness is by all means powerless!\") ➞ \"forgetfulness\"\n",
    "\n",
    "find_longest(\"\\\"Strengths\\\" is the longest and most commonly used word that contains only a single vowel.\") ➞ \"strengths\"\n",
    "\n"
   ]
  },
  {
   "cell_type": "code",
   "execution_count": 5,
   "id": "9229be22",
   "metadata": {},
   "outputs": [],
   "source": [
    "def find_longest(input_string):\n",
    "    import re\n",
    "    word_list = []\n",
    "    length_list = []\n",
    "    input_string = re.sub(\"\\W+\", \" \", input_string)\n",
    "    for i in input_string.split():\n",
    "        word_list.append(i)\n",
    "        length_list.append(len(i))\n",
    "    return word_list[length_list.index(max(length_list))].lower()\n",
    "        "
   ]
  },
  {
   "cell_type": "code",
   "execution_count": 6,
   "id": "5fdccb46",
   "metadata": {},
   "outputs": [
    {
     "data": {
      "text/plain": [
       "'strengths'"
      ]
     },
     "execution_count": 6,
     "metadata": {},
     "output_type": "execute_result"
    }
   ],
   "source": [
    "find_longest(\"\\\"Strengths\\\" is the longest and most commonly used word that contains only a single vowel.\")"
   ]
  },
  {
   "cell_type": "code",
   "execution_count": 7,
   "id": "6b305bbd",
   "metadata": {},
   "outputs": [
    {
     "data": {
      "text/plain": [
       "'forever'"
      ]
     },
     "execution_count": 7,
     "metadata": {},
     "output_type": "execute_result"
    }
   ],
   "source": [
    "find_longest(\"A thing of beauty is a joy forever.\")"
   ]
  },
  {
   "cell_type": "code",
   "execution_count": 8,
   "id": "0a46213c",
   "metadata": {},
   "outputs": [
    {
     "data": {
      "text/plain": [
       "'forgetfulness'"
      ]
     },
     "execution_count": 8,
     "metadata": {},
     "output_type": "execute_result"
    }
   ],
   "source": [
    "find_longest(\"Forgetfulness is by all means powerless!\")"
   ]
  },
  {
   "cell_type": "markdown",
   "id": "01594efc",
   "metadata": {},
   "source": [
    "### 3. Create a function to check if a candidate is qualified in an imaginary coding interview of an imaginary tech startup.\n",
    "\n",
    "The criteria for a candidate to be qualified in the coding interview is:\n",
    "\n",
    "   1. The candidate should have complete all the questions.\n",
    "   2. The maximum time given to complete the interview is 120 minutes.\n",
    "   3. The maximum time given for very easy questions is 5 minutes each.\n",
    "   4. The maximum time given for easy questions is 10 minutes each.\n",
    "   5. The maximum time given for medium questions is 15 minutes each.\n",
    "   6. The maximum time given for hard questions is 20 minutes each.\n",
    "\n",
    "If all the above conditions are satisfied, return \"qualified\", else return \"disqualified\".\n",
    "\n",
    "You will be given a list of time taken by a candidate to solve a particular question and the total time taken by the candidate to complete the interview.\n",
    "\n",
    "Given a list , in a true condition will always be in the format [very easy, very easy, easy, easy, medium, medium, hard, hard].\n",
    "\n",
    "The maximum time to complete the interview includes a buffer time of 20 minutes.\n",
    "\n",
    "Examples\n",
    "\n",
    "interview([5, 5, 10, 10, 15, 15, 20, 20], 120) ➞ \"qualified\"\n",
    "\n",
    "interview([2, 3, 8, 6, 5, 12, 10, 18], 64) ➞  \"qualified\"\n",
    "\n",
    "interview([5, 5, 10, 10, 25, 15, 20, 20], 120) ➞ \"disqualified\"\n",
    "\n",
    "#Exceeded the time limit for a medium question.\n",
    "\n",
    "interview([5, 5, 10, 10, 15, 15, 20], 120) ➞ \"disqualified\"\n",
    "\n",
    "#Did not complete all the questions.\n",
    "\n",
    "interview([5, 5, 10, 10, 15, 15, 20, 20], 130) ➞ \"disqualified\"\n",
    "\n",
    "#Solved all the questions in their respected time limits but exceeded the total time limit of the interview.\n"
   ]
  },
  {
   "cell_type": "code",
   "execution_count": 9,
   "id": "12f0e09f",
   "metadata": {},
   "outputs": [],
   "source": [
    "def interview(input_list, time_taken):\n",
    "    time_checker = [5,5,10,10,15,15,20,20]\n",
    "    q_time_checker = []\n",
    "    if len(input_list) == 8:\n",
    "        if time_taken <=120:\n",
    "            for idx, question_time in enumerate(input_list):\n",
    "                if question_time <= time_checker[idx]:\n",
    "                    q_time_checker.append(True)\n",
    "                else:\n",
    "                    q_time_checker.append(False)\n",
    "        else:\n",
    "            return \"disqualify\"\n",
    "    else:\n",
    "        return \"disqualify\"\n",
    "    if q_time_checker.count(True)==8:\n",
    "        return \"qualify\"\n",
    "    else:\n",
    "        return \"disqualify\""
   ]
  },
  {
   "cell_type": "code",
   "execution_count": 10,
   "id": "aa354198",
   "metadata": {},
   "outputs": [
    {
     "data": {
      "text/plain": [
       "'qualify'"
      ]
     },
     "execution_count": 10,
     "metadata": {},
     "output_type": "execute_result"
    }
   ],
   "source": [
    "interview([5, 5, 10, 10, 15, 15, 20, 20], 120)"
   ]
  },
  {
   "cell_type": "code",
   "execution_count": 11,
   "id": "df511b5a",
   "metadata": {},
   "outputs": [
    {
     "data": {
      "text/plain": [
       "'qualify'"
      ]
     },
     "execution_count": 11,
     "metadata": {},
     "output_type": "execute_result"
    }
   ],
   "source": [
    "interview([5, 5, 10, 10, 15, 15, 20, 20], 120)"
   ]
  },
  {
   "cell_type": "code",
   "execution_count": 12,
   "id": "b30a3433",
   "metadata": {},
   "outputs": [
    {
     "data": {
      "text/plain": [
       "'qualify'"
      ]
     },
     "execution_count": 12,
     "metadata": {},
     "output_type": "execute_result"
    }
   ],
   "source": [
    "interview([2, 3, 8, 6, 5, 12, 10, 18], 64)"
   ]
  },
  {
   "cell_type": "code",
   "execution_count": 13,
   "id": "64c29f19",
   "metadata": {},
   "outputs": [
    {
     "data": {
      "text/plain": [
       "'disqualify'"
      ]
     },
     "execution_count": 13,
     "metadata": {},
     "output_type": "execute_result"
    }
   ],
   "source": [
    "interview([5, 5, 10, 10, 25, 15, 20, 20], 120)"
   ]
  },
  {
   "cell_type": "code",
   "execution_count": 14,
   "id": "a343d3ca",
   "metadata": {},
   "outputs": [
    {
     "data": {
      "text/plain": [
       "'disqualify'"
      ]
     },
     "execution_count": 14,
     "metadata": {},
     "output_type": "execute_result"
    }
   ],
   "source": [
    "interview([5, 5, 10, 10, 15, 15, 20], 120)"
   ]
  },
  {
   "cell_type": "code",
   "execution_count": 15,
   "id": "2e75fd1e",
   "metadata": {},
   "outputs": [
    {
     "data": {
      "text/plain": [
       "'qualify'"
      ]
     },
     "execution_count": 15,
     "metadata": {},
     "output_type": "execute_result"
    }
   ],
   "source": [
    "interview([5, 5, 10, 10, 15, 15, 20, 20], 120)"
   ]
  },
  {
   "cell_type": "markdown",
   "id": "4e0313f1",
   "metadata": {},
   "source": [
    "### 4. Write a function that divides a list into chunks of size n, where n is the length of each chunk.\n",
    "\n",
    "Examples\n",
    "\n",
    "chunkify([2, 3, 4, 5], 2) ➞ [[2, 3], [4, 5]]\n",
    "\n",
    "chunkify([2, 3, 4, 5, 6], 2) ➞ [[2, 3], [4, 5], [6]]\n",
    "\n",
    "chunkify([2, 3, 4, 5, 6, 7], 3) ➞ [[2, 3, 4], [5, 6, 7]]\n",
    "\n",
    "chunkify([2, 3, 4, 5, 6, 7], 1) ➞ [[2], [3], [4], [5], [6], [7]]\n",
    "\n",
    "chunkify([2, 3, 4, 5, 6, 7], 7) ➞ [[2, 3, 4, 5, 6, 7]]\n"
   ]
  },
  {
   "cell_type": "code",
   "execution_count": 16,
   "id": "8db6381d",
   "metadata": {},
   "outputs": [],
   "source": [
    "def chunkify(input_list, n):\n",
    "    output_list =[]\n",
    "    starting_pos = 0\n",
    "    ending_pos = n\n",
    "    for i in range(round(len(input_list)/n +0.1)):\n",
    "        #print(f\"Start:{starting_pos}, Ending pos:{ending_pos}\")\n",
    "        sliced_list = input_list[starting_pos:ending_pos]\n",
    "        #print(f\"inpu_list[{starting_pos}:{ending_pos}] = {sliced_list}\")\n",
    "        starting_pos = ending_pos\n",
    "        ending_pos += n\n",
    "        output_list.append(sliced_list)\n",
    "    return output_list"
   ]
  },
  {
   "cell_type": "code",
   "execution_count": 17,
   "id": "44ceeb80",
   "metadata": {},
   "outputs": [
    {
     "data": {
      "text/plain": [
       "[[2, 3], [4, 5]]"
      ]
     },
     "execution_count": 17,
     "metadata": {},
     "output_type": "execute_result"
    }
   ],
   "source": [
    "chunkify([2, 3, 4, 5], 2) #output [[2, 3], [4, 5]]"
   ]
  },
  {
   "cell_type": "code",
   "execution_count": 18,
   "id": "afa8ede7",
   "metadata": {},
   "outputs": [
    {
     "data": {
      "text/plain": [
       "[[2, 3], [4, 5], [6]]"
      ]
     },
     "execution_count": 18,
     "metadata": {},
     "output_type": "execute_result"
    }
   ],
   "source": [
    "chunkify([2, 3, 4, 5, 6], 2) #output [[2, 3], [4, 5], [6]]\n"
   ]
  },
  {
   "cell_type": "code",
   "execution_count": 19,
   "id": "c8158143",
   "metadata": {},
   "outputs": [
    {
     "data": {
      "text/plain": [
       "[[2, 3, 4], [5, 6, 7]]"
      ]
     },
     "execution_count": 19,
     "metadata": {},
     "output_type": "execute_result"
    }
   ],
   "source": [
    "chunkify([2, 3, 4, 5, 6, 7], 3) #output [[2, 3, 4], [5, 6, 7]]"
   ]
  },
  {
   "cell_type": "code",
   "execution_count": 20,
   "id": "bb968173",
   "metadata": {},
   "outputs": [
    {
     "data": {
      "text/plain": [
       "[[2], [3], [4], [5], [6], [7]]"
      ]
     },
     "execution_count": 20,
     "metadata": {},
     "output_type": "execute_result"
    }
   ],
   "source": [
    "chunkify([2, 3, 4, 5, 6, 7], 1) #output [[2], [3], [4], [5], [6], [7]]"
   ]
  },
  {
   "cell_type": "code",
   "execution_count": 21,
   "id": "29a1f206",
   "metadata": {},
   "outputs": [
    {
     "data": {
      "text/plain": [
       "[[2, 3, 4, 5, 6, 7]]"
      ]
     },
     "execution_count": 21,
     "metadata": {},
     "output_type": "execute_result"
    }
   ],
   "source": [
    "chunkify([2, 3, 4, 5, 6, 7], 7) #output [[2, 3, 4, 5, 6, 7]]"
   ]
  },
  {
   "cell_type": "markdown",
   "id": "636fbc18",
   "metadata": {},
   "source": [
    "### 5. You are given a list of strings consisting of grocery items, with prices in parentheses. Return a list of prices in float format.\n",
    "\n",
    "Examples\n",
    "\n",
    "get_prices([\"salad ($4.99)\"]) ➞ [4.99]\n",
    "\n",
    "get_prices([</p>\n",
    "\n",
    "\"artichokes ($1.99)\",\n",
    "\n",
    "  \"rotiserrie chicken ($5.99)\",\n",
    "\n",
    "\"gum ($0.75)\"\n",
    "\n",
    "])\n",
    "\n",
    "➞ [1.99, 5.99, 0.75]\n",
    "\n",
    "get_prices([\n",
    "\n",
    "\"ice cream ($5.99)\",\n",
    "\n",
    "\"banana ($0.20)\",\n",
    "\n",
    "\"sandwich ($8.50)\",\n",
    "\n",
    "\"soup ($1.99)\"\n",
    "\n",
    "])\n",
    "\n",
    "➞ [5.99, 0.2, 8.50, 1.99]\n",
    "</p>"
   ]
  },
  {
   "cell_type": "code",
   "execution_count": 22,
   "id": "23204ae8",
   "metadata": {},
   "outputs": [],
   "source": [
    "def get_prices(input_list):\n",
    "    price_list = []\n",
    "    for item in input_list:\n",
    "        price = item[item.index(\"(\")+1:item.index(\")\")]\n",
    "        price = price.strip()\n",
    "        price = price.replace(\"$\", \"\")\n",
    "        price_list.append(float(price))\n",
    "    return price_list"
   ]
  },
  {
   "cell_type": "code",
   "execution_count": 23,
   "id": "9abc6412",
   "metadata": {},
   "outputs": [
    {
     "data": {
      "text/plain": [
       "[5.99, 0.2, 8.5, 1.99]"
      ]
     },
     "execution_count": 23,
     "metadata": {},
     "output_type": "execute_result"
    }
   ],
   "source": [
    "get_prices([\n",
    "\n",
    "\"ice cream ($5.99)\",\n",
    "\n",
    "\"banana ($0.20)\",\n",
    "\n",
    "\"sandwich ($8.50)\",\n",
    "\n",
    "\"soup ($1.99)\"\n",
    "\n",
    "])"
   ]
  },
  {
   "cell_type": "code",
   "execution_count": 24,
   "id": "7b5d7018",
   "metadata": {},
   "outputs": [
    {
     "data": {
      "text/plain": [
       "[4.99]"
      ]
     },
     "execution_count": 24,
     "metadata": {},
     "output_type": "execute_result"
    }
   ],
   "source": [
    "get_prices([\"salad ($4.99)\"])"
   ]
  },
  {
   "cell_type": "code",
   "execution_count": 25,
   "id": "55af9472",
   "metadata": {},
   "outputs": [
    {
     "data": {
      "text/plain": [
       "[1.99, 5.99, 0.75]"
      ]
     },
     "execution_count": 25,
     "metadata": {},
     "output_type": "execute_result"
    }
   ],
   "source": [
    "get_prices([\n",
    "\n",
    "\"artichokes ($1.99)\",\n",
    "\n",
    "\"rotiserrie chicken ($5.99)\",\n",
    "\n",
    "\"gum ($0.75)\"\n",
    "\n",
    "])"
   ]
  }
 ],
 "metadata": {
  "kernelspec": {
   "display_name": "Python 3",
   "language": "python",
   "name": "python3"
  },
  "language_info": {
   "codemirror_mode": {
    "name": "ipython",
    "version": 3
   },
   "file_extension": ".py",
   "mimetype": "text/x-python",
   "name": "python",
   "nbconvert_exporter": "python",
   "pygments_lexer": "ipython3",
   "version": "3.8.8"
  }
 },
 "nbformat": 4,
 "nbformat_minor": 5
}
