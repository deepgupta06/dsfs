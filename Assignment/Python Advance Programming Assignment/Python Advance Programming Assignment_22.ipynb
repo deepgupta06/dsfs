{
 "cells": [
  {
   "cell_type": "markdown",
   "id": "e0dd5312",
   "metadata": {},
   "source": [
    "# Python Advance Programming Assignment_22"
   ]
  },
  {
   "cell_type": "code",
   "execution_count": 47,
   "id": "ee0da2ba",
   "metadata": {},
   "outputs": [
    {
     "name": "stdout",
     "output_type": "stream",
     "text": [
      "Requirement already satisfied: pattern in c:\\anaconda\\lib\\site-packages (3.6)\n",
      "Requirement already satisfied: backports.csv in c:\\anaconda\\lib\\site-packages (from pattern) (1.0.7)\n",
      "Requirement already satisfied: numpy in c:\\anaconda\\lib\\site-packages (from pattern) (1.20.1)\n",
      "Requirement already satisfied: requests in c:\\anaconda\\lib\\site-packages (from pattern) (2.25.1)\n",
      "Requirement already satisfied: nltk in c:\\anaconda\\lib\\site-packages (from pattern) (3.6.1)\n",
      "Requirement already satisfied: pdfminer.six in c:\\anaconda\\lib\\site-packages (from pattern) (20220319)\n",
      "Requirement already satisfied: lxml in c:\\anaconda\\lib\\site-packages (from pattern) (4.6.3)\n",
      "Requirement already satisfied: python-docx in c:\\anaconda\\lib\\site-packages (from pattern) (0.8.11)\n",
      "Requirement already satisfied: future in c:\\anaconda\\lib\\site-packages (from pattern) (0.18.2)\n",
      "Requirement already satisfied: cherrypy in c:\\anaconda\\lib\\site-packages (from pattern) (18.6.1)\n",
      "Requirement already satisfied: mysqlclient in c:\\anaconda\\lib\\site-packages (from pattern) (2.1.0)\n",
      "Requirement already satisfied: scipy in c:\\anaconda\\lib\\site-packages (from pattern) (1.6.2)\n",
      "Requirement already satisfied: beautifulsoup4 in c:\\anaconda\\lib\\site-packages (from pattern) (4.9.3)\n",
      "Requirement already satisfied: feedparser in c:\\anaconda\\lib\\site-packages (from pattern) (6.0.8)\n",
      "Requirement already satisfied: soupsieve>1.2 in c:\\anaconda\\lib\\site-packages (from beautifulsoup4->pattern) (2.2.1)\n",
      "Requirement already satisfied: zc.lockfile in c:\\anaconda\\lib\\site-packages (from cherrypy->pattern) (2.0)\n",
      "Requirement already satisfied: jaraco.collections in c:\\anaconda\\lib\\site-packages (from cherrypy->pattern) (3.5.1)\n",
      "Requirement already satisfied: cheroot>=8.2.1 in c:\\anaconda\\lib\\site-packages (from cherrypy->pattern) (8.6.0)\n",
      "Requirement already satisfied: portend>=2.1.1 in c:\\anaconda\\lib\\site-packages (from cherrypy->pattern) (3.1.0)\n",
      "Requirement already satisfied: pywin32>=227 in c:\\anaconda\\lib\\site-packages (from cherrypy->pattern) (227)\n",
      "Requirement already satisfied: more-itertools in c:\\anaconda\\lib\\site-packages (from cherrypy->pattern) (8.7.0)\n",
      "Requirement already satisfied: six>=1.11.0 in c:\\anaconda\\lib\\site-packages (from cheroot>=8.2.1->cherrypy->pattern) (1.15.0)\n",
      "Requirement already satisfied: jaraco.functools in c:\\anaconda\\lib\\site-packages (from cheroot>=8.2.1->cherrypy->pattern) (3.5.0)\n",
      "Requirement already satisfied: tempora>=1.8 in c:\\anaconda\\lib\\site-packages (from portend>=2.1.1->cherrypy->pattern) (5.0.1)\n",
      "Requirement already satisfied: pytz in c:\\anaconda\\lib\\site-packages (from tempora>=1.8->portend>=2.1.1->cherrypy->pattern) (2021.1)\n",
      "Requirement already satisfied: sgmllib3k in c:\\anaconda\\lib\\site-packages (from feedparser->pattern) (1.0.0)\n",
      "Requirement already satisfied: jaraco.text in c:\\anaconda\\lib\\site-packages (from jaraco.collections->cherrypy->pattern) (3.7.0)\n",
      "Requirement already satisfied: jaraco.classes in c:\\anaconda\\lib\\site-packages (from jaraco.collections->cherrypy->pattern) (3.2.1)\n",
      "Requirement already satisfied: importlib-resources in c:\\anaconda\\lib\\site-packages (from jaraco.text->jaraco.collections->cherrypy->pattern) (5.4.0)\n",
      "Requirement already satisfied: jaraco.context>=4.1 in c:\\anaconda\\lib\\site-packages (from jaraco.text->jaraco.collections->cherrypy->pattern) (4.1.1)\n",
      "Requirement already satisfied: zipp>=3.1.0 in c:\\anaconda\\lib\\site-packages (from importlib-resources->jaraco.text->jaraco.collections->cherrypy->pattern) (3.4.1)\n",
      "Requirement already satisfied: joblib in c:\\anaconda\\lib\\site-packages (from nltk->pattern) (1.0.1)\n",
      "Requirement already satisfied: tqdm in c:\\anaconda\\lib\\site-packages (from nltk->pattern) (4.59.0)\n",
      "Requirement already satisfied: regex in c:\\anaconda\\lib\\site-packages (from nltk->pattern) (2021.4.4)\n",
      "Requirement already satisfied: click in c:\\anaconda\\lib\\site-packages (from nltk->pattern) (7.1.2)\n",
      "Requirement already satisfied: cryptography in c:\\anaconda\\lib\\site-packages (from pdfminer.six->pattern) (3.4.7)\n",
      "Requirement already satisfied: chardet in c:\\anaconda\\lib\\site-packages (from pdfminer.six->pattern) (4.0.0)\n",
      "Requirement already satisfied: cffi>=1.12 in c:\\anaconda\\lib\\site-packages (from cryptography->pdfminer.six->pattern) (1.14.5)\n",
      "Requirement already satisfied: pycparser in c:\\anaconda\\lib\\site-packages (from cffi>=1.12->cryptography->pdfminer.six->pattern) (2.20)\n",
      "Requirement already satisfied: urllib3<1.27,>=1.21.1 in c:\\anaconda\\lib\\site-packages (from requests->pattern) (1.26.4)\n",
      "Requirement already satisfied: certifi>=2017.4.17 in c:\\anaconda\\lib\\site-packages (from requests->pattern) (2020.12.5)\n",
      "Requirement already satisfied: idna<3,>=2.5 in c:\\anaconda\\lib\\site-packages (from requests->pattern) (2.10)\n",
      "Requirement already satisfied: setuptools in c:\\anaconda\\lib\\site-packages (from zc.lockfile->cherrypy->pattern) (52.0.0.post20210125)\n"
     ]
    }
   ],
   "source": [
    "!pip install pattern"
   ]
  },
  {
   "cell_type": "markdown",
   "id": "0af12ab1",
   "metadata": {},
   "source": [
    "### 1. Create a class Smoothie and do the following:\n",
    "\n",
    "    - Create an instance attribute called ingredients.\n",
    "    \n",
    "    - Create a get_cost method which calculates the total cost of the ingredients used to make the smoothie.\n",
    "    \n",
    "    - Create a get_price method which returns the number from get_cost plus the number from get_cost multiplied by 1.5. Round to two decimal places.\n",
    "    \n",
    "    - Create a get_name method which gets the ingredients and puts them in alphabetical order into a nice descriptive sentence. If there are multiple ingredients, add the word \"Fusion\" to the end but otherwise, add \"Smoothie\". Remember to change \"-berries\" to \"-berry\". See the examples below.\n",
    "\n",
    "Ingredient---------Price\n",
    "    \n",
    "Strawberries-------$1.50\n",
    "\n",
    "Banana-------------$0.50\n",
    "    \n",
    "Mango--------------$2.50\n",
    "\n",
    "Blueberries--------$1.00\n",
    "    \n",
    "Raspberries--------$1.00\n",
    "\n",
    "Apple--------------$1.75\n",
    "    \n",
    "Pineappls----------$3.50\n",
    "\n",
    "\n",
    "Examples\n",
    "\n",
    "s1 = Smoothie([\"Banana\"])\n",
    "\n",
    "s1.ingredients ➞ [\"Banana\"]\n",
    "\n",
    "s1.get_cost() ➞ \"$0.50\"\n",
    "\n",
    "s1.get_price() ➞ \"$1.25\"\n",
    "\n",
    "s1.get_name() ➞ \"Banana Smoothie\"\n",
    "\n",
    "s2 = Smoothie([\"Raspberries\", \"Strawberries\", \"Blueberries\"])\n",
    "\n",
    "s2.ingredients ➞ [\"Raspberries\", \"Strawberries\", \"Blueberries\"]\n",
    "\n",
    "s2.get_cost() ➞ \"$3.50\"\n",
    "\n",
    "s2.get_price() ➞ \"$8.75\"\n",
    "\n",
    "s2.get_name() ➞ \"Blueberry Raspberry Strawberry Fusion\"\n"
   ]
  },
  {
   "cell_type": "code",
   "execution_count": 96,
   "id": "14f237f2",
   "metadata": {},
   "outputs": [],
   "source": [
    "class Smoothie:\n",
    "    def __init__(self, ingredients_list):\n",
    "        self.__dict__[\"ingredients\"] = ingredients_list\n",
    "        self.Ingredient_price = {\"Strawberries\":1.50, \n",
    "                                 \"Banana\":0.50, \n",
    "                                 \"Mango\":2.50,\n",
    "                                 \"Blueberries\":1.00,\n",
    "                                 \"Raspberries\":1.00,\n",
    "                                 \"Apple\":1.75,\n",
    "                                 \"Pineappls\":3.50}\n",
    "        \n",
    "    def get_cost(self):\n",
    "        total_cost = 0\n",
    "        for i in self.ingredients:\n",
    "            total_cost += self.Ingredient_price[i]\n",
    "        return f\"${round(total_cost, 2)}\"\n",
    "    \n",
    "    def get_price(self):\n",
    "        cost = float(self.get_cost().replace(\"$\", \"\"))\n",
    "        total_price = cost + cost*1.5\n",
    "        return f\"${round(total_price, 2)}\"\n",
    "    \n",
    "    def get_name(self):\n",
    "        from pattern.text.en import singularize\n",
    "        name = \"\"\n",
    "        if len(self.ingredients) == 1:\n",
    "            name = singularize(self.ingredients[0]) + \" Smoothie\"\n",
    "        else:\n",
    "            name = \" \".join([singularize(item) for item in self.ingredients]) + \" Fusion\"\n",
    "        return name"
   ]
  },
  {
   "cell_type": "code",
   "execution_count": 86,
   "id": "f42222dc",
   "metadata": {},
   "outputs": [],
   "source": [
    "s1 = Smoothie([\"Banana\"])"
   ]
  },
  {
   "cell_type": "code",
   "execution_count": 87,
   "id": "26cbf232",
   "metadata": {},
   "outputs": [
    {
     "data": {
      "text/plain": [
       "['Banana']"
      ]
     },
     "execution_count": 87,
     "metadata": {},
     "output_type": "execute_result"
    }
   ],
   "source": [
    "s1.ingredients"
   ]
  },
  {
   "cell_type": "code",
   "execution_count": 88,
   "id": "bce6cbf7",
   "metadata": {},
   "outputs": [
    {
     "data": {
      "text/plain": [
       "'$0.5'"
      ]
     },
     "execution_count": 88,
     "metadata": {},
     "output_type": "execute_result"
    }
   ],
   "source": [
    "s1.get_cost()"
   ]
  },
  {
   "cell_type": "code",
   "execution_count": 89,
   "id": "307032e8",
   "metadata": {},
   "outputs": [
    {
     "data": {
      "text/plain": [
       "'$1.25'"
      ]
     },
     "execution_count": 89,
     "metadata": {},
     "output_type": "execute_result"
    }
   ],
   "source": [
    "s1.get_price()"
   ]
  },
  {
   "cell_type": "code",
   "execution_count": 90,
   "id": "207c5840",
   "metadata": {},
   "outputs": [
    {
     "data": {
      "text/plain": [
       "'Banana Smoothie'"
      ]
     },
     "execution_count": 90,
     "metadata": {},
     "output_type": "execute_result"
    }
   ],
   "source": [
    "s1.get_name()"
   ]
  },
  {
   "cell_type": "code",
   "execution_count": 91,
   "id": "5a542469",
   "metadata": {},
   "outputs": [],
   "source": [
    "s2 = Smoothie([\"Raspberries\", \"Strawberries\", \"Blueberries\"])"
   ]
  },
  {
   "cell_type": "code",
   "execution_count": 92,
   "id": "97f57333",
   "metadata": {},
   "outputs": [
    {
     "data": {
      "text/plain": [
       "['Raspberries', 'Strawberries', 'Blueberries']"
      ]
     },
     "execution_count": 92,
     "metadata": {},
     "output_type": "execute_result"
    }
   ],
   "source": [
    "s2.ingredients"
   ]
  },
  {
   "cell_type": "code",
   "execution_count": 93,
   "id": "d5dc7943",
   "metadata": {},
   "outputs": [
    {
     "data": {
      "text/plain": [
       "'$3.5'"
      ]
     },
     "execution_count": 93,
     "metadata": {},
     "output_type": "execute_result"
    }
   ],
   "source": [
    "s2.get_cost()"
   ]
  },
  {
   "cell_type": "code",
   "execution_count": 94,
   "id": "1b53a613",
   "metadata": {},
   "outputs": [
    {
     "data": {
      "text/plain": [
       "'$8.75'"
      ]
     },
     "execution_count": 94,
     "metadata": {},
     "output_type": "execute_result"
    }
   ],
   "source": [
    "s2.get_price()"
   ]
  },
  {
   "cell_type": "code",
   "execution_count": 95,
   "id": "2968334b",
   "metadata": {},
   "outputs": [
    {
     "data": {
      "text/plain": [
       "'Raspberry Strawberry Blueberry Fusin'"
      ]
     },
     "execution_count": 95,
     "metadata": {},
     "output_type": "execute_result"
    }
   ],
   "source": [
    "s2.get_name()"
   ]
  },
  {
   "cell_type": "markdown",
   "id": "675fbf8f",
   "metadata": {},
   "source": [
    "2. Your task is to write a program which allows teachers to create a multiple choice test in a class called Testpaper and to be also able to assign a minimum pass mark. The testpaper's subject should also be included. The attributes are in the following order:\n",
    "\n",
    "  1. subject\n",
    "  2. markscheme\n",
    "  3. pass_mark\n",
    "\n",
    "As well as that, we need to create student objects to take the test itself! Create another class called Student and do the following:\n",
    "\n",
    "  - Create an attribute called tests_taken and set the default as 'No tests taken'.\n",
    "  - Make a method called take_test(), which takes in the testpaper object they are completing and the student's answers. Compare what they wrote to the mark scheme, and append to the/create a dictionary assigned to tests_taken in the way as shown in the point below.\n",
    "  - Each key in the dictionary should be the testpaper subject and each value should be a string in the format seen in the examples below (whether or not the student has failed, and their percentage in brackets).\n",
    "\n",
    "Examples\n",
    "\n",
    "paper1 = Testpaper(\"Maths\", [\"1A\", \"2C\", \"3D\", \"4A\", \"5A\"], \"60%\")\n",
    "\n",
    "paper2 = Testpaper(\"Chemistry\", [\"1C\", \"2C\", \"3D\", \"4A\"], \"75%\")\n",
    "\n",
    "paper3 = Testpaper(\"Computing\", [\"1D\", \"2C\", \"3C\", \"4B\", \"5D\", \"6C\", \"7A\"], \"75%\")\n",
    "\n",
    "student1 = Student()\n",
    "\n",
    "student2 = Student()\n",
    "\n",
    "student1.tests_taken ➞ \"No tests taken\"\n",
    "\n",
    "student1.take_test(paper1, [\"1A\", \"2D\", \"3D\", \"4A\", \"5A\"])\n",
    "\n",
    "student1.tests_taken ➞ {\"Maths\" : \"Passed! (80%)\"}\n",
    "\n",
    "student2.take_test(paper2, [\"1C\", \"2D\", \"3A\", \"4C\"])\n",
    "\n",
    "student2.take_test(paper3, [\"1A\", \"2C\", \"3A\", \"4C\", \"5D\", \"6C\", \"7B\"])\n",
    "\n",
    "student2.tests_taken ➞ {\"Chemistry\" : \"Failed! (25%)\", \"Computing\" : \"Failed! (43%)\"}\n"
   ]
  },
  {
   "cell_type": "code",
   "execution_count": 111,
   "id": "5a8dddeb",
   "metadata": {},
   "outputs": [],
   "source": [
    "class Testpaper:\n",
    "    def __init__(self, subject, markscheme, pass_mark):\n",
    "        self.subject = subject\n",
    "        self.markscheme = markscheme\n",
    "        self.pass_mark = pass_mark"
   ]
  },
  {
   "cell_type": "code",
   "execution_count": 186,
   "id": "a51870eb",
   "metadata": {},
   "outputs": [],
   "source": [
    "class Student():\n",
    "    def __init__(self):\n",
    "        self.result = {}\n",
    "    \n",
    "    def take_test(self, Testpaper, markscheme_got):\n",
    "        import re\n",
    "        result_value = \"\"\n",
    "        ans_sheet = {}\n",
    "        min_pass_mark = Testpaper.pass_mark.replace(\"%\", \"\")\n",
    "        min_pass_mark = int(float(min_pass_mark)) \n",
    "        mark = 0\n",
    "        #if len(Testpaper.markscheme) != len(markscheme_got):\n",
    "        for idx, item in enumerate(Testpaper.markscheme):\n",
    "            question_no = re.findall(\"(\\d+)\", item)[0]\n",
    "            correct_ans = item.replace(question_no, \"\")\n",
    "            ans_sheet[question_no] = correct_ans\n",
    "        for item in markscheme_got:\n",
    "            question_no = re.findall(\"(\\d+)\", item)[0]\n",
    "            ans = item.replace(question_no, \"\")\n",
    "            try:\n",
    "                if ans_sheet[question_no] == ans:\n",
    "                    mark += 1\n",
    "            except KeyError:\n",
    "                pass\n",
    "        \n",
    "        percentage_got = int((mark/len(Testpaper.markscheme))*100)\n",
    "        \n",
    "        if percentage_got >= min_pass_mark:\n",
    "            result_value = f\"Passed! ({percentage_got}%)\"\n",
    "        else:\n",
    "            result_value = f\"Failed! ({percentage_got}%)\"\n",
    "            \n",
    "        self.result[Testpaper.subject] = result_value\n",
    "    \n",
    "    def tests_taken(self):\n",
    "        return self.result"
   ]
  },
  {
   "cell_type": "code",
   "execution_count": 196,
   "id": "d37a25db",
   "metadata": {},
   "outputs": [],
   "source": [
    "paper1 = Testpaper(\"Maths\", [\"1A\", \"2C\", \"3D\", \"4A\", \"5A\"], \"60%\")\n",
    "paper2 = Testpaper(\"Chemistry\", [\"1C\", \"2C\", \"3D\", \"4A\"], \"75%\")\n",
    "paper3 = Testpaper(\"Computing\", [\"1D\", \"2C\", \"3C\", \"4B\", \"5D\", \"6C\", \"7A\"], \"75%\")"
   ]
  },
  {
   "cell_type": "code",
   "execution_count": 197,
   "id": "405649d9",
   "metadata": {},
   "outputs": [],
   "source": [
    "student1 = Student()"
   ]
  },
  {
   "cell_type": "code",
   "execution_count": 198,
   "id": "cba07a64",
   "metadata": {},
   "outputs": [],
   "source": [
    "student1.take_test(paper1, [\"1A\", \"2C\", \"3D\", \"4A\", \"6A\"])"
   ]
  },
  {
   "cell_type": "code",
   "execution_count": 199,
   "id": "285ffc51",
   "metadata": {},
   "outputs": [
    {
     "data": {
      "text/plain": [
       "{'Maths': 'Passed! (80%)'}"
      ]
     },
     "execution_count": 199,
     "metadata": {},
     "output_type": "execute_result"
    }
   ],
   "source": [
    "student1.tests_taken()"
   ]
  },
  {
   "cell_type": "code",
   "execution_count": 202,
   "id": "4b62af5d",
   "metadata": {},
   "outputs": [],
   "source": [
    "student1.take_test(paper3,  [\"1D\", \"2C\", \"3C\", \"4B\", \"5D\", \"6C\", \"7D\"] )"
   ]
  },
  {
   "cell_type": "code",
   "execution_count": 203,
   "id": "b34e7efa",
   "metadata": {},
   "outputs": [
    {
     "data": {
      "text/plain": [
       "{'Maths': 'Passed! (80%)',\n",
       " 'Chemistry': 'Failed! (25%)',\n",
       " 'Computing': 'Passed! (85%)'}"
      ]
     },
     "execution_count": 203,
     "metadata": {},
     "output_type": "execute_result"
    }
   ],
   "source": [
    "student1.tests_taken()"
   ]
  },
  {
   "cell_type": "code",
   "execution_count": null,
   "id": "21c0ee01",
   "metadata": {},
   "outputs": [],
   "source": []
  }
 ],
 "metadata": {
  "kernelspec": {
   "display_name": "Python 3",
   "language": "python",
   "name": "python3"
  },
  "language_info": {
   "codemirror_mode": {
    "name": "ipython",
    "version": 3
   },
   "file_extension": ".py",
   "mimetype": "text/x-python",
   "name": "python",
   "nbconvert_exporter": "python",
   "pygments_lexer": "ipython3",
   "version": "3.8.8"
  }
 },
 "nbformat": 4,
 "nbformat_minor": 5
}
