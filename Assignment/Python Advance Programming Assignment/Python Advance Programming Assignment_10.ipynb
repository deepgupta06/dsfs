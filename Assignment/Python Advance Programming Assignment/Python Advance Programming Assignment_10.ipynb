{
 "cells": [
  {
   "cell_type": "markdown",
   "id": "2ef2e370",
   "metadata": {},
   "source": [
    "# Python Advance Programming Assignment_10"
   ]
  },
  {
   "cell_type": "markdown",
   "id": "680fdbd3",
   "metadata": {},
   "source": [
    "### 1. Create a function that takes the width, height and character and returns a picture frame as a 2D list.\n",
    "\n",
    "Examples\n",
    "\n",
    "get_frame(4, 5, \"#\") ➞ [\n",
    "  [\"####\"],\n",
    "  [\"#  #\"],\n",
    "  [\"#  #\"],\n",
    "  [\"#  #\"],\n",
    "  [\"####\"]\n",
    "]\n",
    "\n",
    "#Frame is 4 characters wide and 5 characters tall.\n",
    "\n",
    "\n",
    "get_frame(10, 3, \"*\") ➞ [\n",
    "  [\"**********\"],\n",
    "  [\"*        *\"],\n",
    "  [\"**********\"]\n",
    "]\n",
    "\n",
    "#Frame is 10 characters and wide and 3 characters tall.\n",
    "\n",
    "\n",
    "get_frame(2, 5, \"0\") ➞ \"invalid\"\n",
    "\n",
    "#Frame's width is not more than 2.\n"
   ]
  },
  {
   "cell_type": "code",
   "execution_count": 1,
   "id": "163f85ae",
   "metadata": {},
   "outputs": [],
   "source": [
    "def print_frame(weidth, height, character):\n",
    "    for i in range(height):\n",
    "        if i==0 or i==height-1:\n",
    "            print(character*weidth)\n",
    "        else:\n",
    "            middle_frame = \"\"\n",
    "            for j in range(weidth):\n",
    "                if j==0 or j==weidth-1:\n",
    "                    middle_frame += character\n",
    "                else:\n",
    "                    middle_frame += \" \"\n",
    "            print(middle_frame)"
   ]
  },
  {
   "cell_type": "code",
   "execution_count": 2,
   "id": "b49ba2dd",
   "metadata": {},
   "outputs": [
    {
     "name": "stdout",
     "output_type": "stream",
     "text": [
      "$$$$$$$$$$$$$$$$$$$$$$$$$$$$$$$$$$$$$$$$$$$$$$$$$$\n",
      "$                                                $\n",
      "$                                                $\n",
      "$                                                $\n",
      "$                                                $\n",
      "$                                                $\n",
      "$                                                $\n",
      "$                                                $\n",
      "$                                                $\n",
      "$$$$$$$$$$$$$$$$$$$$$$$$$$$$$$$$$$$$$$$$$$$$$$$$$$\n"
     ]
    }
   ],
   "source": [
    "print_frame(50,10,\"$\")"
   ]
  },
  {
   "cell_type": "code",
   "execution_count": 3,
   "id": "cd1605b0",
   "metadata": {},
   "outputs": [],
   "source": [
    "def get_frame(weidth, height, character):\n",
    "    frame = []\n",
    "    for i in range(height):\n",
    "        row = []\n",
    "        row_string = \"\"\n",
    "        if i==0 or i==height-1:\n",
    "            row_string = character*weidth\n",
    "            row.append(row_string)\n",
    "        else:\n",
    "            row_string = \"\"\n",
    "            for j in range(weidth):\n",
    "                if j==0 or j==weidth-1:\n",
    "                    row_string += character\n",
    "                else:\n",
    "                    row_string += \" \"\n",
    "            row.append(row_string)\n",
    "        frame.append(row)\n",
    "    return frame\n",
    "            "
   ]
  },
  {
   "cell_type": "code",
   "execution_count": 4,
   "id": "0b5a821c",
   "metadata": {},
   "outputs": [
    {
     "data": {
      "text/plain": [
       "[['####################'],\n",
       " ['#                  #'],\n",
       " ['#                  #'],\n",
       " ['#                  #'],\n",
       " ['#                  #'],\n",
       " ['#                  #'],\n",
       " ['#                  #'],\n",
       " ['#                  #'],\n",
       " ['#                  #'],\n",
       " ['####################']]"
      ]
     },
     "execution_count": 4,
     "metadata": {},
     "output_type": "execute_result"
    }
   ],
   "source": [
    "get_frame(20,10,\"#\")"
   ]
  },
  {
   "cell_type": "markdown",
   "id": "e7e58e71",
   "metadata": {},
   "source": [
    "### 2. Write three functions:\n",
    "\n",
    "  1. boolean_and\n",
    "  2. boolean_or\n",
    "  3. boolean_xor\n",
    "These functions should evaluate a list of True and False values, starting from the leftmost element and evaluating pairwise.\n",
    "\n",
    "Examples\n",
    "\n",
    "boolean_and([True, True, False, True]) ➞ False\n",
    "\n",
    "#[True, True, False, True] => [True, False, True] => [False, True] => False\n",
    "\n",
    "boolean_or([True, True, False, False]) ➞ True\n",
    "\n",
    "#[True, True, False, True] => [True, False, False] => [True, False] => True\n",
    "\n",
    "boolean_xor([True, True, False, False]) ➞ False\n",
    "\n",
    "#[True, True, False, False] => [False, False, False] => [False, False] => False\n"
   ]
  },
  {
   "cell_type": "code",
   "execution_count": 5,
   "id": "3098f738",
   "metadata": {},
   "outputs": [],
   "source": [
    "def boolean_and(input_list):\n",
    "    if type(input_list) != list:\n",
    "        raise TypeError(f\"input_ data type must be str or list type\") \n",
    "    for idx in range(len(input_list)-1):\n",
    "        #import pdb; pdb.set_trace()\n",
    "        if idx == 0:\n",
    "            if len(input_list)>1:\n",
    "                result = input_list[0] & input_list[1]\n",
    "            else:\n",
    "                raise IndexError(f\"minimum length of input_list must be greater than 1\")\n",
    "        else:\n",
    "            result = result & input_list[idx+1]\n",
    "    return result\n",
    "\n",
    "            "
   ]
  },
  {
   "cell_type": "code",
   "execution_count": 6,
   "id": "21b21698",
   "metadata": {},
   "outputs": [
    {
     "data": {
      "text/plain": [
       "False"
      ]
     },
     "execution_count": 6,
     "metadata": {},
     "output_type": "execute_result"
    }
   ],
   "source": [
    "boolean_and([True, True, False, True])"
   ]
  },
  {
   "cell_type": "code",
   "execution_count": 7,
   "id": "2b4e3853",
   "metadata": {},
   "outputs": [],
   "source": [
    "def boolean_or(input_list):\n",
    "    if type(input_list) != list:\n",
    "        raise TypeError(f\"input_ data type must be str or list type\") \n",
    "    for idx in range(len(input_list)-1):\n",
    "        #import pdb; pdb.set_trace()\n",
    "        if idx == 0:\n",
    "            if len(input_list)>1:\n",
    "                result = input_list[0] | input_list[1]\n",
    "            else:\n",
    "                raise IndexError(f\"minimum length of input_list must be greater than 1\")\n",
    "        else:\n",
    "            result = result | input_list[idx+1]\n",
    "    return result"
   ]
  },
  {
   "cell_type": "code",
   "execution_count": 8,
   "id": "d25244a5",
   "metadata": {},
   "outputs": [
    {
     "data": {
      "text/plain": [
       "True"
      ]
     },
     "execution_count": 8,
     "metadata": {},
     "output_type": "execute_result"
    }
   ],
   "source": [
    "boolean_or([True, True, False, False])"
   ]
  },
  {
   "cell_type": "code",
   "execution_count": 9,
   "id": "9a3b7d1a",
   "metadata": {},
   "outputs": [],
   "source": [
    "def boolean_xor(input_list):\n",
    "    if type(input_list) != list:\n",
    "        raise TypeError(f\"input_ data type must be str or list type\") \n",
    "    for idx in range(len(input_list)-1):\n",
    "        #import pdb; pdb.set_trace()\n",
    "        if idx == 0:\n",
    "            if len(input_list)>1:\n",
    "                result = input_list[0] ^ input_list[1]\n",
    "            else:\n",
    "                raise IndexError(f\"minimum length of input_list must be greater than 1\")\n",
    "        else:\n",
    "            result = result ^ input_list[idx+1]\n",
    "    return result"
   ]
  },
  {
   "cell_type": "code",
   "execution_count": 10,
   "id": "d6016af8",
   "metadata": {},
   "outputs": [
    {
     "data": {
      "text/plain": [
       "False"
      ]
     },
     "execution_count": 10,
     "metadata": {},
     "output_type": "execute_result"
    }
   ],
   "source": [
    "boolean_xor([True, True, False, False])"
   ]
  },
  {
   "cell_type": "markdown",
   "id": "7a83bf45",
   "metadata": {},
   "source": [
    "### 3. Create a function that creates a box based on dimension n.\n",
    "\n",
    "Examples\n",
    "\n",
    "make_box(5) ➞ [\n",
    "  \"#####\",\n",
    "  \"#   #\",\n",
    "  \"#   #\",\n",
    "  \"#   #\",\n",
    "  \"#####\"\n",
    "]\n",
    "\n",
    "make_box(3) ➞ [\n",
    "  \"###\",\n",
    "  \"# #\",\n",
    "  \"###\"\n",
    "]\n",
    "\n",
    "make_box(2) ➞ [\n",
    "  \"##\",\n",
    "  \"##\"\n",
    "]\n",
    "\n",
    "make_box(1) ➞ [\n",
    "  \"#\"\n",
    "]\n"
   ]
  },
  {
   "cell_type": "code",
   "execution_count": 11,
   "id": "9b66b3fe",
   "metadata": {},
   "outputs": [],
   "source": [
    "def print_box(n):\n",
    "    height = n\n",
    "    weidth = n\n",
    "    character = \"#\"\n",
    "    for i in range(height):\n",
    "        if i==0 or i==height-1:\n",
    "            print(character*weidth)\n",
    "        else:\n",
    "            middle_frame = \"\"\n",
    "            for j in range(weidth):\n",
    "                if j==0 or j==weidth-1:\n",
    "                    middle_frame += character\n",
    "                else:\n",
    "                    middle_frame += \" \"\n",
    "            print(middle_frame)"
   ]
  },
  {
   "cell_type": "code",
   "execution_count": 12,
   "id": "279d9168",
   "metadata": {},
   "outputs": [
    {
     "name": "stdout",
     "output_type": "stream",
     "text": [
      "#####\n",
      "#   #\n",
      "#   #\n",
      "#   #\n",
      "#####\n"
     ]
    }
   ],
   "source": [
    "print_box(5)"
   ]
  },
  {
   "cell_type": "code",
   "execution_count": 13,
   "id": "04b0f5b7",
   "metadata": {},
   "outputs": [],
   "source": [
    "def make_box(n):\n",
    "    height = n\n",
    "    weidth = n\n",
    "    character = \"#\"\n",
    "    frame = []\n",
    "    for i in range(height):\n",
    "        row = []\n",
    "        row_string = \"\"\n",
    "        if i==0 or i==height-1:\n",
    "            row_string = character*weidth\n",
    "            #row.append(row_string)\n",
    "        else:\n",
    "            row_string = \"\"\n",
    "            for j in range(weidth):\n",
    "                if j==0 or j==weidth-1:\n",
    "                    row_string += character\n",
    "                else:\n",
    "                    row_string += \" \"\n",
    "            #row.append(row_string)\n",
    "        frame.append(row_string)\n",
    "    return frame"
   ]
  },
  {
   "cell_type": "code",
   "execution_count": 14,
   "id": "cb68e599",
   "metadata": {},
   "outputs": [
    {
     "data": {
      "text/plain": [
       "['##########',\n",
       " '#        #',\n",
       " '#        #',\n",
       " '#        #',\n",
       " '#        #',\n",
       " '#        #',\n",
       " '#        #',\n",
       " '#        #',\n",
       " '#        #',\n",
       " '##########']"
      ]
     },
     "execution_count": 14,
     "metadata": {},
     "output_type": "execute_result"
    }
   ],
   "source": [
    "make_box(10)"
   ]
  },
  {
   "cell_type": "markdown",
   "id": "29a6a48f",
   "metadata": {},
   "source": [
    "### 4. Given a common phrase, return False if any individual word in the phrase contains duplicate letters. Return True otherwise.\n",
    "\n",
    "Examples\n",
    "\n",
    "no_duplicate_letters(\"Fortune favours the bold.\") ➞ True\n",
    "\n",
    "no_duplicate_letters(\"You can lead a horse to water, but you can't make him drink.\") ➞ True\n",
    "\n",
    "no_duplicate_letters(\"Look before you leap.\") ➞ False\n",
    "\n",
    "#Duplicate letters in \"Look\" and \"before\".\n",
    "\n",
    "no_duplicate_letters(\"An apple a day keeps the doctor away.\") ➞ False\n",
    "\n",
    "#Duplicate letters in \"apple\", \"keeps\", \"doctor\", and \"away\".\n"
   ]
  },
  {
   "cell_type": "code",
   "execution_count": 15,
   "id": "5c2b0e1b",
   "metadata": {},
   "outputs": [],
   "source": [
    "def no_duplicate_letters(input_string):\n",
    "    for letter in input_string.split():\n",
    "        #print(letter)\n",
    "        if len(letter) != len(set(letter)):\n",
    "            return False\n",
    "    return True"
   ]
  },
  {
   "cell_type": "code",
   "execution_count": 16,
   "id": "f39f79fb",
   "metadata": {},
   "outputs": [
    {
     "data": {
      "text/plain": [
       "True"
      ]
     },
     "execution_count": 16,
     "metadata": {},
     "output_type": "execute_result"
    }
   ],
   "source": [
    "no_duplicate_letters(\"Fortune favours the bold.\")"
   ]
  },
  {
   "cell_type": "code",
   "execution_count": 17,
   "id": "9b3a4029",
   "metadata": {},
   "outputs": [
    {
     "data": {
      "text/plain": [
       "False"
      ]
     },
     "execution_count": 17,
     "metadata": {},
     "output_type": "execute_result"
    }
   ],
   "source": [
    "no_duplicate_letters(\"Look before you leap.\")"
   ]
  },
  {
   "cell_type": "code",
   "execution_count": 18,
   "id": "29c4f51d",
   "metadata": {},
   "outputs": [
    {
     "data": {
      "text/plain": [
       "False"
      ]
     },
     "execution_count": 18,
     "metadata": {},
     "output_type": "execute_result"
    }
   ],
   "source": [
    "no_duplicate_letters(\"An apple a day keeps the doctor away.\") "
   ]
  },
  {
   "cell_type": "code",
   "execution_count": 19,
   "id": "a63e2bf5",
   "metadata": {},
   "outputs": [
    {
     "data": {
      "text/plain": [
       "True"
      ]
     },
     "execution_count": 19,
     "metadata": {},
     "output_type": "execute_result"
    }
   ],
   "source": [
    "no_duplicate_letters(\"You can lead a horse to water, but you can't make him drink.\")"
   ]
  },
  {
   "cell_type": "markdown",
   "id": "1c4394af",
   "metadata": {},
   "source": [
    "### 5. Write a regular expression that will match the states that voted yes to President Trump's impeachment. You must use RegEx positive lookahead.\n",
    "\n",
    "Example\n",
    "\n",
    "txt = \"Texas = no, California = yes, Florida = yes, Michigan = no\"\n",
    "\n",
    "pattern = \"yourregularexpressionhere\"\n",
    "\n",
    "re.findall(pattern, txt) ➞ [\"California\", \"Florida\"]\n"
   ]
  },
  {
   "cell_type": "code",
   "execution_count": 26,
   "id": "3b08818b",
   "metadata": {},
   "outputs": [
    {
     "data": {
      "text/plain": [
       "[]"
      ]
     },
     "execution_count": 26,
     "metadata": {},
     "output_type": "execute_result"
    }
   ],
   "source": [
    "import re\n",
    "txt = \"Texas = no, California = yes, Florida = yes, Michigan = no\"\n",
    "\n",
    "pattern = r\"\\B.=.yes.\\B\"\n",
    "\n",
    "re.findall(pattern, txt)"
   ]
  },
  {
   "cell_type": "code",
   "execution_count": 27,
   "id": "83a7df10",
   "metadata": {},
   "outputs": [
    {
     "data": {
      "text/plain": [
       "['Texas', 'no', 'California', 'yes', 'Florida', 'yes', 'Michigan', 'no']"
      ]
     },
     "execution_count": 27,
     "metadata": {},
     "output_type": "execute_result"
    }
   ],
   "source": [
    "pattern = r\"\\w+\"\n",
    "\n",
    "re.findall(pattern, txt)"
   ]
  },
  {
   "cell_type": "code",
   "execution_count": null,
   "id": "0fd52103",
   "metadata": {},
   "outputs": [],
   "source": []
  }
 ],
 "metadata": {
  "kernelspec": {
   "display_name": "Python 3",
   "language": "python",
   "name": "python3"
  },
  "language_info": {
   "codemirror_mode": {
    "name": "ipython",
    "version": 3
   },
   "file_extension": ".py",
   "mimetype": "text/x-python",
   "name": "python",
   "nbconvert_exporter": "python",
   "pygments_lexer": "ipython3",
   "version": "3.8.8"
  }
 },
 "nbformat": 4,
 "nbformat_minor": 5
}
