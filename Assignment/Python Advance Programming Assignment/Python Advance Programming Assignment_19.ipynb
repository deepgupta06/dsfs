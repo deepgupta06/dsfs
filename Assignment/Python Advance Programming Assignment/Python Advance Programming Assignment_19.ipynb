{
 "cells": [
  {
   "cell_type": "markdown",
   "id": "fb9df6ac",
   "metadata": {},
   "source": [
    "# Python Advance Programming Assignment_19"
   ]
  },
  {
   "cell_type": "markdown",
   "id": "cccf0ac3",
   "metadata": {},
   "source": [
    "### 1. Create a checker board generator, which takes as inputs n and 2 elements to generate an n x n checkerboard with those two elements as alternating squares.\n",
    "\n",
    "Examples\n",
    "\n",
    "checker_board(2, 7, 6) ➞ [[7, 6], [6, 7]]\n",
    "\n",
    "checker_board(3, \"A\", \"B\") ➞ [[\"A\", \"B\", \"A\"],[\"B\", \"A\", \"B\"],[\"A\", \"B\", \"A\"]]\n",
    "\n",
    "checker_board(4, \"c\", \"d\") ➞ [\n",
    "  [\"c\", \"d\", \"c\", \"d\"],\n",
    "  [\"d\", \"c\", \"d\", \"c\"],\n",
    "  [\"c\", \"d\", \"c\", \"d\"],\n",
    "  [\"d\", \"c\", \"d\", \"c\"]\n",
    "]\n",
    "\n",
    "checker_board(4, \"c\", \"c\") ➞ \"invalid\"\n"
   ]
  },
  {
   "cell_type": "code",
   "execution_count": 1,
   "id": "6fd288f2",
   "metadata": {},
   "outputs": [],
   "source": [
    "def checker_board(n, element1, element2):\n",
    "    count = 0\n",
    "    element_list = [[element1, element2],[element2, element1]]\n",
    "    if element1==element2:\n",
    "        return \"invalid\"\n",
    "    else:\n",
    "        column = []\n",
    "        for i in range(n):\n",
    "            row = []\n",
    "            for j in range(n):\n",
    "                row.append(element_list[i%2][j%2])\n",
    "                count += 1\n",
    "            column.append(row)\n",
    "            \n",
    "        return column"
   ]
  },
  {
   "cell_type": "code",
   "execution_count": 2,
   "id": "a8edf7de",
   "metadata": {},
   "outputs": [
    {
     "data": {
      "text/plain": [
       "[[7, 6], [6, 7]]"
      ]
     },
     "execution_count": 2,
     "metadata": {},
     "output_type": "execute_result"
    }
   ],
   "source": [
    "checker_board(2, 7, 6)"
   ]
  },
  {
   "cell_type": "code",
   "execution_count": 3,
   "id": "649e6495",
   "metadata": {},
   "outputs": [
    {
     "data": {
      "text/plain": [
       "[['A', 'B', 'A'], ['B', 'A', 'B'], ['A', 'B', 'A']]"
      ]
     },
     "execution_count": 3,
     "metadata": {},
     "output_type": "execute_result"
    }
   ],
   "source": [
    "checker_board(3, \"A\", \"B\")"
   ]
  },
  {
   "cell_type": "code",
   "execution_count": 4,
   "id": "0f4e4e11",
   "metadata": {},
   "outputs": [
    {
     "data": {
      "text/plain": [
       "[['c', 'd', 'c', 'd'],\n",
       " ['d', 'c', 'd', 'c'],\n",
       " ['c', 'd', 'c', 'd'],\n",
       " ['d', 'c', 'd', 'c']]"
      ]
     },
     "execution_count": 4,
     "metadata": {},
     "output_type": "execute_result"
    }
   ],
   "source": [
    "checker_board(4, \"c\", \"d\")"
   ]
  },
  {
   "cell_type": "code",
   "execution_count": 5,
   "id": "19c445ef",
   "metadata": {},
   "outputs": [
    {
     "data": {
      "text/plain": [
       "'invalid'"
      ]
     },
     "execution_count": 5,
     "metadata": {},
     "output_type": "execute_result"
    }
   ],
   "source": [
    "checker_board(4, \"c\", \"c\")"
   ]
  },
  {
   "cell_type": "markdown",
   "id": "b6e0e5f2",
   "metadata": {},
   "source": [
    "### 2. A string is an almost-palindrome if, by changing only one character, you can make it a palindrome. Create a function that returns True if a string is an almost-palindrome and False otherwise.\n",
    "\n",
    "Examples\n",
    "\n",
    "almost_palindrome(\"abcdcbg\") ➞ True\n",
    "\n",
    "#Transformed to \"abcdcba\" by changing \"g\" to \"a\".\n",
    "\n",
    "almost_palindrome(\"abccia\") ➞ True\n",
    "\n",
    "#Transformed to \"abccba\" by changing \"i\" to \"b\".\n",
    "\n",
    "almost_palindrome(\"abcdaaa\") ➞ False\n",
    "\n",
    "#Can't be transformed to a palindrome in exactly 1 turn.\n",
    "\n",
    "almost_palindrome(\"1234312\") ➞ False\n"
   ]
  },
  {
   "cell_type": "code",
   "execution_count": 6,
   "id": "62002892",
   "metadata": {},
   "outputs": [],
   "source": [
    "def almost_palindrome(input_string):\n",
    "    input_string = list(input_string)\n",
    "    middle_point = len(input_string)//2\n",
    "    first_part = input_string[0:middle_point]\n",
    "    if len(input_string)%2 == 0:\n",
    "        second_part_i =  input_string[middle_point:len(input_string)][::-1]\n",
    "    else:\n",
    "        second_part_i =  input_string[middle_point+1:len(input_string)][::-1]\n",
    "    dif = [x for x in second_part_i if x not in first_part]\n",
    "    if len(dif) ==1:\n",
    "        dif_idx = second_part_i.index(dif[0])\n",
    "        second_part_i[dif_idx] = first_part[dif_idx]\n",
    "        input_string[0:middle_point] = first_part\n",
    "        if second_part_i == first_part:\n",
    "            if len(input_string)%2 == 0:\n",
    "                input_string[middle_point:len(input_string)] = second_part_i[::-1]\n",
    "            else:\n",
    "                input_string[middle_point+1:len(input_string)] = second_part_i[::-1]\n",
    "            print(f'Transformed to \"{\"\".join(input_string)}\" by changing \"{dif[0]}\" to \"{first_part[dif_idx]}\".')\n",
    "            return True\n",
    "        else:\n",
    "            return False\n",
    "    else:\n",
    "        return False"
   ]
  },
  {
   "cell_type": "code",
   "execution_count": 7,
   "id": "2083a981",
   "metadata": {},
   "outputs": [
    {
     "name": "stdout",
     "output_type": "stream",
     "text": [
      "Transformed to \"abcdcba\" by changing \"i\" to \"b\".\n"
     ]
    },
    {
     "data": {
      "text/plain": [
       "True"
      ]
     },
     "execution_count": 7,
     "metadata": {},
     "output_type": "execute_result"
    }
   ],
   "source": [
    "almost_palindrome(\"abcdcia\")"
   ]
  },
  {
   "cell_type": "code",
   "execution_count": 8,
   "id": "b16f6d53",
   "metadata": {},
   "outputs": [
    {
     "name": "stdout",
     "output_type": "stream",
     "text": [
      "Transformed to \"abcdcba\" by changing \"g\" to \"a\".\n"
     ]
    },
    {
     "data": {
      "text/plain": [
       "True"
      ]
     },
     "execution_count": 8,
     "metadata": {},
     "output_type": "execute_result"
    }
   ],
   "source": [
    "almost_palindrome(\"abcdcbg\")"
   ]
  },
  {
   "cell_type": "code",
   "execution_count": 9,
   "id": "8aabcc1b",
   "metadata": {},
   "outputs": [
    {
     "data": {
      "text/plain": [
       "False"
      ]
     },
     "execution_count": 9,
     "metadata": {},
     "output_type": "execute_result"
    }
   ],
   "source": [
    "almost_palindrome(\"abcdaaa\")"
   ]
  },
  {
   "cell_type": "code",
   "execution_count": 10,
   "id": "644e24c7",
   "metadata": {},
   "outputs": [
    {
     "data": {
      "text/plain": [
       "False"
      ]
     },
     "execution_count": 10,
     "metadata": {},
     "output_type": "execute_result"
    }
   ],
   "source": [
    "almost_palindrome(\"1234312\")"
   ]
  },
  {
   "cell_type": "markdown",
   "id": "43e4ac88",
   "metadata": {},
   "source": [
    "### 3. Create a function that finds how many prime numbers there are, up to the given integer.\n",
    "\n",
    "Examples\n",
    "\n",
    "prime_numbers(10) ➞ 4\n",
    "\n",
    "#2, 3, 5 and 7\n",
    "\n",
    "prime_numbers(20) ➞ 8\n",
    "\n",
    "#2, 3, 5, 7, 11, 13, 17 and 19\n",
    "\n",
    "prime_numbers(30) ➞ 10\n",
    "\n",
    "#2, 3, 5, 7, 11, 13, 17, 19, 23 and 29\n"
   ]
  },
  {
   "cell_type": "code",
   "execution_count": 11,
   "id": "41c8cf98",
   "metadata": {},
   "outputs": [],
   "source": [
    "def is_prime(num):\n",
    "    if num>1:\n",
    "        for i in range(2, num):\n",
    "            if num%i==0:\n",
    "                 return False\n",
    "        return True\n",
    "\n",
    "def prime_numbers(ending_number):\n",
    "    prime_number_list = []\n",
    "    for i in range(1, ending_number):\n",
    "        if is_prime(i):\n",
    "            prime_number_list.append(i)\n",
    "    return len(prime_number_list)"
   ]
  },
  {
   "cell_type": "code",
   "execution_count": 12,
   "id": "65b4a1bb",
   "metadata": {},
   "outputs": [
    {
     "data": {
      "text/plain": [
       "8"
      ]
     },
     "execution_count": 12,
     "metadata": {},
     "output_type": "execute_result"
    }
   ],
   "source": [
    "prime_numbers(20)"
   ]
  },
  {
   "cell_type": "code",
   "execution_count": 13,
   "id": "264003ed",
   "metadata": {},
   "outputs": [
    {
     "data": {
      "text/plain": [
       "4"
      ]
     },
     "execution_count": 13,
     "metadata": {},
     "output_type": "execute_result"
    }
   ],
   "source": [
    "prime_numbers(10)"
   ]
  },
  {
   "cell_type": "code",
   "execution_count": 14,
   "id": "8d2f225e",
   "metadata": {},
   "outputs": [
    {
     "data": {
      "text/plain": [
       "10"
      ]
     },
     "execution_count": 14,
     "metadata": {},
     "output_type": "execute_result"
    }
   ],
   "source": [
    "prime_numbers(30)"
   ]
  },
  {
   "cell_type": "code",
   "execution_count": 15,
   "id": "b8fb7631",
   "metadata": {},
   "outputs": [
    {
     "data": {
      "text/plain": [
       "25"
      ]
     },
     "execution_count": 15,
     "metadata": {},
     "output_type": "execute_result"
    }
   ],
   "source": [
    "prime_numbers(100)"
   ]
  },
  {
   "cell_type": "code",
   "execution_count": 16,
   "id": "da753a79",
   "metadata": {},
   "outputs": [
    {
     "data": {
      "text/plain": [
       "168"
      ]
     },
     "execution_count": 16,
     "metadata": {},
     "output_type": "execute_result"
    }
   ],
   "source": [
    "prime_numbers(1000)"
   ]
  },
  {
   "cell_type": "code",
   "execution_count": 17,
   "id": "f598ba2b",
   "metadata": {},
   "outputs": [
    {
     "data": {
      "text/plain": [
       "1229"
      ]
     },
     "execution_count": 17,
     "metadata": {},
     "output_type": "execute_result"
    }
   ],
   "source": [
    "prime_numbers(10000)"
   ]
  },
  {
   "cell_type": "markdown",
   "id": "02321b61",
   "metadata": {},
   "source": [
    "### 4. If today was Monday, in two days, it would be Wednesday.\n",
    "\n",
    "Create a function that takes in a list of days as input and the number of days to increment by. Return a list of days after n number of days has passed.\n",
    "\n",
    "Examples\n",
    "\n",
    "after_n_days([\"Thursday\", \"Monday\"], 4) ➞ [\"Monday\", \"Friday\"]\n",
    "\n",
    "after_n_days([\"Sunday\", \"Sunday\", \"Sunday\"], 1) ➞ [\"Monday\", \"Monday\", \"Monday\"]\n",
    "\n",
    "after_n_days([\"Monday\", \"Tuesday\", \"Friday\"], 1) ➞ [\"Tuesday\", \"Wednesday\", \"Saturday\"]\n"
   ]
  },
  {
   "cell_type": "code",
   "execution_count": 18,
   "id": "c857e431",
   "metadata": {},
   "outputs": [],
   "source": [
    "def after_n_days(input_list, n_day_after):\n",
    "    week_day = [\"Monday\", \"Tuesday\", \"Wednesday\",\"Thursday\", \"Friday\", \"Saturday\", \"Sunday\"]\n",
    "    output_list = []\n",
    "    for i in input_list:\n",
    "        output_list.append(week_day[(week_day.index(i)+n_day_after)%7])\n",
    "    return output_list\n",
    "            "
   ]
  },
  {
   "cell_type": "code",
   "execution_count": 19,
   "id": "3ad61ec3",
   "metadata": {},
   "outputs": [
    {
     "data": {
      "text/plain": [
       "['Monday', 'Monday', 'Monday']"
      ]
     },
     "execution_count": 19,
     "metadata": {},
     "output_type": "execute_result"
    }
   ],
   "source": [
    "after_n_days([\"Sunday\", \"Sunday\", \"Sunday\"], 1)"
   ]
  },
  {
   "cell_type": "code",
   "execution_count": 20,
   "id": "0977dcd5",
   "metadata": {},
   "outputs": [
    {
     "data": {
      "text/plain": [
       "['Tuesday', 'Wednesday', 'Saturday']"
      ]
     },
     "execution_count": 20,
     "metadata": {},
     "output_type": "execute_result"
    }
   ],
   "source": [
    "after_n_days([\"Monday\", \"Tuesday\", \"Friday\"], 1)"
   ]
  },
  {
   "cell_type": "code",
   "execution_count": 21,
   "id": "5774a344",
   "metadata": {},
   "outputs": [
    {
     "data": {
      "text/plain": [
       "['Monday', 'Friday']"
      ]
     },
     "execution_count": 21,
     "metadata": {},
     "output_type": "execute_result"
    }
   ],
   "source": [
    "after_n_days([\"Thursday\", \"Monday\"], 4)"
   ]
  },
  {
   "cell_type": "markdown",
   "id": "c3f1c929",
   "metadata": {},
   "source": [
    "### 5. You are in the process of creating a chat application and want to add an anonymous name feature. This anonymous name feature will create an alias that consists of two capitalized words beginning with the same letter as the users first name.\n",
    "\n",
    "Create a function that determines if the list of users is mapped to a list of anonymous names correctly.\n",
    "\n",
    "Examples\n",
    "\n",
    "is_correct_aliases([\"Adrian M.\", \"Harriet S.\", \"Mandy T.\"], [\"Amazing Artichoke\", \"Hopeful Hedgehog\", \"Marvelous Mouse\"]) ➞ True\n",
    "\n",
    "is_correct_aliases([\"Rachel F.\", \"Pam G.\", \"Fred Z.\", \"Nancy K.\"], [\"Reassuring Rat\", \"Peaceful Panda\", \"Fantastic Frog\", \"Notable Nickel\"]) ➞ True\n",
    "\n",
    "is_correct_aliases([\"Beth T.\"], [\"Brandishing Mimosa\"]) ➞ False\n",
    "\n",
    "#Both words in \"Brandishing Mimosa\" should begin with a \"B\" - \"Brandishing Beaver\" would do the trick.\n",
    "\n",
    "\n",
    "\n",
    "\n"
   ]
  },
  {
   "cell_type": "code",
   "execution_count": 22,
   "id": "dd958c00",
   "metadata": {},
   "outputs": [],
   "source": [
    "def is_correct_aliases(user_name_list, user_anonymous_name_list):\n",
    "    result = [True if name[0] == user_anonymous_name_list[idx].split()[0][0] and name[0] == user_anonymous_name_list[idx].split()[1][0] else False for idx, name in enumerate(user_name_list) ]\n",
    "    return all(result)"
   ]
  },
  {
   "cell_type": "code",
   "execution_count": 23,
   "id": "4de33378",
   "metadata": {},
   "outputs": [
    {
     "data": {
      "text/plain": [
       "False"
      ]
     },
     "execution_count": 23,
     "metadata": {},
     "output_type": "execute_result"
    }
   ],
   "source": [
    "is_correct_aliases([\"Beth T.\"], [\"Brandishing Mimosa\"])"
   ]
  },
  {
   "cell_type": "code",
   "execution_count": 24,
   "id": "a55a2e0e",
   "metadata": {},
   "outputs": [
    {
     "data": {
      "text/plain": [
       "True"
      ]
     },
     "execution_count": 24,
     "metadata": {},
     "output_type": "execute_result"
    }
   ],
   "source": [
    "is_correct_aliases([\"Adrian M.\", \"Harriet S.\", \"Mandy T.\"], [\"Amazing Artichoke\", \"Hopeful Hedgehog\", \"Marvelous Mouse\"])"
   ]
  },
  {
   "cell_type": "code",
   "execution_count": 25,
   "id": "b5e98efe",
   "metadata": {},
   "outputs": [
    {
     "data": {
      "text/plain": [
       "True"
      ]
     },
     "execution_count": 25,
     "metadata": {},
     "output_type": "execute_result"
    }
   ],
   "source": [
    "is_correct_aliases([\"Rachel F.\", \"Pam G.\", \"Fred Z.\", \"Nancy K.\"], [\"Reassuring Rat\", \"Peaceful Panda\", \"Fantastic Frog\", \"Notable Nickel\"])"
   ]
  },
  {
   "cell_type": "code",
   "execution_count": null,
   "id": "c828bad8",
   "metadata": {},
   "outputs": [],
   "source": []
  }
 ],
 "metadata": {
  "kernelspec": {
   "display_name": "Python 3",
   "language": "python",
   "name": "python3"
  },
  "language_info": {
   "codemirror_mode": {
    "name": "ipython",
    "version": 3
   },
   "file_extension": ".py",
   "mimetype": "text/x-python",
   "name": "python",
   "nbconvert_exporter": "python",
   "pygments_lexer": "ipython3",
   "version": "3.8.8"
  }
 },
 "nbformat": 4,
 "nbformat_minor": 5
}
