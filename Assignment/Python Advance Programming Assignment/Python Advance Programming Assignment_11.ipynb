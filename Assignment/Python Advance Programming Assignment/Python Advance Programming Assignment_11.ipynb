{
 "cells": [
  {
   "cell_type": "markdown",
   "id": "9c260d18",
   "metadata": {},
   "source": [
    "# Python Advance Programming Assignment_11"
   ]
  },
  {
   "cell_type": "markdown",
   "id": "88416bd2",
   "metadata": {},
   "source": [
    "### 1. Create a function that takes a list and returns a new list containing only prime numbers.\n",
    "\n",
    "Examples\n",
    "\n",
    "filter_primes([7, 9, 3, 9, 10, 11, 27]) ➞ [7, 3, 11]\n",
    "\n",
    "filter_primes([10007, 1009, 1007, 27, 147, 77, 1001, 70]) ➞ [10007, 1009]\n",
    "\n",
    "filter_primes([1009, 10, 10, 10, 3, 33, 9, 4, 1, 61, 63, 69, 1087, 1091, 1093, 1097]) ➞ [1009, 3, 61, 1087, 1091, 1093, 1097]\n"
   ]
  },
  {
   "cell_type": "code",
   "execution_count": 6,
   "id": "1c6b758e",
   "metadata": {},
   "outputs": [],
   "source": [
    "def isprimenumber(num):\n",
    "    checker = False\n",
    "    if num>1:\n",
    "        for i in range(2, num):\n",
    "            if num%i==0:\n",
    "                checker = True\n",
    "        if checker==True:\n",
    "            pass\n",
    "        else:\n",
    "            return True\n",
    "\n",
    "def filter_primes(input_list):\n",
    "    filter_list = []\n",
    "    for i in input_list:\n",
    "        if isprimenumber(i):\n",
    "            filter_list.append(i)\n",
    "    return filter_list"
   ]
  },
  {
   "cell_type": "code",
   "execution_count": 7,
   "id": "59012650",
   "metadata": {},
   "outputs": [
    {
     "data": {
      "text/plain": [
       "[1009, 3, 61, 1087, 1091, 1093, 1097]"
      ]
     },
     "execution_count": 7,
     "metadata": {},
     "output_type": "execute_result"
    }
   ],
   "source": [
    "filter_primes([1009, 10, 10, 10, 3, 33, 9, 4, 1, 61, 63, 69, 1087, 1091, 1093, 1097]) "
   ]
  },
  {
   "cell_type": "code",
   "execution_count": 8,
   "id": "f398326d",
   "metadata": {},
   "outputs": [
    {
     "data": {
      "text/plain": [
       "[10007, 1009]"
      ]
     },
     "execution_count": 8,
     "metadata": {},
     "output_type": "execute_result"
    }
   ],
   "source": [
    "filter_primes([10007, 1009, 1007, 27, 147, 77, 1001, 70])"
   ]
  },
  {
   "cell_type": "code",
   "execution_count": 9,
   "id": "f6c4f44e",
   "metadata": {},
   "outputs": [
    {
     "data": {
      "text/plain": [
       "[7, 3, 11]"
      ]
     },
     "execution_count": 9,
     "metadata": {},
     "output_type": "execute_result"
    }
   ],
   "source": [
    "filter_primes([7, 9, 3, 9, 10, 11, 27])"
   ]
  },
  {
   "cell_type": "markdown",
   "id": "f07f3e5f",
   "metadata": {},
   "source": [
    "### 2. Once a water balloon pops, is soaks the area around it. The ground gets drier the further away you travel from the balloon.\n",
    "\n",
    "The effect of a water balloon popping can be modeled using a list. Create a function that takes a list which takes the pre-pop state and returns the state after the balloon is popped. The pre-pop state will contain at most a single balloon, whose size is represented by the only non-zero element.\n",
    "\n",
    "Examples\n",
    "\n",
    "pop([0, 0, 0, 0, 4, 0, 0, 0, 0]) ➞ [0, 1, 2, 3, 4, 3, 2, 1, 0]\n",
    "\n",
    "pop([0, 0, 0, 3, 0, 0, 0]) ➞ [0, 1, 2, 3, 2, 1, 0]\n",
    "\n",
    "pop([0, 0, 2, 0, 0]) ➞ [0, 1, 2, 1, 0]\n",
    "\n",
    "pop([0]) ➞ [0]\n"
   ]
  },
  {
   "cell_type": "code",
   "execution_count": 26,
   "id": "06c44c25",
   "metadata": {},
   "outputs": [],
   "source": [
    "def pop(pre_pop_list):\n",
    "    for i in range(max(pre_pop_list)):\n",
    "        pre_pop_list[i] = i\n",
    "        pre_pop_list[len(pre_pop_list)-1-i] =i\n",
    "    return pre_pop_list"
   ]
  },
  {
   "cell_type": "code",
   "execution_count": 27,
   "id": "847b42cf",
   "metadata": {},
   "outputs": [
    {
     "data": {
      "text/plain": [
       "[0, 1, 2, 3, 4, 3, 2, 1, 0]"
      ]
     },
     "execution_count": 27,
     "metadata": {},
     "output_type": "execute_result"
    }
   ],
   "source": [
    "pop(pre_pop_list)"
   ]
  },
  {
   "cell_type": "code",
   "execution_count": 28,
   "id": "17e5aa78",
   "metadata": {},
   "outputs": [
    {
     "data": {
      "text/plain": [
       "[0, 1, 2, 3, 2, 1, 0]"
      ]
     },
     "execution_count": 28,
     "metadata": {},
     "output_type": "execute_result"
    }
   ],
   "source": [
    "pop([0, 0, 0, 3, 0, 0, 0])"
   ]
  },
  {
   "cell_type": "code",
   "execution_count": 29,
   "id": "cdd7953f",
   "metadata": {},
   "outputs": [
    {
     "data": {
      "text/plain": [
       "[0, 1, 2, 1, 0]"
      ]
     },
     "execution_count": 29,
     "metadata": {},
     "output_type": "execute_result"
    }
   ],
   "source": [
    "pop([0, 0, 2, 0, 0])"
   ]
  },
  {
   "cell_type": "code",
   "execution_count": 30,
   "id": "c8793d58",
   "metadata": {},
   "outputs": [
    {
     "data": {
      "text/plain": [
       "[0]"
      ]
     },
     "execution_count": 30,
     "metadata": {},
     "output_type": "execute_result"
    }
   ],
   "source": [
    "pop([0])"
   ]
  },
  {
   "cell_type": "markdown",
   "id": "ebd8c839",
   "metadata": {},
   "source": [
    "### 3. \"Loves me, loves me not\" is a traditional game in which a person plucks off all the petals of a flower one by one, saying the phrase \"Loves me\" and \"Loves me not\" when determining whether the one that they love, loves them back.\n",
    "\n",
    "Given a number of petals, return a string which repeats the phrases \"Loves me\" and \"Loves me not\" for every alternating petal, and return the last phrase in all caps. Remember to put a comma and space between phrases.\n",
    "\n",
    "Examples\n",
    "\n",
    "loves_me(3) ➞ \"Loves me, Loves me not, LOVES ME\"\n",
    "\n",
    "loves_me(6) ➞ \"Loves me, Loves me not, Loves me, Loves me not, Loves me, LOVES ME NOT\"\n",
    "\n",
    "loves_me(1) ➞ \"LOVES ME\"\n"
   ]
  },
  {
   "cell_type": "code",
   "execution_count": 49,
   "id": "859f746d",
   "metadata": {},
   "outputs": [],
   "source": [
    "def loves_me(number_of_petals):\n",
    "    saying_phrase = [\"Loves me\", \"Loves me not\"]\n",
    "    output_string = \"\"\n",
    "    for i in range(number_of_petals):\n",
    "        if i == number_of_petals-1:\n",
    "            output_string += saying_phrase[i%2].upper()\n",
    "        else:\n",
    "            output_string += saying_phrase[i%2]\n",
    "            output_string += \", \"\n",
    "\n",
    "    return output_string"
   ]
  },
  {
   "cell_type": "code",
   "execution_count": 50,
   "id": "87dabf23",
   "metadata": {},
   "outputs": [
    {
     "data": {
      "text/plain": [
       "'Loves me, Loves me not, LOVES ME'"
      ]
     },
     "execution_count": 50,
     "metadata": {},
     "output_type": "execute_result"
    }
   ],
   "source": [
    "loves_me(3)"
   ]
  },
  {
   "cell_type": "code",
   "execution_count": 51,
   "id": "e62998f6",
   "metadata": {},
   "outputs": [
    {
     "data": {
      "text/plain": [
       "'Loves me, Loves me not, Loves me, Loves me not, Loves me, LOVES ME NOT'"
      ]
     },
     "execution_count": 51,
     "metadata": {},
     "output_type": "execute_result"
    }
   ],
   "source": [
    "loves_me(6)"
   ]
  },
  {
   "cell_type": "code",
   "execution_count": 52,
   "id": "77713f9a",
   "metadata": {},
   "outputs": [
    {
     "data": {
      "text/plain": [
       "'LOVES ME'"
      ]
     },
     "execution_count": 52,
     "metadata": {},
     "output_type": "execute_result"
    }
   ],
   "source": [
    "loves_me(1)"
   ]
  },
  {
   "cell_type": "markdown",
   "id": "62270065",
   "metadata": {},
   "source": [
    "### 4. Write a function that sorts each string in a list by the letter in alphabetic ascending order (a-z).\n",
    "\n",
    "Examples\n",
    "\n",
    "sort_by_letter([\"932c\", \"832u32\", \"2344b\"])-- [\"2344b\", \"932c\", \"832u32\"]\n",
    "\n",
    "sort_by_letter([\"99a\", \"78b\", \"c2345\", \"11d\"]) [\"99a\", \"78b\", \"c2345\", \"11d\"]\n",
    "\n",
    "sort_by_letter([\"572z\", \"5y5\", \"304q2\"]) [\"304q2\", \"5y5\", \"572z\"]\n",
    "\n",
    "sort_by_letter([]) []\n"
   ]
  },
  {
   "cell_type": "code",
   "execution_count": 57,
   "id": "5ced2e8b",
   "metadata": {},
   "outputs": [],
   "source": [
    "input_list = [\"932c\", \"832u32\", \"2344b\"]"
   ]
  },
  {
   "cell_type": "code",
   "execution_count": 58,
   "id": "d405354c",
   "metadata": {},
   "outputs": [
    {
     "data": {
      "text/plain": [
       "True"
      ]
     },
     "execution_count": 58,
     "metadata": {},
     "output_type": "execute_result"
    }
   ],
   "source": [
    "a.isnumeric()"
   ]
  },
  {
   "cell_type": "code",
   "execution_count": 74,
   "id": "56124c08",
   "metadata": {},
   "outputs": [],
   "source": [
    "def sort_by_letter(input_list):\n",
    "    item_dic = {}\n",
    "    arranged_list = []\n",
    "    output_list = []\n",
    "    for item in input_list:\n",
    "        letter = \"\"\n",
    "        for i in item:\n",
    "            if i.isnumeric():\n",
    "                pass\n",
    "            else:\n",
    "                letter += i\n",
    "        item_dic[letter]  = item\n",
    "    arranged_list = list(item_dic.keys())\n",
    "    arranged_list.sort()\n",
    "    for letter in arranged_list:\n",
    "        output_list.append(item_dic[letter])\n",
    "    return output_list"
   ]
  },
  {
   "cell_type": "code",
   "execution_count": 75,
   "id": "3e3f07f7",
   "metadata": {},
   "outputs": [
    {
     "data": {
      "text/plain": [
       "['2344b', '932c', '832u32']"
      ]
     },
     "execution_count": 75,
     "metadata": {},
     "output_type": "execute_result"
    }
   ],
   "source": [
    "sort_by_letter([\"932c\", \"832u32\", \"2344b\"])"
   ]
  },
  {
   "cell_type": "code",
   "execution_count": 76,
   "id": "c84e300d",
   "metadata": {},
   "outputs": [
    {
     "data": {
      "text/plain": [
       "['99a', '78b', 'c2345', '11d']"
      ]
     },
     "execution_count": 76,
     "metadata": {},
     "output_type": "execute_result"
    }
   ],
   "source": [
    "sort_by_letter([\"99a\", \"78b\", \"c2345\", \"11d\"])"
   ]
  },
  {
   "cell_type": "code",
   "execution_count": 77,
   "id": "2bde1b6e",
   "metadata": {},
   "outputs": [
    {
     "data": {
      "text/plain": [
       "['304q2', '5y5', '572z']"
      ]
     },
     "execution_count": 77,
     "metadata": {},
     "output_type": "execute_result"
    }
   ],
   "source": [
    "sort_by_letter([\"572z\", \"5y5\", \"304q2\"])"
   ]
  },
  {
   "cell_type": "code",
   "execution_count": 78,
   "id": "3214d4eb",
   "metadata": {},
   "outputs": [
    {
     "data": {
      "text/plain": [
       "[]"
      ]
     },
     "execution_count": 78,
     "metadata": {},
     "output_type": "execute_result"
    }
   ],
   "source": [
    "sort_by_letter([])"
   ]
  },
  {
   "cell_type": "markdown",
   "id": "0449b36d",
   "metadata": {},
   "source": [
    "### 5. There are three cups on a table, at positions A, B, and C. At the start, there is a ball hidden under the cup at position B\n",
    "\n",
    "<img src=\"cup_ball.PNG\"></img>\n",
    "\n",
    "However, I perform several swaps on the cups, which is notated as two letters. For example, if I swap the cups at positions A and B, I could notate this as AB or BA.\n",
    "\n",
    "Create a function that returns the letter position that the ball is at, once I finish swapping the cups. The swaps will be given to you as a list.\n",
    "\n",
    "Example\n",
    "\n",
    "cup_swapping([\"AB\", \"CA\", \"AB\"]) ➞ \"C\"\n",
    "\n",
    "#Ball begins at position B.\n",
    "\n",
    "#Cups A and B swap, so the ball is at position A.\n",
    "\n",
    "#Cups C and A swap, so the ball is at position C.\n",
    "\n",
    "#Cups A and B swap, but the ball is at position C, so it doesn't move.\n"
   ]
  },
  {
   "cell_type": "code",
   "execution_count": 92,
   "id": "e37504fc",
   "metadata": {},
   "outputs": [],
   "source": [
    "position = {\"current_ball_position\":\"B\", \"A\":\"A\",  \"B\":\"B\", \"C\":\"C\"}\n",
    "\n",
    "current_ball_position = \"B\"\n",
    "\n",
    "swaping_list = [\"AB\", \"CA\", \"AB\"]"
   ]
  },
  {
   "cell_type": "code",
   "execution_count": 95,
   "id": "0728be51",
   "metadata": {},
   "outputs": [],
   "source": [
    "def cup_swapping(swaping_list):\n",
    "    current_ball_position = \"B\"\n",
    "    for swap in swaping_list:\n",
    "        if current_ball_position in swap:\n",
    "            if swap.index(current_ball_position)==1:\n",
    "                current_ball_position = swap[0]\n",
    "            else:\n",
    "                current_ball_position = swap[1]\n",
    "    return current_ball_position"
   ]
  },
  {
   "cell_type": "code",
   "execution_count": 96,
   "id": "72d66820",
   "metadata": {},
   "outputs": [
    {
     "data": {
      "text/plain": [
       "'C'"
      ]
     },
     "execution_count": 96,
     "metadata": {},
     "output_type": "execute_result"
    }
   ],
   "source": [
    "cup_swapping([\"AB\", \"CA\", \"AB\"])"
   ]
  },
  {
   "cell_type": "code",
   "execution_count": 97,
   "id": "e8588fd7",
   "metadata": {},
   "outputs": [
    {
     "data": {
      "text/plain": [
       "'B'"
      ]
     },
     "execution_count": 97,
     "metadata": {},
     "output_type": "execute_result"
    }
   ],
   "source": [
    "cup_swapping([\"AB\", \"CA\", \"AB\", \"CB\"])"
   ]
  },
  {
   "cell_type": "code",
   "execution_count": null,
   "id": "2e3b4af4",
   "metadata": {},
   "outputs": [],
   "source": []
  }
 ],
 "metadata": {
  "kernelspec": {
   "display_name": "Python 3",
   "language": "python",
   "name": "python3"
  },
  "language_info": {
   "codemirror_mode": {
    "name": "ipython",
    "version": 3
   },
   "file_extension": ".py",
   "mimetype": "text/x-python",
   "name": "python",
   "nbconvert_exporter": "python",
   "pygments_lexer": "ipython3",
   "version": "3.8.8"
  }
 },
 "nbformat": 4,
 "nbformat_minor": 5
}
