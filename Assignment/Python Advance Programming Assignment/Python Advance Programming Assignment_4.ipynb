{
 "cells": [
  {
   "cell_type": "markdown",
   "id": "8359bfea",
   "metadata": {},
   "source": [
    "# Python Advance Programming Assignment_4"
   ]
  },
  {
   "cell_type": "markdown",
   "id": "601f614f",
   "metadata": {},
   "source": [
    "### 1. In mathematics, the Fibonacci numbers, commonly denoted Fn, form a sequence, called the Fibonacci sequence, such that each number is the sum of the two preceding ones, starting from 0 and 1:\n",
    "\n",
    "\n",
    "<img src=\"fast_fib.png\"></img>\n",
    "\n",
    "\n",
    "The beginning of the sequence is this:\n",
    "\n",
    "0, 1, 1, 2, 3, 5, 8, 13, 21, 34, 55, 89, 144, ...\n",
    "\n",
    "The function fastFib(num) returns the fibonacci number Fn, of the given num as an argument.\n",
    "\n",
    "Examples\n",
    "\n",
    "fib_fast(5) ➞ 5\n",
    "\n",
    "fib_fast(10) ➞ 55\n",
    "\n",
    "fib_fast(20) ➞ 6765\n",
    "\n",
    "fib_fast(50) ➞ 12586269025\n"
   ]
  },
  {
   "cell_type": "code",
   "execution_count": 1,
   "id": "22dfbd72",
   "metadata": {},
   "outputs": [],
   "source": [
    "def fib_fast(nth_term):\n",
    "    sequence = [0, 1]\n",
    "    for i in range(0,nth_term-1):\n",
    "        number = sequence[i]+sequence[i+1]\n",
    "        sequence.append(number)\n",
    "    return sequence[nth_term]"
   ]
  },
  {
   "cell_type": "code",
   "execution_count": 2,
   "id": "6b319fb0",
   "metadata": {},
   "outputs": [
    {
     "data": {
      "text/plain": [
       "55"
      ]
     },
     "execution_count": 2,
     "metadata": {},
     "output_type": "execute_result"
    }
   ],
   "source": [
    "fib_fast(10)"
   ]
  },
  {
   "cell_type": "code",
   "execution_count": 3,
   "id": "d4ab3c0b",
   "metadata": {},
   "outputs": [
    {
     "data": {
      "text/plain": [
       "6765"
      ]
     },
     "execution_count": 3,
     "metadata": {},
     "output_type": "execute_result"
    }
   ],
   "source": [
    "fib_fast(20)"
   ]
  },
  {
   "cell_type": "code",
   "execution_count": 4,
   "id": "1741a15c",
   "metadata": {},
   "outputs": [
    {
     "data": {
      "text/plain": [
       "12586269025"
      ]
     },
     "execution_count": 4,
     "metadata": {},
     "output_type": "execute_result"
    }
   ],
   "source": [
    "fib_fast(50)"
   ]
  },
  {
   "cell_type": "markdown",
   "id": "d4dc0c40",
   "metadata": {},
   "source": [
    "### 2. Create a function that takes a strings characters as ASCII and returns each characters hexadecimal value as a string.\n",
    "\n",
    "Examples\n",
    "\n",
    "convert_to_hex(\"hello world\") ➞ \"68 65 6c 6c 6f 20 77 6f 72 6c 64\"\n",
    "\n",
    "convert_to_hex(\"Big Boi\") ➞ \"42 69 67 20 42 6f 69\"\n",
    "\n",
    "convert_to_hex(\"Marty Poppinson\") ➞ \"4d 61 72 74 79 20 50 6f 70 70 69 6e 73 6f 6e\"\n"
   ]
  },
  {
   "cell_type": "code",
   "execution_count": 5,
   "id": "1df485b9",
   "metadata": {},
   "outputs": [],
   "source": [
    "def decconvert(num, convert_to):\n",
    "    \"\"\"This function will take a decimal number as input \n",
    "    and number format which we want to convert, \n",
    "    and as a return it will give us the required converted value.\"\"\"\n",
    "    qu = num\n",
    "    list_ = []\n",
    "    binary_digit = [\"0\", \"1\"]\n",
    "    oct_digit = [\"0\", \"1\", \"2\", \"3\", \"4\", \"5\", \"6\", \"7\", \"8\"]\n",
    "    hex_digit = [\"0\", \"1\", \"2\", \"3\", \"4\", \"5\", \"6\", \"7\", \"8\", \"9\", \"a\", \"b\", \"c\", \"d\", \"e\", \"f\"]    \n",
    "    \n",
    "    conversion_value = {\"bin\":{\"base\":2, \"digit\":binary_digit},\n",
    "                        \"oct\":{\"base\":8, \"digit\":oct_digit},\n",
    "                        \"hex\":{\"base\":16, \"digit\": hex_digit}}\n",
    "    \n",
    "    while qu > 1:\n",
    "        reminder = qu%conversion_value[convert_to][\"base\"]\n",
    "        qu = int(qu/conversion_value[convert_to][\"base\"])\n",
    "        list_.append(conversion_value[convert_to][\"digit\"][reminder])\n",
    "        \n",
    "    list_.append(conversion_value[convert_to][\"digit\"][qu])\n",
    "    converted_number = \"\"\n",
    "    #for i in list_[::-1]:\n",
    "        #print(converted_number)\n",
    "        #converted_number += str(i)\n",
    "    \n",
    "    return \"\".join(list_[::-1])\n",
    "\n",
    "def convert_to_hex(input_string):\n",
    "    converted_list = []\n",
    "    for i in input_string:\n",
    "        converted_list.append(decconvert(ord(i), \"hex\")[1:3])\n",
    "    return \" \".join(converted_list)"
   ]
  },
  {
   "cell_type": "code",
   "execution_count": 6,
   "id": "07598da7",
   "metadata": {},
   "outputs": [
    {
     "data": {
      "text/plain": [
       "'68 65 6c 6c 6f 20 77 6f 72 6c 64'"
      ]
     },
     "execution_count": 6,
     "metadata": {},
     "output_type": "execute_result"
    }
   ],
   "source": [
    "input_string = \"hello world\"\n",
    "convert_to_hex(input_string)"
   ]
  },
  {
   "cell_type": "code",
   "execution_count": 7,
   "id": "3154bf17",
   "metadata": {},
   "outputs": [
    {
     "data": {
      "text/plain": [
       "'42 69 67 20 42 6f 69'"
      ]
     },
     "execution_count": 7,
     "metadata": {},
     "output_type": "execute_result"
    }
   ],
   "source": [
    "convert_to_hex(\"Big Boi\")"
   ]
  },
  {
   "cell_type": "code",
   "execution_count": 8,
   "id": "38d5d050",
   "metadata": {},
   "outputs": [
    {
     "data": {
      "text/plain": [
       "'4d 61 72 74 79 20 50 6f 70 70 69 6e 73 6f 6e'"
      ]
     },
     "execution_count": 8,
     "metadata": {},
     "output_type": "execute_result"
    }
   ],
   "source": [
    "convert_to_hex(\"Marty Poppinson\")"
   ]
  },
  {
   "cell_type": "markdown",
   "id": "3fa48e5f",
   "metadata": {},
   "source": [
    "### 3. Someone has attempted to censor my strings by replacing every vowel with a *, l*k* th*s. Luckily, I've been able to find the vowels that were removed.\n",
    "\n",
    "Given a censored string and a string of the censored vowels, return the original uncensored string.\n",
    "\n",
    "Example\n",
    "\n",
    "<p>uncensor(\"Wh*r* d*d my v*w*ls g*?\", \"eeioeo\") ➞ \"Where did my vowels go?\"</p>\n",
    "\n",
    "<p>uncensor(\"abcd\", \"\") ➞ \"abcd\"</p>\n",
    "\n",
    "<p>uncensor(\"*PP*RC*S*\", \"UEAE\") ➞ \"UPPERCASE\"</p>"
   ]
  },
  {
   "cell_type": "code",
   "execution_count": 9,
   "id": "147d530e",
   "metadata": {},
   "outputs": [],
   "source": [
    "def uncensor(input_string, replaced_vowel):\n",
    "    count = 0\n",
    "    uncensored_string = \"\"\n",
    "    for i in input_string:\n",
    "        if i==\"*\":\n",
    "            uncensored_string += replaced_vowel[count]\n",
    "            count +=1\n",
    "        else:\n",
    "            uncensored_string += i\n",
    "    return uncensored_string"
   ]
  },
  {
   "cell_type": "code",
   "execution_count": 10,
   "id": "2b3d154c",
   "metadata": {},
   "outputs": [
    {
     "data": {
      "text/plain": [
       "'Where did my vowels go?'"
      ]
     },
     "execution_count": 10,
     "metadata": {},
     "output_type": "execute_result"
    }
   ],
   "source": [
    "uncensor(\"Wh*r* d*d my v*w*ls g*?\", \"eeioeo\")"
   ]
  },
  {
   "cell_type": "code",
   "execution_count": 11,
   "id": "440fbad5",
   "metadata": {},
   "outputs": [
    {
     "data": {
      "text/plain": [
       "'abcd'"
      ]
     },
     "execution_count": 11,
     "metadata": {},
     "output_type": "execute_result"
    }
   ],
   "source": [
    "uncensor(\"abcd\", \"\")"
   ]
  },
  {
   "cell_type": "code",
   "execution_count": 12,
   "id": "5ab3f4e8",
   "metadata": {},
   "outputs": [
    {
     "data": {
      "text/plain": [
       "'UPPERCASE'"
      ]
     },
     "execution_count": 12,
     "metadata": {},
     "output_type": "execute_result"
    }
   ],
   "source": [
    "uncensor(\"*PP*RC*S*\", \"UEAE\") "
   ]
  },
  {
   "cell_type": "markdown",
   "id": "916cd44c",
   "metadata": {},
   "source": [
    "### 4. Write a function that takes an IP address and returns the domain name using PTR DNS records.\n",
    "\n",
    "Example\n",
    "\n",
    "get_domain(\"8.8.8.8\") ➞ \"dns.google\"\n",
    "\n",
    "get_domain(\"8.8.4.4\") ➞ \"dns.google\"\n"
   ]
  },
  {
   "cell_type": "code",
   "execution_count": 13,
   "id": "8752fc51",
   "metadata": {},
   "outputs": [],
   "source": [
    "def get_domain(ip_address):\n",
    "    import socket\n",
    "    address = socket.gethostbyaddr(ip_address)\n",
    "    return address[0]"
   ]
  },
  {
   "cell_type": "code",
   "execution_count": 14,
   "id": "c28e1cea",
   "metadata": {},
   "outputs": [
    {
     "data": {
      "text/plain": [
       "'dns.google'"
      ]
     },
     "execution_count": 14,
     "metadata": {},
     "output_type": "execute_result"
    }
   ],
   "source": [
    "get_domain(\"8.8.8.8\")"
   ]
  },
  {
   "cell_type": "code",
   "execution_count": 15,
   "id": "12e6cb94",
   "metadata": {},
   "outputs": [
    {
     "data": {
      "text/plain": [
       "'dns.google'"
      ]
     },
     "execution_count": 15,
     "metadata": {},
     "output_type": "execute_result"
    }
   ],
   "source": [
    "get_domain(\"8.8.4.4\")"
   ]
  },
  {
   "cell_type": "code",
   "execution_count": 16,
   "id": "3ebc9911",
   "metadata": {},
   "outputs": [
    {
     "data": {
      "text/plain": [
       "'dns9.quad9.net'"
      ]
     },
     "execution_count": 16,
     "metadata": {},
     "output_type": "execute_result"
    }
   ],
   "source": [
    "get_domain(\"9.9.9.9\")"
   ]
  },
  {
   "cell_type": "code",
   "execution_count": 17,
   "id": "72026cfa",
   "metadata": {},
   "outputs": [
    {
     "data": {
      "text/plain": [
       "'rpz-public-resolver1.rrdns.pch.net'"
      ]
     },
     "execution_count": 17,
     "metadata": {},
     "output_type": "execute_result"
    }
   ],
   "source": [
    "get_domain(\"149.112.112.112\")"
   ]
  },
  {
   "cell_type": "code",
   "execution_count": 18,
   "id": "fa7f18f3",
   "metadata": {},
   "outputs": [
    {
     "data": {
      "text/plain": [
       "'resolver1.opendns.com'"
      ]
     },
     "execution_count": 18,
     "metadata": {},
     "output_type": "execute_result"
    }
   ],
   "source": [
    "get_domain(\"208.67.222.222\")"
   ]
  },
  {
   "cell_type": "markdown",
   "id": "0175b013",
   "metadata": {},
   "source": [
    "### 5. Create a function that takes an integer n and returns the factorial of factorials. See below examples for a better understanding:\n",
    "\n",
    "Examples\n",
    "\n",
    "fact_of_fact(4) ➞ 288\n",
    "\n",
    "#4! * 3! * 2! * 1! = 288\n",
    "\n",
    "fact_of_fact(5) ➞ 34560\n",
    "\n",
    "fact_of_fact(6) ➞ 24883200\n"
   ]
  },
  {
   "cell_type": "code",
   "execution_count": 19,
   "id": "06e2d910",
   "metadata": {},
   "outputs": [],
   "source": [
    "def getFactorial(num):\n",
    "    result = 1\n",
    "    for i in range(1,num+1):\n",
    "        result = result*i\n",
    "    return result\n",
    "\n",
    "def fac_of_fact(num):\n",
    "    result = 1\n",
    "    for i in range(1,num+1):\n",
    "        result *= getFactorial(i)\n",
    "    return result"
   ]
  },
  {
   "cell_type": "code",
   "execution_count": 20,
   "id": "93f42dd6",
   "metadata": {},
   "outputs": [
    {
     "data": {
      "text/plain": [
       "288"
      ]
     },
     "execution_count": 20,
     "metadata": {},
     "output_type": "execute_result"
    }
   ],
   "source": [
    "fac_of_fact(4)"
   ]
  },
  {
   "cell_type": "code",
   "execution_count": 21,
   "id": "45edcf06",
   "metadata": {},
   "outputs": [
    {
     "data": {
      "text/plain": [
       "24883200"
      ]
     },
     "execution_count": 21,
     "metadata": {},
     "output_type": "execute_result"
    }
   ],
   "source": [
    "fac_of_fact(6)"
   ]
  },
  {
   "cell_type": "code",
   "execution_count": 22,
   "id": "a38c4f9e",
   "metadata": {},
   "outputs": [
    {
     "data": {
      "text/plain": [
       "34560"
      ]
     },
     "execution_count": 22,
     "metadata": {},
     "output_type": "execute_result"
    }
   ],
   "source": [
    "fac_of_fact(5)"
   ]
  },
  {
   "cell_type": "code",
   "execution_count": null,
   "id": "f3caae17",
   "metadata": {},
   "outputs": [],
   "source": []
  }
 ],
 "metadata": {
  "kernelspec": {
   "display_name": "Python 3",
   "language": "python",
   "name": "python3"
  },
  "language_info": {
   "codemirror_mode": {
    "name": "ipython",
    "version": 3
   },
   "file_extension": ".py",
   "mimetype": "text/x-python",
   "name": "python",
   "nbconvert_exporter": "python",
   "pygments_lexer": "ipython3",
   "version": "3.8.8"
  }
 },
 "nbformat": 4,
 "nbformat_minor": 5
}
