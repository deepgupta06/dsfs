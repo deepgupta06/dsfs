{
 "cells": [
  {
   "cell_type": "markdown",
   "id": "cdf4f907",
   "metadata": {},
   "source": [
    "# Python Programming Basic Assignment_5"
   ]
  },
  {
   "cell_type": "markdown",
   "id": "6dba9cdc",
   "metadata": {},
   "source": [
    "### 1. Write a Python Program to Find LCM?\n",
    "Ans:"
   ]
  },
  {
   "cell_type": "code",
   "execution_count": null,
   "id": "f4244a8b",
   "metadata": {},
   "outputs": [],
   "source": [
    "def lcm(number_list):\n",
    "    max_in_list = max(number_list)\n",
    "    #print(f\"Max Number:{max_in_list}\")\n",
    "    factor_starting = 2\n",
    "    cf_list = []\n",
    "    while True:\n",
    "        factor_starting = 2\n",
    "        for i in range(factor_starting, max_in_list+1):\n",
    "            count = 0\n",
    "            count2 = 0\n",
    "            #print(f\"I:{i}\")\n",
    "            for item in number_list:\n",
    "                div = item%i\n",
    "                #print(f\"{item}%{i}={div}\")\n",
    "                if div==0:\n",
    "                    count+=1\n",
    "                    if count>=2:\n",
    "                        for  idx, value in enumerate(number_list):\n",
    "                            if value%i==0:\n",
    "                                number_list[idx] = int(value/i)\n",
    "                            else:\n",
    "                                number_list[idx] = value\n",
    "                        factor_starting =2\n",
    "                        cf_list.append(i)\n",
    "\n",
    "        \n",
    "        break\n",
    "    number_list.extend(cf_list)\n",
    "    result =1\n",
    "    for i in number_list:\n",
    "        result *=i\n",
    "    return result"
   ]
  },
  {
   "cell_type": "code",
   "execution_count": null,
   "id": "e054df8f",
   "metadata": {},
   "outputs": [],
   "source": [
    "lcm([25,42,33, 55, 37])"
   ]
  },
  {
   "cell_type": "markdown",
   "id": "6481bb00",
   "metadata": {},
   "source": [
    "### 2. Write a Python Program to Find HCF?\n",
    "Ans:"
   ]
  },
  {
   "cell_type": "code",
   "execution_count": null,
   "id": "ae6ca4e8",
   "metadata": {},
   "outputs": [],
   "source": [
    "def hcf(number_list):\n",
    "    max_in_list = max(number_list)\n",
    "    #print(f\"Max Number:{max_in_list}\")\n",
    "    factor_starting = 2\n",
    "    hcf_list = []\n",
    "    while True:\n",
    "        factor_starting = 2\n",
    "        for i in range(factor_starting, max_in_list+1):\n",
    "            count = 0\n",
    "            count2 = 0\n",
    "            #print(f\"I:{i}\")\n",
    "            for item in number_list:\n",
    "                div = item%i\n",
    "                #print(f\"{item}%{i}={div}\")\n",
    "                if div==0:\n",
    "                    count+=1\n",
    "                    if count>=len(number_list):\n",
    "                        for  idx, value in enumerate(number_list):\n",
    "                            if value%i==0:\n",
    "                                number_list[idx] = int(value/i)\n",
    "                            else:\n",
    "                                number_list[idx] = value\n",
    "                        factor_starting =2\n",
    "                        hcf_list.append(i)\n",
    "\n",
    "        #print(f\"hcf_list:{hcf_list} and Number List: {number_list}\")\n",
    "        break\n",
    "    result =1\n",
    "    for i in hcf_list:\n",
    "        result *=i\n",
    "    return result"
   ]
  },
  {
   "cell_type": "code",
   "execution_count": null,
   "id": "34c5592f",
   "metadata": {},
   "outputs": [],
   "source": [
    "hcf([17, 51, 102])"
   ]
  },
  {
   "cell_type": "markdown",
   "id": "4697989d",
   "metadata": {},
   "source": [
    "### 3. Write a Python Program to Convert Decimal to Binary, Octal and Hexadecimal?\n",
    "Ans:"
   ]
  },
  {
   "cell_type": "code",
   "execution_count": null,
   "id": "148eb9a3",
   "metadata": {},
   "outputs": [],
   "source": [
    "def decconvert(num, convert_to):\n",
    "    qu = num\n",
    "    list_ = []\n",
    "    binary_digit = [\"0\", \"1\"]\n",
    "    oct_digit = [\"0\", \"1\", \"2\", \"3\", \"4\", \"5\", \"6\", \"7\", \"8\"]\n",
    "    hex_digit = [\"0\", \"1\", \"2\", \"3\", \"4\", \"5\", \"6\", \"7\", \"8\", \"9\", \"A\", \"B\", \"C\", \"D\", \"E\", \"F\"]    \n",
    "    \n",
    "    conversion_value = {\"bin\":{\"base\":2, \"digit\":binary_digit},\n",
    "                        \"oct\":{\"base\":8, \"digit\":oct_digit},\n",
    "                        \"hex\":{\"base\":16, \"digit\": hex_digit}}\n",
    "    \n",
    "    while qu > 1:\n",
    "        reminder = qu%conversion_value[convert_to][\"base\"]\n",
    "        qu = int(qu/conversion_value[convert_to][\"base\"])\n",
    "        list_.append(conversion_value[convert_to][\"digit\"][reminder])\n",
    "    list_.append(conversion_value[convert_to][\"digit\"][qu])\n",
    "    converted_number = \"\"\n",
    "    for i in list_[::-1]:\n",
    "        converted_number += str(i)\n",
    "    return converted_number"
   ]
  },
  {
   "cell_type": "code",
   "execution_count": null,
   "id": "9dd8338d",
   "metadata": {},
   "outputs": [],
   "source": [
    "decconvert(540,\"bin\" )"
   ]
  },
  {
   "cell_type": "code",
   "execution_count": null,
   "id": "1591ac80",
   "metadata": {},
   "outputs": [],
   "source": [
    "decconvert(540,\"oct\" )"
   ]
  },
  {
   "cell_type": "code",
   "execution_count": null,
   "id": "7f22e4ac",
   "metadata": {},
   "outputs": [],
   "source": [
    "decconvert(540,\"hex\" )"
   ]
  },
  {
   "cell_type": "markdown",
   "id": "234b32a7",
   "metadata": {},
   "source": [
    "### 4. Write a Python Program To Find ASCII value of a character?\n",
    "Ans:"
   ]
  },
  {
   "cell_type": "code",
   "execution_count": null,
   "id": "0fc62e44",
   "metadata": {},
   "outputs": [],
   "source": [
    "def chrToascii(chr_):\n",
    "    return ord(str(chr_))"
   ]
  },
  {
   "cell_type": "code",
   "execution_count": null,
   "id": "f958652f",
   "metadata": {},
   "outputs": [],
   "source": [
    "chrToascii(\"`\")"
   ]
  },
  {
   "cell_type": "markdown",
   "id": "4b84341a",
   "metadata": {},
   "source": [
    "### 5. Write a Python Program to Make a Simple Calculator with 4 basic mathematical operations?\n",
    "Ans:"
   ]
  },
  {
   "cell_type": "code",
   "execution_count": null,
   "id": "db0b61a9",
   "metadata": {},
   "outputs": [],
   "source": [
    "class Calculator():\n",
    "    def __init__(self, a, b):\n",
    "        self.a = a\n",
    "        self.b = b\n",
    "\n",
    "    def addition(self):\n",
    "        result = self.a + self.b\n",
    "        print(\"Addition Operation\")\n",
    "        print(f\"a={self.a}\\nb={self.b}\\na+b={result}\")\n",
    "\n",
    "    def division(self):\n",
    "        result = self.a / self.b\n",
    "        print(\"Division Operation\")\n",
    "        print(f\"a={self.a}\\nb={self.b}\\na/b={result}\")\n",
    "\n",
    "    def subtraction(self):\n",
    "        result = self.a - self.b\n",
    "        print(\"Subtraction Operation\")\n",
    "        print(f\"a={self.a}\\nb={self.b}\\na-b={result}\")\n",
    "\n",
    "    def multiplication(self):\n",
    "        result = self.a * self.b\n",
    "        print(\"Multiplication Operation\")\n",
    "        print(f\"a={self.a}\\nb={self.b}\\na*b={result}\")"
   ]
  },
  {
   "cell_type": "code",
   "execution_count": null,
   "id": "67aad255",
   "metadata": {},
   "outputs": [],
   "source": [
    "cal = Calculator(203, 543)"
   ]
  },
  {
   "cell_type": "code",
   "execution_count": null,
   "id": "035ddf8f",
   "metadata": {},
   "outputs": [],
   "source": [
    "cal.addition()"
   ]
  },
  {
   "cell_type": "code",
   "execution_count": null,
   "id": "d42ee329",
   "metadata": {},
   "outputs": [],
   "source": [
    "cal.subtraction()"
   ]
  },
  {
   "cell_type": "code",
   "execution_count": null,
   "id": "503c6e05",
   "metadata": {},
   "outputs": [],
   "source": [
    "cal.multiplication()"
   ]
  },
  {
   "cell_type": "code",
   "execution_count": null,
   "id": "dcef071f",
   "metadata": {},
   "outputs": [],
   "source": [
    "cal.d"
   ]
  }
 ],
 "metadata": {
  "kernelspec": {
   "display_name": "Python 3 (ipykernel)",
   "language": "python",
   "name": "python3"
  },
  "language_info": {
   "codemirror_mode": {
    "name": "ipython",
    "version": 3
   },
   "file_extension": ".py",
   "mimetype": "text/x-python",
   "name": "python",
   "nbconvert_exporter": "python",
   "pygments_lexer": "ipython3",
   "version": "3.9.7"
  }
 },
 "nbformat": 4,
 "nbformat_minor": 5
}
