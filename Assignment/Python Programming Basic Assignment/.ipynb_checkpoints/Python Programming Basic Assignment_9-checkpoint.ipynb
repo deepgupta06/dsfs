{
 "cells": [
  {
   "cell_type": "markdown",
   "id": "76d39de1",
   "metadata": {},
   "source": [
    "# Python Programming Basic Assignment_9"
   ]
  },
  {
   "cell_type": "markdown",
   "id": "a2ada519",
   "metadata": {},
   "source": [
    "1. Write a Python program to find words which are greater than given length k?\n",
    "2. Write a Python program for removing i-th character from a string?\n",
    "3. Write a Python program to split and join a string?\n",
    "4. Write a Python to check if a given string is binary string or not?\n",
    "5. Write a Python program to find uncommon words from two Strings?\n",
    "6. Write a Python to find all duplicate characters in string?\n",
    "7. Write a Python Program to check if a string contains any special character?"
   ]
  },
  {
   "cell_type": "markdown",
   "id": "2195d399",
   "metadata": {},
   "source": [
    "### 1. Write a Python program to find words which are greater than given length k?\n",
    "Ans:"
   ]
  },
  {
   "cell_type": "code",
   "execution_count": 5,
   "id": "54260ba4",
   "metadata": {},
   "outputs": [],
   "source": [
    "def finding_n_length_word(input_string, length):\n",
    "    word_list = []\n",
    "    for word in input_string.split():\n",
    "        if len(word)==length:\n",
    "            word_list.append(word)\n",
    "    return word_list"
   ]
  },
  {
   "cell_type": "code",
   "execution_count": 11,
   "id": "d837df9b",
   "metadata": {},
   "outputs": [],
   "source": [
    "a = \"My name is Narendra Modi !\""
   ]
  },
  {
   "cell_type": "code",
   "execution_count": 12,
   "id": "3112f2bf",
   "metadata": {},
   "outputs": [
    {
     "data": {
      "text/plain": [
       "['name', 'Modi']"
      ]
     },
     "execution_count": 12,
     "metadata": {},
     "output_type": "execute_result"
    }
   ],
   "source": [
    "finding_n_length_word(a, 4)"
   ]
  },
  {
   "cell_type": "code",
   "execution_count": 4,
   "id": "3efe2cb1",
   "metadata": {},
   "outputs": [
    {
     "data": {
      "text/plain": [
       "['my', 'name', 'is', 'deep', 'gupta']"
      ]
     },
     "execution_count": 4,
     "metadata": {},
     "output_type": "execute_result"
    }
   ],
   "source": [
    "a.split()"
   ]
  },
  {
   "cell_type": "code",
   "execution_count": null,
   "id": "ed708172",
   "metadata": {},
   "outputs": [],
   "source": []
  },
  {
   "cell_type": "code",
   "execution_count": null,
   "id": "54f0a744",
   "metadata": {},
   "outputs": [],
   "source": []
  }
 ],
 "metadata": {
  "kernelspec": {
   "display_name": "Python 3",
   "language": "python",
   "name": "python3"
  },
  "language_info": {
   "codemirror_mode": {
    "name": "ipython",
    "version": 3
   },
   "file_extension": ".py",
   "mimetype": "text/x-python",
   "name": "python",
   "nbconvert_exporter": "python",
   "pygments_lexer": "ipython3",
   "version": "3.8.8"
  }
 },
 "nbformat": 4,
 "nbformat_minor": 5
}
