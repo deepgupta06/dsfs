{
 "cells": [
  {
   "cell_type": "markdown",
   "id": "5f644229",
   "metadata": {},
   "source": [
    "# Python Programming Basic Assignment_8"
   ]
  },
  {
   "cell_type": "markdown",
   "id": "73359294",
   "metadata": {},
   "source": [
    "### 1. Write a Python Program to Add Two Matrices?\n",
    "Ans:"
   ]
  },
  {
   "cell_type": "code",
   "execution_count": 1,
   "id": "9bb897e1",
   "metadata": {},
   "outputs": [],
   "source": [
    "import numpy as np\n",
    "def matAdd(list_of_matrix):\n",
    "    #Checking all the matrices are same in size\n",
    "    if all(i.shape == list_of_matrix[0].shape for i in list_of_matrix):\n",
    "        \n",
    "        sum = np.zeros(list_of_matrix[0].shape)\n",
    "        for i in list_of_matrix:\n",
    "            #if list_of_matrix[i].shape == list_of_matrix[i+1].shape:\n",
    "            sum = np.add(sum,i)\n",
    "        return sum\n",
    "    else:\n",
    "        return \"Shape of all the element is not same\""
   ]
  },
  {
   "cell_type": "code",
   "execution_count": 2,
   "id": "fb410c6e",
   "metadata": {},
   "outputs": [],
   "source": [
    "a = np.array([[1,2],[2,4]])\n",
    "b = np.array([[4,2],[3,2]])\n",
    "c = np.array([[1,2], [4,3]])"
   ]
  },
  {
   "cell_type": "code",
   "execution_count": 3,
   "id": "e353a0fb",
   "metadata": {},
   "outputs": [
    {
     "data": {
      "text/plain": [
       "array([[6., 6.],\n",
       "       [9., 9.]])"
      ]
     },
     "execution_count": 3,
     "metadata": {},
     "output_type": "execute_result"
    }
   ],
   "source": [
    "matAdd([a,b,c])"
   ]
  },
  {
   "cell_type": "markdown",
   "id": "b1541070",
   "metadata": {},
   "source": [
    "### 2. Write a Python Program to Multiply Two Matrices?\n",
    "Ans:"
   ]
  },
  {
   "cell_type": "code",
   "execution_count": 4,
   "id": "72a578b7",
   "metadata": {},
   "outputs": [],
   "source": [
    "import numpy as np\n",
    "def matMul(list_of_matrix):\n",
    "    if all(i.shape == list_of_matrix[0].shape for i in list_of_matrix):\n",
    "        result = np.ones(list_of_matrix[0].shape)\n",
    "        for i in list_of_matrix:\n",
    "            result = np.matmul(result, i)\n",
    "        return result"
   ]
  },
  {
   "cell_type": "code",
   "execution_count": 5,
   "id": "e98e2caf",
   "metadata": {},
   "outputs": [],
   "source": [
    "arr_1 = np.array([[1,2],[2,3],[4,5]])\n",
    "arr_2 = np.array([[1,2,3],[4,3,2]])"
   ]
  },
  {
   "cell_type": "code",
   "execution_count": 6,
   "id": "e925c7e6",
   "metadata": {},
   "outputs": [
    {
     "data": {
      "text/plain": [
       "array([[ 9,  8,  7],\n",
       "       [14, 13, 12],\n",
       "       [24, 23, 22]])"
      ]
     },
     "execution_count": 6,
     "metadata": {},
     "output_type": "execute_result"
    }
   ],
   "source": [
    "np.matmul(arr_1, arr_2)"
   ]
  },
  {
   "cell_type": "markdown",
   "id": "198d74f6",
   "metadata": {},
   "source": [
    "### 3. Write a Python Program to Transpose a Matrix?\n",
    "Ans:"
   ]
  },
  {
   "cell_type": "code",
   "execution_count": 7,
   "id": "df0d7954",
   "metadata": {},
   "outputs": [],
   "source": [
    "def matrixTranspose(input_array):\n",
    "    return np.transpose(input_array)"
   ]
  },
  {
   "cell_type": "code",
   "execution_count": 8,
   "id": "9043be22",
   "metadata": {},
   "outputs": [
    {
     "data": {
      "text/plain": [
       "array([[1, 4],\n",
       "       [2, 3],\n",
       "       [3, 2]])"
      ]
     },
     "execution_count": 8,
     "metadata": {},
     "output_type": "execute_result"
    }
   ],
   "source": [
    "matrixTranspose(arr_2)"
   ]
  },
  {
   "cell_type": "markdown",
   "id": "e5ae099f",
   "metadata": {},
   "source": [
    "### 4. Write a Python Program to Sort Words in Alphabetic Order?\n",
    "Ans:"
   ]
  },
  {
   "cell_type": "code",
   "execution_count": 9,
   "id": "0b4ea9de",
   "metadata": {},
   "outputs": [],
   "source": [
    "def wordSorting(input_word_list, a_to_z = False):\n",
    "    return sorted(input_word_list, reverse= a_to_z)"
   ]
  },
  {
   "cell_type": "code",
   "execution_count": 10,
   "id": "56104bd0",
   "metadata": {},
   "outputs": [],
   "source": [
    "a = [\"cat\", \"mouse\", \"dog\", \"zebra\", \"yak\"]"
   ]
  },
  {
   "cell_type": "code",
   "execution_count": 11,
   "id": "72ef9292",
   "metadata": {},
   "outputs": [
    {
     "data": {
      "text/plain": [
       "['cat', 'dog', 'mouse', 'yak', 'zebra']"
      ]
     },
     "execution_count": 11,
     "metadata": {},
     "output_type": "execute_result"
    }
   ],
   "source": [
    "wordSorting(a)"
   ]
  },
  {
   "cell_type": "code",
   "execution_count": 12,
   "id": "6d7c2923",
   "metadata": {},
   "outputs": [
    {
     "data": {
      "text/plain": [
       "['zebra', 'yak', 'mouse', 'dog', 'cat']"
      ]
     },
     "execution_count": 12,
     "metadata": {},
     "output_type": "execute_result"
    }
   ],
   "source": [
    "wordSorting(a, a_to_z=True)"
   ]
  },
  {
   "cell_type": "markdown",
   "id": "41d020e4",
   "metadata": {},
   "source": [
    "### 5. Write a Python Program to Remove Punctuation From a String?\n",
    "Ans:"
   ]
  },
  {
   "cell_type": "code",
   "execution_count": 13,
   "id": "71d12f72",
   "metadata": {},
   "outputs": [],
   "source": [
    "def stringCleaning(input_string):\n",
    "    removing_char = \"[]{};:''<>?/|\\!@#$%^&*-=_+\"\n",
    "    for i in input_string:\n",
    "        if i in removing_char:\n",
    "            input_string  = input_string.replace(i, \"\")\n",
    "    return input_string"
   ]
  },
  {
   "cell_type": "code",
   "execution_count": 14,
   "id": "73914b12",
   "metadata": {},
   "outputs": [
    {
     "data": {
      "text/plain": [
       "'What is your name'"
      ]
     },
     "execution_count": 14,
     "metadata": {},
     "output_type": "execute_result"
    }
   ],
   "source": [
    "string = \"What is your name?\"\n",
    "stringCleaning(string)"
   ]
  },
  {
   "cell_type": "code",
   "execution_count": null,
   "id": "26cb4919",
   "metadata": {},
   "outputs": [],
   "source": []
  }
 ],
 "metadata": {
  "kernelspec": {
   "display_name": "Python 3",
   "language": "python",
   "name": "python3"
  },
  "language_info": {
   "codemirror_mode": {
    "name": "ipython",
    "version": 3
   },
   "file_extension": ".py",
   "mimetype": "text/x-python",
   "name": "python",
   "nbconvert_exporter": "python",
   "pygments_lexer": "ipython3",
   "version": "3.8.8"
  }
 },
 "nbformat": 4,
 "nbformat_minor": 5
}
