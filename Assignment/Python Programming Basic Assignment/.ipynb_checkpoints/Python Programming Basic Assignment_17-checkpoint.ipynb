{
 "cells": [
  {
   "cell_type": "markdown",
   "id": "fcd01008",
   "metadata": {},
   "source": [
    "# Python Programming Basic Assignment_17"
   ]
  },
  {
   "cell_type": "markdown",
   "id": "e2f42721",
   "metadata": {},
   "source": [
    "### 1. Create a function that takes three arguments a, b, c and returns the sum of the numbers that are evenly divided by c from the range a, b inclusive.\n",
    "Examples\n",
    "evenly_divisible(1, 10, 20) ➞ 0\n",
    "#No number between 1 and 10 can be evenly divided by 20.\n",
    "\n",
    "evenly_divisible(1, 10, 2) ➞ 30\n",
    "<p># 2 + 4 + 6 + 8 + 10 = 30</p>\n",
    "\n",
    "evenly_divisible(1, 10, 3) ➞ 18\n",
    "<p># 3 + 6 + 9 = 18</p>\n"
   ]
  },
  {
   "cell_type": "code",
   "execution_count": 1,
   "id": "69e44941",
   "metadata": {},
   "outputs": [],
   "source": [
    "def evenly_divisible(a,b,c):\n",
    "    sum_ = 0\n",
    "    for i in range(a,b+1):\n",
    "        if i%c==0:\n",
    "            sum_ += i\n",
    "        #print(f\"sum{sum_}, i{i}\")\n",
    "    return sum_"
   ]
  },
  {
   "cell_type": "code",
   "execution_count": 2,
   "id": "3a161ace",
   "metadata": {},
   "outputs": [
    {
     "data": {
      "text/plain": [
       "18"
      ]
     },
     "execution_count": 2,
     "metadata": {},
     "output_type": "execute_result"
    }
   ],
   "source": [
    "evenly_divisible(1,10,3)"
   ]
  },
  {
   "cell_type": "code",
   "execution_count": 3,
   "id": "d3c50b0d",
   "metadata": {},
   "outputs": [
    {
     "data": {
      "text/plain": [
       "0"
      ]
     },
     "execution_count": 3,
     "metadata": {},
     "output_type": "execute_result"
    }
   ],
   "source": [
    "evenly_divisible(1,10,20)"
   ]
  },
  {
   "cell_type": "markdown",
   "id": "952da8c3",
   "metadata": {},
   "source": [
    "### 2. Create a function that returns True if a given inequality expression is correct and False otherwise.\n",
    "Examples\n",
    "correct_signs(\"3 < 7 < 11\") ➞ True\n",
    "\n",
    "correct_signs(\"13 > 44 > 33 > 1\") ➞ False\n",
    "\n",
    "correct_signs(\"1 < 2 < 6 < 9 > 3\") ➞ True\n"
   ]
  },
  {
   "cell_type": "code",
   "execution_count": 4,
   "id": "7d2e71c1",
   "metadata": {},
   "outputs": [],
   "source": [
    "def correct_signs(expression):\n",
    "    return eval(expression)"
   ]
  },
  {
   "cell_type": "code",
   "execution_count": 5,
   "id": "79a29caa",
   "metadata": {},
   "outputs": [
    {
     "data": {
      "text/plain": [
       "True"
      ]
     },
     "execution_count": 5,
     "metadata": {},
     "output_type": "execute_result"
    }
   ],
   "source": [
    "expression = \"1 < 2 < 6 < 9 > 3\"\n",
    "correct_signs(expression)"
   ]
  },
  {
   "cell_type": "code",
   "execution_count": 6,
   "id": "6a0ea12e",
   "metadata": {},
   "outputs": [
    {
     "data": {
      "text/plain": [
       "True"
      ]
     },
     "execution_count": 6,
     "metadata": {},
     "output_type": "execute_result"
    }
   ],
   "source": [
    "expression = \"100<1000<10000>10>1\"\n",
    "correct_signs(expression)"
   ]
  },
  {
   "cell_type": "markdown",
   "id": "abf29688",
   "metadata": {},
   "source": [
    "### 3. Create a function that replaces all the vowels in a string with a specified character.\n",
    "Examples\n",
    "\n",
    "<p>replace_vowels(\"the aardvark\", \"#\") ➞ \"th# ##rdv#rk\"</p>\n",
    "\n",
    "<p>replace_vowels(\"minnie mouse\", \"?\") ➞ \"m?nn?? m??s?\"</p>\n",
    "\n",
    "<p>replace_vowels(\"shakespeare\", \"*\") ➞ \"sh*k*sp**r*\"</p>\n"
   ]
  },
  {
   "cell_type": "code",
   "execution_count": 7,
   "id": "a257c70b",
   "metadata": {},
   "outputs": [],
   "source": [
    "def replace_vowels(input_string, replacing_char):\n",
    "    \"\"\"This function will take a string as input and a vowels replacing char \n",
    "    and it will return a string by replacing all the vowels with replacing char\"\"\"\n",
    "    output_string = \"\"\n",
    "    vowels_list = [\"a\", \"e\", \"i\", \"o\", \"u\"]\n",
    "    for i in input_string:\n",
    "        if i not in vowels_list:\n",
    "            output_string +=i\n",
    "        else:\n",
    "            output_string += replacing_char\n",
    "            \n",
    "    return output_string"
   ]
  },
  {
   "cell_type": "code",
   "execution_count": 8,
   "id": "4e1c0b00",
   "metadata": {},
   "outputs": [
    {
     "data": {
      "text/plain": [
       "'th# ##rdv#rk'"
      ]
     },
     "execution_count": 8,
     "metadata": {},
     "output_type": "execute_result"
    }
   ],
   "source": [
    "replace_vowels(\"the aardvark\", \"#\")"
   ]
  },
  {
   "cell_type": "code",
   "execution_count": 9,
   "id": "ce477bab",
   "metadata": {},
   "outputs": [
    {
     "data": {
      "text/plain": [
       "'m?nn?? m??s?'"
      ]
     },
     "execution_count": 9,
     "metadata": {},
     "output_type": "execute_result"
    }
   ],
   "source": [
    "replace_vowels(\"minnie mouse\", \"?\")"
   ]
  },
  {
   "cell_type": "code",
   "execution_count": 10,
   "id": "2e45d47d",
   "metadata": {},
   "outputs": [
    {
     "data": {
      "text/plain": [
       "'sh*k*sp**r*'"
      ]
     },
     "execution_count": 10,
     "metadata": {},
     "output_type": "execute_result"
    }
   ],
   "source": [
    "replace_vowels(\"shakespeare\", \"*\")"
   ]
  },
  {
   "cell_type": "code",
   "execution_count": 11,
   "id": "20434c38",
   "metadata": {},
   "outputs": [
    {
     "data": {
      "text/plain": [
       "'gr@@t p@w@r c@m@s w@th gr@@t r@sp@ns@b@l@ty'"
      ]
     },
     "execution_count": 11,
     "metadata": {},
     "output_type": "execute_result"
    }
   ],
   "source": [
    "string = \"great power comes with great responsibility\"\n",
    "replace_vowels(string, \"@\")"
   ]
  },
  {
   "cell_type": "markdown",
   "id": "c54017d3",
   "metadata": {},
   "source": [
    "### 4. Write a function that calculates the factorial of a number recursively.\n",
    "Examples\n",
    "\n",
    "factorial(5) ➞ 120\n",
    "\n",
    "factorial(3) ➞ 6\n",
    "\n",
    "factorial(1) ➞ 1\n",
    "\n",
    "factorial(0) ➞ 1"
   ]
  },
  {
   "cell_type": "code",
   "execution_count": 12,
   "id": "ce2daa3a",
   "metadata": {},
   "outputs": [],
   "source": [
    "def factorial(num, value=1):\n",
    "    #value = 1\n",
    "    while num>0:\n",
    "        value *= num\n",
    "        num -= 1\n",
    "        return factorial(num, value)\n",
    "    return value\n",
    "    "
   ]
  },
  {
   "cell_type": "code",
   "execution_count": 13,
   "id": "61548b19",
   "metadata": {},
   "outputs": [
    {
     "data": {
      "text/plain": [
       "120"
      ]
     },
     "execution_count": 13,
     "metadata": {},
     "output_type": "execute_result"
    }
   ],
   "source": [
    "factorial(5)"
   ]
  },
  {
   "cell_type": "code",
   "execution_count": 14,
   "id": "3663ed2c",
   "metadata": {},
   "outputs": [
    {
     "data": {
      "text/plain": [
       "24"
      ]
     },
     "execution_count": 14,
     "metadata": {},
     "output_type": "execute_result"
    }
   ],
   "source": [
    "factorial(4)"
   ]
  },
  {
   "cell_type": "code",
   "execution_count": 15,
   "id": "cb342bc3",
   "metadata": {},
   "outputs": [
    {
     "data": {
      "text/plain": [
       "6"
      ]
     },
     "execution_count": 15,
     "metadata": {},
     "output_type": "execute_result"
    }
   ],
   "source": [
    "factorial(3)"
   ]
  },
  {
   "cell_type": "code",
   "execution_count": 16,
   "id": "cd6330e6",
   "metadata": {},
   "outputs": [
    {
     "data": {
      "text/plain": [
       "2"
      ]
     },
     "execution_count": 16,
     "metadata": {},
     "output_type": "execute_result"
    }
   ],
   "source": [
    "factorial(2)"
   ]
  },
  {
   "cell_type": "code",
   "execution_count": 17,
   "id": "ebb3456a",
   "metadata": {},
   "outputs": [
    {
     "data": {
      "text/plain": [
       "1"
      ]
     },
     "execution_count": 17,
     "metadata": {},
     "output_type": "execute_result"
    }
   ],
   "source": [
    "factorial(1)"
   ]
  },
  {
   "cell_type": "code",
   "execution_count": 18,
   "id": "d5ed28d2",
   "metadata": {},
   "outputs": [
    {
     "data": {
      "text/plain": [
       "1"
      ]
     },
     "execution_count": 18,
     "metadata": {},
     "output_type": "execute_result"
    }
   ],
   "source": [
    "factorial(0)"
   ]
  },
  {
   "cell_type": "markdown",
   "id": "2432aae8",
   "metadata": {},
   "source": [
    "### 5. Hamming distance is the number of characters that differ between two strings.\n",
    "To illustrate:\n",
    "\n",
    "String1: \"abcbba\"\n",
    "\n",
    "String2: \"abcbda\"\n",
    "\n",
    "Hamming Distance: 1 - \"b\" vs. \"d\" is the only difference.\n",
    "\n",
    "Create a function that computes the hamming distance between two strings.\n",
    "\n",
    "Examples\n",
    "\n",
    "hamming_distance(\"abcde\", \"bcdef\") ➞ 5\n",
    "\n",
    "hamming_distance(\"abcde\", \"abcde\") ➞ 0\n",
    "\n",
    "hamming_distance(\"strong\", \"strung\") ➞ 1\n"
   ]
  },
  {
   "cell_type": "code",
   "execution_count": 19,
   "id": "79aa3129",
   "metadata": {},
   "outputs": [],
   "source": [
    "def hamming_distance(string_1, string_2):\n",
    "    char_dif_list = [[x,y] for x,y in zip(string_1,string_2) if x!=y]\n",
    "    return len(char_dif_list)"
   ]
  },
  {
   "cell_type": "code",
   "execution_count": 20,
   "id": "a246255a",
   "metadata": {},
   "outputs": [
    {
     "data": {
      "text/plain": [
       "2"
      ]
     },
     "execution_count": 20,
     "metadata": {},
     "output_type": "execute_result"
    }
   ],
   "source": [
    "string_1 = \"abcbba\"\n",
    "string_2 = \"abcbde\"\n",
    "hamming_distance(string_1, string_2)"
   ]
  },
  {
   "cell_type": "code",
   "execution_count": 21,
   "id": "ba1a69e5",
   "metadata": {},
   "outputs": [
    {
     "data": {
      "text/plain": [
       "0"
      ]
     },
     "execution_count": 21,
     "metadata": {},
     "output_type": "execute_result"
    }
   ],
   "source": [
    "string_1 = \"abcde\"\n",
    "string_2 = \"abcde\"\n",
    "hamming_distance(string_1, string_2)"
   ]
  },
  {
   "cell_type": "code",
   "execution_count": 22,
   "id": "99cda68b",
   "metadata": {},
   "outputs": [
    {
     "data": {
      "text/plain": [
       "1"
      ]
     },
     "execution_count": 22,
     "metadata": {},
     "output_type": "execute_result"
    }
   ],
   "source": [
    "string_1,string_2 = \"strong\", \"strung\"\n",
    "hamming_distance(string_1, string_2)"
   ]
  }
 ],
 "metadata": {
  "kernelspec": {
   "display_name": "Python 3",
   "language": "python",
   "name": "python3"
  },
  "language_info": {
   "codemirror_mode": {
    "name": "ipython",
    "version": 3
   },
   "file_extension": ".py",
   "mimetype": "text/x-python",
   "name": "python",
   "nbconvert_exporter": "python",
   "pygments_lexer": "ipython3",
   "version": "3.8.8"
  }
 },
 "nbformat": 4,
 "nbformat_minor": 5
}
