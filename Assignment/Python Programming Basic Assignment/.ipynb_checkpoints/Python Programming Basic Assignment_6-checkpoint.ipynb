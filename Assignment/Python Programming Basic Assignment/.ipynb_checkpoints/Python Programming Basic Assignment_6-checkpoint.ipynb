{
 "cells": [
  {
   "cell_type": "markdown",
   "id": "476795ef",
   "metadata": {},
   "source": [
    "# Python Programming Basic Assignment_6"
   ]
  },
  {
   "cell_type": "markdown",
   "id": "7d44f6e4",
   "metadata": {},
   "source": [
    "### 1. Write a Python Program to Display Fibonacci Sequence Using Recursion?\n",
    "Ans:"
   ]
  },
  {
   "cell_type": "code",
   "execution_count": 13,
   "id": "6b2a34d1",
   "metadata": {},
   "outputs": [],
   "source": [
    "def fibonacci_seq_rec(nth, first_no, second_no ):\n",
    "    if nth-1==0:\n",
    "        return second_no\n",
    "    else:\n",
    "        third_no = first_no+second_no\n",
    "        first_no = second_no\n",
    "        second_no = third_no\n",
    "    return fibonacci_seq_rec(nth-1, first_no, second_no)  "
   ]
  },
  {
   "cell_type": "code",
   "execution_count": 14,
   "id": "ef0cfdae",
   "metadata": {},
   "outputs": [
    {
     "data": {
      "text/plain": [
       "144"
      ]
     },
     "execution_count": 14,
     "metadata": {},
     "output_type": "execute_result"
    }
   ],
   "source": [
    "fibonacci_seq_rec(12,0,1)"
   ]
  },
  {
   "cell_type": "markdown",
   "id": "f5f2dab9",
   "metadata": {},
   "source": [
    "### 2. Write a Python Program to Find Factorial of Number Using Recursion?\n",
    "Ans:"
   ]
  },
  {
   "cell_type": "code",
   "execution_count": 15,
   "id": "35274b9c",
   "metadata": {},
   "outputs": [],
   "source": [
    "def factorial_using_rec(num, factorial=1):\n",
    "    if num ==1:\n",
    "        return factorial\n",
    "    else:\n",
    "        factorial *= num\n",
    "        return factorial_using_rec(num-1, factorial)"
   ]
  },
  {
   "cell_type": "code",
   "execution_count": 16,
   "id": "0c76d677",
   "metadata": {},
   "outputs": [
    {
     "data": {
      "text/plain": [
       "120"
      ]
     },
     "execution_count": 16,
     "metadata": {},
     "output_type": "execute_result"
    }
   ],
   "source": [
    "factorial_using_rec(5)"
   ]
  },
  {
   "cell_type": "markdown",
   "id": "cb6b726e",
   "metadata": {},
   "source": [
    "### 3. Write a Python Program to calculate your Body Mass Index?\n",
    "Ans:"
   ]
  },
  {
   "cell_type": "code",
   "execution_count": 20,
   "id": "f035e7ff",
   "metadata": {},
   "outputs": [],
   "source": [
    "def get_body_mass(weight, height):\n",
    "    \"\"\"Weight should be in kg and height in m. The healthy range is 18.5 to 24.9. \n",
    "    BMI>24.9----> Overweight\n",
    "    BMI<18.5----> Underweight\n",
    "    18.5<BMI<24.9 --> Normal\"\"\"\n",
    "    bmi = weight/(height**2)\n",
    "    if bmi>24.9:\n",
    "        return f\"Your BMI is {bmi}.This is considered overweight.\"\n",
    "    elif bmi<24.9:\n",
    "        return f\"Your BMI is {bmi}.This is considered underweight.\"\n",
    "    if bmi<24.9 and bmi>18.5:\n",
    "        return f\"Your BMI is {bmi}.This is considered normal.\"\n",
    "    return bmi"
   ]
  },
  {
   "cell_type": "code",
   "execution_count": 21,
   "id": "2bf91ff9",
   "metadata": {},
   "outputs": [
    {
     "data": {
      "text/plain": [
       "'Your BMI is 24.99375117167972.This is considered overweight.'"
      ]
     },
     "execution_count": 21,
     "metadata": {},
     "output_type": "execute_result"
    }
   ],
   "source": [
    "get_body_mass(64,1.6002)"
   ]
  },
  {
   "cell_type": "markdown",
   "id": "47b2a1ed",
   "metadata": {},
   "source": [
    "### 4. Write a Python Program to calculate the natural logarithm of any number?\n",
    "Ans:"
   ]
  },
  {
   "cell_type": "code",
   "execution_count": 25,
   "id": "1058d991",
   "metadata": {},
   "outputs": [],
   "source": [
    "def log_natural(number):\n",
    "    import math\n",
    "    return math.log(number)"
   ]
  },
  {
   "cell_type": "code",
   "execution_count": 35,
   "id": "137a7f2d",
   "metadata": {},
   "outputs": [
    {
     "data": {
      "text/plain": [
       "1.9459101490553132"
      ]
     },
     "execution_count": 35,
     "metadata": {},
     "output_type": "execute_result"
    }
   ],
   "source": [
    "log_natural(7)"
   ]
  },
  {
   "cell_type": "markdown",
   "id": "01d11654",
   "metadata": {},
   "source": [
    "### 5. Write a Python Program for cube sum of first n natural numbers?\n",
    "Ans:"
   ]
  },
  {
   "cell_type": "code",
   "execution_count": 39,
   "id": "3d67b8b2",
   "metadata": {},
   "outputs": [],
   "source": [
    "def cube_sum(n):\n",
    "    sum = 0\n",
    "    for i in range(n+1):\n",
    "        sum += i**3\n",
    "    return sum"
   ]
  },
  {
   "cell_type": "code",
   "execution_count": 41,
   "id": "0adc0583",
   "metadata": {},
   "outputs": [
    {
     "data": {
      "text/plain": [
       "36"
      ]
     },
     "execution_count": 41,
     "metadata": {},
     "output_type": "execute_result"
    }
   ],
   "source": [
    "cube_sum(3)"
   ]
  }
 ],
 "metadata": {
  "kernelspec": {
   "display_name": "Python 3 (ipykernel)",
   "language": "python",
   "name": "python3"
  },
  "language_info": {
   "codemirror_mode": {
    "name": "ipython",
    "version": 3
   },
   "file_extension": ".py",
   "mimetype": "text/x-python",
   "name": "python",
   "nbconvert_exporter": "python",
   "pygments_lexer": "ipython3",
   "version": "3.9.7"
  }
 },
 "nbformat": 4,
 "nbformat_minor": 5
}
