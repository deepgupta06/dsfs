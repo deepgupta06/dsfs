{
 "cells": [
  {
   "cell_type": "markdown",
   "id": "b2e612b5",
   "metadata": {},
   "source": [
    "# Python Programming Basic Assignment_4"
   ]
  },
  {
   "cell_type": "markdown",
   "id": "b46ca9ff",
   "metadata": {},
   "source": [
    "### 1. Write a Python Program to Find the Factorial of a Number?\n",
    "Ans:"
   ]
  },
  {
   "cell_type": "code",
   "execution_count": 5,
   "id": "08decb1e",
   "metadata": {},
   "outputs": [],
   "source": [
    "def getFactorial(num):\n",
    "    result = 1\n",
    "    for i in range(1,num+1):\n",
    "        result = result*i\n",
    "    return result"
   ]
  },
  {
   "cell_type": "code",
   "execution_count": 6,
   "id": "b0d2550b",
   "metadata": {},
   "outputs": [
    {
     "data": {
      "text/plain": [
       "720"
      ]
     },
     "execution_count": 6,
     "metadata": {},
     "output_type": "execute_result"
    }
   ],
   "source": [
    "getFactorial(6)"
   ]
  },
  {
   "cell_type": "markdown",
   "id": "06a74d49",
   "metadata": {},
   "source": [
    "### 2. Write a Python Program to Display the multiplication Table?\n",
    "Ans:"
   ]
  },
  {
   "cell_type": "code",
   "execution_count": 7,
   "id": "8bac4e5a",
   "metadata": {},
   "outputs": [],
   "source": [
    "def getTable(num):\n",
    "    for i in range(1, 11):\n",
    "        print(f\"{num}x{i}={num*i}\")"
   ]
  },
  {
   "cell_type": "code",
   "execution_count": 8,
   "id": "62e6fbf6",
   "metadata": {},
   "outputs": [
    {
     "name": "stdout",
     "output_type": "stream",
     "text": [
      "8x1=8\n",
      "8x2=16\n",
      "8x3=24\n",
      "8x4=32\n",
      "8x5=40\n",
      "8x6=48\n",
      "8x7=56\n",
      "8x8=64\n",
      "8x9=72\n",
      "8x10=80\n"
     ]
    }
   ],
   "source": [
    "getTable(8)"
   ]
  },
  {
   "cell_type": "markdown",
   "id": "eb812f14",
   "metadata": {},
   "source": [
    "### 3. Write a Python Program to Print the Fibonacci sequence?\n",
    "Ans:"
   ]
  },
  {
   "cell_type": "code",
   "execution_count": 1,
   "id": "7f3bf6f6",
   "metadata": {},
   "outputs": [],
   "source": [
    "def get_fibonacci_sequence(nth_term):\n",
    "    sequence = [0, 1]\n",
    "    for i in range(0,nth_term-2):\n",
    "        number = sequence[i]+sequence[i+1]\n",
    "        sequence.append(number)\n",
    "    return sequence"
   ]
  },
  {
   "cell_type": "code",
   "execution_count": 3,
   "id": "861ae822",
   "metadata": {},
   "outputs": [
    {
     "data": {
      "text/plain": [
       "[0, 1, 1, 2, 3, 5, 8, 13, 21, 34]"
      ]
     },
     "execution_count": 3,
     "metadata": {},
     "output_type": "execute_result"
    }
   ],
   "source": [
    "get_fibonacci_sequence(10)"
   ]
  },
  {
   "cell_type": "markdown",
   "id": "0e558f5a",
   "metadata": {},
   "source": [
    "### 4.\tWrite a Python Program to Check Armstrong Number?"
   ]
  },
  {
   "cell_type": "code",
   "execution_count": 9,
   "id": "9ee6127a",
   "metadata": {},
   "outputs": [],
   "source": [
    "def isArmstrong(number):\n",
    "    \"\"\"This function will take a number as input, and return True if the number is armstrong number.\n",
    "    Armstrong number is the number where the power of \"\"\"\n",
    "    temp_number = 0\n",
    "    for i in str(number):\n",
    "        temp_number += int(i)**len(str(number))\n",
    "    if temp_number == number:\n",
    "        return True\n",
    "    else:\n",
    "        return False"
   ]
  },
  {
   "cell_type": "code",
   "execution_count": 10,
   "id": "845b56f7",
   "metadata": {},
   "outputs": [
    {
     "data": {
      "text/plain": [
       "True"
      ]
     },
     "execution_count": 10,
     "metadata": {},
     "output_type": "execute_result"
    }
   ],
   "source": [
    "isArmstrong(370)"
   ]
  },
  {
   "cell_type": "code",
   "execution_count": 11,
   "id": "259d2688",
   "metadata": {},
   "outputs": [
    {
     "data": {
      "text/plain": [
       "False"
      ]
     },
     "execution_count": 11,
     "metadata": {},
     "output_type": "execute_result"
    }
   ],
   "source": [
    "isArmstrong(369)"
   ]
  },
  {
   "cell_type": "markdown",
   "id": "28b7993b",
   "metadata": {},
   "source": [
    "### 5.\tWrite a Python Program to Find Armstrong Number in an Interval?"
   ]
  },
  {
   "cell_type": "code",
   "execution_count": 19,
   "id": "b3317192",
   "metadata": {},
   "outputs": [],
   "source": [
    "def get_armstrong_number(starting_number, ending_number):\n",
    "    \"\"\"This function will return list of armstrong number of a certain range.\"\"\"\n",
    "    armstrong_number_list =[]\n",
    "    for i in range(starting_number, ending_number):\n",
    "        if isArmstrong(i):\n",
    "            armstrong_number_list.append(i)\n",
    "    return armstrong_number_list"
   ]
  },
  {
   "cell_type": "code",
   "execution_count": 20,
   "id": "16e747c8",
   "metadata": {},
   "outputs": [
    {
     "data": {
      "text/plain": [
       "[0, 1, 2, 3, 4, 5, 6, 7, 8, 9, 153, 370, 371, 407]"
      ]
     },
     "execution_count": 20,
     "metadata": {},
     "output_type": "execute_result"
    }
   ],
   "source": [
    "get_armstrong_number(0,1000)"
   ]
  },
  {
   "cell_type": "markdown",
   "id": "412936cb",
   "metadata": {},
   "source": [
    "### 6.\tWrite a Python Program to Find the Sum of Natural Numbers?"
   ]
  },
  {
   "cell_type": "code",
   "execution_count": 21,
   "id": "55082cd6",
   "metadata": {},
   "outputs": [],
   "source": [
    "def sum_of_natural_numbers(n):\n",
    "    sum_ = 0\n",
    "    for element in range(n+1):\n",
    "        sum_ += element\n",
    "    return sum_"
   ]
  },
  {
   "cell_type": "code",
   "execution_count": 22,
   "id": "3429035b",
   "metadata": {},
   "outputs": [
    {
     "data": {
      "text/plain": [
       "55"
      ]
     },
     "execution_count": 22,
     "metadata": {},
     "output_type": "execute_result"
    }
   ],
   "source": [
    "sum_of_natural_numbers(10)"
   ]
  },
  {
   "cell_type": "code",
   "execution_count": 25,
   "id": "6e591d61",
   "metadata": {},
   "outputs": [
    {
     "data": {
      "text/plain": [
       "5050"
      ]
     },
     "execution_count": 25,
     "metadata": {},
     "output_type": "execute_result"
    }
   ],
   "source": [
    "sum_of_natural_numbers(100)"
   ]
  },
  {
   "cell_type": "code",
   "execution_count": 26,
   "id": "5f3ca180",
   "metadata": {},
   "outputs": [
    {
     "data": {
      "text/plain": [
       "500500"
      ]
     },
     "execution_count": 26,
     "metadata": {},
     "output_type": "execute_result"
    }
   ],
   "source": [
    "sum_of_natural_numbers(1000)"
   ]
  },
  {
   "cell_type": "code",
   "execution_count": null,
   "id": "dca36997",
   "metadata": {},
   "outputs": [],
   "source": []
  }
 ],
 "metadata": {
  "kernelspec": {
   "display_name": "Python 3",
   "language": "python",
   "name": "python3"
  },
  "language_info": {
   "codemirror_mode": {
    "name": "ipython",
    "version": 3
   },
   "file_extension": ".py",
   "mimetype": "text/x-python",
   "name": "python",
   "nbconvert_exporter": "python",
   "pygments_lexer": "ipython3",
   "version": "3.8.8"
  }
 },
 "nbformat": 4,
 "nbformat_minor": 5
}
