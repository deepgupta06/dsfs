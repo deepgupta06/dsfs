{
 "cells": [
  {
   "cell_type": "markdown",
   "id": "b2e612b5",
   "metadata": {},
   "source": [
    "# Python Programming Basic Assignment_4"
   ]
  },
  {
   "cell_type": "markdown",
   "id": "b46ca9ff",
   "metadata": {},
   "source": [
    "### 1. Write a Python Program to Find the Factorial of a Number?\n",
    "Ans:"
   ]
  },
  {
   "cell_type": "code",
   "execution_count": 5,
   "id": "08decb1e",
   "metadata": {},
   "outputs": [],
   "source": [
    "def getFactorial(num):\n",
    "    result = 1\n",
    "    for i in range(1,num+1):\n",
    "        result = result*i\n",
    "    return result"
   ]
  },
  {
   "cell_type": "code",
   "execution_count": 6,
   "id": "b0d2550b",
   "metadata": {},
   "outputs": [
    {
     "data": {
      "text/plain": [
       "720"
      ]
     },
     "execution_count": 6,
     "metadata": {},
     "output_type": "execute_result"
    }
   ],
   "source": [
    "getFactorial(6)"
   ]
  },
  {
   "cell_type": "markdown",
   "id": "06a74d49",
   "metadata": {},
   "source": [
    "### 2. Write a Python Program to Display the multiplication Table?\n",
    "Ans:"
   ]
  },
  {
   "cell_type": "code",
   "execution_count": 7,
   "id": "8bac4e5a",
   "metadata": {},
   "outputs": [],
   "source": [
    "def getTable(num):\n",
    "    for i in range(1, 11):\n",
    "        print(f\"{num}x{i}={num*i}\")"
   ]
  },
  {
   "cell_type": "code",
   "execution_count": 8,
   "id": "62e6fbf6",
   "metadata": {},
   "outputs": [
    {
     "name": "stdout",
     "output_type": "stream",
     "text": [
      "8x1=8\n",
      "8x2=16\n",
      "8x3=24\n",
      "8x4=32\n",
      "8x5=40\n",
      "8x6=48\n",
      "8x7=56\n",
      "8x8=64\n",
      "8x9=72\n",
      "8x10=80\n"
     ]
    }
   ],
   "source": [
    "getTable(8)"
   ]
  },
  {
   "cell_type": "markdown",
   "id": "eb812f14",
   "metadata": {},
   "source": [
    "### 3. Write a Python Program to Print the Fibonacci sequence?\n",
    "Ans:"
   ]
  },
  {
   "cell_type": "code",
   "execution_count": 1,
   "id": "7f3bf6f6",
   "metadata": {},
   "outputs": [],
   "source": [
    "def get_fibonacci_sequence(nth_term):\n",
    "    sequence = [0, 1]\n",
    "    for i in range(0,nth_term-2):\n",
    "        number = sequence[i]+sequence[i+1]\n",
    "        sequence.append(number)\n",
    "    return sequence"
   ]
  },
  {
   "cell_type": "code",
   "execution_count": 3,
   "id": "861ae822",
   "metadata": {},
   "outputs": [
    {
     "data": {
      "text/plain": [
       "[0, 1, 1, 2, 3, 5, 8, 13, 21, 34]"
      ]
     },
     "execution_count": 3,
     "metadata": {},
     "output_type": "execute_result"
    }
   ],
   "source": [
    "get_fibonacci_sequence(10)"
   ]
  }
 ],
 "metadata": {
  "kernelspec": {
   "display_name": "Python 3",
   "language": "python",
   "name": "python3"
  },
  "language_info": {
   "codemirror_mode": {
    "name": "ipython",
    "version": 3
   },
   "file_extension": ".py",
   "mimetype": "text/x-python",
   "name": "python",
   "nbconvert_exporter": "python",
   "pygments_lexer": "ipython3",
   "version": "3.8.8"
  }
 },
 "nbformat": 4,
 "nbformat_minor": 5
}
