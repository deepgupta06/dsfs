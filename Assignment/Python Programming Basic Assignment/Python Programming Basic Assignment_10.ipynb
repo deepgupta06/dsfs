{
 "cells": [
  {
   "cell_type": "markdown",
   "id": "2faa7c05",
   "metadata": {},
   "source": [
    "# Python Programming Basic Assignment_10"
   ]
  },
  {
   "cell_type": "markdown",
   "id": "1d6dfb80",
   "metadata": {},
   "source": [
    "### 1. Write a Python program to find sum of elements in list?\n",
    "Ans:"
   ]
  },
  {
   "cell_type": "code",
   "execution_count": 1,
   "id": "3373fbb0",
   "metadata": {},
   "outputs": [],
   "source": [
    "def list_element_sum(input_list):\n",
    "    return sum(input_list)"
   ]
  },
  {
   "cell_type": "code",
   "execution_count": 2,
   "id": "a30879e9",
   "metadata": {},
   "outputs": [],
   "source": [
    "a = [1,2,3,4]"
   ]
  },
  {
   "cell_type": "code",
   "execution_count": 3,
   "id": "0a505cc1",
   "metadata": {},
   "outputs": [
    {
     "data": {
      "text/plain": [
       "10"
      ]
     },
     "execution_count": 3,
     "metadata": {},
     "output_type": "execute_result"
    }
   ],
   "source": [
    "list_element_sum(a)"
   ]
  },
  {
   "cell_type": "markdown",
   "id": "737554bf",
   "metadata": {},
   "source": [
    "### 2. Write a Python program to Multiply all numbers in the list?\n",
    "Ans:"
   ]
  },
  {
   "cell_type": "code",
   "execution_count": 4,
   "id": "f1baf266",
   "metadata": {},
   "outputs": [],
   "source": [
    "def list_element_mul(input_list):\n",
    "    result = 1\n",
    "    for i in input_list:\n",
    "        result *= i\n",
    "    return result"
   ]
  },
  {
   "cell_type": "code",
   "execution_count": 5,
   "id": "6f25d5f3",
   "metadata": {},
   "outputs": [
    {
     "data": {
      "text/plain": [
       "24"
      ]
     },
     "execution_count": 5,
     "metadata": {},
     "output_type": "execute_result"
    }
   ],
   "source": [
    "list_element_mul(a)"
   ]
  },
  {
   "cell_type": "markdown",
   "id": "bfc94512",
   "metadata": {},
   "source": [
    "### 3. Write a Python program to find smallest number in a list?\n",
    "Ans:"
   ]
  },
  {
   "cell_type": "code",
   "execution_count": 6,
   "id": "e5dedc29",
   "metadata": {},
   "outputs": [],
   "source": [
    "def get_smallest_number(input_list):\n",
    "    return min(input_list)"
   ]
  },
  {
   "cell_type": "code",
   "execution_count": 7,
   "id": "5a52aa47",
   "metadata": {},
   "outputs": [
    {
     "data": {
      "text/plain": [
       "1"
      ]
     },
     "execution_count": 7,
     "metadata": {},
     "output_type": "execute_result"
    }
   ],
   "source": [
    "get_smallest_number(a)"
   ]
  },
  {
   "cell_type": "markdown",
   "id": "b7d4169a",
   "metadata": {},
   "source": [
    "### 4. Write a Python program to find largest number in a list?\n",
    "Ans:"
   ]
  },
  {
   "cell_type": "code",
   "execution_count": 8,
   "id": "87b43661",
   "metadata": {},
   "outputs": [],
   "source": [
    "def get_largest_number(input_list):\n",
    "    return max(input_list)"
   ]
  },
  {
   "cell_type": "code",
   "execution_count": 9,
   "id": "0016e916",
   "metadata": {},
   "outputs": [
    {
     "data": {
      "text/plain": [
       "4"
      ]
     },
     "execution_count": 9,
     "metadata": {},
     "output_type": "execute_result"
    }
   ],
   "source": [
    "get_largest_number(a)"
   ]
  },
  {
   "cell_type": "markdown",
   "id": "f9fb9395",
   "metadata": {},
   "source": [
    "### 5. Write a Python program to find second largest number in a list?\n",
    "Ans:"
   ]
  },
  {
   "cell_type": "code",
   "execution_count": 10,
   "id": "ca851028",
   "metadata": {},
   "outputs": [],
   "source": [
    "def second_largest(input_list):\n",
    "    copied_list = input_list.copy()\n",
    "    max_number_list = []\n",
    "    for _ in range(2):\n",
    "        max_number_list.append(copied_list.pop(copied_list.index(max(copied_list))))\n",
    "    return min(max_number_list)"
   ]
  },
  {
   "cell_type": "code",
   "execution_count": 11,
   "id": "4ccab843",
   "metadata": {},
   "outputs": [
    {
     "data": {
      "text/plain": [
       "3"
      ]
     },
     "execution_count": 11,
     "metadata": {},
     "output_type": "execute_result"
    }
   ],
   "source": [
    "second_largest(a)"
   ]
  },
  {
   "cell_type": "code",
   "execution_count": 12,
   "id": "9dff0588",
   "metadata": {},
   "outputs": [
    {
     "data": {
      "text/plain": [
       "[1, 2, 3, 4]"
      ]
     },
     "execution_count": 12,
     "metadata": {},
     "output_type": "execute_result"
    }
   ],
   "source": [
    "a"
   ]
  },
  {
   "cell_type": "markdown",
   "id": "8caa7b52",
   "metadata": {},
   "source": [
    "### 6. Write a Python program to find N largest elements from a list?\n",
    "Ans:"
   ]
  },
  {
   "cell_type": "code",
   "execution_count": 13,
   "id": "0ba8ec2d",
   "metadata": {},
   "outputs": [],
   "source": [
    "def get_nth_largest(input_list, nth):\n",
    "    copied_list = input_list.copy()\n",
    "    max_number_list = []\n",
    "    for _ in range(nth):\n",
    "        max_number_list.append(copied_list.pop(copied_list.index(max(copied_list))))\n",
    "    return min(max_number_list)"
   ]
  },
  {
   "cell_type": "code",
   "execution_count": 14,
   "id": "d95021b0",
   "metadata": {},
   "outputs": [],
   "source": [
    "a = [10, 12, 14, 43, 55]"
   ]
  },
  {
   "cell_type": "code",
   "execution_count": 15,
   "id": "7d98e255",
   "metadata": {},
   "outputs": [
    {
     "data": {
      "text/plain": [
       "14"
      ]
     },
     "execution_count": 15,
     "metadata": {},
     "output_type": "execute_result"
    }
   ],
   "source": [
    "get_nth_largest(a, 3)"
   ]
  },
  {
   "cell_type": "markdown",
   "id": "75514696",
   "metadata": {},
   "source": [
    "### 7. Write a Python program to print even numbers in a list?\n",
    "Ans:"
   ]
  },
  {
   "cell_type": "code",
   "execution_count": 16,
   "id": "39404395",
   "metadata": {},
   "outputs": [],
   "source": [
    "def isEven(number):\n",
    "    if number%2==0:\n",
    "        return True\n",
    "    else:\n",
    "        return False"
   ]
  },
  {
   "cell_type": "code",
   "execution_count": 17,
   "id": "a90558fe",
   "metadata": {},
   "outputs": [],
   "source": [
    "def get_even_number(input_list):\n",
    "    for i in input_list:\n",
    "        if isEven(i):\n",
    "            print(i)"
   ]
  },
  {
   "cell_type": "code",
   "execution_count": 18,
   "id": "0ee9fe0e",
   "metadata": {},
   "outputs": [],
   "source": [
    "a = [12, 13, 15, 12, 14]"
   ]
  },
  {
   "cell_type": "code",
   "execution_count": 19,
   "id": "298ee56c",
   "metadata": {},
   "outputs": [
    {
     "name": "stdout",
     "output_type": "stream",
     "text": [
      "12\n",
      "12\n",
      "14\n"
     ]
    }
   ],
   "source": [
    "get_even_number(a)"
   ]
  },
  {
   "cell_type": "markdown",
   "id": "ee5c5014",
   "metadata": {},
   "source": [
    "### 8. Write a Python program to print odd numbers in a List?\n",
    "Ans:"
   ]
  },
  {
   "cell_type": "code",
   "execution_count": 20,
   "id": "d63300fd",
   "metadata": {},
   "outputs": [],
   "source": [
    "def get_odd_number(input_list):\n",
    "    for i in input_list:\n",
    "        if isEven(i):\n",
    "            pass\n",
    "        else:\n",
    "            print(i)"
   ]
  },
  {
   "cell_type": "code",
   "execution_count": 21,
   "id": "8864a04c",
   "metadata": {},
   "outputs": [
    {
     "name": "stdout",
     "output_type": "stream",
     "text": [
      "13\n",
      "15\n"
     ]
    }
   ],
   "source": [
    "get_odd_number(a)"
   ]
  },
  {
   "cell_type": "markdown",
   "id": "996bc132",
   "metadata": {},
   "source": [
    "### 9. Write a Python program to Remove empty List from List?\n",
    "Ans:"
   ]
  },
  {
   "cell_type": "code",
   "execution_count": 22,
   "id": "b7d09d00",
   "metadata": {},
   "outputs": [],
   "source": [
    "def remove_empty_list(list_of_lists):\n",
    "    lenoflist = []\n",
    "    for i in list_of_lists:\n",
    "        lenoflist.append(len(i))\n",
    "    list_of_lists.pop(lenoflist.index(0))\n",
    "    return list_of_lists"
   ]
  },
  {
   "cell_type": "code",
   "execution_count": 23,
   "id": "b1d5e59f",
   "metadata": {},
   "outputs": [],
   "source": [
    "list_of_lists = [[1,2,3], [], [4,3,21]]"
   ]
  },
  {
   "cell_type": "code",
   "execution_count": 24,
   "id": "e386b6e0",
   "metadata": {},
   "outputs": [
    {
     "data": {
      "text/plain": [
       "[[1, 2, 3], [4, 3, 21]]"
      ]
     },
     "execution_count": 24,
     "metadata": {},
     "output_type": "execute_result"
    }
   ],
   "source": [
    "remove_empty_list(list_of_lists)"
   ]
  },
  {
   "cell_type": "markdown",
   "id": "9e8d2a3a",
   "metadata": {},
   "source": [
    "### 10. Write a Python program to Cloning or Copying a list?\n",
    "Ans:"
   ]
  },
  {
   "cell_type": "code",
   "execution_count": 25,
   "id": "b749eafd",
   "metadata": {},
   "outputs": [
    {
     "data": {
      "text/plain": [
       "[1, 2, 3, 4, 5, 6]"
      ]
     },
     "execution_count": 25,
     "metadata": {},
     "output_type": "execute_result"
    }
   ],
   "source": [
    "list_1 = [1,2,3,4,5,6]\n",
    "list_2 = list_1.copy()\n",
    "list_2"
   ]
  },
  {
   "cell_type": "markdown",
   "id": "590222bb",
   "metadata": {},
   "source": [
    "### 11. Write a Python program to Count occurrences of an element in a list?\n",
    "Ans:"
   ]
  },
  {
   "cell_type": "code",
   "execution_count": 26,
   "id": "c8d3549c",
   "metadata": {},
   "outputs": [],
   "source": [
    "a = [\"a\", \"b\", \"c\",\"d\",\"a\", \"b\",\"b\"]"
   ]
  },
  {
   "cell_type": "code",
   "execution_count": 27,
   "id": "c590a5c6",
   "metadata": {},
   "outputs": [
    {
     "data": {
      "text/plain": [
       "2"
      ]
     },
     "execution_count": 27,
     "metadata": {},
     "output_type": "execute_result"
    }
   ],
   "source": [
    "a.count(\"a\")"
   ]
  },
  {
   "cell_type": "code",
   "execution_count": 28,
   "id": "33fcecbc",
   "metadata": {},
   "outputs": [
    {
     "data": {
      "text/plain": [
       "3"
      ]
     },
     "execution_count": 28,
     "metadata": {},
     "output_type": "execute_result"
    }
   ],
   "source": [
    "a.count(\"b\")"
   ]
  }
 ],
 "metadata": {
  "kernelspec": {
   "display_name": "Python 3",
   "language": "python",
   "name": "python3"
  },
  "language_info": {
   "codemirror_mode": {
    "name": "ipython",
    "version": 3
   },
   "file_extension": ".py",
   "mimetype": "text/x-python",
   "name": "python",
   "nbconvert_exporter": "python",
   "pygments_lexer": "ipython3",
   "version": "3.8.8"
  }
 },
 "nbformat": 4,
 "nbformat_minor": 5
}
