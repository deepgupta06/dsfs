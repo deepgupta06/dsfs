{
 "cells": [
  {
   "cell_type": "markdown",
   "id": "8629413a",
   "metadata": {},
   "source": [
    "# Python Programming Basic Assignment_19"
   ]
  },
  {
   "cell_type": "markdown",
   "id": "2b63ad6c",
   "metadata": {},
   "source": [
    "### 1. Create a function that takes a string and returns a string in which each character is repeated once.\n",
    "Examples:\n",
    "\n",
    "double_char(\"String\") ➞ \"SSttrriinngg\"\n",
    "\n",
    "double_char(\"Hello World!\") ➞ \"HHeelllloo  WWoorrlldd!!\"\n",
    "\n",
    "double_char(\"1234!_ \") ➞ \"11223344!!__  \"\n"
   ]
  },
  {
   "cell_type": "markdown",
   "id": "761d20e9",
   "metadata": {},
   "source": [
    "#### Considering space as a char"
   ]
  },
  {
   "cell_type": "code",
   "execution_count": 1,
   "id": "cbfb37ef",
   "metadata": {},
   "outputs": [],
   "source": [
    "def double_char(input_string):\n",
    "    \"\"\"This function will return a string of repeating of each char of the given string \"\"\"\n",
    "    output_word_list = [x*2 for x in input_string if x !=\"\"]\n",
    "    return \"\".join(output_word_list)\n",
    "    "
   ]
  },
  {
   "cell_type": "code",
   "execution_count": 2,
   "id": "85c0da25",
   "metadata": {},
   "outputs": [
    {
     "data": {
      "text/plain": [
       "'HHii  MMyy  nnaammee  iiss  DDeeeepp  GGuuppttaa'"
      ]
     },
     "execution_count": 2,
     "metadata": {},
     "output_type": "execute_result"
    }
   ],
   "source": [
    "input_string = \"Hi My name is Deep Gupta\"\n",
    "double_char(input_string)"
   ]
  },
  {
   "cell_type": "code",
   "execution_count": 3,
   "id": "df2c08aa",
   "metadata": {},
   "outputs": [
    {
     "data": {
      "text/plain": [
       "'WWiinntteerr  iiss  ccoommiinngg'"
      ]
     },
     "execution_count": 3,
     "metadata": {},
     "output_type": "execute_result"
    }
   ],
   "source": [
    "input_string = \"Winter is coming\"\n",
    "double_char(input_string)"
   ]
  },
  {
   "cell_type": "code",
   "execution_count": 4,
   "id": "c37d5854",
   "metadata": {},
   "outputs": [
    {
     "data": {
      "text/plain": [
       "'FFeeaarr  ccuuttss  ddeeeeppeerr  tthhaann  sswwoorrddss'"
      ]
     },
     "execution_count": 4,
     "metadata": {},
     "output_type": "execute_result"
    }
   ],
   "source": [
    "input_string = \"Fear cuts deeper than swords\"\n",
    "double_char(input_string)"
   ]
  },
  {
   "cell_type": "markdown",
   "id": "8a2b8829",
   "metadata": {},
   "source": [
    "#### Not Considering space as a char"
   ]
  },
  {
   "cell_type": "code",
   "execution_count": 5,
   "id": "dd0f20e0",
   "metadata": {},
   "outputs": [],
   "source": [
    "def double_char(input_string):\n",
    "    output_string = \"\"\n",
    "    for i in input_string:\n",
    "        if i != \" \":\n",
    "            output_string += i*2\n",
    "        else:\n",
    "            output_string += i\n",
    "    return output_string\n",
    "    "
   ]
  },
  {
   "cell_type": "code",
   "execution_count": 6,
   "id": "db2755fe",
   "metadata": {},
   "outputs": [
    {
     "data": {
      "text/plain": [
       "'FFeeaarr ccuuttss ddeeeeppeerr tthhaann sswwoorrddss'"
      ]
     },
     "execution_count": 6,
     "metadata": {},
     "output_type": "execute_result"
    }
   ],
   "source": [
    "double_char(input_string)"
   ]
  },
  {
   "cell_type": "code",
   "execution_count": 7,
   "id": "97288223",
   "metadata": {},
   "outputs": [
    {
     "data": {
      "text/plain": [
       "'FFeeaarr ccuuttss ddeeeeppeerr tthhaann sswwoorrddss'"
      ]
     },
     "execution_count": 7,
     "metadata": {},
     "output_type": "execute_result"
    }
   ],
   "source": [
    "double_char(input_string)"
   ]
  },
  {
   "cell_type": "markdown",
   "id": "dfc60d10",
   "metadata": {},
   "source": [
    "### 2. Create a function that reverses a boolean value and returns the string \"boolean expected\" if another variable type is given.\n",
    "Examples\n",
    "reverse(True) ➞ False\n",
    "\n",
    "reverse(False) ➞ True\n",
    "\n",
    "reverse(0) ➞ \"boolean expected\"\n",
    "\n",
    "reverse(None) ➞ \"boolean expected\"\n"
   ]
  },
  {
   "cell_type": "code",
   "execution_count": 8,
   "id": "867f0e90",
   "metadata": {},
   "outputs": [],
   "source": [
    "def reverse(input_value:bool):\n",
    "    if isinstance(input_value, (bool)):\n",
    "        return not input_value\n",
    "    else:\n",
    "        return \"boolean expexted\""
   ]
  },
  {
   "cell_type": "code",
   "execution_count": 9,
   "id": "c1cd51a5",
   "metadata": {},
   "outputs": [
    {
     "data": {
      "text/plain": [
       "False"
      ]
     },
     "execution_count": 9,
     "metadata": {},
     "output_type": "execute_result"
    }
   ],
   "source": [
    "reverse(True)"
   ]
  },
  {
   "cell_type": "code",
   "execution_count": 10,
   "id": "b2dddf39",
   "metadata": {},
   "outputs": [
    {
     "data": {
      "text/plain": [
       "True"
      ]
     },
     "execution_count": 10,
     "metadata": {},
     "output_type": "execute_result"
    }
   ],
   "source": [
    "reverse(False)"
   ]
  },
  {
   "cell_type": "code",
   "execution_count": 11,
   "id": "9b711b98",
   "metadata": {},
   "outputs": [
    {
     "data": {
      "text/plain": [
       "'boolean expexted'"
      ]
     },
     "execution_count": 11,
     "metadata": {},
     "output_type": "execute_result"
    }
   ],
   "source": [
    "reverse(0)"
   ]
  },
  {
   "cell_type": "code",
   "execution_count": 12,
   "id": "77607211",
   "metadata": {},
   "outputs": [
    {
     "data": {
      "text/plain": [
       "'boolean expexted'"
      ]
     },
     "execution_count": 12,
     "metadata": {},
     "output_type": "execute_result"
    }
   ],
   "source": [
    "reverse(None)"
   ]
  },
  {
   "cell_type": "markdown",
   "id": "7471752d",
   "metadata": {},
   "source": [
    "### 3. Create a function that returns the thickness (in meters) of a piece of paper after folding it n number of times. The paper starts off with a thickness of 0.5mm.\n",
    "Examples\n",
    "\n",
    "num_layers(1) ➞ \"0.001m\"\n",
    "<p># Paper folded once is 1mm (equal to 0.001m)</p>\n",
    "\n",
    "num_layers(4) ➞ \"0.008m\"\n",
    "<p># Paper folded 4 times is 8mm (equal to 0.008m)</p>\n",
    "\n",
    "num_layers(21) ➞ \"1048.576m\"\n",
    "<p># Paper folded 21 times is 1048576mm (equal to 1048.576m)</p>\n"
   ]
  },
  {
   "cell_type": "code",
   "execution_count": 13,
   "id": "189f1a75",
   "metadata": {},
   "outputs": [],
   "source": [
    "def num_layers(n_time_fold):\n",
    "    thickness = (0.5*((2)**n_time_fold))/1000\n",
    "    return f\"{thickness}m\""
   ]
  },
  {
   "cell_type": "code",
   "execution_count": 14,
   "id": "9f8ff3ea",
   "metadata": {},
   "outputs": [
    {
     "data": {
      "text/plain": [
       "'1048.576m'"
      ]
     },
     "execution_count": 14,
     "metadata": {},
     "output_type": "execute_result"
    }
   ],
   "source": [
    "num_layers(21)"
   ]
  },
  {
   "cell_type": "code",
   "execution_count": 15,
   "id": "ba3d52a7",
   "metadata": {},
   "outputs": [
    {
     "data": {
      "text/plain": [
       "'0.008m'"
      ]
     },
     "execution_count": 15,
     "metadata": {},
     "output_type": "execute_result"
    }
   ],
   "source": [
    "num_layers(4)"
   ]
  },
  {
   "cell_type": "markdown",
   "id": "bf3947f4",
   "metadata": {},
   "source": [
    "### 4. Create a function that takes a single string as argument and returns an ordered list containing the indices of all capital letters in the string.\n",
    "Examples\n",
    "\n",
    "index_of_caps(\"eDaBiT\") ➞ [1, 3, 5]\n",
    "\n",
    "index_of_caps(\"eQuINoX\") ➞ [1, 3, 4, 6]\n",
    "\n",
    "index_of_caps(\"determine\") ➞ []\n",
    "\n",
    "index_of_caps(\"STRIKE\") ➞ [0, 1, 2, 3, 4, 5]\n",
    "\n",
    "index_of_caps(\"sUn\") ➞ [1]\n",
    "\n"
   ]
  },
  {
   "cell_type": "code",
   "execution_count": 16,
   "id": "22fc72d0",
   "metadata": {},
   "outputs": [],
   "source": [
    "def index_of_caps(input_string):\n",
    "    \"\"\"This function will take a string as an input and return \n",
    "    an orderd list containing the indices of the capital letters in the string \"\"\"\n",
    "    index_list = []\n",
    "    for idx,letter in enumerate(input_string):\n",
    "        if letter.isupper():\n",
    "            index_list.append(idx)\n",
    "    return index_list"
   ]
  },
  {
   "cell_type": "code",
   "execution_count": 17,
   "id": "876f7b57",
   "metadata": {},
   "outputs": [
    {
     "data": {
      "text/plain": [
       "[1, 2]"
      ]
     },
     "execution_count": 17,
     "metadata": {},
     "output_type": "execute_result"
    }
   ],
   "source": [
    "index_of_caps(\"dEEp\")"
   ]
  },
  {
   "cell_type": "code",
   "execution_count": 18,
   "id": "3f37e086",
   "metadata": {},
   "outputs": [
    {
     "data": {
      "text/plain": [
       "[1, 3, 5]"
      ]
     },
     "execution_count": 18,
     "metadata": {},
     "output_type": "execute_result"
    }
   ],
   "source": [
    "index_of_caps(\"eDaBiT\")"
   ]
  },
  {
   "cell_type": "code",
   "execution_count": 19,
   "id": "587f1f9d",
   "metadata": {},
   "outputs": [
    {
     "data": {
      "text/plain": [
       "[1, 3, 4, 6]"
      ]
     },
     "execution_count": 19,
     "metadata": {},
     "output_type": "execute_result"
    }
   ],
   "source": [
    "index_of_caps(\"eQuINoX\")"
   ]
  },
  {
   "cell_type": "code",
   "execution_count": 20,
   "id": "51bdc299",
   "metadata": {},
   "outputs": [
    {
     "data": {
      "text/plain": [
       "[]"
      ]
     },
     "execution_count": 20,
     "metadata": {},
     "output_type": "execute_result"
    }
   ],
   "source": [
    "index_of_caps(\"datetime\")"
   ]
  },
  {
   "cell_type": "markdown",
   "id": "b2a9018b",
   "metadata": {},
   "source": [
    "### 5. Using list comprehensions, create a function that finds all even numbers from 1 to the given number.\n",
    "Examples\n",
    "\n",
    "find_even_nums(8) ➞ [2, 4, 6, 8]\n",
    "\n",
    "find_even_nums(4) ➞ [2, 4]\n",
    "\n",
    "find_even_nums(2) ➞ [2]\n"
   ]
  },
  {
   "cell_type": "code",
   "execution_count": 21,
   "id": "95498c46",
   "metadata": {},
   "outputs": [],
   "source": [
    "def find_even_number(num):\n",
    "    output_list =[x for x in range(1,num+1) if x%2 == 0]\n",
    "    return output_list"
   ]
  },
  {
   "cell_type": "code",
   "execution_count": 22,
   "id": "80b36e11",
   "metadata": {},
   "outputs": [
    {
     "data": {
      "text/plain": [
       "[2, 4, 6, 8]"
      ]
     },
     "execution_count": 22,
     "metadata": {},
     "output_type": "execute_result"
    }
   ],
   "source": [
    "find_even_number(8)"
   ]
  },
  {
   "cell_type": "code",
   "execution_count": 23,
   "id": "0df36ad3",
   "metadata": {},
   "outputs": [
    {
     "data": {
      "text/plain": [
       "[]"
      ]
     },
     "execution_count": 23,
     "metadata": {},
     "output_type": "execute_result"
    }
   ],
   "source": [
    "find_even_number(1)"
   ]
  },
  {
   "cell_type": "code",
   "execution_count": null,
   "id": "97e9bdc5",
   "metadata": {},
   "outputs": [],
   "source": []
  }
 ],
 "metadata": {
  "kernelspec": {
   "display_name": "Python 3",
   "language": "python",
   "name": "python3"
  },
  "language_info": {
   "codemirror_mode": {
    "name": "ipython",
    "version": 3
   },
   "file_extension": ".py",
   "mimetype": "text/x-python",
   "name": "python",
   "nbconvert_exporter": "python",
   "pygments_lexer": "ipython3",
   "version": "3.8.8"
  }
 },
 "nbformat": 4,
 "nbformat_minor": 5
}
