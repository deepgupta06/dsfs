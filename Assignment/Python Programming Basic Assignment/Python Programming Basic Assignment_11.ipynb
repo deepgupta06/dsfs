{
 "cells": [
  {
   "cell_type": "markdown",
   "id": "76d39de1",
   "metadata": {},
   "source": [
    "# Python Programming Basic Assignment_11"
   ]
  },
  {
   "cell_type": "markdown",
   "id": "2195d399",
   "metadata": {},
   "source": [
    "### 1. Write a Python program to find words which are greater than given length k?\n",
    "Ans:"
   ]
  },
  {
   "cell_type": "code",
   "execution_count": 1,
   "id": "54260ba4",
   "metadata": {},
   "outputs": [],
   "source": [
    "def finding_n_length_word(input_string, length):\n",
    "    word_list = []\n",
    "    for word in input_string.split():\n",
    "        if len(word)==length:\n",
    "            word_list.append(word)\n",
    "    return word_list"
   ]
  },
  {
   "cell_type": "code",
   "execution_count": 2,
   "id": "d837df9b",
   "metadata": {},
   "outputs": [],
   "source": [
    "a = \"My name is Narendra Modi !\""
   ]
  },
  {
   "cell_type": "code",
   "execution_count": 3,
   "id": "3112f2bf",
   "metadata": {},
   "outputs": [
    {
     "data": {
      "text/plain": [
       "['name', 'Modi']"
      ]
     },
     "execution_count": 3,
     "metadata": {},
     "output_type": "execute_result"
    }
   ],
   "source": [
    "finding_n_length_word(a, 4)"
   ]
  },
  {
   "cell_type": "code",
   "execution_count": 4,
   "id": "3efe2cb1",
   "metadata": {},
   "outputs": [
    {
     "data": {
      "text/plain": [
       "['My', 'name', 'is', 'Narendra', 'Modi', '!']"
      ]
     },
     "execution_count": 4,
     "metadata": {},
     "output_type": "execute_result"
    }
   ],
   "source": [
    "a.split()"
   ]
  },
  {
   "cell_type": "markdown",
   "id": "c13a9264",
   "metadata": {},
   "source": [
    "### 2. Write a Python program for removing i-th character from a string?\n",
    "Ans:"
   ]
  },
  {
   "cell_type": "code",
   "execution_count": 5,
   "id": "54f0a744",
   "metadata": {},
   "outputs": [],
   "source": [
    "def removing_ith_char(input_string, ith_char):\n",
    "    temp_str = []\n",
    "    for i in input_string:\n",
    "        if i==input_string[ith_char]:\n",
    "            pass\n",
    "        else:\n",
    "            temp_str.append(i)\n",
    "    return \"\".join(temp_str)"
   ]
  },
  {
   "cell_type": "code",
   "execution_count": 6,
   "id": "df4edcf9",
   "metadata": {},
   "outputs": [],
   "source": [
    "input_string = \"the quick brown fox jumped over the lazy dog\""
   ]
  },
  {
   "cell_type": "code",
   "execution_count": 7,
   "id": "d8731902",
   "metadata": {},
   "outputs": [
    {
     "data": {
      "text/plain": [
       "'the uick brown fox jumped over the lazy dog'"
      ]
     },
     "execution_count": 7,
     "metadata": {},
     "output_type": "execute_result"
    }
   ],
   "source": [
    "removing_ith_char(input_string, 4)"
   ]
  },
  {
   "cell_type": "markdown",
   "id": "8fd3c2d8",
   "metadata": {},
   "source": [
    "### 3. Write a Python program to split and join a string?\n",
    "Ans:"
   ]
  },
  {
   "cell_type": "code",
   "execution_count": 8,
   "id": "b3995cc3",
   "metadata": {},
   "outputs": [],
   "source": [
    "def split_and_join(input_string):\n",
    "    return \" \".join(input_string.split())"
   ]
  },
  {
   "cell_type": "code",
   "execution_count": 9,
   "id": "105e52b8",
   "metadata": {},
   "outputs": [
    {
     "data": {
      "text/plain": [
       "'the quick brown fox jumped over the lazy dog'"
      ]
     },
     "execution_count": 9,
     "metadata": {},
     "output_type": "execute_result"
    }
   ],
   "source": [
    "split_and_join(input_string)"
   ]
  },
  {
   "cell_type": "markdown",
   "id": "370a0cdd",
   "metadata": {},
   "source": [
    "### 4. Write a Python to check if a given string is binary string or not?\n",
    "Ans:"
   ]
  },
  {
   "cell_type": "code",
   "execution_count": 10,
   "id": "36c98c85",
   "metadata": {},
   "outputs": [],
   "source": [
    "def isBinarystring(input_string):\n",
    "    binary_digit_list = [\"0\", \"1\"]\n",
    "    string = [x for x in input_string if x in binary_digit_list]\n",
    "    if len(input_string) == len(string):\n",
    "        return True\n",
    "    else:\n",
    "        return False\n",
    "    "
   ]
  },
  {
   "cell_type": "code",
   "execution_count": 11,
   "id": "6c63ca50",
   "metadata": {},
   "outputs": [],
   "source": [
    "input_string = \"01010101110\""
   ]
  },
  {
   "cell_type": "code",
   "execution_count": 12,
   "id": "895ba4ef",
   "metadata": {},
   "outputs": [
    {
     "data": {
      "text/plain": [
       "True"
      ]
     },
     "execution_count": 12,
     "metadata": {},
     "output_type": "execute_result"
    }
   ],
   "source": [
    "isBinarystring(input_string)"
   ]
  },
  {
   "cell_type": "code",
   "execution_count": 13,
   "id": "3c8334d5",
   "metadata": {},
   "outputs": [],
   "source": [
    "input_string = \"Hello1\""
   ]
  },
  {
   "cell_type": "code",
   "execution_count": 14,
   "id": "d7a2246d",
   "metadata": {},
   "outputs": [
    {
     "data": {
      "text/plain": [
       "False"
      ]
     },
     "execution_count": 14,
     "metadata": {},
     "output_type": "execute_result"
    }
   ],
   "source": [
    "isBinarystring(input_string)"
   ]
  },
  {
   "cell_type": "markdown",
   "id": "58d4f751",
   "metadata": {},
   "source": [
    "### 5. Write a Python program to find uncommon words from two Strings?\n",
    "Ans:"
   ]
  },
  {
   "cell_type": "code",
   "execution_count": 15,
   "id": "f9484624",
   "metadata": {},
   "outputs": [],
   "source": [
    "def getUncommon_word(input_string1, input_string2):\n",
    "    uncommon_word1 = [x for x in input_string1.split() if x not in input_string2.split()]\n",
    "    uncommon_word2 = [x for x in input_string2.split() if x not in input_string1.split()]\n",
    "    uncommon_word1.extend(uncommon_word2)\n",
    "    return uncommon_word1"
   ]
  },
  {
   "cell_type": "code",
   "execution_count": 16,
   "id": "6da4b869",
   "metadata": {},
   "outputs": [],
   "source": [
    "a = \"This is Assignment 9\"\n",
    "b = \"This is updated Assignment 9\""
   ]
  },
  {
   "cell_type": "code",
   "execution_count": 17,
   "id": "ccbb147b",
   "metadata": {},
   "outputs": [
    {
     "data": {
      "text/plain": [
       "['updated']"
      ]
     },
     "execution_count": 17,
     "metadata": {},
     "output_type": "execute_result"
    }
   ],
   "source": [
    "getUncommon_word(a,b)"
   ]
  },
  {
   "cell_type": "markdown",
   "id": "0b302b82",
   "metadata": {},
   "source": [
    "### 6. Write a Python to find all duplicate characters in string?\n",
    "Ans:"
   ]
  },
  {
   "cell_type": "code",
   "execution_count": 18,
   "id": "2498496c",
   "metadata": {},
   "outputs": [],
   "source": [
    "def findDuplicate_char(input_string):\n",
    "    string_list = list(input_string)\n",
    "    temp_char = []\n",
    "    for i in string_list:\n",
    "        if string_list.count(i)>=2:\n",
    "            temp_char.append(i)\n",
    "    duplicate_char = set(temp_char)\n",
    "    return duplicate_char"
   ]
  },
  {
   "cell_type": "code",
   "execution_count": 19,
   "id": "ae8c6d85",
   "metadata": {},
   "outputs": [],
   "source": [
    "input_string = \"the quick brown fox jumped over the lazy dog\"\n",
    "#input_string = \"deep\""
   ]
  },
  {
   "cell_type": "code",
   "execution_count": 20,
   "id": "f5f8377e",
   "metadata": {},
   "outputs": [
    {
     "data": {
      "text/plain": [
       "{' ', 'd', 'e', 'h', 'o', 'r', 't', 'u'}"
      ]
     },
     "execution_count": 20,
     "metadata": {},
     "output_type": "execute_result"
    }
   ],
   "source": [
    "findDuplicate_char(input_string)"
   ]
  },
  {
   "cell_type": "markdown",
   "id": "54a888a7",
   "metadata": {},
   "source": [
    "### 7. Write a Python Program to check if a string contains any special character?\n",
    "Ans:"
   ]
  },
  {
   "cell_type": "code",
   "execution_count": 21,
   "id": "8f10b844",
   "metadata": {},
   "outputs": [],
   "source": [
    "def specialAvailable(input_string):\n",
    "    special_char = \"!@#$%^&*()_+'<>?/|\\{[]}'\"\n",
    "    special_checker = []\n",
    "    for i in list(input_string):\n",
    "        if i in list(special_char):\n",
    "            special_checker.append(True)\n",
    "        else:\n",
    "            special_checker.append(False)\n",
    "    if special_checker.count(True)>0:\n",
    "        return True\n",
    "    else:\n",
    "        return False"
   ]
  },
  {
   "cell_type": "code",
   "execution_count": 22,
   "id": "fdd5daa5",
   "metadata": {},
   "outputs": [],
   "source": [
    "input_string = \"Deep !\""
   ]
  },
  {
   "cell_type": "code",
   "execution_count": 23,
   "id": "a83b49c3",
   "metadata": {},
   "outputs": [
    {
     "data": {
      "text/plain": [
       "True"
      ]
     },
     "execution_count": 23,
     "metadata": {},
     "output_type": "execute_result"
    }
   ],
   "source": [
    "specialAvailable(input_string)"
   ]
  }
 ],
 "metadata": {
  "kernelspec": {
   "display_name": "Python 3",
   "language": "python",
   "name": "python3"
  },
  "language_info": {
   "codemirror_mode": {
    "name": "ipython",
    "version": 3
   },
   "file_extension": ".py",
   "mimetype": "text/x-python",
   "name": "python",
   "nbconvert_exporter": "python",
   "pygments_lexer": "ipython3",
   "version": "3.8.8"
  }
 },
 "nbformat": 4,
 "nbformat_minor": 5
}
