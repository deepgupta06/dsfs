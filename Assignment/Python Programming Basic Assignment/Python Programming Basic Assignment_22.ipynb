{
 "cells": [
  {
   "cell_type": "markdown",
   "id": "6c2bcc81",
   "metadata": {},
   "source": [
    "# Python Programming Basic Assignment_22"
   ]
  },
  {
   "cell_type": "markdown",
   "id": "51011b40",
   "metadata": {},
   "source": [
    "### 1. Create a function that takes three parameters where:\n",
    "<ul>\n",
    "    <li>x is the start of the range (inclusive).</li>\n",
    "    <li>y is the end of the range (inclusive).</li>\n",
    "    <li>n is the divisor to be checked against.</li>\n",
    "</ul>\n",
    "\n",
    "Return an ordered list with numbers in the range that are divisible by the third parameter n. Return an empty list if there are no numbers that are divisible by n.\n",
    "\n",
    "Examples\n",
    "\n",
    "list_operation(1, 10, 3) ➞ [3, 6, 9]\n",
    "\n",
    "list_operation(7, 9, 2) ➞ [8]\n",
    "\n",
    "list_operation(15, 20, 7) ➞ []\n"
   ]
  },
  {
   "cell_type": "code",
   "execution_count": 1,
   "id": "d063ea82",
   "metadata": {},
   "outputs": [],
   "source": [
    "def list_operation(x,y,n):\n",
    "    output_list = [x for x in range(x,y) if x%n==0]\n",
    "    return output_list"
   ]
  },
  {
   "cell_type": "code",
   "execution_count": 2,
   "id": "7b864e6e",
   "metadata": {},
   "outputs": [
    {
     "data": {
      "text/plain": [
       "[3, 6, 9]"
      ]
     },
     "execution_count": 2,
     "metadata": {},
     "output_type": "execute_result"
    }
   ],
   "source": [
    "list_operation(1, 10, 3)"
   ]
  },
  {
   "cell_type": "code",
   "execution_count": 3,
   "id": "7f03bba6",
   "metadata": {},
   "outputs": [
    {
     "data": {
      "text/plain": [
       "[8]"
      ]
     },
     "execution_count": 3,
     "metadata": {},
     "output_type": "execute_result"
    }
   ],
   "source": [
    "list_operation(7, 9, 2)"
   ]
  },
  {
   "cell_type": "code",
   "execution_count": 4,
   "id": "8256e70b",
   "metadata": {},
   "outputs": [
    {
     "data": {
      "text/plain": [
       "[]"
      ]
     },
     "execution_count": 4,
     "metadata": {},
     "output_type": "execute_result"
    }
   ],
   "source": [
    "list_operation(15, 20, 7)"
   ]
  },
  {
   "cell_type": "markdown",
   "id": "7e948a49",
   "metadata": {},
   "source": [
    "### 2. Create a function that takes in two lists and returns True if the second list follows the first list by one element, and False otherwise. In other words, determine if the second list is the first list shifted to the right by 1.\n",
    "\n",
    "Examples\n",
    "\n",
    "simon_says([1, 2], [5, 1]) ➞ True\n",
    "\n",
    "simon_says([1, 2], [5, 5]) ➞ False\n",
    "\n",
    "simon_says([1, 2, 3, 4, 5], [0, 1, 2, 3, 4]) ➞ True\n",
    "\n",
    "simon_says([1, 2, 3, 4, 5], [5, 5, 1, 2, 3]) ➞ False\n",
    "\n",
    "Notes\n",
    "<ul>\n",
    "    <li>Both input lists will be of the same length, and will have a minimum length of 2.</li>\n",
    "    <li>The values of the 0-indexed element in the second list and the n-1th indexed element in the first list do not matter.</li>\n",
    "<ul>"
   ]
  },
  {
   "cell_type": "code",
   "execution_count": 5,
   "id": "15ade14c",
   "metadata": {},
   "outputs": [],
   "source": [
    "def jarvis_says(first_list, second_list):\n",
    "    if len(first_list)==len(second_list) and len(first_list)>=2 and len(second_list)>=2:\n",
    "        first_check_list = first_list[:-1]\n",
    "        second_check_list = second_list[1:]\n",
    "        if first_check_list==second_check_list:\n",
    "            return True\n",
    "        else:\n",
    "            return False\n",
    "    else:\n",
    "        return \"Both input lists will be of the same length, and will have a minimum length of 2!!!\""
   ]
  },
  {
   "cell_type": "code",
   "execution_count": 6,
   "id": "f2447950",
   "metadata": {},
   "outputs": [
    {
     "data": {
      "text/plain": [
       "True"
      ]
     },
     "execution_count": 6,
     "metadata": {},
     "output_type": "execute_result"
    }
   ],
   "source": [
    "jarvis_says([1, 2, 3, 4, 5], [0, 1, 2, 3, 4])"
   ]
  },
  {
   "cell_type": "code",
   "execution_count": 7,
   "id": "deb1fe67",
   "metadata": {},
   "outputs": [
    {
     "data": {
      "text/plain": [
       "False"
      ]
     },
     "execution_count": 7,
     "metadata": {},
     "output_type": "execute_result"
    }
   ],
   "source": [
    "jarvis_says([1, 2, 3, 4, 5], [5, 5, 1, 2, 3])"
   ]
  },
  {
   "cell_type": "code",
   "execution_count": 8,
   "id": "74420a85",
   "metadata": {},
   "outputs": [
    {
     "data": {
      "text/plain": [
       "False"
      ]
     },
     "execution_count": 8,
     "metadata": {},
     "output_type": "execute_result"
    }
   ],
   "source": [
    "jarvis_says([1,2],[5,5])"
   ]
  },
  {
   "cell_type": "code",
   "execution_count": 9,
   "id": "cd32ce07",
   "metadata": {},
   "outputs": [
    {
     "data": {
      "text/plain": [
       "True"
      ]
     },
     "execution_count": 9,
     "metadata": {},
     "output_type": "execute_result"
    }
   ],
   "source": [
    "jarvis_says([1,2],[5,1])"
   ]
  },
  {
   "cell_type": "code",
   "execution_count": 10,
   "id": "7b55cf1d",
   "metadata": {},
   "outputs": [
    {
     "data": {
      "text/plain": [
       "'Both input lists will be of the same length, and will have a minimum length of 2!!!'"
      ]
     },
     "execution_count": 10,
     "metadata": {},
     "output_type": "execute_result"
    }
   ],
   "source": [
    "jarvis_says([1],[1])"
   ]
  },
  {
   "cell_type": "markdown",
   "id": "fa67643a",
   "metadata": {},
   "source": [
    "### 3. A group of friends have decided to start a secret society. The name will be the first letter of each of their names, sorted in alphabetical order.\n",
    "Create a function that takes in a list of names and returns the name of the secret society.\n",
    "\n",
    "Examples\n",
    "\n",
    "society_name([\"Adam\", \"Sarah\", \"Malcolm\"]) ➞ \"AMS\"\n",
    "\n",
    "society_name([\"Harry\", \"Newt\", \"Luna\", \"Cho\"]) ➞ \"CHLN\"\n",
    "\n",
    "society_name([\"Phoebe\", \"Chandler\", \"Rachel\", \"Ross\", \"Monica\", \"Joey\"])\n"
   ]
  },
  {
   "cell_type": "code",
   "execution_count": 11,
   "id": "1f12ac8e",
   "metadata": {},
   "outputs": [],
   "source": [
    "def secret_society_name(input_name_list:list):\n",
    "    output_letter = sorted([x[0] for x in input_name_list])\n",
    "    return \"\".join(output_letter)"
   ]
  },
  {
   "cell_type": "code",
   "execution_count": 12,
   "id": "76dfaae1",
   "metadata": {},
   "outputs": [
    {
     "data": {
      "text/plain": [
       "'BDPT'"
      ]
     },
     "execution_count": 12,
     "metadata": {},
     "output_type": "execute_result"
    }
   ],
   "source": [
    "secret_society_name([\"Deep\", \"Tuhin\", \"Bishal\", \"Prince\"])"
   ]
  },
  {
   "cell_type": "code",
   "execution_count": 13,
   "id": "b0133806",
   "metadata": {},
   "outputs": [
    {
     "data": {
      "text/plain": [
       "'AMS'"
      ]
     },
     "execution_count": 13,
     "metadata": {},
     "output_type": "execute_result"
    }
   ],
   "source": [
    "secret_society_name([\"Adam\", \"Sarah\", \"Malcolm\"])"
   ]
  },
  {
   "cell_type": "code",
   "execution_count": 14,
   "id": "33afa838",
   "metadata": {},
   "outputs": [
    {
     "data": {
      "text/plain": [
       "'CHLN'"
      ]
     },
     "execution_count": 14,
     "metadata": {},
     "output_type": "execute_result"
    }
   ],
   "source": [
    "secret_society_name([\"Harry\", \"Newt\", \"Luna\", \"Cho\"]) "
   ]
  },
  {
   "cell_type": "code",
   "execution_count": 15,
   "id": "1da245e8",
   "metadata": {},
   "outputs": [
    {
     "data": {
      "text/plain": [
       "'CJMPRR'"
      ]
     },
     "execution_count": 15,
     "metadata": {},
     "output_type": "execute_result"
    }
   ],
   "source": [
    "secret_society_name([\"Phoebe\", \"Chandler\", \"Rachel\", \"Ross\", \"Monica\", \"Joey\"])"
   ]
  },
  {
   "cell_type": "markdown",
   "id": "5799ce0c",
   "metadata": {},
   "source": [
    "### 4. An isogram is a word that has no duplicate letters. Create a function that takes a string and returns either True or False depending on whether or not it's an \"isogram\".\n",
    "\n",
    "Examples\n",
    "\n",
    "is_isogram(\"Algorism\") ➞ True\n",
    "\n",
    "is_isogram(\"PasSword\") ➞ False\n",
    "<p># Not case sensitive.</p>\n",
    "\n",
    "is_isogram(\"Consecutive\") ➞ False\n",
    "\n",
    "Notes\n",
    "<ul>\n",
    "    <li>Ignore letter case (should not be case sensitive).</li>\n",
    "    <li>All test cases contain valid one word strings.</li>\n",
    "</ul>"
   ]
  },
  {
   "cell_type": "code",
   "execution_count": null,
   "id": "1b47aaec",
   "metadata": {},
   "outputs": [],
   "source": [
    "def is_isogram(input_string):\n",
    "    lettter_check_list = [input_string.count(x) for x in input_string]\n",
    "    if max(lettter_check_list)<2:\n",
    "        return True\n",
    "    else:\n",
    "        return False"
   ]
  },
  {
   "cell_type": "code",
   "execution_count": null,
   "id": "58586c78",
   "metadata": {},
   "outputs": [],
   "source": [
    "is_isogram(\"Deep\")"
   ]
  },
  {
   "cell_type": "code",
   "execution_count": null,
   "id": "224f722f",
   "metadata": {},
   "outputs": [],
   "source": [
    "is_isogram(\"Algorism\")"
   ]
  },
  {
   "cell_type": "markdown",
   "id": "ab65572b",
   "metadata": {},
   "source": [
    "### 5. Create a function that takes a string and returns True or False, depending on whether the characters are in order or not.\n",
    "\n",
    "Examples\n",
    "\n",
    "is_in_order(\"abc\") ➞ True\n",
    "\n",
    "is_in_order(\"edabit\") ➞ False\n",
    "\n",
    "is_in_order(\"123\") ➞ True\n",
    "\n",
    "is_in_order(\"xyzz\") ➞ True\n",
    "\n",
    "Notes\n",
    "\n",
    "You don't have to handle empty strings.\n"
   ]
  },
  {
   "cell_type": "code",
   "execution_count": null,
   "id": "71c2c76a",
   "metadata": {},
   "outputs": [],
   "source": [
    "def is_in_order(input_string):\n",
    "    sorted_string_list = sorted(input_string)\n",
    "    if list(input_string)==sorted_string_list:\n",
    "        return True\n",
    "    else:\n",
    "        return False"
   ]
  },
  {
   "cell_type": "code",
   "execution_count": null,
   "id": "54a02757",
   "metadata": {},
   "outputs": [],
   "source": [
    "is_in_order(\"ABC\")"
   ]
  },
  {
   "cell_type": "code",
   "execution_count": null,
   "id": "ece0a978",
   "metadata": {},
   "outputs": [],
   "source": [
    "is_in_order(\"cba\")"
   ]
  },
  {
   "cell_type": "code",
   "execution_count": null,
   "id": "37b386ef",
   "metadata": {},
   "outputs": [],
   "source": [
    "is_in_order(\"123\")"
   ]
  },
  {
   "cell_type": "code",
   "execution_count": null,
   "id": "c970e14c",
   "metadata": {},
   "outputs": [],
   "source": []
  }
 ],
 "metadata": {
  "kernelspec": {
   "display_name": "Python 3",
   "language": "python",
   "name": "python3"
  },
  "language_info": {
   "codemirror_mode": {
    "name": "ipython",
    "version": 3
   },
   "file_extension": ".py",
   "mimetype": "text/x-python",
   "name": "python",
   "nbconvert_exporter": "python",
   "pygments_lexer": "ipython3",
   "version": "3.8.8"
  }
 },
 "nbformat": 4,
 "nbformat_minor": 5
}
