{
 "cells": [
  {
   "cell_type": "markdown",
   "id": "e1b34ef2",
   "metadata": {},
   "source": [
    "# Python Programming Basic Assignment_12"
   ]
  },
  {
   "cell_type": "markdown",
   "id": "83280c69",
   "metadata": {},
   "source": [
    "### 1. Write a Python program to Extract Unique values dictionary values?\n",
    "Ans:"
   ]
  },
  {
   "cell_type": "code",
   "execution_count": 1,
   "id": "87b74ffd",
   "metadata": {},
   "outputs": [],
   "source": [
    "def extractUniquevalue(input_dic):\n",
    "    temp_list = []\n",
    "    for keys, values in input_dic.items():\n",
    "        #print(values)\n",
    "        temp_list += list(values)\n",
    "        #print(temp_list)\n",
    "    return set(temp_list)\n"
   ]
  },
  {
   "cell_type": "code",
   "execution_count": 2,
   "id": "dc174842",
   "metadata": {},
   "outputs": [],
   "source": [
    "input_dic = {\"a\":[1,2,3,4],\"b\":[0,9,8,7,6], \"c\":[\"a\",\"b\",\"d\"]}"
   ]
  },
  {
   "cell_type": "code",
   "execution_count": 3,
   "id": "e1a32449",
   "metadata": {},
   "outputs": [
    {
     "data": {
      "text/plain": [
       "{0, 1, 2, 3, 4, 6, 7, 8, 9, 'a', 'b', 'd'}"
      ]
     },
     "execution_count": 3,
     "metadata": {},
     "output_type": "execute_result"
    }
   ],
   "source": [
    "extractUniquevalue(input_dic)"
   ]
  },
  {
   "cell_type": "markdown",
   "id": "d38f2f57",
   "metadata": {},
   "source": [
    "### 2.\tWrite a Python program to find the sum of all items in a dictionary?\n",
    "Ans:"
   ]
  },
  {
   "cell_type": "code",
   "execution_count": 4,
   "id": "339c2355",
   "metadata": {},
   "outputs": [],
   "source": [
    "def sumAllitems(input_dic):\n",
    "    result = 0\n",
    "    for keys, values in input_dic.items():\n",
    "        #import pdb; pdb.set_trace()\n",
    "        result += sum(values)\n",
    "        #sum += sum(values)\n",
    "    return result"
   ]
  },
  {
   "cell_type": "code",
   "execution_count": 5,
   "id": "a012d0ac",
   "metadata": {},
   "outputs": [],
   "source": [
    "input_dic = {\"a\":[1,2,3,4],\"b\":[0,9,8,7,6]}"
   ]
  },
  {
   "cell_type": "code",
   "execution_count": 6,
   "id": "f2f44fad",
   "metadata": {},
   "outputs": [
    {
     "data": {
      "text/plain": [
       "40"
      ]
     },
     "execution_count": 6,
     "metadata": {},
     "output_type": "execute_result"
    }
   ],
   "source": [
    "sumAllitems(input_dic)"
   ]
  },
  {
   "cell_type": "markdown",
   "id": "04e57578",
   "metadata": {},
   "source": [
    "### 3.\tWrite a Python program to Merging two Dictionaries?\n",
    "Ans:"
   ]
  },
  {
   "cell_type": "code",
   "execution_count": 7,
   "id": "fe7a6d8c",
   "metadata": {},
   "outputs": [],
   "source": [
    "def mergingDic(input_dic_1, input_dic_2):\n",
    "    input_dic_1.update(input_dic_2)\n",
    "    return input_dic_1"
   ]
  },
  {
   "cell_type": "code",
   "execution_count": 8,
   "id": "7820235e",
   "metadata": {},
   "outputs": [],
   "source": [
    "input_dic_1 = {\"pronic_number\":[2, 6, 12, 20, 30, 42, 56, 72, 90]}\n",
    "input_dic_2 = {\"happy_number\":[1, 7, 10, 13, 19, 23, 28, 31, 32]}"
   ]
  },
  {
   "cell_type": "code",
   "execution_count": 9,
   "id": "015c33e9",
   "metadata": {},
   "outputs": [
    {
     "data": {
      "text/plain": [
       "{'pronic_number': [2, 6, 12, 20, 30, 42, 56, 72, 90],\n",
       " 'happy_number': [1, 7, 10, 13, 19, 23, 28, 31, 32]}"
      ]
     },
     "execution_count": 9,
     "metadata": {},
     "output_type": "execute_result"
    }
   ],
   "source": [
    "mergingDic(input_dic_1, input_dic_2)"
   ]
  },
  {
   "cell_type": "markdown",
   "id": "0b9f8537",
   "metadata": {},
   "source": [
    "### 4. Write a Python program to convert key-values list to flat dictionary?\n",
    "Ans:"
   ]
  },
  {
   "cell_type": "code",
   "execution_count": 10,
   "id": "a70c922d",
   "metadata": {},
   "outputs": [],
   "source": [
    "keys = [\"a\", \"b\", \"c\", \"d\"]\n",
    "values = [1, 2, 3, 4]"
   ]
  },
  {
   "cell_type": "code",
   "execution_count": 11,
   "id": "3a42ecc4",
   "metadata": {},
   "outputs": [],
   "source": [
    "def convertToflat_dic(keys, values):\n",
    "    flat_dic = {}\n",
    "    for k, v in zip(keys, values):\n",
    "        flat_dic[k] = v\n",
    "    return flat_dic"
   ]
  },
  {
   "cell_type": "code",
   "execution_count": 12,
   "id": "12cf61c0",
   "metadata": {},
   "outputs": [
    {
     "data": {
      "text/plain": [
       "{'a': 1, 'b': 2, 'c': 3, 'd': 4}"
      ]
     },
     "execution_count": 12,
     "metadata": {},
     "output_type": "execute_result"
    }
   ],
   "source": [
    "convertToflat_dic(keys, values)"
   ]
  },
  {
   "cell_type": "markdown",
   "id": "e2906a9f",
   "metadata": {},
   "source": [
    "### 5. Write a Python program to insertion at the beginning in OrderedDict?\n",
    "Ans:"
   ]
  },
  {
   "cell_type": "code",
   "execution_count": 13,
   "id": "5f04b18a",
   "metadata": {},
   "outputs": [],
   "source": [
    "test_dic_1 = {\"a\": 5, \"b\":10, \"c\":20}\n",
    "test_dic_2 = {\"z\":1}"
   ]
  },
  {
   "cell_type": "code",
   "execution_count": 14,
   "id": "c34e62bd",
   "metadata": {},
   "outputs": [],
   "source": [
    "from collections import OrderedDict"
   ]
  },
  {
   "cell_type": "code",
   "execution_count": 15,
   "id": "0aa8652d",
   "metadata": {},
   "outputs": [],
   "source": [
    "inserted_dic = OrderedDict(list(test_dic_2.items())+list(test_dic_1.items()))"
   ]
  },
  {
   "cell_type": "code",
   "execution_count": 16,
   "id": "2a09fb03",
   "metadata": {},
   "outputs": [
    {
     "data": {
      "text/plain": [
       "OrderedDict([('z', 1), ('a', 5), ('b', 10), ('c', 20)])"
      ]
     },
     "execution_count": 16,
     "metadata": {},
     "output_type": "execute_result"
    }
   ],
   "source": [
    "inserted_dic"
   ]
  },
  {
   "cell_type": "markdown",
   "id": "193ddeda",
   "metadata": {},
   "source": [
    "### 6. Write a Python program to check order of character in string using OrderedDict()?\n",
    "Ans:"
   ]
  },
  {
   "cell_type": "code",
   "execution_count": 17,
   "id": "9b66df86",
   "metadata": {},
   "outputs": [],
   "source": [
    "from collections import OrderedDict\n",
    "def isOrderdin_char(input_string, pattern):\n",
    "    index = 0\n",
    "    # Need a value to create key value pair\n",
    "    one_value = [1]*len(input_string)\n",
    "    orderd_dic = OrderedDict(zip(list(input_string),one_value))\n",
    "    for i in orderd_dic.keys():\n",
    "        #import pdb; pdb.set_trace()\n",
    "        if i == pattern[index]:\n",
    "            index += 1\n",
    "            if index ==len(pattern):\n",
    "                return True\n",
    "    \n",
    "    if index == len(pattern):\n",
    "        return True\n",
    "    else:\n",
    "        return False\n"
   ]
  },
  {
   "cell_type": "code",
   "execution_count": 18,
   "id": "cf14a1f3",
   "metadata": {},
   "outputs": [],
   "source": [
    "input_string = \"“Sometimes you gotta run before you can walk”\""
   ]
  },
  {
   "cell_type": "code",
   "execution_count": 19,
   "id": "eff67ea5",
   "metadata": {},
   "outputs": [
    {
     "data": {
      "text/plain": [
       "True"
      ]
     },
     "execution_count": 19,
     "metadata": {},
     "output_type": "execute_result"
    }
   ],
   "source": [
    "isOrderdin_char(input_string, \"om\")"
   ]
  },
  {
   "cell_type": "code",
   "execution_count": 20,
   "id": "86a18bf5",
   "metadata": {},
   "outputs": [
    {
     "data": {
      "text/plain": [
       "True"
      ]
     },
     "execution_count": 20,
     "metadata": {},
     "output_type": "execute_result"
    }
   ],
   "source": [
    "isOrderdin_char(input_string, \"sr\")"
   ]
  },
  {
   "cell_type": "code",
   "execution_count": 21,
   "id": "5e0d962a",
   "metadata": {},
   "outputs": [
    {
     "data": {
      "text/plain": [
       "False"
      ]
     },
     "execution_count": 21,
     "metadata": {},
     "output_type": "execute_result"
    }
   ],
   "source": [
    "isOrderdin_char(input_string, \"yo\")"
   ]
  },
  {
   "cell_type": "markdown",
   "id": "ca9c893b",
   "metadata": {},
   "source": [
    "### 7. Write a Python program to sort Python Dictionaries by Key or Value?\n",
    "Ans:"
   ]
  },
  {
   "cell_type": "code",
   "execution_count": 22,
   "id": "414bbd1d",
   "metadata": {},
   "outputs": [],
   "source": [
    "a = [2,3,1]"
   ]
  },
  {
   "cell_type": "code",
   "execution_count": 23,
   "id": "69706b5c",
   "metadata": {},
   "outputs": [
    {
     "data": {
      "text/plain": [
       "[1, 2, 3]"
      ]
     },
     "execution_count": 23,
     "metadata": {},
     "output_type": "execute_result"
    }
   ],
   "source": [
    "sorted(a)"
   ]
  },
  {
   "cell_type": "code",
   "execution_count": 24,
   "id": "813ff07f",
   "metadata": {},
   "outputs": [],
   "source": [
    "def sortingDic(input_dic):\n",
    "    temp_dic = {}\n",
    "    key_list = list(input_dic.keys())\n",
    "    sorted_key = sorted(key_list)\n",
    "    for key in sorted_key:\n",
    "        temp_dic[key] = input_dic[key]\n",
    "    return temp_dic\n",
    "    "
   ]
  },
  {
   "cell_type": "code",
   "execution_count": 25,
   "id": "980cd5fa",
   "metadata": {},
   "outputs": [],
   "source": [
    "input_dic = {\"e\":10,\"b\":20,\"a\":30, \"d\":40, \"c\":50}"
   ]
  },
  {
   "cell_type": "code",
   "execution_count": 26,
   "id": "adb4e58c",
   "metadata": {},
   "outputs": [
    {
     "data": {
      "text/plain": [
       "{'a': 30, 'b': 20, 'c': 50, 'd': 40, 'e': 10}"
      ]
     },
     "execution_count": 26,
     "metadata": {},
     "output_type": "execute_result"
    }
   ],
   "source": [
    "sortingDic(input_dic)"
   ]
  }
 ],
 "metadata": {
  "kernelspec": {
   "display_name": "Python 3",
   "language": "python",
   "name": "python3"
  },
  "language_info": {
   "codemirror_mode": {
    "name": "ipython",
    "version": 3
   },
   "file_extension": ".py",
   "mimetype": "text/x-python",
   "name": "python",
   "nbconvert_exporter": "python",
   "pygments_lexer": "ipython3",
   "version": "3.8.8"
  }
 },
 "nbformat": 4,
 "nbformat_minor": 5
}
