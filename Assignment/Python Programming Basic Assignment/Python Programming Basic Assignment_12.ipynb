{
 "cells": [
  {
   "cell_type": "markdown",
   "id": "e1b34ef2",
   "metadata": {},
   "source": [
    "# Python Programming Basic Assignment_12"
   ]
  },
  {
   "cell_type": "markdown",
   "id": "55dea939",
   "metadata": {},
   "source": [
    "1.\tWrite a Python program to Extract Unique values dictionary values?\n",
    "2.\tWrite a Python program to find the sum of all items in a dictionary?\n",
    "3.\tWrite a Python program to Merging two Dictionaries?\n",
    "4.\tWrite a Python program to convert key-values list to flat dictionary?\n",
    "5.\tWrite a Python program to insertion at the beginning in OrderedDict?\n",
    "6.\tWrite a Python program to check order of character in string using OrderedDict()?\n",
    "7.\tWrite a Python program to sort Python Dictionaries by Key or Value?\n"
   ]
  },
  {
   "cell_type": "markdown",
   "id": "83280c69",
   "metadata": {},
   "source": [
    "### 1. Write a Python program to Extract Unique values dictionary values?\n",
    "Ans:"
   ]
  },
  {
   "cell_type": "code",
   "execution_count": null,
   "id": "87b74ffd",
   "metadata": {},
   "outputs": [],
   "source": [
    "def extractUniquevalue(input_dic):\n",
    "    temp_list = []\n",
    "    for keys, values in input_dic.items():\n",
    "        #print(values)\n",
    "        temp_list += list(values)\n",
    "        #print(temp_list)\n",
    "    return set(temp_list)\n"
   ]
  },
  {
   "cell_type": "code",
   "execution_count": null,
   "id": "dc174842",
   "metadata": {},
   "outputs": [],
   "source": [
    "input_dic = {\"a\":[1,2,3,4],\"b\":[0,9,8,7,6], \"c\":[\"a\",\"b\",\"d\"]}"
   ]
  },
  {
   "cell_type": "code",
   "execution_count": null,
   "id": "e1a32449",
   "metadata": {},
   "outputs": [],
   "source": [
    "extractUniquevalue(input_dic)"
   ]
  },
  {
   "cell_type": "markdown",
   "id": "d38f2f57",
   "metadata": {},
   "source": [
    "### 2.\tWrite a Python program to find the sum of all items in a dictionary?\n",
    "Ans:"
   ]
  },
  {
   "cell_type": "code",
   "execution_count": null,
   "id": "339c2355",
   "metadata": {},
   "outputs": [],
   "source": [
    "def sumAllitems(input_dic):\n",
    "    result = 0\n",
    "    for keys, values in input_dic.items():\n",
    "        print(values)\n",
    "        result += sum(values)\n",
    "        #sum += sum(values)\n",
    "    return result"
   ]
  },
  {
   "cell_type": "code",
   "execution_count": null,
   "id": "a012d0ac",
   "metadata": {},
   "outputs": [],
   "source": [
    "input_dic = {\"a\":[1,2,3,4],\"b\":[0,9,8,7,6]}"
   ]
  },
  {
   "cell_type": "code",
   "execution_count": null,
   "id": "f2f44fad",
   "metadata": {},
   "outputs": [],
   "source": [
    "sumAllitems(input_dic)"
   ]
  },
  {
   "cell_type": "code",
   "execution_count": null,
   "id": "c72e2424",
   "metadata": {},
   "outputs": [],
   "source": [
    "a = [1,2,3]"
   ]
  },
  {
   "cell_type": "code",
   "execution_count": null,
   "id": "eba90b3c",
   "metadata": {},
   "outputs": [],
   "source": [
    "sum(a)"
   ]
  },
  {
   "cell_type": "markdown",
   "id": "04e57578",
   "metadata": {},
   "source": [
    "### 3.\tWrite a Python program to Merging two Dictionaries?\n",
    "Ans:"
   ]
  },
  {
   "cell_type": "code",
   "execution_count": null,
   "id": "fe7a6d8c",
   "metadata": {},
   "outputs": [],
   "source": [
    "def mergingDic(input_dic_1, input_dic_2):\n",
    "    input_dic_1.update(input_dic_2)\n",
    "    return input_dic_1"
   ]
  },
  {
   "cell_type": "code",
   "execution_count": null,
   "id": "7820235e",
   "metadata": {},
   "outputs": [],
   "source": [
    "input_dic_1 = {\"pronic_number\":[2, 6, 12, 20, 30, 42, 56, 72, 90]}\n",
    "input_dic_2 = {\"happy_number\":[1, 7, 10, 13, 19, 23, 28, 31, 32]}"
   ]
  },
  {
   "cell_type": "code",
   "execution_count": null,
   "id": "015c33e9",
   "metadata": {},
   "outputs": [],
   "source": [
    "mergingDic(input_dic_1, input_dic_2)"
   ]
  },
  {
   "cell_type": "markdown",
   "id": "0b9f8537",
   "metadata": {},
   "source": [
    "### 4. Write a Python program to convert key-values list to flat dictionary?\n",
    "Ans:"
   ]
  },
  {
   "cell_type": "code",
   "execution_count": null,
   "id": "a70c922d",
   "metadata": {},
   "outputs": [],
   "source": [
    "keys = [\"a\", \"b\", \"c\", \"d\"]\n",
    "values = [1, 2, 3, 4]"
   ]
  },
  {
   "cell_type": "code",
   "execution_count": null,
   "id": "3a42ecc4",
   "metadata": {},
   "outputs": [],
   "source": [
    "def convertToflat_dic(keys, values):\n",
    "    flat_dic = {}\n",
    "    for k, v in zip(keys, values):\n",
    "        flat_dic[k] = v\n",
    "    return flat_dic"
   ]
  },
  {
   "cell_type": "code",
   "execution_count": null,
   "id": "12cf61c0",
   "metadata": {},
   "outputs": [],
   "source": [
    "convertToflat_dic(keys, values)"
   ]
  },
  {
   "cell_type": "markdown",
   "id": "e2906a9f",
   "metadata": {},
   "source": [
    "### 5. Write a Python program to insertion at the beginning in OrderedDict?\n",
    "Ans:"
   ]
  },
  {
   "cell_type": "code",
   "execution_count": null,
   "id": "5f04b18a",
   "metadata": {},
   "outputs": [],
   "source": [
    "test_dic_1 = {\"a\": 5, \"b\":10, \"c\":20}\n",
    "test_dic_2 = {\"z\":1}"
   ]
  },
  {
   "cell_type": "code",
   "execution_count": null,
   "id": "c34e62bd",
   "metadata": {},
   "outputs": [],
   "source": [
    "from collections import OrderedDict"
   ]
  },
  {
   "cell_type": "code",
   "execution_count": null,
   "id": "0aa8652d",
   "metadata": {},
   "outputs": [],
   "source": [
    "inserted_dic = OrderedDict(list(test_dic_2.items())+list(test_dic_1.items()))"
   ]
  },
  {
   "cell_type": "code",
   "execution_count": null,
   "id": "2a09fb03",
   "metadata": {},
   "outputs": [],
   "source": [
    "inserted_dic"
   ]
  },
  {
   "cell_type": "markdown",
   "id": "193ddeda",
   "metadata": {},
   "source": [
    "### 6. Write a Python program to check order of character in string using OrderedDict()?\n",
    "Ans:"
   ]
  },
  {
   "cell_type": "code",
   "execution_count": 24,
   "id": "64803e4f",
   "metadata": {},
   "outputs": [],
   "source": [
    "from collections import OrderedDict\n",
    "def isOrderdin_char(input_string, pattern):\n",
    "    index = 0\n",
    "    # Need a value to create key value pair\n",
    "    one_value = [1]*len(input_string)\n",
    "    orderd_dic = OrderedDict(zip(list(input_string),one_value))\n",
    "    for i in orderd_dic.keys():\n",
    "        #import pdb; pdb.set_trace()\n",
    "        if i == pattern[index]:\n",
    "            index += 1\n",
    "            if index ==len(pattern):\n",
    "                return True\n",
    "    \n",
    "    if index == len(pattern):\n",
    "        return True\n",
    "    else:\n",
    "        return False\n"
   ]
  },
  {
   "cell_type": "code",
   "execution_count": 29,
   "id": "cf14a1f3",
   "metadata": {},
   "outputs": [],
   "source": [
    "input_string = \"“Sometimes you gotta run before you can walk”\""
   ]
  },
  {
   "cell_type": "code",
   "execution_count": 30,
   "id": "eff67ea5",
   "metadata": {},
   "outputs": [
    {
     "data": {
      "text/plain": [
       "True"
      ]
     },
     "execution_count": 30,
     "metadata": {},
     "output_type": "execute_result"
    }
   ],
   "source": [
    "isOrderdin_char(input_string, \"om\")"
   ]
  },
  {
   "cell_type": "code",
   "execution_count": 31,
   "id": "86a18bf5",
   "metadata": {},
   "outputs": [
    {
     "data": {
      "text/plain": [
       "True"
      ]
     },
     "execution_count": 31,
     "metadata": {},
     "output_type": "execute_result"
    }
   ],
   "source": [
    "isOrderdin_char(input_string, \"sr\")"
   ]
  },
  {
   "cell_type": "code",
   "execution_count": 32,
   "id": "695e1f6d",
   "metadata": {},
   "outputs": [
    {
     "data": {
      "text/plain": [
       "False"
      ]
     },
     "execution_count": 32,
     "metadata": {},
     "output_type": "execute_result"
    }
   ],
   "source": [
    "isOrderdin_char(input_string, \"yo\")"
   ]
  },
  {
   "cell_type": "code",
   "execution_count": null,
   "id": "01cddabd",
   "metadata": {},
   "outputs": [],
   "source": []
  },
  {
   "cell_type": "code",
   "execution_count": null,
   "id": "c2faa52a",
   "metadata": {},
   "outputs": [],
   "source": []
  }
 ],
 "metadata": {
  "kernelspec": {
   "display_name": "Python 3",
   "language": "python",
   "name": "python3"
  },
  "language_info": {
   "codemirror_mode": {
    "name": "ipython",
    "version": 3
   },
   "file_extension": ".py",
   "mimetype": "text/x-python",
   "name": "python",
   "nbconvert_exporter": "python",
   "pygments_lexer": "ipython3",
   "version": "3.8.8"
  }
 },
 "nbformat": 4,
 "nbformat_minor": 5
}
