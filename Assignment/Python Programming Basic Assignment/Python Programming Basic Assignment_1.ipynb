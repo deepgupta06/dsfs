{
 "cells": [
  {
   "cell_type": "markdown",
   "id": "4da079f2",
   "metadata": {},
   "source": [
    "# Python Programming Basic Assignment_1\n"
   ]
  },
  {
   "cell_type": "markdown",
   "id": "fd1cd2c5",
   "metadata": {},
   "source": [
    "### 1. Write a Python program to print &quot;Hello Python&quot;?\n",
    "Ans:"
   ]
  },
  {
   "cell_type": "code",
   "execution_count": 1,
   "id": "2b68e95f",
   "metadata": {},
   "outputs": [
    {
     "name": "stdout",
     "output_type": "stream",
     "text": [
      "Hello Python\n"
     ]
    }
   ],
   "source": [
    "print(\"Hello Python\")"
   ]
  },
  {
   "cell_type": "markdown",
   "id": "17272d98",
   "metadata": {},
   "source": [
    "### 2. Write a Python program to do arithmetical operations addition and division.?\n",
    "Ans:"
   ]
  },
  {
   "cell_type": "code",
   "execution_count": 2,
   "id": "afb9a01f",
   "metadata": {},
   "outputs": [],
   "source": [
    "def addition(a, b):\n",
    "    result = a + b\n",
    "    print(\"Addition Operation\")\n",
    "    print(f\"a={a}\\nb={b}\\na+b={result}\")\n",
    "\n",
    "def division(a, b):\n",
    "    result = a / b\n",
    "    print(\"Division Operation\")\n",
    "    print(f\"a={a}\\nb={b}\\na/b={result}\")\n",
    "    \n",
    "def subtraction(a, b):\n",
    "    result = a - b\n",
    "    print(\"Subtraction Operation\")\n",
    "    print(f\"a={a}\\nb={b}\\na-b={result}\")\n",
    "    \n",
    "def multiplication(a, b):\n",
    "    result = a * b\n",
    "    print(\"Multiplication Operation\")\n",
    "    print(f\"a={a}\\nb={b}\\na*b={result}\")\n",
    "    "
   ]
  },
  {
   "cell_type": "code",
   "execution_count": 3,
   "id": "594ea237",
   "metadata": {},
   "outputs": [
    {
     "name": "stdout",
     "output_type": "stream",
     "text": [
      "Addition Operation\n",
      "a=1\n",
      "b=2\n",
      "a+b=3\n",
      "Subtraction Operation\n",
      "a=5.4\n",
      "b=6.7\n",
      "a-b=-1.2999999999999998\n",
      "Division Operation\n",
      "a=4\n",
      "b=5\n",
      "a/b=0.8\n",
      "Multiplication Operation\n",
      "a=32\n",
      "b=44\n",
      "a*b=1408\n"
     ]
    }
   ],
   "source": [
    "addition(1,2)\n",
    "subtraction(5.4,6.7)\n",
    "division(4,5)\n",
    "multiplication(32,44)"
   ]
  },
  {
   "cell_type": "markdown",
   "id": "e623bb4c",
   "metadata": {},
   "source": [
    "### 3. Write a Python program to find the area of a triangle?\n",
    "Ans"
   ]
  },
  {
   "cell_type": "code",
   "execution_count": 4,
   "id": "8754727c",
   "metadata": {},
   "outputs": [],
   "source": [
    "def triangleArea(a,b,c):\n",
    "    \"\"\"a,b,c is the side of triangle \\narea = √(s * (s - a) * (s - b) * (s - c))\\ns is the semiperimeter\"\"\"\n",
    "    s = (a+b+c)/2\n",
    "    area = ((s*(s-a)*(s-b)*(s-c)))**0.5\n",
    "    print(f\"Triangle Area:{area}\")"
   ]
  },
  {
   "cell_type": "code",
   "execution_count": 5,
   "id": "6f340f77",
   "metadata": {},
   "outputs": [
    {
     "name": "stdout",
     "output_type": "stream",
     "text": [
      "Triangle Area:2.9047375096555625\n"
     ]
    }
   ],
   "source": [
    "triangleArea(2,3,4)"
   ]
  },
  {
   "cell_type": "markdown",
   "id": "50f293be",
   "metadata": {},
   "source": [
    "### 4. Write a Python program to swap two variables?\n",
    "Ans:"
   ]
  },
  {
   "cell_type": "code",
   "execution_count": 6,
   "id": "48d36d58",
   "metadata": {},
   "outputs": [],
   "source": [
    "def swap(a,b):\n",
    "    print(f\"Input a={a} and b = {b}\")\n",
    "    c = a\n",
    "    a = b\n",
    "    b = c\n",
    "    print(f\"After swaping a={a} and b={b}\")"
   ]
  },
  {
   "cell_type": "code",
   "execution_count": 7,
   "id": "01bbfe70",
   "metadata": {},
   "outputs": [
    {
     "name": "stdout",
     "output_type": "stream",
     "text": [
      "Input a=2 and b = 5\n",
      "After swaping a=5 and b=2\n"
     ]
    }
   ],
   "source": [
    "swap(2,5)"
   ]
  },
  {
   "cell_type": "markdown",
   "id": "bd76ed08",
   "metadata": {},
   "source": [
    "### 5. Write a Python program to generate a random number?\n",
    "Ans:"
   ]
  },
  {
   "cell_type": "code",
   "execution_count": 20,
   "id": "6df86c9a",
   "metadata": {},
   "outputs": [],
   "source": [
    "import numpy as np\n",
    "def generateNumber(lower_level, higher_level):\n",
    "    return np.random.randint(lower_level,higher_level)\n",
    "    "
   ]
  },
  {
   "cell_type": "code",
   "execution_count": 24,
   "id": "608364bb",
   "metadata": {},
   "outputs": [
    {
     "data": {
      "text/plain": [
       "9"
      ]
     },
     "execution_count": 24,
     "metadata": {},
     "output_type": "execute_result"
    }
   ],
   "source": [
    "rand.generateNumber(2,10)"
   ]
  }
 ],
 "metadata": {
  "kernelspec": {
   "display_name": "Python 3 (ipykernel)",
   "language": "python",
   "name": "python3"
  },
  "language_info": {
   "codemirror_mode": {
    "name": "ipython",
    "version": 3
   },
   "file_extension": ".py",
   "mimetype": "text/x-python",
   "name": "python",
   "nbconvert_exporter": "python",
   "pygments_lexer": "ipython3",
   "version": "3.9.7"
  }
 },
 "nbformat": 4,
 "nbformat_minor": 5
}
