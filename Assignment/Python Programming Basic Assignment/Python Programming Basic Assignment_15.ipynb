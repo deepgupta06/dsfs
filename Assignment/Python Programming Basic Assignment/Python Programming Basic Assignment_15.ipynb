{
 "cells": [
  {
   "cell_type": "markdown",
   "id": "8e521316",
   "metadata": {},
   "source": [
    "# Python Programming Basic Assignment_15"
   ]
  },
  {
   "cell_type": "markdown",
   "id": "c2e03ddc",
   "metadata": {},
   "source": [
    "### 1. Write a function that stutters a word as if someone is struggling to read it. The first two letters are repeated twice with an ellipsis ... and space after each, and then the word is pronounced with a question mark ?.\n",
    "Examples\n",
    "stutter(\"incredible\") ➞ \"in... in... incredible?\"\n",
    "\n",
    "stutter(\"enthusiastic\") ➞ \"en... en... enthusiastic?\"\n",
    "\n",
    "stutter(\"outstanding\") ➞ \"ou... ou... outstanding?\"\n",
    "\n",
    "Hint :- Assume all input is in lower case and at least two characters long.\n"
   ]
  },
  {
   "cell_type": "code",
   "execution_count": 14,
   "id": "689350ad",
   "metadata": {},
   "outputs": [],
   "source": [
    "def stutter(input_string):\n",
    "    \n",
    "    return f\"{input_string[:2]}... {input_string[:2]}... {input_string}?\""
   ]
  },
  {
   "cell_type": "code",
   "execution_count": 15,
   "id": "cef3705e",
   "metadata": {},
   "outputs": [
    {
     "data": {
      "text/plain": [
       "'in... in... incredible?'"
      ]
     },
     "execution_count": 15,
     "metadata": {},
     "output_type": "execute_result"
    }
   ],
   "source": [
    "stutter(\"incredible\")"
   ]
  },
  {
   "cell_type": "code",
   "execution_count": 16,
   "id": "ab22817b",
   "metadata": {},
   "outputs": [
    {
     "data": {
      "text/plain": [
       "'en... en... enthusiastic?'"
      ]
     },
     "execution_count": 16,
     "metadata": {},
     "output_type": "execute_result"
    }
   ],
   "source": [
    "stutter(\"enthusiastic\")"
   ]
  },
  {
   "cell_type": "code",
   "execution_count": 17,
   "id": "93995b58",
   "metadata": {},
   "outputs": [
    {
     "data": {
      "text/plain": [
       "'ou... ou... outstanding?'"
      ]
     },
     "execution_count": 17,
     "metadata": {},
     "output_type": "execute_result"
    }
   ],
   "source": [
    "stutter(\"outstanding\")"
   ]
  },
  {
   "cell_type": "markdown",
   "id": "b3e85f41",
   "metadata": {},
   "source": [
    "### 2. Create a function that takes an angle in radians and returns the corresponding angle in degrees rounded to one decimal place.\n",
    "Examples\n",
    "radians_to_degrees(1) ➞ 57.3\n",
    "\n",
    "radians_to_degrees(20) ➞ 1145.9\n",
    "\n",
    "radians_to_degrees(50) ➞ 2864.8\n"
   ]
  },
  {
   "cell_type": "code",
   "execution_count": 25,
   "id": "6937097e",
   "metadata": {},
   "outputs": [],
   "source": [
    "def radians_to_degrees(angle_in_radian):\n",
    "    \"\"\"This function will take angel in radian as an input and return a value after conversion it in degree.\n",
    "    We know 1radian=57.296degree\"\"\"\n",
    "    return round(angle_in_radian*57.296, 1)\n",
    "    "
   ]
  },
  {
   "cell_type": "code",
   "execution_count": 26,
   "id": "0bb49774",
   "metadata": {},
   "outputs": [
    {
     "data": {
      "text/plain": [
       "57.3"
      ]
     },
     "execution_count": 26,
     "metadata": {},
     "output_type": "execute_result"
    }
   ],
   "source": [
    "radians_to_degrees(1)"
   ]
  },
  {
   "cell_type": "code",
   "execution_count": 27,
   "id": "90218cf4",
   "metadata": {},
   "outputs": [
    {
     "data": {
      "text/plain": [
       "1145.9"
      ]
     },
     "execution_count": 27,
     "metadata": {},
     "output_type": "execute_result"
    }
   ],
   "source": [
    "radians_to_degrees(20)"
   ]
  },
  {
   "cell_type": "code",
   "execution_count": 28,
   "id": "eab61153",
   "metadata": {},
   "outputs": [
    {
     "data": {
      "text/plain": [
       "2864.8"
      ]
     },
     "execution_count": 28,
     "metadata": {},
     "output_type": "execute_result"
    }
   ],
   "source": [
    "radians_to_degrees(50)"
   ]
  },
  {
   "cell_type": "code",
   "execution_count": 31,
   "id": "7386eb91",
   "metadata": {},
   "outputs": [
    {
     "data": {
      "text/plain": [
       "859.4"
      ]
     },
     "execution_count": 31,
     "metadata": {},
     "output_type": "execute_result"
    }
   ],
   "source": [
    "radians_to_degrees(15)"
   ]
  },
  {
   "cell_type": "markdown",
   "id": "16964578",
   "metadata": {},
   "source": [
    "### 3. In this challenge, establish if a given integer num is a Curzon number. If 1 plus 2 elevated to num is exactly divisible by 1 plus 2 multiplied by num, then num is a Curzon number.\n",
    "Given a non-negative integer num, implement a function that returns True if num is a Curzon number, or False otherwise.\n",
    "Examples\n",
    "is_curzon(5) ➞ True\n",
    "<p># 2 ** 5 + 1 = 33</p>\n",
    "<p># 2 * 5 + 1 = 11</p>\n",
    "<p># 33 is a multiple of 11</p>\n",
    "\n",
    "is_curzon(10) ➞ False\n",
    "<p># 2 ** 10 + 1 = 1025</p>\n",
    "<p># 2 * 10 + 1 = 21</p>\n",
    "<p># 1025 is not a multiple of 21</p>\n",
    "\n",
    "is_curzon(14) ➞ True\n",
    "<p># 2 ** 14 + 1 = 16385</p>\n",
    "<p># 2 * 14 + 1 = 29</p>\n",
    "<p># 16385 is a multiple of 29</p>\n",
    "</p>"
   ]
  },
  {
   "cell_type": "markdown",
   "id": "c7db411d",
   "metadata": {},
   "source": [
    " 2^N + 1 is divisible by 2*N + 1."
   ]
  },
  {
   "cell_type": "code",
   "execution_count": 42,
   "id": "872fba7d",
   "metadata": {},
   "outputs": [],
   "source": [
    "def is_curzon(input_number):\n",
    "    \"\"\"This function will take a number and return True if the number is a curzon number and False if not. \n",
    "    The Curzon numbers to be those  n  for which  2n+1  divides  2^n+1.\"\"\"\n",
    "    sum_for_cuzon = (2**input_number)+1\n",
    "    divider = (2*input_number)+1\n",
    "    if sum_for_cuzon%divider==0:\n",
    "        return True\n",
    "    else:\n",
    "        return False"
   ]
  },
  {
   "cell_type": "code",
   "execution_count": 43,
   "id": "6174b13f",
   "metadata": {},
   "outputs": [
    {
     "data": {
      "text/plain": [
       "False"
      ]
     },
     "execution_count": 43,
     "metadata": {},
     "output_type": "execute_result"
    }
   ],
   "source": [
    "is_curzon(10)"
   ]
  },
  {
   "cell_type": "markdown",
   "id": "4d5b0240",
   "metadata": {},
   "source": [
    "#### This function will return a list of curzon number of a given range"
   ]
  },
  {
   "cell_type": "code",
   "execution_count": 38,
   "id": "16cbc7d7",
   "metadata": {},
   "outputs": [],
   "source": [
    "def get_curzon(starting_range, ending_rang):\n",
    "    curzon_number_list = []\n",
    "    for i in range(starting_range,ending_rang):\n",
    "        if is_curzon(i):\n",
    "            curzon_number_list.append(i)\n",
    "    return curzon_number_list"
   ]
  },
  {
   "cell_type": "code",
   "execution_count": 40,
   "id": "59f6ae32",
   "metadata": {},
   "outputs": [
    {
     "name": "stdout",
     "output_type": "stream",
     "text": [
      "[0, 1, 2, 5, 6, 9, 14, 18, 21, 26, 29, 30, 33, 41, 50, 53, 54, 65, 69, 74, 78, 81, 86, 89, 90, 98]\n"
     ]
    }
   ],
   "source": [
    "print(get_curzon(0,100))"
   ]
  },
  {
   "cell_type": "markdown",
   "id": "36c0fcc8",
   "metadata": {},
   "source": [
    "### 4. Given the side length x find the area of a hexagon.\n",
    "<img src=\"https://www.wikihow.com/images/thumb/c/c4/Calculate-the-Area-of-a-Hexagon-Step-1-Version-5.jpg/aid929013-v4-728px-Calculate-the-Area-of-a-Hexagon-Step-1-Version-5.jpg.webp\"></img>\n",
    "Examples\n",
    "area_of_hexagon(1) ➞ 2.6\n",
    "\n",
    "area_of_hexagon(2) ➞ 10.4\n",
    "\n",
    "area_of_hexagon(3) ➞ 23.4\n"
   ]
  },
  {
   "cell_type": "code",
   "execution_count": 46,
   "id": "938a15b9",
   "metadata": {},
   "outputs": [],
   "source": [
    "def area_of_hexagon(side_length):\n",
    "    area = (3*(1.732)*(side_length**2))/2\n",
    "    return round(area,1)"
   ]
  },
  {
   "cell_type": "code",
   "execution_count": 47,
   "id": "b0345679",
   "metadata": {},
   "outputs": [
    {
     "data": {
      "text/plain": [
       "2.6"
      ]
     },
     "execution_count": 47,
     "metadata": {},
     "output_type": "execute_result"
    }
   ],
   "source": [
    "area_of_hexagon(1)"
   ]
  },
  {
   "cell_type": "code",
   "execution_count": 48,
   "id": "8acebc23",
   "metadata": {},
   "outputs": [
    {
     "data": {
      "text/plain": [
       "10.4"
      ]
     },
     "execution_count": 48,
     "metadata": {},
     "output_type": "execute_result"
    }
   ],
   "source": [
    "area_of_hexagon(2)"
   ]
  },
  {
   "cell_type": "code",
   "execution_count": 49,
   "id": "c2f534a1",
   "metadata": {},
   "outputs": [
    {
     "data": {
      "text/plain": [
       "23.4"
      ]
     },
     "execution_count": 49,
     "metadata": {},
     "output_type": "execute_result"
    }
   ],
   "source": [
    "area_of_hexagon(3)"
   ]
  },
  {
   "cell_type": "markdown",
   "id": "679c943a",
   "metadata": {},
   "source": [
    "### 5. Create a function that returns a base-2 (binary) representation of a base-10 (decimal) string number. To convert is simple: ((2) means base-2 and (10) means base-10) 010101001(2) = 1 + 8 + 32 + 128.\n",
    "Going from right to left, the value of the most right bit is 1, now from that every bit to the left will be x2 the value, value of an 8 bit binary numbers are (256, 128, 64, 32, 16, 8, 4, 2, 1).\n",
    "Examples\n",
    "\n",
    "binary(1) ➞ \"1\"\n",
    "\n",
    "<p># 1*1 = 1</p>\n",
    "\n",
    "binary(5) ➞ \"101\"\n",
    "\n",
    "<p># 1*1 + 1*4 = 5</p>\n",
    "\n",
    "binary(10) ➞ \"1010\"\n",
    "\n",
    "<p># 1*2 + 1*8 = 10</p>\n"
   ]
  },
  {
   "cell_type": "code",
   "execution_count": 85,
   "id": "4dec0cb6",
   "metadata": {},
   "outputs": [],
   "source": [
    "def binary(num):\n",
    "    qu = num\n",
    "    list_=[]\n",
    "    \n",
    "    binary_digit = [\"0\", \"1\"]\n",
    "    \n",
    "    conversion_value = {\"bin\":{\"base\":2, \"digit\":binary_digit}}\n",
    "    \n",
    "    while qu > 1:\n",
    "        reminder = qu%2\n",
    "        qu = int(qu/2)\n",
    "        list_.append(conversion_value[\"bin\"][\"digit\"][reminder])\n",
    "    list_.append(conversion_value[\"bin\"][\"digit\"][qu])\n",
    "    print(\"\".join(list_[::-1]))\n",
    "    return \"\".join(list_[::-1])"
   ]
  },
  {
   "cell_type": "code",
   "execution_count": 87,
   "id": "9078b166",
   "metadata": {},
   "outputs": [
    {
     "name": "stdout",
     "output_type": "stream",
     "text": [
      "1\n"
     ]
    },
    {
     "data": {
      "text/plain": [
       "'1'"
      ]
     },
     "execution_count": 87,
     "metadata": {},
     "output_type": "execute_result"
    }
   ],
   "source": [
    "binary(1)"
   ]
  },
  {
   "cell_type": "code",
   "execution_count": 88,
   "id": "82b00707",
   "metadata": {},
   "outputs": [
    {
     "name": "stdout",
     "output_type": "stream",
     "text": [
      "1010\n"
     ]
    },
    {
     "data": {
      "text/plain": [
       "'1010'"
      ]
     },
     "execution_count": 88,
     "metadata": {},
     "output_type": "execute_result"
    }
   ],
   "source": [
    "binary(10)"
   ]
  },
  {
   "cell_type": "code",
   "execution_count": 89,
   "id": "ba4db0d1",
   "metadata": {},
   "outputs": [
    {
     "name": "stdout",
     "output_type": "stream",
     "text": [
      "10100\n"
     ]
    },
    {
     "data": {
      "text/plain": [
       "'10100'"
      ]
     },
     "execution_count": 89,
     "metadata": {},
     "output_type": "execute_result"
    }
   ],
   "source": [
    "binary(20)"
   ]
  },
  {
   "cell_type": "code",
   "execution_count": 83,
   "id": "33603d58",
   "metadata": {},
   "outputs": [],
   "source": [
    "binary_number = \"1010\"\n",
    "def print_expression(binary_string):\n",
    "    value_of_binary = [256, 128, 64, 32, 16, 8, 4, 2, 1]\n",
    "    checking_list = []\n",
    "    expression_string = \"\"\n",
    "    for i in range(len(binary_string)):\n",
    "        checking_digit = int(binary_string[::-1][i])*value_of_binary[::-1][i] \n",
    "        if checking_digit !=0:\n",
    "            checking_list.append(checking_digit)\n",
    "            expression_string += f\"1*{value_of_binary[::-1][i]}+\"\n",
    "    expression_string = expression_string[:len(expression_string)-1]\n",
    "    expression_string = expression_string +f\"={sum(checking_list)}\"\n",
    "    print(expression_string)"
   ]
  },
  {
   "cell_type": "code",
   "execution_count": 90,
   "id": "24a020c2",
   "metadata": {},
   "outputs": [
    {
     "name": "stdout",
     "output_type": "stream",
     "text": [
      "1\n",
      "1*1=1\n"
     ]
    }
   ],
   "source": [
    "print_expression(binary(1))"
   ]
  },
  {
   "cell_type": "code",
   "execution_count": 91,
   "id": "e0daa860",
   "metadata": {},
   "outputs": [
    {
     "name": "stdout",
     "output_type": "stream",
     "text": [
      "1010\n",
      "1*2+1*8=10\n"
     ]
    }
   ],
   "source": [
    "print_expression(binary(10))"
   ]
  },
  {
   "cell_type": "code",
   "execution_count": 92,
   "id": "59d1fbe7",
   "metadata": {},
   "outputs": [
    {
     "name": "stdout",
     "output_type": "stream",
     "text": [
      "10100\n",
      "1*4+1*16=20\n"
     ]
    }
   ],
   "source": [
    "print_expression(binary(20))"
   ]
  },
  {
   "cell_type": "code",
   "execution_count": 93,
   "id": "fdee96c5",
   "metadata": {},
   "outputs": [
    {
     "name": "stdout",
     "output_type": "stream",
     "text": [
      "10101001\n",
      "1*1+1*8+1*32+1*128=169\n"
     ]
    }
   ],
   "source": [
    "print_expression(binary(169))"
   ]
  },
  {
   "cell_type": "code",
   "execution_count": null,
   "id": "287f18e1",
   "metadata": {},
   "outputs": [],
   "source": []
  }
 ],
 "metadata": {
  "kernelspec": {
   "display_name": "Python 3",
   "language": "python",
   "name": "python3"
  },
  "language_info": {
   "codemirror_mode": {
    "name": "ipython",
    "version": 3
   },
   "file_extension": ".py",
   "mimetype": "text/x-python",
   "name": "python",
   "nbconvert_exporter": "python",
   "pygments_lexer": "ipython3",
   "version": "3.8.8"
  }
 },
 "nbformat": 4,
 "nbformat_minor": 5
}
