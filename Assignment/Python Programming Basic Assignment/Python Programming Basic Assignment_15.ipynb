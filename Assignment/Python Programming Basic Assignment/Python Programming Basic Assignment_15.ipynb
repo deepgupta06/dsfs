{
 "cells": [
  {
   "cell_type": "markdown",
   "id": "68943b5c",
   "metadata": {},
   "source": [
    "# Python Programming Basic Assignment_15"
   ]
  },
  {
   "cell_type": "markdown",
   "id": "e68a0212",
   "metadata": {},
   "source": [
    "### 1. Please write a program using generator to print the numbers which can be divisible by 5 and 7 between 0 and n in comma separated form while n is input by console.\n",
    "Example:\n",
    "\n",
    "If the following n is given as input to the program:\n",
    "\n",
    "100\n",
    "\n",
    "Then, the output of the program should be:\n",
    "\n",
    "0,35,70\n"
   ]
  },
  {
   "cell_type": "code",
   "execution_count": 1,
   "id": "8d70207c",
   "metadata": {},
   "outputs": [],
   "source": [
    "def number_generator(n):\n",
    "    \"\"\"This function will take a real integer number as input and as \n",
    "    output it will generate a divisible by 5 and 7.\n",
    "    LCM of 5 and 7 is 35\"\"\"\n",
    "    for i in range(0,n,35):\n",
    "        yield i"
   ]
  },
  {
   "cell_type": "code",
   "execution_count": 2,
   "id": "71cfc1d6",
   "metadata": {},
   "outputs": [
    {
     "name": "stdout",
     "output_type": "stream",
     "text": [
      "Enter the value of n:100\n"
     ]
    },
    {
     "data": {
      "text/plain": [
       "'0,35,70'"
      ]
     },
     "execution_count": 2,
     "metadata": {},
     "output_type": "execute_result"
    }
   ],
   "source": [
    "n = int(input(\"Enter the value of n:\"))\n",
    "output = \"\"\n",
    "for i in number_generator(n):\n",
    "    output += str(i)+\" \"\n",
    "output.strip().replace(\" \",\",\")    "
   ]
  },
  {
   "cell_type": "markdown",
   "id": "e666c02a",
   "metadata": {},
   "source": [
    "### 2. Please write a program using generator to print the even numbers between 0 and n in comma separated form while n is input by console.\n",
    "Example:\n",
    "\n",
    "If the following n is given as input to the program:\n",
    "\n",
    "10\n",
    "\n",
    "Then, the output of the program should be:\n",
    "\n",
    "0,2,4,6,8,10\n"
   ]
  },
  {
   "cell_type": "code",
   "execution_count": 3,
   "id": "b88e9a5b",
   "metadata": {},
   "outputs": [],
   "source": [
    "def even_number_generator(n):\n",
    "    \"\"\"This function will take a real integer number as input and as \n",
    "    output it will generate a iterator object of even number. \"\"\"\n",
    "    for i in range(0,n+1,2):\n",
    "        yield i"
   ]
  },
  {
   "cell_type": "code",
   "execution_count": 4,
   "id": "e8c79b18",
   "metadata": {},
   "outputs": [
    {
     "name": "stdout",
     "output_type": "stream",
     "text": [
      "Enter the value of n:10\n"
     ]
    }
   ],
   "source": [
    "n = int(input(\"Enter the value of n:\"))\n",
    "output = \"\"\n",
    "for i in even_number_generator(n):\n",
    "    output += str(i)+\" \"\n",
    "output= output.strip().replace(\" \", \",\")"
   ]
  },
  {
   "cell_type": "code",
   "execution_count": 5,
   "id": "4db3c346",
   "metadata": {},
   "outputs": [
    {
     "data": {
      "text/plain": [
       "'0,2,4,6,8,10'"
      ]
     },
     "execution_count": 5,
     "metadata": {},
     "output_type": "execute_result"
    }
   ],
   "source": [
    "output"
   ]
  },
  {
   "cell_type": "markdown",
   "id": "4c37ed78",
   "metadata": {},
   "source": [
    "### 3. The Fibonacci Sequence is computed based on the following formula:\n",
    "f(n)=0 if n=0\n",
    "\n",
    "f(n)=1 if n=1\n",
    "\n",
    "f(n)=f(n-1)+f(n-2) if n>1\n",
    "\n",
    "Please write a program using list comprehension to print the Fibonacci Sequence in comma separated form with a given n input by console.\n",
    "\n",
    "Example:\n",
    "\n",
    "If the following n is given as input to the program:\n",
    "\n",
    "7\n",
    "\n",
    "Then, the output of the program should be:\n",
    "\n",
    "0,1,1,2,3,5,8,13\n"
   ]
  },
  {
   "cell_type": "code",
   "execution_count": 6,
   "id": "168cf194",
   "metadata": {},
   "outputs": [],
   "source": [
    "def print_fibonacci_sequence(nth):\n",
    "    \"\"\"This function will take a integer number as input and it will print the first nth number of fibonacci sequence.\"\"\"\n",
    "    fibonacci_sequence = [0,1]\n",
    "    [fibonacci_sequence.append(fibonacci_sequence[x]+fibonacci_sequence[x+1]) for x in range(0,nth-2)]\n",
    "    output = \"\"\n",
    "    for element in fibonacci_sequence:\n",
    "        output += str(element)+\" \"\n",
    "    print(output.strip().replace(\" \",\",\"))"
   ]
  },
  {
   "cell_type": "code",
   "execution_count": 7,
   "id": "a5189a40",
   "metadata": {},
   "outputs": [
    {
     "name": "stdout",
     "output_type": "stream",
     "text": [
      "0,1,1,2,3,5,8\n"
     ]
    }
   ],
   "source": [
    "print_fibonacci_sequence(7)"
   ]
  },
  {
   "cell_type": "markdown",
   "id": "c68f7848",
   "metadata": {},
   "source": [
    "### 4. Assuming that we have some email addresses in the \"username@companyname.com\" format, please write program to print the user name of a given email address. Both user names and company names are composed of letters only.\n",
    "Example:\n",
    "\n",
    "If the following email address is given as input to the program:\n",
    "\n",
    "john@google.com\n",
    "\n",
    "Then, the output of the program should be:\n",
    "\n",
    "john\n"
   ]
  },
  {
   "cell_type": "code",
   "execution_count": 8,
   "id": "8aca4c1e",
   "metadata": {},
   "outputs": [],
   "source": [
    "def get_username(email_id):\n",
    "    return email_id.split(\"@\")[0]"
   ]
  },
  {
   "cell_type": "code",
   "execution_count": 9,
   "id": "9352d75c",
   "metadata": {},
   "outputs": [
    {
     "data": {
      "text/plain": [
       "'username'"
      ]
     },
     "execution_count": 9,
     "metadata": {},
     "output_type": "execute_result"
    }
   ],
   "source": [
    "email_id = \"username@companyname.com\"\n",
    "get_username(email_id)"
   ]
  },
  {
   "cell_type": "code",
   "execution_count": 10,
   "id": "d356c396",
   "metadata": {},
   "outputs": [
    {
     "data": {
      "text/plain": [
       "'mark'"
      ]
     },
     "execution_count": 10,
     "metadata": {},
     "output_type": "execute_result"
    }
   ],
   "source": [
    "email_id = \"mark@facebook.com\"\n",
    "get_username(email_id)"
   ]
  },
  {
   "cell_type": "markdown",
   "id": "eeb22737",
   "metadata": {},
   "source": [
    "### 5. Define a class named Shape and its subclass Square. The Square class has an init function which takes a length as argument. Both classes have a area function which can print the area of the shape where Shape's area is 0 by default."
   ]
  },
  {
   "cell_type": "code",
   "execution_count": 11,
   "id": "f1eeaaa6",
   "metadata": {},
   "outputs": [],
   "source": [
    "class Shape:\n",
    "    def area():\n",
    "        area_ = 0\n",
    "        print(area_)\n",
    "    \n",
    "class Squre(Shape):\n",
    "    def __init__(self, length):\n",
    "        self.length = length\n",
    "    \n",
    "    def area(self):\n",
    "        print(self.length*self.length)\n",
    "    "
   ]
  },
  {
   "cell_type": "code",
   "execution_count": 12,
   "id": "76a8d14b",
   "metadata": {},
   "outputs": [
    {
     "name": "stdout",
     "output_type": "stream",
     "text": [
      "0\n"
     ]
    }
   ],
   "source": [
    "Shape.area()"
   ]
  },
  {
   "cell_type": "code",
   "execution_count": 13,
   "id": "2925d3ba",
   "metadata": {},
   "outputs": [
    {
     "name": "stdout",
     "output_type": "stream",
     "text": [
      "4\n"
     ]
    }
   ],
   "source": [
    "Squre(2).area()"
   ]
  }
 ],
 "metadata": {
  "kernelspec": {
   "display_name": "Python 3",
   "language": "python",
   "name": "python3"
  },
  "language_info": {
   "codemirror_mode": {
    "name": "ipython",
    "version": 3
   },
   "file_extension": ".py",
   "mimetype": "text/x-python",
   "name": "python",
   "nbconvert_exporter": "python",
   "pygments_lexer": "ipython3",
   "version": "3.8.8"
  }
 },
 "nbformat": 4,
 "nbformat_minor": 5
}
