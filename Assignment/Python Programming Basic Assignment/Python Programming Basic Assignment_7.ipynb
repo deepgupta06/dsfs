{
 "cells": [
  {
   "cell_type": "markdown",
   "id": "60ae89e5",
   "metadata": {},
   "source": [
    "# Python Programming Basic Assignment_7"
   ]
  },
  {
   "cell_type": "markdown",
   "id": "ca88c7b3",
   "metadata": {},
   "source": [
    "### 1. Write a Python Program to find sum of array?\n",
    "Ans:"
   ]
  },
  {
   "cell_type": "code",
   "execution_count": 1,
   "id": "cd44115c",
   "metadata": {},
   "outputs": [],
   "source": [
    "def arr_sum(input_array):\n",
    "    return sum(input_array)"
   ]
  },
  {
   "cell_type": "code",
   "execution_count": 2,
   "id": "18c98180",
   "metadata": {},
   "outputs": [
    {
     "data": {
      "text/plain": [
       "6"
      ]
     },
     "execution_count": 2,
     "metadata": {},
     "output_type": "execute_result"
    }
   ],
   "source": [
    "a_list = [1,2,3]\n",
    "arr_sum(a_list)"
   ]
  },
  {
   "cell_type": "code",
   "execution_count": 3,
   "id": "249f2388",
   "metadata": {},
   "outputs": [
    {
     "data": {
      "text/plain": [
       "6"
      ]
     },
     "execution_count": 3,
     "metadata": {},
     "output_type": "execute_result"
    }
   ],
   "source": [
    "import numpy as np\n",
    "a_array = np.array(a_list)\n",
    "arr_sum(a_array)"
   ]
  },
  {
   "cell_type": "markdown",
   "id": "64ef66e7",
   "metadata": {},
   "source": [
    "### 2. Write a Python Program to find largest element in an array?\n",
    "Ans:"
   ]
  },
  {
   "cell_type": "code",
   "execution_count": 4,
   "id": "15915eee",
   "metadata": {},
   "outputs": [],
   "source": [
    "def max_in_array(input_array):\n",
    "    return max(input_array)"
   ]
  },
  {
   "cell_type": "code",
   "execution_count": 5,
   "id": "8e37d365",
   "metadata": {},
   "outputs": [
    {
     "data": {
      "text/plain": [
       "102"
      ]
     },
     "execution_count": 5,
     "metadata": {},
     "output_type": "execute_result"
    }
   ],
   "source": [
    "b_list = [49, 102, 1, 5]\n",
    "max_in_array(b_list)"
   ]
  },
  {
   "cell_type": "code",
   "execution_count": 6,
   "id": "b4d60d88",
   "metadata": {},
   "outputs": [
    {
     "data": {
      "text/plain": [
       "102"
      ]
     },
     "execution_count": 6,
     "metadata": {},
     "output_type": "execute_result"
    }
   ],
   "source": [
    "b_array = np.array(b_list)\n",
    "max_in_array(b_array)"
   ]
  },
  {
   "cell_type": "markdown",
   "id": "4a69e938",
   "metadata": {},
   "source": [
    "### 3. Write a Python Program for array rotation?\n",
    "Ans:"
   ]
  },
  {
   "cell_type": "code",
   "execution_count": 7,
   "id": "99c8ead0",
   "metadata": {},
   "outputs": [],
   "source": [
    "def arrayRotation(input_array, number_of_rotation):\n",
    "    for _ in range(number_of_rotation):\n",
    "        last_element = input_array[-1]\n",
    "        input_array = np.delete(input_array, len(a_array)-1)\n",
    "        input_array = np.insert(input_array, 0, last_element)\n",
    "    return input_array"
   ]
  },
  {
   "cell_type": "code",
   "execution_count": 8,
   "id": "9f3031b5",
   "metadata": {},
   "outputs": [
    {
     "data": {
      "text/plain": [
       "array([2, 3, 1])"
      ]
     },
     "execution_count": 8,
     "metadata": {},
     "output_type": "execute_result"
    }
   ],
   "source": [
    "arrayRotation(a_array, 2)"
   ]
  },
  {
   "cell_type": "markdown",
   "id": "a1c5116d",
   "metadata": {},
   "source": [
    "### 4. Write a Python Program to Split the array and add the first part to the end?\n",
    "Ans:"
   ]
  },
  {
   "cell_type": "code",
   "execution_count": 9,
   "id": "93ee5946",
   "metadata": {},
   "outputs": [],
   "source": [
    "def splitAdding(input_array, split_by = 2):\n",
    "    \"\"\"By default it will split the array in 2 part\"\"\"\n",
    "    splited_array = np.split(input_array, split_by)\n",
    "    first_part = splited_array[0]\n",
    "    last_part = splited_array[-1]\n",
    "    new_array = np.concatenate((last_part, first_part))\n",
    "    return new_array"
   ]
  },
  {
   "cell_type": "code",
   "execution_count": 10,
   "id": "a9b03403",
   "metadata": {},
   "outputs": [
    {
     "data": {
      "text/plain": [
       "array([[ 4, 44,  5, 55,  6,  5,  2,  1],\n",
       "       [ 4,  3,  2,  1,  1,  2,  3,  4],\n",
       "       [ 2,  3,  4,  5,  4,  3, 44, 55],\n",
       "       [ 1,  2,  3,  4,  5,  6,  7,  8]])"
      ]
     },
     "execution_count": 10,
     "metadata": {},
     "output_type": "execute_result"
    }
   ],
   "source": [
    "new_array = np.array([[2,3,4,5,4,3,44,55], [1,2,3,4,5,6,7,8], [4,44,5,55,6,5,2,1],[4,3,2,1,1,2,3,4]])\n",
    "splitAdding(new_array)"
   ]
  },
  {
   "cell_type": "markdown",
   "id": "ac514370",
   "metadata": {},
   "source": [
    "### 5. Write a Python Program to check if given array is Monotonic?\n",
    "Ans:"
   ]
  },
  {
   "cell_type": "code",
   "execution_count": 11,
   "id": "90ca4179",
   "metadata": {},
   "outputs": [],
   "source": [
    "def isMonotonic(input_array):\n",
    "    \n",
    "    def isMonotonic_inc():\n",
    "         for i in range(len(input_array)-1):\n",
    "            if input_array[i]<=input_array[i+1]:\n",
    "                monocheck_inc = True\n",
    "                if i==len(input_array)-2:\n",
    "                    return monocheck_inc\n",
    "            else:\n",
    "                monocheck_inc = False\n",
    "                return monocheck_inc\n",
    "    \n",
    "    def isMonotonic_dec():\n",
    "        for i in range(len(input_array)-1):\n",
    "            if input_array[i]>=input_array[i+1]:\n",
    "                monocheck_dec = True\n",
    "                if i == len(input_array)-2:\n",
    "                    return monocheck_dec\n",
    "            else:\n",
    "                monocheck_dec = False\n",
    "                return monocheck_dec\n",
    "            \n",
    "    if len(input_array)>1:\n",
    "        return isMonotonic_inc() or isMonotonic_dec()\n",
    "    else:\n",
    "        return True"
   ]
  },
  {
   "cell_type": "code",
   "execution_count": 12,
   "id": "0b8418bb",
   "metadata": {},
   "outputs": [],
   "source": [
    "a = [5]\n",
    "b= [1,2,3,4,5]\n",
    "c = [5,4,3,2,1]\n",
    "d = [5,6,4,3,1]"
   ]
  },
  {
   "cell_type": "code",
   "execution_count": 13,
   "id": "f9bb535d",
   "metadata": {},
   "outputs": [
    {
     "data": {
      "text/plain": [
       "True"
      ]
     },
     "execution_count": 13,
     "metadata": {},
     "output_type": "execute_result"
    }
   ],
   "source": [
    "isMonotonic(a)"
   ]
  },
  {
   "cell_type": "code",
   "execution_count": 14,
   "id": "56b2afb6",
   "metadata": {},
   "outputs": [
    {
     "data": {
      "text/plain": [
       "True"
      ]
     },
     "execution_count": 14,
     "metadata": {},
     "output_type": "execute_result"
    }
   ],
   "source": [
    "isMonotonic(b)"
   ]
  },
  {
   "cell_type": "code",
   "execution_count": 15,
   "id": "c48623a7",
   "metadata": {},
   "outputs": [
    {
     "data": {
      "text/plain": [
       "True"
      ]
     },
     "execution_count": 15,
     "metadata": {},
     "output_type": "execute_result"
    }
   ],
   "source": [
    "isMonotonic(c)"
   ]
  },
  {
   "cell_type": "code",
   "execution_count": 16,
   "id": "c3d96923",
   "metadata": {},
   "outputs": [
    {
     "data": {
      "text/plain": [
       "False"
      ]
     },
     "execution_count": 16,
     "metadata": {},
     "output_type": "execute_result"
    }
   ],
   "source": [
    "isMonotonic(d)"
   ]
  },
  {
   "cell_type": "code",
   "execution_count": null,
   "id": "27a53e52",
   "metadata": {},
   "outputs": [],
   "source": []
  }
 ],
 "metadata": {
  "kernelspec": {
   "display_name": "Python 3",
   "language": "python",
   "name": "python3"
  },
  "language_info": {
   "codemirror_mode": {
    "name": "ipython",
    "version": 3
   },
   "file_extension": ".py",
   "mimetype": "text/x-python",
   "name": "python",
   "nbconvert_exporter": "python",
   "pygments_lexer": "ipython3",
   "version": "3.8.8"
  }
 },
 "nbformat": 4,
 "nbformat_minor": 5
}
