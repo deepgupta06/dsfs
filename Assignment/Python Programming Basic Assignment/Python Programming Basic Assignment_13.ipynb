{
 "cells": [
  {
   "cell_type": "markdown",
   "id": "d6f0993a",
   "metadata": {},
   "source": [
    "# Python Programming Basic Assignment_13"
   ]
  },
  {
   "cell_type": "markdown",
   "id": "d9fcca7f",
   "metadata": {},
   "source": [
    "### 1. Write a program that calculates and prints the value according to the given formula:\n",
    "\n",
    "Q = Square root of [(2 * C * D)/H]\n",
    "Following are the fixed values of C and H, C is 50. H is 30.\n",
    "D is the variable whose values should be input to your program in a comma-separated sequence.\n",
    "\n",
    "Example\n",
    "Let us assume the following comma separated input sequence is given to the program:\n",
    " <p>>>100,150,180</p>\n",
    "The output of the program should be:\n",
    " <p>>>18, 22, 24</p>"
   ]
  },
  {
   "cell_type": "code",
   "execution_count": 20,
   "id": "50612717",
   "metadata": {},
   "outputs": [],
   "source": [
    "def calculate_value(input_list):\n",
    "    \"\"\"This is a function, which will take a list of integer as input and as output will return a list of values calculated from\n",
    "    the given formula:\n",
    "    Q = Square_root_of((2*C*D)/H) || Where C and H is fixed value, 50 and 30 respectively\"\"\"\n",
    "    temp_list = []\n",
    "    C = 50\n",
    "    H = 30\n",
    "    for D in input_list:\n",
    "        Q = ((2*C*D)/H)**0.5\n",
    "        temp_list.append(str(int(Q)))\n",
    "    return temp_list    "
   ]
  },
  {
   "cell_type": "code",
   "execution_count": 21,
   "id": "8d0df375",
   "metadata": {},
   "outputs": [
    {
     "name": "stdout",
     "output_type": "stream",
     "text": [
      "Enter comma separated values:100,150,180\n"
     ]
    },
    {
     "data": {
      "text/plain": [
       "'18,22,24'"
      ]
     },
     "execution_count": 21,
     "metadata": {},
     "output_type": "execute_result"
    }
   ],
   "source": [
    "input_list = list(map(int, input(\"Enter comma separated values:\").split(\",\")))\n",
    "calculated_list = calculate_value(input_list)\n",
    "output_format = \",\".join(calculated_list)\n",
    "output_format"
   ]
  },
  {
   "cell_type": "markdown",
   "id": "09a2bb1d",
   "metadata": {},
   "source": [
    "### 2. Write a program which takes 2 digits, X,Y as input and generates a 2-dimensional array. The element value in the i-th row and j-th column of the array should be i*j.\n",
    "\n",
    "Note: i=0,1.., X-1; j=0,1,¡¬Y-1.\n",
    "Example\n",
    "Suppose the following inputs are given to the program:\n",
    "<p>>>3,5</p>\n",
    "Then, the output of the program should be:\n",
    "<p>>>[[0, 0, 0, 0, 0], [0, 1, 2, 3, 4], [0, 2, 4, 6, 8]]</p>\n"
   ]
  },
  {
   "cell_type": "code",
   "execution_count": 45,
   "id": "deff0099",
   "metadata": {},
   "outputs": [],
   "source": [
    "def generate_2D_array(X, Y):\n",
    "    row_list = []\n",
    "    for col in range(X):\n",
    "        col_list = []\n",
    "        for row in range(Y):\n",
    "            value = row*col\n",
    "            col_list.append(value)\n",
    "        row_list.append(col_list)\n",
    "    return row_list"
   ]
  },
  {
   "cell_type": "code",
   "execution_count": 48,
   "id": "165b06d3",
   "metadata": {},
   "outputs": [
    {
     "name": "stdout",
     "output_type": "stream",
     "text": [
      "Enter X & Y value with comma separated:4,5\n"
     ]
    },
    {
     "data": {
      "text/plain": [
       "[[0, 0, 0, 0, 0], [0, 1, 2, 3, 4], [0, 2, 4, 6, 8], [0, 3, 6, 9, 12]]"
      ]
     },
     "execution_count": 48,
     "metadata": {},
     "output_type": "execute_result"
    }
   ],
   "source": [
    "input_xy = list(map(int, input(\"Enter X & Y value with comma separated:\").split(\",\")))\n",
    "X = input_xy[0]\n",
    "Y = input_xy[1]\n",
    "generate_2D_array(X,Y)"
   ]
  },
  {
   "cell_type": "markdown",
   "id": "e60b72a4",
   "metadata": {},
   "source": [
    "### 3. Write a program that accepts a comma separated sequence of words as input and prints the words in a comma-separated sequence after sorting them alphabetically.\n",
    "\n",
    "Suppose the following input is supplied to the program:\n",
    "<p>>>without,hello,bag,world</p>\n",
    "\n",
    "Then, the output should be:\n",
    "<p>>>bag,hello,without,world</p>\n",
    "\n"
   ]
  },
  {
   "cell_type": "code",
   "execution_count": 195,
   "id": "ba15c058",
   "metadata": {},
   "outputs": [],
   "source": [
    "def string_sorting(input_string):\n",
    "    \"\"\"This function will take a string with comma separated word and as a output it will return sorted comma separated word.\"\"\"\n",
    "    \n",
    "    #Storing the word in a list by spliting the string with split method\n",
    "    input_string_list = input_string.split(\",\")\n",
    "    sorted_list = sorted(input_string_list)\n",
    "    sorted_string = \",\".join(sorted_list)\n",
    "    return sorted_string"
   ]
  },
  {
   "cell_type": "code",
   "execution_count": 4,
   "id": "6f3e81f3",
   "metadata": {},
   "outputs": [
    {
     "name": "stdout",
     "output_type": "stream",
     "text": [
      "Enter comma separated word:my,name,is,deep,gupta\n"
     ]
    }
   ],
   "source": [
    "input_string = input(\"Enter comma separated word:\")"
   ]
  },
  {
   "cell_type": "code",
   "execution_count": 5,
   "id": "ced9f52b",
   "metadata": {},
   "outputs": [
    {
     "data": {
      "text/plain": [
       "'deep,gupta,is,my,name'"
      ]
     },
     "execution_count": 5,
     "metadata": {},
     "output_type": "execute_result"
    }
   ],
   "source": [
    "string_sorting(input_string)"
   ]
  },
  {
   "cell_type": "markdown",
   "id": "b45adabd",
   "metadata": {},
   "source": [
    "### 4. Write a program that accepts a sequence of whitespace separated words as input and prints the words after removing all duplicate words and sorting them alphanumerically.\n",
    "\n",
    "Suppose the following input is supplied to the program:\n",
    "\n",
    "<p>>>hello world and practice makes perfect and hello world again</p>\n",
    "\n",
    "Then, the output should be:\n",
    "\n",
    "<p>>>again and hello makes perfect practice world</p>\n"
   ]
  },
  {
   "cell_type": "code",
   "execution_count": 15,
   "id": "c8057d8a",
   "metadata": {},
   "outputs": [],
   "source": [
    "def sorting_and_removing(input_string):\n",
    "    \"\"\"This function will take a whitespace separeted string as input, \n",
    "    after removing the duplicate word it will return the string of sorted words.\"\"\"\n",
    "    \n",
    "    word_list = input_string.split()\n",
    "    removed_word = set(word_list)\n",
    "    removed_word = sorted(removed_word)\n",
    "    sorted_string = \" \".join(removed_word)\n",
    "    return sorted_string"
   ]
  },
  {
   "cell_type": "code",
   "execution_count": 20,
   "id": "00a9e566",
   "metadata": {},
   "outputs": [
    {
     "name": "stdout",
     "output_type": "stream",
     "text": [
      "Enter a string:hi what is your name\n"
     ]
    }
   ],
   "source": [
    "input_string = input(\"Enter a string:\")"
   ]
  },
  {
   "cell_type": "code",
   "execution_count": 21,
   "id": "f4affe0e",
   "metadata": {},
   "outputs": [
    {
     "data": {
      "text/plain": [
       "'hi is name what your'"
      ]
     },
     "execution_count": 21,
     "metadata": {},
     "output_type": "execute_result"
    }
   ],
   "source": [
    "sorting_and_removing(a)"
   ]
  },
  {
   "cell_type": "markdown",
   "id": "ce5244aa",
   "metadata": {},
   "source": [
    "### 5. Write a program that accepts a sentence and calculate the number of letters and digits.\n",
    "\n",
    "Suppose the following input is supplied to the program:\n",
    "\n",
    "<p>>>hello world! 123</p>\n",
    "\n",
    "Then, the output should be:\n",
    "\n",
    "<p>>>LETTERS 10\n",
    "DIGITS 3</p>\n",
    "\n",
    "\n"
   ]
  },
  {
   "cell_type": "code",
   "execution_count": 39,
   "id": "8e3efb8b",
   "metadata": {},
   "outputs": [],
   "source": [
    "def count_letter_digits(input_string):\n",
    "    \"\"\"This function will take a string as input and as a output it will return \"\"\"\n",
    "    letters = \"a b c d e f g h i j k l m n o p q r s t u v w x y z\"\n",
    "    letters_list = letters.upper().split() + letters.lower().split()\n",
    "    digit = \"1 2 3 4 5 6 7 8 9 0\"\n",
    "    digit_list = digit.split()\n",
    "    letter_count = 0\n",
    "    digit_count = 0\n",
    "    for i in input_string:\n",
    "        if i in letters_list:\n",
    "            letter_count +=1\n",
    "        elif i in digit_list:\n",
    "            digit_count += 1\n",
    "        else:\n",
    "            pass\n",
    "    print(f\"LETTERS {letter_count} DIGITS {digit_count}\")\n",
    "    return (letter_count, digit_count)"
   ]
  },
  {
   "cell_type": "code",
   "execution_count": 41,
   "id": "505210aa",
   "metadata": {},
   "outputs": [
    {
     "name": "stdout",
     "output_type": "stream",
     "text": [
      "Enter a string:what is your name 12 ?\n"
     ]
    }
   ],
   "source": [
    "input_string = input(\"Enter a string:\")"
   ]
  },
  {
   "cell_type": "code",
   "execution_count": 42,
   "id": "7fd3050f",
   "metadata": {},
   "outputs": [
    {
     "name": "stdout",
     "output_type": "stream",
     "text": [
      "LETTERS 14 DIGITS 2\n"
     ]
    },
    {
     "data": {
      "text/plain": [
       "(14, 2)"
      ]
     },
     "execution_count": 42,
     "metadata": {},
     "output_type": "execute_result"
    }
   ],
   "source": [
    "count_letter_digits(input_string)"
   ]
  },
  {
   "cell_type": "markdown",
   "id": "e47e03bd",
   "metadata": {},
   "source": [
    "### 6. A website requires the users to input username and password to register. Write a program to check the validity of password input by users.\n",
    "\n",
    "Following are the criteria for checking the password:\n",
    "<ul>\n",
    "    <li>1. At least 1 letter between [a-z]</li>\n",
    "    <li>2. At least 1 number between [0-9]</li>\n",
    "    <li>3. At least 1 letter between [A-Z]</li>\n",
    "    <li>4. At least 1 character from [$#@]</li>\n",
    "    <li>5. Minimum length of transaction password: 6</li>\n",
    "    <li>6. Maximum length of transaction password: 12</li>\n",
    "</ul>\n",
    "\n",
    "Your program should accept a sequence of comma separated passwords and will check them according to the above criteria. Passwords that match the criteria are to be printed, each separated by a comma.\n",
    "\n",
    "Example\n",
    "If the following passwords are given as input to the program:\n",
    "\n",
    "<p>>>ABd1234@1,a F1#,2w3E*,2We3345</p>\n",
    "\n",
    "Then, the output of the program should be:\n",
    "\n",
    "<p>>>ABd1234@1</p>\n"
   ]
  },
  {
   "cell_type": "code",
   "execution_count": 193,
   "id": "f96333dc",
   "metadata": {},
   "outputs": [],
   "source": [
    "password_criteria = \"1. At least 1 letter between [a-z], \\\n",
    "                    2. At least 1 number between [0-9], \\\n",
    "                    3. At least 1 letter between [A-Z], \\\n",
    "                    4. At least 1 character from [$#@], \\\n",
    "                    5. Minimum length of transaction password: 6, \\\n",
    "                    6. Maximum length of transaction password: 12\"\n",
    "\n",
    "def print_criteria(criteria):\n",
    "    \"\"\"This function will print the password criteria.\"\"\"\n",
    "    for i in criteria.split(\",\"):\n",
    "        #print(i.strip())\n",
    "        print(f\"\\x1b[31m\\\"{i.strip()}\\\"\\x1b[0m\")\n",
    "        \n",
    "def isValid_password(password):\n",
    "    \"\"\"This function will take a password to validate the given password, \n",
    "    if the password meet the password creation criteria it will return True else False\"\"\"\n",
    "    \n",
    "    #Creating a list of lower case letter\n",
    "    lowercase_string = \"a b c d e f g h i j k l m n o p q r s t u v w x y z\"\n",
    "    lowercase_letters = lowercase_string.split()\n",
    "    \n",
    "    #Creating a list of upper case letter\n",
    "    uppercase_letters = lowercase_string.upper().split()\n",
    "    \n",
    "    #Creating a list of digits\n",
    "    digit_string = \"1 2 3 4 5 6 7 8 9 0\"\n",
    "    digits = digit_string.split()\n",
    "    \n",
    "    #Creating a list of specila char\n",
    "    special_chars = [\"@\", \"#\", \"$\"]\n",
    "    \n",
    "    #Merging all the accepted char in a list\n",
    "    all_char_list = lowercase_letters+uppercase_letters+digits+special_chars\n",
    "    \n",
    "    #Checking the length of the passwor meeting the criteria\n",
    "    if len(password)>=6 and len(password)<=12:\n",
    "        #Checking all the char meeting the char acceptance criteria\n",
    "        if all([any(x in lowercase_letters for x in password),\n",
    "                any(x in uppercase_letters for x in password),\n",
    "                any(x in digits for x in password),\n",
    "                any(x in special_chars for x in password)]):\n",
    "            return True\n",
    "        else:\n",
    "            #If the password not meeting the char acceptance criteria, printing the Password acceptance criteria.\n",
    "            print_criteria(password_criteria)\n",
    "    else:\n",
    "        ##If password not meeting the length acceptance criteria, printing the Password acceptance criteria.\n",
    "        print_criteria(password_criteria)\n",
    "        \n",
    "def print_valid_passwords(input_passwords):\n",
    "    \"\"\"This function will take a string of comma separated password and \n",
    "    as output it will print all the valid password with comma separated\"\"\"    \n",
    "    input_passwords = input_passwords.split(\",\")\n",
    "    valid_password_list = []\n",
    "    for password in input_passwords:\n",
    "        if isValid_password(password):\n",
    "            valid_password_list.append(password)\n",
    "        else:\n",
    "            print(f'{password}--Not meeting the above criteria\\n')\n",
    "    \n",
    "    print(\"Valid Password:\")\n",
    "    print(f\"\\x1b[32m\\\"{','.join(valid_password_list)}\\\"\\x1b[0m\")"
   ]
  },
  {
   "cell_type": "code",
   "execution_count": 194,
   "id": "147e6ce4",
   "metadata": {},
   "outputs": [
    {
     "name": "stdout",
     "output_type": "stream",
     "text": [
      "\u001b[31m\"1. At least 1 letter between [a-z]\"\u001b[0m\n",
      "\u001b[31m\"2. At least 1 number between [0-9]\"\u001b[0m\n",
      "\u001b[31m\"3. At least 1 letter between [A-Z]\"\u001b[0m\n",
      "\u001b[31m\"4. At least 1 character from [$#@]\"\u001b[0m\n",
      "\u001b[31m\"5. Minimum length of transaction password: 6\"\u001b[0m\n",
      "\u001b[31m\"6. Maximum length of transaction password: 12\"\u001b[0m\n",
      "a F1#--Not meeting the above criteria\n",
      "\n",
      "\u001b[31m\"1. At least 1 letter between [a-z]\"\u001b[0m\n",
      "\u001b[31m\"2. At least 1 number between [0-9]\"\u001b[0m\n",
      "\u001b[31m\"3. At least 1 letter between [A-Z]\"\u001b[0m\n",
      "\u001b[31m\"4. At least 1 character from [$#@]\"\u001b[0m\n",
      "\u001b[31m\"5. Minimum length of transaction password: 6\"\u001b[0m\n",
      "\u001b[31m\"6. Maximum length of transaction password: 12\"\u001b[0m\n",
      "2w3E*--Not meeting the above criteria\n",
      "\n",
      "\u001b[31m\"1. At least 1 letter between [a-z]\"\u001b[0m\n",
      "\u001b[31m\"2. At least 1 number between [0-9]\"\u001b[0m\n",
      "\u001b[31m\"3. At least 1 letter between [A-Z]\"\u001b[0m\n",
      "\u001b[31m\"4. At least 1 character from [$#@]\"\u001b[0m\n",
      "\u001b[31m\"5. Minimum length of transaction password: 6\"\u001b[0m\n",
      "\u001b[31m\"6. Maximum length of transaction password: 12\"\u001b[0m\n",
      "2We3345--Not meeting the above criteria\n",
      "\n",
      "\u001b[31m\"1. At least 1 letter between [a-z]\"\u001b[0m\n",
      "\u001b[31m\"2. At least 1 number between [0-9]\"\u001b[0m\n",
      "\u001b[31m\"3. At least 1 letter between [A-Z]\"\u001b[0m\n",
      "\u001b[31m\"4. At least 1 character from [$#@]\"\u001b[0m\n",
      "\u001b[31m\"5. Minimum length of transaction password: 6\"\u001b[0m\n",
      "\u001b[31m\"6. Maximum length of transaction password: 12\"\u001b[0m\n",
      "ZYx098#3ZYx098#2--Not meeting the above criteria\n",
      "\n",
      "Valid Password:\n",
      "\u001b[32m\"ABd1234@1,ZYx098#2\"\u001b[0m\n"
     ]
    }
   ],
   "source": [
    "#input_passwords = input(\"Enter passwords with comma separated:\")\n",
    "input_passwords = 'ABd1234@1,a F1#,2w3E*,2We3345,ZYx098#2,ZYx098#3ZYx098#2'\n",
    "print_valid_passwords(input_passwords)"
   ]
  },
  {
   "cell_type": "code",
   "execution_count": null,
   "id": "44d2f657",
   "metadata": {},
   "outputs": [],
   "source": []
  }
 ],
 "metadata": {
  "kernelspec": {
   "display_name": "Python 3",
   "language": "python",
   "name": "python3"
  },
  "language_info": {
   "codemirror_mode": {
    "name": "ipython",
    "version": 3
   },
   "file_extension": ".py",
   "mimetype": "text/x-python",
   "name": "python",
   "nbconvert_exporter": "python",
   "pygments_lexer": "ipython3",
   "version": "3.8.8"
  }
 },
 "nbformat": 4,
 "nbformat_minor": 5
}
