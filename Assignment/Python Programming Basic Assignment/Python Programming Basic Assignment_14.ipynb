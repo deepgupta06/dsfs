{
 "cells": [
  {
   "cell_type": "markdown",
   "id": "e332054c",
   "metadata": {},
   "source": [
    "# Python Programming Basic Assignment_14"
   ]
  },
  {
   "cell_type": "markdown",
   "id": "fe5672b2",
   "metadata": {},
   "source": [
    "### 1. Define a class with a generator which can iterate the numbers, which are divisible by 7, between a given range 0 and n."
   ]
  },
  {
   "cell_type": "code",
   "execution_count": 1,
   "id": "1400378f",
   "metadata": {},
   "outputs": [],
   "source": [
    "def g_(n):\n",
    "    \"\"\"This function will take a real integer number as input and as \n",
    "    output it will generate a iterator object with divisible by 7. \"\"\"\n",
    "    for i in range(0,n,7):\n",
    "        yield i"
   ]
  },
  {
   "cell_type": "code",
   "execution_count": 2,
   "id": "51faefb5",
   "metadata": {},
   "outputs": [
    {
     "name": "stdout",
     "output_type": "stream",
     "text": [
      "0\n",
      "7\n",
      "14\n",
      "21\n",
      "28\n",
      "35\n",
      "42\n",
      "49\n",
      "56\n",
      "63\n",
      "70\n",
      "77\n",
      "84\n",
      "91\n",
      "98\n"
     ]
    }
   ],
   "source": [
    "for i in g_(100):\n",
    "    print(i)"
   ]
  },
  {
   "cell_type": "markdown",
   "id": "d2a93030",
   "metadata": {},
   "source": [
    "### 2. Write a program to compute the frequency of the words from the input. The output should output after sorting the key alphanumerically. \n",
    "\n",
    "Suppose the following input is supplied to the program:\n",
    "<p>\n",
    ">>New to Python or choosing between Python 2 and Python 3? Read Python 2 or Python 3.\n",
    "</p>\n",
    "\n",
    "Then, the output should be:\n",
    "\n",
    "2:2\n",
    "\n",
    "3.:1\n",
    "\n",
    "3?:1\n",
    "\n",
    "New:1\n",
    "\n",
    "Python:5\n",
    "\n",
    "Read:1\n",
    "\n",
    "and:1\n",
    "\n",
    "between:1\n",
    "\n",
    "choosing:1\n",
    "\n",
    "or:2\n",
    "\n",
    "to:1"
   ]
  },
  {
   "cell_type": "code",
   "execution_count": 3,
   "id": "1afb77ab",
   "metadata": {},
   "outputs": [],
   "source": [
    "def frequencyCount(input_string):\n",
    "    input_string_list = input_string.split()\n",
    "    all_unique_word = sorted(set(input_string_list))\n",
    "    frequency_count = {}\n",
    "    for word in all_unique_word:\n",
    "        frequency_count[word] = input_string_list.count(word)\n",
    "    return frequency_count"
   ]
  },
  {
   "cell_type": "code",
   "execution_count": 4,
   "id": "821b83eb",
   "metadata": {},
   "outputs": [
    {
     "name": "stdout",
     "output_type": "stream",
     "text": [
      "2:2\n",
      "3.:1\n",
      "3?:1\n",
      "New:1\n",
      "Python:5\n",
      "Read:1\n",
      "and:1\n",
      "between:1\n",
      "choosing:1\n",
      "or:2\n",
      "to:1\n"
     ]
    }
   ],
   "source": [
    "input_string = \"New to Python or choosing between Python 2 and Python 3? Read Python 2 or Python 3.\"\n",
    "for key, value in frequencyCount(input_string).items():\n",
    "    print(f\"{key}:{value}\")"
   ]
  },
  {
   "cell_type": "markdown",
   "id": "17a39ca8",
   "metadata": {},
   "source": [
    "### 3. Define a class Person and its two child classes: Male and Female. All classes have a method \"getGender\" which can print \"Male\" for Male class and \"Female\" for Female class."
   ]
  },
  {
   "cell_type": "code",
   "execution_count": 5,
   "id": "bd79bdf6",
   "metadata": {},
   "outputs": [],
   "source": [
    "class Person:\n",
    "    def getGender(self):\n",
    "        pass\n",
    "    \n",
    "class Male(Person):\n",
    "    def getGender(self):\n",
    "        print(\"Male\")\n",
    "class Female(Person):\n",
    "    def getGender(self):\n",
    "        print(\"Female\")"
   ]
  },
  {
   "cell_type": "code",
   "execution_count": 6,
   "id": "2092ac71",
   "metadata": {},
   "outputs": [
    {
     "name": "stdout",
     "output_type": "stream",
     "text": [
      "Male\n"
     ]
    }
   ],
   "source": [
    "user_m = Male()\n",
    "user_m.getGender()"
   ]
  },
  {
   "cell_type": "code",
   "execution_count": 7,
   "id": "fec557c4",
   "metadata": {},
   "outputs": [
    {
     "name": "stdout",
     "output_type": "stream",
     "text": [
      "Female\n"
     ]
    }
   ],
   "source": [
    "user_f = Female()\n",
    "user_f.getGender()"
   ]
  },
  {
   "cell_type": "markdown",
   "id": "d00a5fe3",
   "metadata": {},
   "source": [
    "### 4. Please write a program to generate all sentences where subject is in [\"I\", \"You\"] and verb is in [\"Play\", \"Love\"] and the object is in [\"Hockey\",\"Football\"]."
   ]
  },
  {
   "cell_type": "code",
   "execution_count": 8,
   "id": "f1665974",
   "metadata": {},
   "outputs": [
    {
     "name": "stdout",
     "output_type": "stream",
     "text": [
      "I Play Hocky\n",
      "I Play Football\n",
      "I Love Hocky\n",
      "I Love Football\n",
      "You Play Hocky\n",
      "You Play Football\n",
      "You Love Hocky\n",
      "You Love Football\n"
     ]
    }
   ],
   "source": [
    "subjects = [\"I\", \"You\"]\n",
    "verbs = [\"Play\", \"Love\"]\n",
    "objects = [\"Hocky\", \"Football\"]\n",
    "for subject in subjects:\n",
    "    for verb in verbs:\n",
    "        for object in objects:\n",
    "            print(f\"{subject} {verb} {object}\")"
   ]
  },
  {
   "cell_type": "markdown",
   "id": "46af0ff1",
   "metadata": {},
   "source": [
    "### 5. Please write a program to compress and decompress the string \"hello world!hello world!hello world!hello world!\".\n",
    "Ans:"
   ]
  },
  {
   "cell_type": "code",
   "execution_count": 9,
   "id": "7dc8a5ff",
   "metadata": {},
   "outputs": [],
   "source": [
    "from zlib import compress,decompress\n",
    "\n",
    "input_string = \"hello world!hello world!hello world!hello world!\"\n",
    "\n",
    "#compress function need a byte object to process,\n",
    "#So, converting the input_string into a byte oject\n",
    "compresed_ = compress(bytes(input_string, \"UTF-8\"), 9)\n",
    "\n",
    "#Here decompressing the compressed object,\n",
    "#It will return a byte object,\n",
    "#need to decode the byte object to get as string\n",
    "decompressed_ = decompress(compresed_).decode(encoding=\"utf-8\")"
   ]
  },
  {
   "cell_type": "code",
   "execution_count": 10,
   "id": "f0cef13a",
   "metadata": {},
   "outputs": [
    {
     "name": "stdout",
     "output_type": "stream",
     "text": [
      "hello world!hello world!hello world!hello world!\n"
     ]
    }
   ],
   "source": [
    "print(decompressed_)"
   ]
  },
  {
   "cell_type": "markdown",
   "id": "a53846b3",
   "metadata": {},
   "source": [
    "### 6. Please write a binary search function which searches an item in a sorted list. The function should return the index of element to be searched in the list."
   ]
  },
  {
   "cell_type": "code",
   "execution_count": 11,
   "id": "2dd4def0",
   "metadata": {},
   "outputs": [],
   "source": [
    "def binary_search2(input_sorted_list, looking_item):\n",
    "    \"\"\"This function will take a sorted list and and the item which we are \n",
    "    looking for as an input and it will return the index of the serching  \"\"\"\n",
    "    lower_index = 0\n",
    "    #As index starting from 0\n",
    "    upper_index = len(input_sorted_list)-1\n",
    "    present_index = [lower_index, upper_index]\n",
    "    previous_index = [0,0]\n",
    "    count=0\n",
    "    count2=0\n",
    "    while upper_index >= lower_index:\n",
    "        #need mid_point as integer value,\n",
    "        \n",
    "        previous_index = present_index\n",
    "        #print(f\"Previous Index:{previous_index}\")\n",
    "        #import pdb; pdb.set_trace()\n",
    "        mid_point = (upper_index+lower_index)//2\n",
    "        if input_sorted_list[mid_point] == looking_item:\n",
    "            return mid_point\n",
    "        elif input_sorted_list[mid_point] < looking_item:\n",
    "            lower_index  = mid_point\n",
    "        else:\n",
    "            upper_index = mid_point\n",
    "        present_index = [lower_index, upper_index]\n",
    "        if upper_index-lower_index==1:\n",
    "            count+=1\n",
    "            #print(count)\n",
    "            if count==2:\n",
    "                lower_index=upper_index\n",
    "        elif upper_index-lower_index==0:\n",
    "            count2 +=1\n",
    "            if count==2:\n",
    "                return -1\n",
    "        #print(f\"Present Index:{present_index}\")\n",
    "        \n",
    "            "
   ]
  },
  {
   "cell_type": "code",
   "execution_count": 12,
   "id": "26f9505f",
   "metadata": {},
   "outputs": [
    {
     "data": {
      "text/plain": [
       "17"
      ]
     },
     "execution_count": 12,
     "metadata": {},
     "output_type": "execute_result"
    }
   ],
   "source": [
    "a =[1,2,3,4,5,6,7,8,9,10,11,12,13,14,15,17,19,21]\n",
    "binary_search2(a, 21)"
   ]
  },
  {
   "cell_type": "code",
   "execution_count": 13,
   "id": "899f4e7f",
   "metadata": {},
   "outputs": [
    {
     "data": {
      "text/plain": [
       "8"
      ]
     },
     "execution_count": 13,
     "metadata": {},
     "output_type": "execute_result"
    }
   ],
   "source": [
    "binary_search2(a, 9)"
   ]
  },
  {
   "cell_type": "code",
   "execution_count": 14,
   "id": "fd5a2a42",
   "metadata": {},
   "outputs": [],
   "source": [
    "b = [\"a\", \"b\", \"c\", \"d\", \"f\",\"g\"]"
   ]
  },
  {
   "cell_type": "code",
   "execution_count": 15,
   "id": "440b3def",
   "metadata": {},
   "outputs": [
    {
     "data": {
      "text/plain": [
       "5"
      ]
     },
     "execution_count": 15,
     "metadata": {},
     "output_type": "execute_result"
    }
   ],
   "source": [
    "binary_search2(b, \"g\")"
   ]
  },
  {
   "cell_type": "code",
   "execution_count": 16,
   "id": "bde6f48b",
   "metadata": {},
   "outputs": [
    {
     "data": {
      "text/plain": [
       "0"
      ]
     },
     "execution_count": 16,
     "metadata": {},
     "output_type": "execute_result"
    }
   ],
   "source": [
    "binary_search2(b, \"a\")"
   ]
  },
  {
   "cell_type": "code",
   "execution_count": 17,
   "id": "bfad96e1",
   "metadata": {},
   "outputs": [
    {
     "data": {
      "text/plain": [
       "3"
      ]
     },
     "execution_count": 17,
     "metadata": {},
     "output_type": "execute_result"
    }
   ],
   "source": [
    "binary_search2(b,\"d\")"
   ]
  },
  {
   "cell_type": "code",
   "execution_count": null,
   "id": "3b186550",
   "metadata": {},
   "outputs": [],
   "source": []
  }
 ],
 "metadata": {
  "kernelspec": {
   "display_name": "Python 3",
   "language": "python",
   "name": "python3"
  },
  "language_info": {
   "codemirror_mode": {
    "name": "ipython",
    "version": 3
   },
   "file_extension": ".py",
   "mimetype": "text/x-python",
   "name": "python",
   "nbconvert_exporter": "python",
   "pygments_lexer": "ipython3",
   "version": "3.8.8"
  }
 },
 "nbformat": 4,
 "nbformat_minor": 5
}
