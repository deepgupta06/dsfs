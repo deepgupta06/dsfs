{
 "cells": [
  {
   "cell_type": "markdown",
   "id": "0e9e2193",
   "metadata": {},
   "source": [
    "# Python Programming Basic Assignment_24"
   ]
  },
  {
   "cell_type": "markdown",
   "id": "9541d67d",
   "metadata": {},
   "source": [
    "### 1. Create a function that takes an integer and returns a list from 1 to the given number, where:\n",
    "\n",
    "1.\tIf the number can be divided evenly by 4, amplify it by 10 (i.e. return 10 times the number).\n",
    "2.\tIf the number cannot be divided evenly by 4, simply return the number.\n",
    "\n",
    "Examples\n",
    "\n",
    "amplify(4) ➞ [1, 2, 3, 40]\n",
    "\n",
    "amplify(3) ➞ [1, 2, 3]\n",
    "\n",
    "amplify(25) ➞ [1, 2, 3, 40, 5, 6, 7, 80, 9, 10, 11, 120, 13, 14, 15, 160, 17, 18, 19, 200, 21, 22, 23, 240, 25]\n",
    "\n",
    "Notes\n",
    "<ul>\n",
    "    <li>The given integer will always be equal to or greater than 1.</li>\n",
    "    <li>Include the number (see example above).</li>\n",
    "    <li>To perform this problem with its intended purpose, try doing it with list comprehensions. If that's too difficult, just solve the challenge any way you can.</li>\n",
    "</ul>"
   ]
  },
  {
   "cell_type": "code",
   "execution_count": 1,
   "id": "1f8de2f8",
   "metadata": {},
   "outputs": [],
   "source": [
    "def amplify(n):\n",
    "    if n>1:\n",
    "        output_list = [x*10 if x%4==0 else x for x in range(1,n+1)]\n",
    "    else:\n",
    "        return \"The given number sholud be greater than 1\"\n",
    "    return output_list"
   ]
  },
  {
   "cell_type": "code",
   "execution_count": 2,
   "id": "8c415bd2",
   "metadata": {},
   "outputs": [
    {
     "data": {
      "text/plain": [
       "[1, 2, 3]"
      ]
     },
     "execution_count": 2,
     "metadata": {},
     "output_type": "execute_result"
    }
   ],
   "source": [
    "amplify(3)"
   ]
  },
  {
   "cell_type": "code",
   "execution_count": 3,
   "id": "e49424d2",
   "metadata": {},
   "outputs": [
    {
     "data": {
      "text/plain": [
       "[1, 2, 3, 40]"
      ]
     },
     "execution_count": 3,
     "metadata": {},
     "output_type": "execute_result"
    }
   ],
   "source": [
    "amplify(4)"
   ]
  },
  {
   "cell_type": "code",
   "execution_count": 4,
   "id": "0d5f1f66",
   "metadata": {},
   "outputs": [
    {
     "data": {
      "text/plain": [
       "[1, 2, 3, 40, 5, 6, 7, 80, 9, 10]"
      ]
     },
     "execution_count": 4,
     "metadata": {},
     "output_type": "execute_result"
    }
   ],
   "source": [
    "amplify(10)"
   ]
  },
  {
   "cell_type": "markdown",
   "id": "204f6b0f",
   "metadata": {},
   "source": [
    "### 2. Create a function that takes a list of numbers and return the number that's unique.\n",
    "Examples\n",
    "\n",
    "unique([3, 3, 3, 7, 3, 3]) ➞ 7\n",
    "\n",
    "unique([0, 0, 0.77, 0, 0]) ➞ 0.77\n",
    "\n",
    "unique([0, 1, 1, 1, 1, 1, 1, 1]) ➞ 0\n",
    "\n",
    "Notes\n",
    "\n",
    "Test cases will always have exactly one unique number while all others are the same.\n"
   ]
  },
  {
   "cell_type": "code",
   "execution_count": 5,
   "id": "2eacdd33",
   "metadata": {},
   "outputs": [],
   "source": [
    "def unique(input_list):\n",
    "    unique_value = [x for x in input_list if input_list.count(x)==1]\n",
    "    return unique_value[0]"
   ]
  },
  {
   "cell_type": "code",
   "execution_count": 6,
   "id": "62749659",
   "metadata": {},
   "outputs": [
    {
     "data": {
      "text/plain": [
       "7"
      ]
     },
     "execution_count": 6,
     "metadata": {},
     "output_type": "execute_result"
    }
   ],
   "source": [
    "unique([3, 3, 3, 7, 3, 3])"
   ]
  },
  {
   "cell_type": "code",
   "execution_count": 7,
   "id": "6fb8a3e3",
   "metadata": {},
   "outputs": [
    {
     "data": {
      "text/plain": [
       "0.77"
      ]
     },
     "execution_count": 7,
     "metadata": {},
     "output_type": "execute_result"
    }
   ],
   "source": [
    "unique([0, 0, 0.77, 0, 0])"
   ]
  },
  {
   "cell_type": "code",
   "execution_count": 8,
   "id": "77ec72d8",
   "metadata": {},
   "outputs": [
    {
     "data": {
      "text/plain": [
       "0"
      ]
     },
     "execution_count": 8,
     "metadata": {},
     "output_type": "execute_result"
    }
   ],
   "source": [
    "unique([0, 1, 1, 1, 1, 1, 1, 1])"
   ]
  },
  {
   "cell_type": "markdown",
   "id": "89f989e1",
   "metadata": {},
   "source": [
    "### 3. Your task is to create a Circle constructor that creates a circle with a radius provided by an argument. The circles constructed must have two getters getArea() (PIr^2) and getPerimeter() (2PI*r) which give both respective areas and perimeter (circumference).\n",
    "For help with this class, I have provided you with a Rectangle constructor which you can use as a base example.\n",
    "\n",
    "Examples\n",
    "\n",
    "circy = Circle(11)\n",
    "\n",
    "circy.getArea()\n",
    "\n",
    "<p># Should return 380.132711084365</p>\n",
    "\n",
    "circy = Circle(4.44)\n",
    "\n",
    "circy.getPerimeter()\n",
    "\n",
    "<p># Should return 27.897342763877365</p>\n",
    "\n",
    "Notes\n",
    "\n",
    "Round results up to the nearest integer.\n"
   ]
  },
  {
   "cell_type": "code",
   "execution_count": 9,
   "id": "d6a27f4c",
   "metadata": {},
   "outputs": [],
   "source": [
    "a = 27.897342763877365"
   ]
  },
  {
   "cell_type": "code",
   "execution_count": 10,
   "id": "f2048819",
   "metadata": {},
   "outputs": [
    {
     "data": {
      "text/plain": [
       "28"
      ]
     },
     "execution_count": 10,
     "metadata": {},
     "output_type": "execute_result"
    }
   ],
   "source": [
    "round(a)"
   ]
  },
  {
   "cell_type": "markdown",
   "id": "7cc125d2",
   "metadata": {},
   "source": [
    "##### As Per example:"
   ]
  },
  {
   "cell_type": "code",
   "execution_count": 11,
   "id": "2353eb09",
   "metadata": {},
   "outputs": [],
   "source": [
    "class Circle:\n",
    "    from math import pi, ceil\n",
    "    def __init__(self, r):\n",
    "        self.r = r\n",
    "        \n",
    "    \n",
    "    def getArea(self):\n",
    "        area = self.pi*(self.r**2)\n",
    "        return area\n",
    "    def getPerimeter(self):\n",
    "        perimeter = 2*self.pi*self.r\n",
    "        return perimeter"
   ]
  },
  {
   "cell_type": "code",
   "execution_count": 12,
   "id": "1ac998e3",
   "metadata": {},
   "outputs": [
    {
     "data": {
      "text/plain": [
       "380.132711084365"
      ]
     },
     "execution_count": 12,
     "metadata": {},
     "output_type": "execute_result"
    }
   ],
   "source": [
    "circle_1 = Circle(11)\n",
    "circle_1.getArea()"
   ]
  },
  {
   "cell_type": "code",
   "execution_count": 13,
   "id": "9eda56ed",
   "metadata": {},
   "outputs": [
    {
     "data": {
      "text/plain": [
       "27.897342763877365"
      ]
     },
     "execution_count": 13,
     "metadata": {},
     "output_type": "execute_result"
    }
   ],
   "source": [
    "circle_2 = Circle(4.44)\n",
    "circle_2.getPerimeter()"
   ]
  },
  {
   "cell_type": "markdown",
   "id": "c3a58ce3",
   "metadata": {},
   "source": [
    "##### As per Note (Round results up to the nearest integer.)"
   ]
  },
  {
   "cell_type": "code",
   "execution_count": 14,
   "id": "0bb263d2",
   "metadata": {},
   "outputs": [],
   "source": [
    "class Circle:\n",
    "    from math import pi, ceil\n",
    "    def __init__(self, r):\n",
    "        self.r = r\n",
    "        \n",
    "    \n",
    "    def getArea(self):\n",
    "        area = self.pi*(self.r**2)\n",
    "        return round(area)\n",
    "    def getPerimeter(self):\n",
    "        perimeter = 2*self.pi*self.r\n",
    "        return round(perimeter)"
   ]
  },
  {
   "cell_type": "code",
   "execution_count": 15,
   "id": "f3dd914c",
   "metadata": {},
   "outputs": [
    {
     "data": {
      "text/plain": [
       "380"
      ]
     },
     "execution_count": 15,
     "metadata": {},
     "output_type": "execute_result"
    }
   ],
   "source": [
    "circle_3 = Circle(11)\n",
    "circle_3.getArea()"
   ]
  },
  {
   "cell_type": "code",
   "execution_count": 16,
   "id": "de339b21",
   "metadata": {},
   "outputs": [
    {
     "data": {
      "text/plain": [
       "28"
      ]
     },
     "execution_count": 16,
     "metadata": {},
     "output_type": "execute_result"
    }
   ],
   "source": [
    "circle_4 = Circle(4.44)\n",
    "circle_4.getPerimeter()"
   ]
  },
  {
   "cell_type": "markdown",
   "id": "2e96ab05",
   "metadata": {},
   "source": [
    "### 4. Create a function that takes a list of strings and return a list, sorted from shortest to longest.\n",
    "\n",
    "Examples\n",
    "\n",
    "sort_by_length([\"Google\", \"Apple\", \"Microsoft\"])\n",
    "\n",
    "[\"Apple\", \"Google\", \"Microsoft\"]\n",
    "\n",
    "sort_by_length([\"Leonardo\", \"Michelangelo\", \"Raphael\", \"Donatello\"])\n",
    "\n",
    "[\"Raphael\", \"Leonardo\", \"Donatello\", \"Michelangelo\"]\n",
    "\n",
    "sort_by_length([\"Turing\", \"Einstein\", \"Jung\"])\n",
    "\n",
    "[\"Jung\", \"Turing\", \"Einstein\"]\n",
    "\n",
    "Notes\n",
    "\n",
    "All test cases contain lists with strings of different lengths, so you won't have to deal with multiple strings of the same length.\n"
   ]
  },
  {
   "cell_type": "code",
   "execution_count": 17,
   "id": "b1f720e4",
   "metadata": {},
   "outputs": [],
   "source": [
    "def sort_by_length(input_word_list):\n",
    "    output_list = sorted(input_word_list, key = len )\n",
    "    return output_list"
   ]
  },
  {
   "cell_type": "code",
   "execution_count": 18,
   "id": "ecdbcad7",
   "metadata": {},
   "outputs": [
    {
     "data": {
      "text/plain": [
       "['Raphael', 'Leonardo', 'Donatello', 'Michelangelo']"
      ]
     },
     "execution_count": 18,
     "metadata": {},
     "output_type": "execute_result"
    }
   ],
   "source": [
    "sort_by_length([\"Leonardo\", \"Michelangelo\", \"Raphael\", \"Donatello\"])"
   ]
  },
  {
   "cell_type": "code",
   "execution_count": 19,
   "id": "57a40fd5",
   "metadata": {},
   "outputs": [
    {
     "data": {
      "text/plain": [
       "['Apple', 'Google', 'Microsoft']"
      ]
     },
     "execution_count": 19,
     "metadata": {},
     "output_type": "execute_result"
    }
   ],
   "source": [
    "sort_by_length([\"Google\", \"Apple\", \"Microsoft\"])"
   ]
  },
  {
   "cell_type": "code",
   "execution_count": null,
   "id": "b29bd853",
   "metadata": {},
   "outputs": [],
   "source": []
  }
 ],
 "metadata": {
  "kernelspec": {
   "display_name": "Python 3",
   "language": "python",
   "name": "python3"
  },
  "language_info": {
   "codemirror_mode": {
    "name": "ipython",
    "version": 3
   },
   "file_extension": ".py",
   "mimetype": "text/x-python",
   "name": "python",
   "nbconvert_exporter": "python",
   "pygments_lexer": "ipython3",
   "version": "3.8.8"
  }
 },
 "nbformat": 4,
 "nbformat_minor": 5
}
