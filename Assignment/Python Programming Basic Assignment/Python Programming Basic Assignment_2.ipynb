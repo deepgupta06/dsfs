{
 "cells": [
  {
   "cell_type": "markdown",
   "id": "5df63ec6",
   "metadata": {},
   "source": [
    "### 1. Write a Python program to convert kilometers to miles?\n",
    "Ans:"
   ]
  },
  {
   "cell_type": "code",
   "execution_count": 1,
   "id": "13cd002e",
   "metadata": {},
   "outputs": [],
   "source": [
    "def kiloTomiles(value):\n",
    "    \"\"\"value sholud be in kilometers\"\"\"\n",
    "    value_in_miles = 0.62*value\n",
    "    return value_in_miles"
   ]
  },
  {
   "cell_type": "code",
   "execution_count": 2,
   "id": "5eac9582",
   "metadata": {},
   "outputs": [
    {
     "data": {
      "text/plain": [
       "3.1"
      ]
     },
     "execution_count": 2,
     "metadata": {},
     "output_type": "execute_result"
    }
   ],
   "source": [
    "kiloTomiles(5)"
   ]
  },
  {
   "cell_type": "markdown",
   "id": "059bdc34",
   "metadata": {},
   "source": [
    "### 2. Write a Python program to convert Celsius to Fahrenheit?\n",
    "Ans:"
   ]
  },
  {
   "cell_type": "code",
   "execution_count": 3,
   "id": "31c1c2ea",
   "metadata": {},
   "outputs": [],
   "source": [
    "def celTofahr(temp_c):\n",
    "    \"\"\"F = C×(9/5)+32 \\n'F' is the temp. in fahrenheit \\n'C' is the temp. in Celsius\"\"\"\n",
    "    temp_f = temp_c*(9/5)+32\n",
    "    return temp_f"
   ]
  },
  {
   "cell_type": "code",
   "execution_count": 4,
   "id": "1720dfb6",
   "metadata": {},
   "outputs": [
    {
     "data": {
      "text/plain": [
       "32.0"
      ]
     },
     "execution_count": 4,
     "metadata": {},
     "output_type": "execute_result"
    }
   ],
   "source": [
    "celTofahr(0)"
   ]
  },
  {
   "cell_type": "markdown",
   "id": "2adfacc8",
   "metadata": {},
   "source": [
    "### 3. Write a Python program to display calendar?\n",
    "Ans:"
   ]
  },
  {
   "cell_type": "code",
   "execution_count": 5,
   "id": "b02dab12",
   "metadata": {},
   "outputs": [
    {
     "name": "stdout",
     "output_type": "stream",
     "text": [
      "   December 2021\n",
      "Mo Tu We Th Fr Sa Su\n",
      "       1  2  3  4  5\n",
      " 6  7  8  9 10 11 12\n",
      "13 14 15 16 17 18 19\n",
      "20 21 22 23 24 25 26\n",
      "27 28 29 30 31\n",
      "\n"
     ]
    }
   ],
   "source": [
    "import calendar\n",
    "year=2021\n",
    "month = 12\n",
    "print(calendar.month(year, month))"
   ]
  },
  {
   "cell_type": "markdown",
   "id": "c8c95637",
   "metadata": {},
   "source": [
    "### 4. Write a Python program to solve quadratic equation?\n",
    "Ans:"
   ]
  },
  {
   "cell_type": "code",
   "execution_count": 6,
   "id": "62b0e5cd",
   "metadata": {},
   "outputs": [],
   "source": [
    "def get_x(a,b,c):\n",
    "    \"\"\"Genarel form of a Quadratic equqtion is ax^2 + bx + c = 0\n",
    "    where a,b,c is known number, where a is not equal to 0.\"\"\"\n",
    "    x1 = (-b+(b**2-(4*a*c))**0.5)/(2*a)\n",
    "    x2 = (-b-(b**2-(4*a*c))**0.5)/(2*a)\n",
    "    return (x1,x2)"
   ]
  },
  {
   "cell_type": "code",
   "execution_count": 7,
   "id": "837e9417",
   "metadata": {},
   "outputs": [
    {
     "data": {
      "text/plain": [
       "(0.5, -3.0)"
      ]
     },
     "execution_count": 7,
     "metadata": {},
     "output_type": "execute_result"
    }
   ],
   "source": [
    "# 2x^2+5x-3=0--->a=2, b=5 and c=-3\n",
    "get_x(2,5,-3)"
   ]
  },
  {
   "cell_type": "markdown",
   "id": "51d880f6",
   "metadata": {},
   "source": [
    "### 5. Write a Python program to swap two variables without temp variable?\n",
    "Ans:"
   ]
  },
  {
   "cell_type": "code",
   "execution_count": 8,
   "id": "0fecc79a",
   "metadata": {},
   "outputs": [],
   "source": [
    "def SwapToNumber(a,b):\n",
    "    print(f'Input:a-->{a},b-->{b}')\n",
    "    a=a+b\n",
    "    b=a-b\n",
    "    a=a-b\n",
    "    print(f'Swaped:a-->{a},b-->{b}')"
   ]
  },
  {
   "cell_type": "code",
   "execution_count": 9,
   "id": "7d39c183",
   "metadata": {},
   "outputs": [
    {
     "name": "stdout",
     "output_type": "stream",
     "text": [
      "Input:a-->202,b-->101\n",
      "Swaped:a-->101,b-->202\n"
     ]
    }
   ],
   "source": [
    "b=101\n",
    "a=202\n",
    "SwapToNumber(a,b)"
   ]
  }
 ],
 "metadata": {
  "kernelspec": {
   "display_name": "Python 3 (ipykernel)",
   "language": "python",
   "name": "python3"
  },
  "language_info": {
   "codemirror_mode": {
    "name": "ipython",
    "version": 3
   },
   "file_extension": ".py",
   "mimetype": "text/x-python",
   "name": "python",
   "nbconvert_exporter": "python",
   "pygments_lexer": "ipython3",
   "version": "3.8.12"
  }
 },
 "nbformat": 4,
 "nbformat_minor": 5
}
