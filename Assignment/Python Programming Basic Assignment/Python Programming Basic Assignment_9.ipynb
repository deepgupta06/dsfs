{
 "cells": [
  {
   "cell_type": "markdown",
   "id": "ab7e8c76",
   "metadata": {},
   "source": [
    "# Python Programming Basic Assignment_9"
   ]
  },
  {
   "cell_type": "markdown",
   "id": "0982b4a6",
   "metadata": {},
   "source": [
    "### 1.\tWrite a Python program to check if the given number is a Disarium Number?\n",
    "Ans:"
   ]
  },
  {
   "cell_type": "code",
   "execution_count": 9,
   "id": "9f3ff0a1",
   "metadata": {},
   "outputs": [
    {
     "name": "stdout",
     "output_type": "stream",
     "text": [
      "5+=5**1\n",
      "21+=4**2\n",
      "48+=3**3\n",
      "64+=2**4\n"
     ]
    },
    {
     "data": {
      "text/plain": [
       "64"
      ]
     },
     "execution_count": 9,
     "metadata": {},
     "output_type": "execute_result"
    }
   ],
   "source": [
    "a = 5432\n",
    "sum =0\n",
    "for idx, i in enumerate(str(a)):\n",
    "    sum += int(i)**(idx+1)\n",
    "    print(f\"{sum}+={int(i)}**{idx+1}\")\n",
    "sum"
   ]
  },
  {
   "cell_type": "code",
   "execution_count": 16,
   "id": "1c3b2efe",
   "metadata": {},
   "outputs": [],
   "source": [
    "def isDisarium(number):\n",
    "    sum = 0\n",
    "    for idx, i in enumerate(str(number)):\n",
    "        sum += int(i)**(idx+1)\n",
    "    if sum == number:\n",
    "        return True\n",
    "    else:\n",
    "        return False"
   ]
  },
  {
   "cell_type": "code",
   "execution_count": 18,
   "id": "b435bb32",
   "metadata": {},
   "outputs": [
    {
     "data": {
      "text/plain": [
       "False"
      ]
     },
     "execution_count": 18,
     "metadata": {},
     "output_type": "execute_result"
    }
   ],
   "source": [
    "isDisarium(122)"
   ]
  },
  {
   "cell_type": "code",
   "execution_count": 19,
   "id": "7de76271",
   "metadata": {},
   "outputs": [
    {
     "data": {
      "text/plain": [
       "False"
      ]
     },
     "execution_count": 19,
     "metadata": {},
     "output_type": "execute_result"
    }
   ],
   "source": [
    "isDisarium(2321)"
   ]
  },
  {
   "cell_type": "code",
   "execution_count": 17,
   "id": "d4462f0a",
   "metadata": {},
   "outputs": [
    {
     "data": {
      "text/plain": [
       "True"
      ]
     },
     "execution_count": 17,
     "metadata": {},
     "output_type": "execute_result"
    }
   ],
   "source": [
    "isDisarium(175)"
   ]
  },
  {
   "cell_type": "markdown",
   "id": "514c1f64",
   "metadata": {},
   "source": [
    "### 2.\tWrite a Python program to print all disarium numbers between 1 to 100?\n",
    "Ans:"
   ]
  },
  {
   "cell_type": "code",
   "execution_count": 20,
   "id": "701179c2",
   "metadata": {},
   "outputs": [],
   "source": [
    "def get_disarium(starting_range, ending_range):\n",
    "    for i in range(starting_range,ending_range+1):\n",
    "        if isDisarium(i):\n",
    "            print(i)\n",
    "            "
   ]
  },
  {
   "cell_type": "code",
   "execution_count": 24,
   "id": "c08b0230",
   "metadata": {},
   "outputs": [
    {
     "name": "stdout",
     "output_type": "stream",
     "text": [
      "1\n",
      "2\n",
      "3\n",
      "4\n",
      "5\n",
      "6\n",
      "7\n",
      "8\n",
      "9\n",
      "89\n"
     ]
    }
   ],
   "source": [
    "get_disarium(1,100)"
   ]
  },
  {
   "cell_type": "markdown",
   "id": "f2947f67",
   "metadata": {},
   "source": [
    "### 3.\tWrite a Python program to check if the given number is Happy Number?\n",
    "Ans:"
   ]
  },
  {
   "cell_type": "code",
   "execution_count": 64,
   "id": "02cc1ef0",
   "metadata": {},
   "outputs": [],
   "source": [
    "def isHappynumber(number):\n",
    "    \"\"\"Happynumber is the where we can reach the sum of squre of each digit 1, \n",
    "    within the process number will be replaced by sum of squre of each digit.\n",
    "    Example--139\n",
    "    1^2+3^2+9^2=91\n",
    "    9^2+1^2=82\n",
    "    8^2+2^2=68\n",
    "    6^2+8^2=100\n",
    "    1^2+0^2+0^2 = 1\n",
    "    we reach 1, 139 is a happy number\"\"\"\n",
    "    temp_number_list = []\n",
    "    temp_number = number\n",
    "    while number>0:\n",
    "        sum = 0\n",
    "        for i in str(number):\n",
    "            #print(f\"Before operation{sum}\")\n",
    "            sum += int(i)**2\n",
    "        number = sum\n",
    "        temp_number = number\n",
    "        #print(f\"After operation{sum}----> {i}**2  temp_number---{temp_number}\")\n",
    "        if temp_number>1 and temp_number not in temp_number_list:\n",
    "            temp_number_list.append(number)\n",
    "        elif temp_number==1:\n",
    "            return True\n",
    "        else:\n",
    "            return False\n",
    "            "
   ]
  },
  {
   "cell_type": "code",
   "execution_count": 65,
   "id": "f27bbeaf",
   "metadata": {},
   "outputs": [
    {
     "data": {
      "text/plain": [
       "True"
      ]
     },
     "execution_count": 65,
     "metadata": {},
     "output_type": "execute_result"
    }
   ],
   "source": [
    "isHappynumber(139)"
   ]
  },
  {
   "cell_type": "code",
   "execution_count": 66,
   "id": "55874f43",
   "metadata": {},
   "outputs": [
    {
     "data": {
      "text/plain": [
       "False"
      ]
     },
     "execution_count": 66,
     "metadata": {},
     "output_type": "execute_result"
    }
   ],
   "source": [
    "isHappynumber(488)"
   ]
  },
  {
   "cell_type": "markdown",
   "id": "a2065659",
   "metadata": {},
   "source": [
    "### 4.\tWrite a Python program to print all happy numbers between 1 and 100?\n",
    "Ans:"
   ]
  },
  {
   "cell_type": "code",
   "execution_count": 57,
   "id": "e5c2efb5",
   "metadata": {},
   "outputs": [],
   "source": [
    "def get_happy_number(starting_range, ending_range):\n",
    "    for i in range(starting_range, ending_range+1):\n",
    "        if isHappynumber(i):\n",
    "            print(i)"
   ]
  },
  {
   "cell_type": "code",
   "execution_count": 58,
   "id": "a616d5aa",
   "metadata": {},
   "outputs": [
    {
     "name": "stdout",
     "output_type": "stream",
     "text": [
      "1\n",
      "7\n",
      "10\n",
      "13\n",
      "19\n",
      "23\n",
      "28\n",
      "31\n",
      "32\n",
      "44\n",
      "49\n",
      "68\n",
      "70\n",
      "79\n",
      "82\n",
      "86\n",
      "91\n",
      "94\n",
      "97\n",
      "100\n"
     ]
    }
   ],
   "source": [
    "get_happy_number(1,100)"
   ]
  },
  {
   "cell_type": "markdown",
   "id": "40337391",
   "metadata": {},
   "source": [
    "### 5.\tWrite a Python program to determine whether the given number is a Harshad Number?\n",
    "Ans:"
   ]
  },
  {
   "cell_type": "code",
   "execution_count": 72,
   "id": "a0416a7d",
   "metadata": {},
   "outputs": [
    {
     "data": {
      "text/plain": [
       "3"
      ]
     },
     "execution_count": 72,
     "metadata": {},
     "output_type": "execute_result"
    }
   ],
   "source": [
    "a = \"123\"\n",
    "len(a)"
   ]
  },
  {
   "cell_type": "code",
   "execution_count": 97,
   "id": "ef9079a7",
   "metadata": {},
   "outputs": [],
   "source": [
    "def isHarshadnumber(number):\n",
    "    \n",
    "    \"\"\"Harshad number, which is divisible by the sum of its digit.\n",
    "    Example:18\n",
    "    1+8=9,\n",
    "    18 is divisible by 9, 18 is a harshad number\"\"\"\n",
    "    sum = 0\n",
    "    for idx, i in enumerate(str(number)):\n",
    "        sum_before = sum\n",
    "        sum += int(i)\n",
    "    if number%sum==0:\n",
    "        return True\n",
    "    else:\n",
    "        return False\n"
   ]
  },
  {
   "cell_type": "code",
   "execution_count": 98,
   "id": "441bb08f",
   "metadata": {},
   "outputs": [
    {
     "data": {
      "text/plain": [
       "True"
      ]
     },
     "execution_count": 98,
     "metadata": {},
     "output_type": "execute_result"
    }
   ],
   "source": [
    "isHarshadnumber(198)"
   ]
  },
  {
   "cell_type": "code",
   "execution_count": 99,
   "id": "f54aa2f0",
   "metadata": {},
   "outputs": [
    {
     "data": {
      "text/plain": [
       "False"
      ]
     },
     "execution_count": 99,
     "metadata": {},
     "output_type": "execute_result"
    }
   ],
   "source": [
    "isHarshadnumber(15)"
   ]
  },
  {
   "cell_type": "markdown",
   "id": "cdfbe9d6",
   "metadata": {},
   "source": [
    "### 6.\tWrite a Python program to print all pronic numbers between 1 and 100?\n",
    "Ans:"
   ]
  },
  {
   "cell_type": "code",
   "execution_count": 115,
   "id": "b19383e8",
   "metadata": {},
   "outputs": [],
   "source": [
    "def isPronicnumber(number):\n",
    "    \"\"\"A pronic number is a number which is the product of two consecutive integers\n",
    "    Exapmle:\n",
    "    6= 3x2\n",
    "    12=3x4\n",
    "    20=4x5\n",
    "    30=5x6\n",
    "    42=6x7\"\"\"\n",
    "    for i in range(number):\n",
    "        if number==(i*(i+1)):\n",
    "            return True\n",
    "    return False\n",
    "\n",
    "def get_pronic_number(starting_range, ending_renge):\n",
    "    for i in range(starting_range, ending_renge+1):\n",
    "        if isPronicnumber(i):\n",
    "            print(i)"
   ]
  },
  {
   "cell_type": "code",
   "execution_count": 116,
   "id": "fa7afa1e",
   "metadata": {},
   "outputs": [
    {
     "data": {
      "text/plain": [
       "True"
      ]
     },
     "execution_count": 116,
     "metadata": {},
     "output_type": "execute_result"
    }
   ],
   "source": [
    "isPronicnumber(462)"
   ]
  },
  {
   "cell_type": "code",
   "execution_count": 117,
   "id": "7c92584f",
   "metadata": {},
   "outputs": [
    {
     "name": "stdout",
     "output_type": "stream",
     "text": [
      "2\n",
      "6\n",
      "12\n",
      "20\n",
      "30\n",
      "42\n",
      "56\n",
      "72\n",
      "90\n"
     ]
    }
   ],
   "source": [
    "get_pronic_number(1,100)"
   ]
  },
  {
   "cell_type": "code",
   "execution_count": null,
   "id": "53b40800",
   "metadata": {},
   "outputs": [],
   "source": []
  }
 ],
 "metadata": {
  "kernelspec": {
   "display_name": "Python 3",
   "language": "python",
   "name": "python3"
  },
  "language_info": {
   "codemirror_mode": {
    "name": "ipython",
    "version": 3
   },
   "file_extension": ".py",
   "mimetype": "text/x-python",
   "name": "python",
   "nbconvert_exporter": "python",
   "pygments_lexer": "ipython3",
   "version": "3.8.8"
  }
 },
 "nbformat": 4,
 "nbformat_minor": 5
}
