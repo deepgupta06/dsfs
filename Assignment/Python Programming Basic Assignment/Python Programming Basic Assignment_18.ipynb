{
 "cells": [
  {
   "cell_type": "markdown",
   "id": "b274a8f6",
   "metadata": {},
   "source": [
    "# Python Programming Basic Assignment_18"
   ]
  },
  {
   "cell_type": "markdown",
   "id": "ab3dac51",
   "metadata": {},
   "source": [
    "### 1. Create a function that takes a list of non-negative integers and strings and return a new list without the strings.\n",
    "Examples:\n",
    "\n",
    "filter_list([1, 2, \"a\", \"b\"]) ➞ [1, 2]\n",
    "\n",
    "filter_list([1, \"a\", \"b\", 0, 15]) ➞ [1, 0, 15]\n",
    "\n",
    "filter_list([1, 2, \"aasf\", \"1\", \"123\", 123]) ➞ [1, 2, 123]\n"
   ]
  },
  {
   "cell_type": "code",
   "execution_count": 1,
   "id": "fead6cf5",
   "metadata": {},
   "outputs": [],
   "source": [
    "def filter_list(input_list):\n",
    "    \"\"\"This finction will take a list of non-negative integers and strings and \n",
    "    as a return it will give us a list without string\"\"\"\n",
    "    number_list = []\n",
    "    for i in input_list:\n",
    "        if i.isnumeric():\n",
    "            number_list.append(int(i))\n",
    "        else:\n",
    "            pass\n",
    "    return number_list\n",
    "        "
   ]
  },
  {
   "cell_type": "code",
   "execution_count": 2,
   "id": "abb5b709",
   "metadata": {},
   "outputs": [
    {
     "data": {
      "text/plain": [
       "[1, 2, 3, 1, 1, 1, 1221]"
      ]
     },
     "execution_count": 2,
     "metadata": {},
     "output_type": "execute_result"
    }
   ],
   "source": [
    "filter_list([\"1\",\"2\",\"3\",\"1\",\"1\", \"1\", \"1221\", \"asvs\", \"aswwdw\"])"
   ]
  },
  {
   "cell_type": "markdown",
   "id": "835c24a7",
   "metadata": {},
   "source": [
    "### 2. The \"Reverser\" takes a string as input and returns that string in reverse order, with the opposite case.\n",
    "Examples:\n",
    "\n",
    "reverse(\"Hello World\") ➞ \"DLROw OLLEh\"\n",
    "\n",
    "reverse(\"ReVeRsE\") ➞ \"eSrEvEr\"\n",
    "\n",
    "reverse(\"Radar\") ➞ \"RADAr\"\n"
   ]
  },
  {
   "cell_type": "code",
   "execution_count": 3,
   "id": "5b65b50a",
   "metadata": {},
   "outputs": [],
   "source": [
    "def reverse(input_string):\n",
    "    temp_string = \"\"\n",
    "    for i in input_string:\n",
    "        if i.isupper():\n",
    "            temp_string += i.lower()\n",
    "        else:\n",
    "            temp_string += i.upper()\n",
    "    return temp_string[::-1]"
   ]
  },
  {
   "cell_type": "code",
   "execution_count": 4,
   "id": "ada9f33c",
   "metadata": {},
   "outputs": [
    {
     "data": {
      "text/plain": [
       "'DLROw OLLEh'"
      ]
     },
     "execution_count": 4,
     "metadata": {},
     "output_type": "execute_result"
    }
   ],
   "source": [
    "reverse(\"Hello World\")"
   ]
  },
  {
   "cell_type": "markdown",
   "id": "7eb163d9",
   "metadata": {},
   "source": [
    "### 3. With Python 3, you can assign variables from lists in a much more succinct way. Create variables first, middle and last from the given list using destructuring assignment (check the Resources tab for some examples), where:\n",
    "\n",
    "first  ➞ 1\n",
    "\n",
    "middle ➞ [2, 3, 4, 5]\n",
    "\n",
    "last ➞ 6\n",
    "\n",
    "Your task is to unpack the list writeyourcodehere into three variables, being first, middle, and last, with middle being everything in between the first and last element. Then print all three variables.\n"
   ]
  },
  {
   "cell_type": "code",
   "execution_count": 5,
   "id": "a91a83c9",
   "metadata": {},
   "outputs": [],
   "source": [
    "def unpackList(input_list):\n",
    "    \"\"\"This function unpack the input list into three variables first, middle and last\"\"\"\n",
    "    first = input_list[0]\n",
    "    last = input_list[-1]\n",
    "    middle = input_list[1:len(input_list)]\n",
    "    print(first)\n",
    "    print(middle)\n",
    "    print(last)\n",
    "    "
   ]
  },
  {
   "cell_type": "code",
   "execution_count": 6,
   "id": "949aa477",
   "metadata": {},
   "outputs": [
    {
     "name": "stdout",
     "output_type": "stream",
     "text": [
      "1\n",
      "[2, 3, 4, 5]\n",
      "5\n"
     ]
    }
   ],
   "source": [
    "input_list = [1,2,3,4,5]\n",
    "unpackList(input_list)"
   ]
  },
  {
   "cell_type": "markdown",
   "id": "aa1926c3",
   "metadata": {},
   "source": [
    "### 4. Write a function that calculates the factorial of a number recursively.\n",
    "Examples\n",
    "\n",
    "factorial(5) ➞ 120\n",
    "\n",
    "factorial(3) ➞ 6\n",
    "\n",
    "factorial(1) ➞ 1\n",
    "\n",
    "factorial(0) ➞ 1\n"
   ]
  },
  {
   "cell_type": "code",
   "execution_count": 7,
   "id": "fddccbc0",
   "metadata": {},
   "outputs": [],
   "source": [
    "def factorial(num, value=1):\n",
    "    #value = 1\n",
    "    while num>0:\n",
    "        value *= num\n",
    "        num -= 1\n",
    "        return factorial(num, value)\n",
    "    return value"
   ]
  },
  {
   "cell_type": "code",
   "execution_count": 8,
   "id": "3c21ef5c",
   "metadata": {},
   "outputs": [
    {
     "data": {
      "text/plain": [
       "120"
      ]
     },
     "execution_count": 8,
     "metadata": {},
     "output_type": "execute_result"
    }
   ],
   "source": [
    "factorial(5)"
   ]
  },
  {
   "cell_type": "code",
   "execution_count": 9,
   "id": "20a15ee5",
   "metadata": {},
   "outputs": [
    {
     "data": {
      "text/plain": [
       "6"
      ]
     },
     "execution_count": 9,
     "metadata": {},
     "output_type": "execute_result"
    }
   ],
   "source": [
    "factorial(3)"
   ]
  },
  {
   "cell_type": "markdown",
   "id": "dbb97c29",
   "metadata": {},
   "source": [
    "### 5. Write a function that moves all elements of one type to the end of the list.\n",
    "Examples\n",
    "\n",
    "move_to_end([1, 3, 2, 4, 4, 1], 1) ➞ [3, 2, 4, 4, 1, 1]\n",
    "\n",
    "<p># Move all the 1s to the end of the array.</p>\n",
    "\n",
    "move_to_end([7, 8, 9, 1, 2, 3, 4], 9) ➞ [7, 8, 1, 2, 3, 4, 9]\n",
    "\n",
    "move_to_end([\"a\", \"a\", \"a\", \"b\"], \"a\") ➞ [\"b\", \"a\", \"a\", \"a\"]\n"
   ]
  },
  {
   "cell_type": "code",
   "execution_count": 10,
   "id": "727701bf",
   "metadata": {},
   "outputs": [],
   "source": [
    "def move_to_end(input_list, moving_element):\n",
    "    input_list.append(input_list.pop(input_list.index(moving_element)))\n",
    "    return input_list"
   ]
  },
  {
   "cell_type": "code",
   "execution_count": 11,
   "id": "148d1cb2",
   "metadata": {},
   "outputs": [],
   "source": [
    "a = [1,2,3,4,5]"
   ]
  },
  {
   "cell_type": "code",
   "execution_count": 12,
   "id": "69806252",
   "metadata": {},
   "outputs": [
    {
     "data": {
      "text/plain": [
       "[1, 2, 4, 5, 3]"
      ]
     },
     "execution_count": 12,
     "metadata": {},
     "output_type": "execute_result"
    }
   ],
   "source": [
    "move_to_end(a,3)"
   ]
  },
  {
   "cell_type": "code",
   "execution_count": 13,
   "id": "27e73d55",
   "metadata": {},
   "outputs": [
    {
     "data": {
      "text/plain": [
       "['a', 'c', 'd', 'b']"
      ]
     },
     "execution_count": 13,
     "metadata": {},
     "output_type": "execute_result"
    }
   ],
   "source": [
    "a = [\"a\", \"b\", \"c\", \"d\"]\n",
    "move_to_end(a,\"b\")"
   ]
  }
 ],
 "metadata": {
  "kernelspec": {
   "display_name": "Python 3",
   "language": "python",
   "name": "python3"
  },
  "language_info": {
   "codemirror_mode": {
    "name": "ipython",
    "version": 3
   },
   "file_extension": ".py",
   "mimetype": "text/x-python",
   "name": "python",
   "nbconvert_exporter": "python",
   "pygments_lexer": "ipython3",
   "version": "3.8.8"
  }
 },
 "nbformat": 4,
 "nbformat_minor": 5
}
