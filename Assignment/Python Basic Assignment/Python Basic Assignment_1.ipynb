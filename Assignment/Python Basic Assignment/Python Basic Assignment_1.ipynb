{
 "cells": [
  {
   "cell_type": "markdown",
   "id": "d7f8cb2c",
   "metadata": {},
   "source": [
    "# Python Basic Assignment_1"
   ]
  },
  {
   "cell_type": "markdown",
   "id": "a8d9a667",
   "metadata": {},
   "source": [
    "### 1. In the below elements which of them are values or an expression? eg:- values can be integer or string and expressions will be mathematical operators.\n",
    "\n",
    "<p>*</p> \n",
    "<p>'hello'</p>\n",
    "<p>-87.8</p>\n",
    "<p>- </p>\n",
    "<p>/ </p>\n",
    "<p>+\t</p>\n",
    "<p>6 </p>\n"
   ]
  },
  {
   "cell_type": "markdown",
   "id": "71899cde",
   "metadata": {},
   "source": [
    "#### Ans:\n",
    "*--> Expression\n",
    "\n",
    "\"hello\"--> Value\n",
    "\n",
    "87.8--> Value\n",
    "\n",
    "-87.8 -->Value\n",
    "\n",
    "</p>- -->Expression</p>\n",
    "\n",
    "/ --> Expression\n",
    "\n",
    "</p>+ --> Expression</p>\n",
    "\n",
    "6 --> Value"
   ]
  },
  {
   "cell_type": "markdown",
   "id": "ce15ee75",
   "metadata": {},
   "source": [
    "### 2. What is the difference between string and variable?"
   ]
  },
  {
   "cell_type": "markdown",
   "id": "ab492ea0",
   "metadata": {},
   "source": [
    "### Ans:\n",
    "string--> string is a type of a variable, it can store a specific data type.\n",
    "\n",
    "variable --> To store any kind of value we use veriable, a string is a sub-set of a variable.\n",
    "\n",
    "Example: a=\"1234\", b = 123, c = \"string\", d = 45\n",
    "\n",
    "In the example a,b,c and d all are variable but only a and c is string type veriable."
   ]
  },
  {
   "cell_type": "markdown",
   "id": "be250947",
   "metadata": {},
   "source": [
    "### 3. Describe three different data types."
   ]
  },
  {
   "cell_type": "markdown",
   "id": "55f0e611",
   "metadata": {},
   "source": [
    "### Ans:\n",
    "Three different data types are:\n",
    "<ul>\n",
    "    <li>List</li>\n",
    "    <li>Tuple</li>\n",
    "    <li>Dictionary</li>\n",
    "</ul>\n",
    "<b>List:</b> List is used to store the data, similar to array. But only difference between array and list is with list we can store different type of variable, it also support negative indexing and also it is mutable. To define a list no need to use any built-in function just “[]” will do the work.\n",
    "\n",
    "Example: test_list = [1, 2, 3, “ineuron”, “deep”, 1.232 ]\n",
    " In the above list example we can see it is storing integer, string and float type data.\n",
    "\n",
    "<b>Tuple:</b> Tuple is also use to store multiple data in a single variable like list or array but the difference is after defining a tuple we can’t modify it. To define a tuple data type we use “()”.\n",
    "\n",
    "Example: tuple_example = (“deep”, “gupta”, 4004631, “automation”)\n",
    "\n",
    "<b>Dictionary:</b> Like list and tuple it is also most useful data type in python. Dictionary store the data in key:value pair. All the key of a dictionary should be unique. We can define it like: {key_1:value_1, key_2:value_2}. The value can be different type of data.\n",
    "\n",
    "Example: dic_example = {“First Name”:”Deep”, “Last Name”: “Gupta”, “Empid”: 46321}\n",
    "\t\n",
    "    To acces the item in dictionary we use— \n",
    "    \n",
    "    dic_example[“First Name”] --> “Deep”\n",
    "    \n",
    "    dic_example[“Empid”] --> 46321\n",
    "     "
   ]
  },
  {
   "cell_type": "markdown",
   "id": "9ed3d58e",
   "metadata": {},
   "source": [
    "### 4. What is an expression made up of? What do all expressions do?"
   ]
  },
  {
   "cell_type": "markdown",
   "id": "c9c6e613",
   "metadata": {},
   "source": [
    "### Ans:\n",
    "Expression made up of variables, oparetors, values and function."
   ]
  },
  {
   "cell_type": "markdown",
   "id": "50d26c0f",
   "metadata": {},
   "source": [
    "### 5. This assignment statements, like spam = 10. What is the difference between an expression and a statement?"
   ]
  },
  {
   "cell_type": "markdown",
   "id": "0caa13fd",
   "metadata": {},
   "source": [
    "Statement is pretty much everything that we can do in python like calculating creating a variable deletion insertion.\n",
    "In faver of expression,  it is limited to calling a function, oparetor basically creating a value."
   ]
  },
  {
   "cell_type": "markdown",
   "id": "98296841",
   "metadata": {},
   "source": [
    "### 6. After running the following code, what does the variable bacon contain?\n",
    "bacon = 22\n",
    "\n",
    "bacon + 1\n"
   ]
  },
  {
   "cell_type": "markdown",
   "id": "16839046",
   "metadata": {},
   "source": [
    "### Ans:\n",
    "The value of bacon will be 22."
   ]
  },
  {
   "cell_type": "markdown",
   "id": "cdbb658e",
   "metadata": {},
   "source": [
    "### 7. What should the values of the following two terms be?\n",
    "'spam' + 'spamspam'\n",
    "\n",
    "'spam' * 3\n"
   ]
  },
  {
   "cell_type": "markdown",
   "id": "d04bf769",
   "metadata": {},
   "source": [
    "### Ans:\n",
    "'spam'+'spamspam' --> 'spamspamspam'\n",
    "\n",
    "'spam'*3 --> 'spamspamspam'"
   ]
  },
  {
   "cell_type": "markdown",
   "id": "ce9473ec",
   "metadata": {},
   "source": [
    "### 8. Why is eggs a valid variable name while 100 is invalid?"
   ]
  },
  {
   "cell_type": "markdown",
   "id": "1577bb66",
   "metadata": {},
   "source": [
    "### Ans:\n",
    "As per variable creting criteria variable name should not start with number, starting charecter of the variable name must be a alphabate or underscore.\n",
    "\n",
    "eggs--> Following the above variable creating criteria,\n",
    "\n",
    "100 --> starting char. is a number, it is not meeting the variable creating criteria."
   ]
  },
  {
   "cell_type": "markdown",
   "id": "708f7020",
   "metadata": {},
   "source": [
    "### 9. What three functions can be used to get the integer, floating-point number, or string version of a value?"
   ]
  },
  {
   "cell_type": "markdown",
   "id": "10e3b6d7",
   "metadata": {},
   "source": [
    "### Ans:\n",
    "Three functions are int, float, str.\n",
    "\n",
    "syntex: int(value), float(value), str(value) "
   ]
  },
  {
   "cell_type": "markdown",
   "id": "21508802",
   "metadata": {},
   "source": [
    "### 10. Why does this expression cause an error? How can you fix it?\n",
    "'I have eaten ' + 99 + ' burritos.'\n"
   ]
  },
  {
   "cell_type": "markdown",
   "id": "28682466",
   "metadata": {},
   "source": [
    "### Ans:\n",
    "In the above expression we are trying to add string and integer type data.\n",
    "\n",
    "It will give \"TypeError\".\n",
    "\n",
    "We can fix it by converting the integer(99) value into string type data. \n",
    "\n",
    "Way-1: 'I have eaten ' + '99' + ' burritos.' --> 'I have eaten 99 burritos.'\n",
    "\n",
    "Way-2: 'I have eaten ' + str(99) + ' burritos.' --> 'I have eaten 99 burritos.'"
   ]
  }
 ],
 "metadata": {
  "kernelspec": {
   "display_name": "Python 3",
   "language": "python",
   "name": "python3"
  },
  "language_info": {
   "codemirror_mode": {
    "name": "ipython",
    "version": 3
   },
   "file_extension": ".py",
   "mimetype": "text/x-python",
   "name": "python",
   "nbconvert_exporter": "python",
   "pygments_lexer": "ipython3",
   "version": "3.8.8"
  }
 },
 "nbformat": 4,
 "nbformat_minor": 5
}
