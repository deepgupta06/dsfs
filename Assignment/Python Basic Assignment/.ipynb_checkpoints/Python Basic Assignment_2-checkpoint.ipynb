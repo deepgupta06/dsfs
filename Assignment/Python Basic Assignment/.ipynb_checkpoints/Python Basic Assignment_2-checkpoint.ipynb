{
 "cells": [
  {
   "cell_type": "markdown",
   "id": "dd1791b7",
   "metadata": {},
   "source": [
    "# Python Basic Assignment_1"
   ]
  },
  {
   "cell_type": "markdown",
   "id": "763becdb",
   "metadata": {},
   "source": [
    "### 1.What are the two values of the Boolean data type? How do you write them?"
   ]
  },
  {
   "cell_type": "markdown",
   "id": "309ee6a6",
   "metadata": {},
   "source": [
    "Two Value of boolean data type is \"1\" and \"0\". We use True for \"1\" and False for \"0\"."
   ]
  },
  {
   "cell_type": "markdown",
   "id": "23ee049b",
   "metadata": {},
   "source": [
    "### 2. What are the three different types of Boolean operators?"
   ]
  },
  {
   "cell_type": "markdown",
   "id": "4f77fb66",
   "metadata": {},
   "source": [
    "and--> And operator\n",
    "\n",
    "not--> Not operator\n",
    "\n",
    "or--> Or operator"
   ]
  },
  {
   "cell_type": "code",
   "execution_count": 1,
   "id": "d4cdd712",
   "metadata": {},
   "outputs": [
    {
     "data": {
      "text/plain": [
       "False"
      ]
     },
     "execution_count": 1,
     "metadata": {},
     "output_type": "execute_result"
    }
   ],
   "source": [
    "True and False"
   ]
  },
  {
   "cell_type": "code",
   "execution_count": 2,
   "id": "e03419c2",
   "metadata": {},
   "outputs": [
    {
     "data": {
      "text/plain": [
       "True"
      ]
     },
     "execution_count": 2,
     "metadata": {},
     "output_type": "execute_result"
    }
   ],
   "source": [
    "True or False"
   ]
  },
  {
   "cell_type": "code",
   "execution_count": 3,
   "id": "b883a25c",
   "metadata": {},
   "outputs": [
    {
     "data": {
      "text/plain": [
       "True"
      ]
     },
     "execution_count": 3,
     "metadata": {},
     "output_type": "execute_result"
    }
   ],
   "source": [
    "not False"
   ]
  },
  {
   "cell_type": "markdown",
   "id": "b168291d",
   "metadata": {},
   "source": [
    "### 3. Make a list of each Boolean operator's truth tables (i.e. every possible combination of Boolean values for the operator and what it evaluate )."
   ]
  },
  {
   "cell_type": "markdown",
   "id": "f44f0aff",
   "metadata": {},
   "source": [
    "----- And Orerator's Truth Table ------\n",
    "<table>\n",
    "    <thead>\n",
    "        <tr>\n",
    "            <th>A</th>\n",
    "            <th>B</th>\n",
    "            <th>A and B</th>\n",
    "        </tr>\n",
    "    </thead>\n",
    "    <tbody>\n",
    "        <tr>\n",
    "            <td data-label=\"A\">0</td>\n",
    "            <td data-label=\"B\">0</td>\n",
    "            <td data-label=\"A and B\">0</td>\n",
    "        </tr>\n",
    "        <tr>\n",
    "            <td data-label=\"A\">1</td>\n",
    "            <td data-label=\"B\">0</td>\n",
    "            <td data-label=\"A and B\">0</td>\n",
    "        </tr>\n",
    "        <tr>\n",
    "            <td data-label=\"A\">0</td>\n",
    "            <td data-label=\"B\">1</td>\n",
    "            <td data-label=\"A and B\">0</td>\n",
    "        </tr>\n",
    "        <tr>\n",
    "            <td data-label=\"A\">1</td>\n",
    "            <td data-label=\"B\">1</td>\n",
    "            <td data-label=\"A and B\">1</td>\n",
    "        </tr>\n",
    "    </tbody>\n",
    "</table>\n",
    "\n",
    "\n",
    "\n",
    "----- Or Orerator's Truth Table ------\n",
    "<table>\n",
    "    <thead>\n",
    "        <tr>\n",
    "            <th>A</th>\n",
    "            <th>B</th>\n",
    "            <th>A or B</th>\n",
    "        </tr>\n",
    "    </thead>\n",
    "    <tbody>\n",
    "        <tr>\n",
    "            <td data-label=\"A\">0</td>\n",
    "            <td data-label=\"B\">0</td>\n",
    "            <td data-label=\"A or B\">0</td>\n",
    "        </tr>\n",
    "        <tr>\n",
    "            <td data-label=\"A\">1</td>\n",
    "            <td data-label=\"B\">0</td>\n",
    "            <td data-label=\"A or B\">1</td>\n",
    "        </tr>\n",
    "        <tr>\n",
    "            <td data-label=\"A\">0</td>\n",
    "            <td data-label=\"B\">1</td>\n",
    "            <td data-label=\"A or B\">1</td>\n",
    "        </tr>\n",
    "        <tr>\n",
    "            <td data-label=\"A\">1</td>\n",
    "            <td data-label=\"B\">1</td>\n",
    "            <td data-label=\"A or B\">1</td>\n",
    "        </tr>\n",
    "    </tbody>\n",
    "</table>\n",
    "\n",
    "\n",
    "----- And Orerator's Truth Table ------\n",
    "<table>\n",
    "    <thead>\n",
    "        <tr>\n",
    "            <th>A</th>\n",
    "            <th>Not A</th>\n",
    "        </tr>\n",
    "    </thead>\n",
    "    <tbody>\n",
    "        <tr>\n",
    "            <td data-label=\"A\">0</td>\n",
    "            <td data-label=\"Not A\">1</td>\n",
    "        </tr>\n",
    "        <tr>\n",
    "            <td data-label=\"A\">1</td>\n",
    "            <td data-label=\"Not A\">0</td>\n",
    "    </tbody>\n",
    "</table>"
   ]
  },
  {
   "cell_type": "markdown",
   "id": "c0c2ca8a",
   "metadata": {},
   "source": [
    "### 4. What are the values of the following expressions?\n",
    "(5 > 4) and (3 == 5)\n",
    "\n",
    "not (5 > 4)\n",
    "\n",
    "(5 > 4) or (3 == 5)\n",
    "\n",
    "not ((5 > 4) or (3 == 5))\n",
    "\n",
    "(True and True) and (True == False)\n",
    "\n",
    "(not False) or (not True)\n"
   ]
  },
  {
   "cell_type": "markdown",
   "id": "885a3817",
   "metadata": {},
   "source": [
    "### Ans:\n",
    "\n",
    "(5 > 4) and (3 == 5) --><b>True</b>\n",
    "\n",
    "not (5 > 4) --><b>False</b>\n",
    "\n",
    "(5 > 4) or (3 == 5) --><b>False</b>\n",
    "\n",
    "not ((5 > 4) or (3 == 5)) --><b>False</b>\n",
    "\n",
    "(True and True) and (True == False) --><b>False</b>\n",
    "\n",
    "(not False) or (not True) --><b>True</b>\n"
   ]
  },
  {
   "cell_type": "markdown",
   "id": "7fc41ca0",
   "metadata": {},
   "source": [
    "### 5. What are the six comparison operators?"
   ]
  },
  {
   "cell_type": "markdown",
   "id": "302f80bf",
   "metadata": {},
   "source": [
    "<table>\n",
    "    <thead>\n",
    "        <tr>\n",
    "            <th>Operator</th>\n",
    "            <th>Meaning</th>\n",
    "        </tr>\n",
    "    </thead>\n",
    "    <tbody>\n",
    "        <tr>\n",
    "            <th data-label=\"Operator\">==</th>\n",
    "            <th data-label=\"Meaning\">Equal To</th>\n",
    "        <tr>\n",
    "        <tr>\n",
    "            <th data-label=\"Operator\">!=</th>\n",
    "            <th data-label=\"Meaning\">Not equal to</th>\n",
    "        <tr>\n",
    "        <tr>\n",
    "            <th data-label=\"Operator\"><</th>\n",
    "            <th data-label=\"Meaning\">Less than</th>\n",
    "        <tr>\n",
    "        <tr>\n",
    "            <th data-label=\"Operator\">></th>\n",
    "            <th data-label=\"Meaning\">Greater than</th>\n",
    "        <tr>\n",
    "        <tr>\n",
    "            <th data-label=\"Operator\"><=</th>\n",
    "            <th data-label=\"Meaning\">Less than or equal to</th>\n",
    "        <tr>\n",
    "        <tr>\n",
    "            <th data-label=\"Operator\">>=</th>\n",
    "            <th data-label=\"Meaning\">Greater than or equal to</th>\n",
    "        <tr>           \n",
    "    </tbody>\n",
    "</table>"
   ]
  },
  {
   "cell_type": "markdown",
   "id": "d2925fb1",
   "metadata": {},
   "source": [
    "### 6. How do you tell the difference between the equal to and assignment operators? Describe a condition and when you would use one."
   ]
  },
  {
   "cell_type": "markdown",
   "id": "94d3d143",
   "metadata": {},
   "source": [
    "\"=\" --> It will be used when we are assigning a variable.\n",
    "Example-\n",
    "\n",
    "a=33; in this example we are assigning the value of a to 33.\n",
    "\n",
    "name = \"Deep Gupta\"; in this example we are assigning the value of name variable to \"Deep Gupta\".\n",
    "\n",
    "\"==\" --> It will be used to compare two variables. If the value of two variable are equal, it will return True otherwise it will return False.\n",
    "\n",
    "Example-\n",
    "\n",
    "5==4; in this example we are comparing 5 with 4, that they are equal in therms of their value.\n",
    "\n",
    "#### Use case:\n",
    "\n",
    "Assignment operation:\n",
    "\n",
    "$a = 5\n",
    "\n",
    "$b = 4\n",
    "\n",
    "$a + b\n",
    " Here we are assigning a and b with two different value and then we are doing addition operation.\n",
    " \n",
    " Comparison Operation\n",
    " \n",
    " a = 5\n",
    " b = 5\n",
    " \n",
    " if a==b:\n",
    " \n",
    "     print(\"a and b both are equal.\")\n",
    " \n",
    " else:\n",
    " \n",
    "     print(\"a and b are not equal.\")\n",
    " \n",
    " "
   ]
  },
  {
   "cell_type": "markdown",
   "id": "19671d6b",
   "metadata": {},
   "source": [
    "### 7. Identify the three blocks in this code:\n",
    "\n",
    "spam = 0\n",
    "\n",
    "if spam == 10:\n",
    "\n",
    "print('eggs')\n",
    "\n",
    "if spam > 5:\n",
    "\n",
    "print('bacon')\n",
    "\n",
    "else:\n",
    "\n",
    "print('ham')\n",
    "\n",
    "print('spam')\n",
    "\n",
    "print('spam')\n"
   ]
  },
  {
   "cell_type": "markdown",
   "id": "bb0c82c0",
   "metadata": {},
   "source": [
    "### Ans\n",
    "#### Block 1\n",
    "\n",
    "spam = 10\n",
    "\n",
    "#### Block 2\n",
    "\n",
    "if spam == 10:\n",
    "\n",
    "    print('eggs')\n",
    "\n",
    "#### Block 3\n",
    "\n",
    "if spam > 5:\n",
    "\n",
    "    print('bacon')\n",
    "\n",
    "else:\n",
    "\n",
    "    print('ham')\n",
    "\n",
    "    print('spam')\n",
    "\n",
    "    print('spam')\n"
   ]
  },
  {
   "cell_type": "markdown",
   "id": "a1cb15df",
   "metadata": {},
   "source": [
    "### 8. Write code that prints Hello if 1 is stored in spam, prints Howdy if 2 is stored in spam, and prints Greetings! if anything else is stored in spam."
   ]
  },
  {
   "cell_type": "code",
   "execution_count": 4,
   "id": "1850838e",
   "metadata": {},
   "outputs": [
    {
     "name": "stdout",
     "output_type": "stream",
     "text": [
      "Greesting!\n"
     ]
    }
   ],
   "source": [
    "spam = 5\n",
    "if spam ==1:\n",
    "    print(\"Hello\")\n",
    "elif spam==2:\n",
    "    print(\"Howdy\")\n",
    "else:\n",
    "    print(\"Greesting!\")"
   ]
  },
  {
   "cell_type": "markdown",
   "id": "1e4cdbc7",
   "metadata": {},
   "source": [
    "### 9.If your programme is stuck in an endless loop, what keys you’ll press?"
   ]
  },
  {
   "cell_type": "markdown",
   "id": "1769bd82",
   "metadata": {},
   "source": [
    "### Ans\n",
    "Ctrl+C"
   ]
  },
  {
   "cell_type": "markdown",
   "id": "5ba755c8",
   "metadata": {},
   "source": [
    "### 10. How can you tell the difference between break and continue?"
   ]
  },
  {
   "cell_type": "code",
   "execution_count": 5,
   "id": "1e5d964b",
   "metadata": {},
   "outputs": [
    {
     "name": "stdout",
     "output_type": "stream",
     "text": [
      "0\n",
      "1\n",
      "2\n",
      "3\n",
      "4\n"
     ]
    }
   ],
   "source": [
    "for i in range(10):\n",
    "    if i == 5:\n",
    "        break\n",
    "    print(i)"
   ]
  },
  {
   "cell_type": "markdown",
   "id": "50b6d775",
   "metadata": {},
   "source": [
    "In the above example iterating the loop from 0 to 10, when the value of i is equal to 5 the loop will and exit the."
   ]
  },
  {
   "cell_type": "code",
   "execution_count": 6,
   "id": "76f0d380",
   "metadata": {},
   "outputs": [
    {
     "name": "stdout",
     "output_type": "stream",
     "text": [
      "0\n",
      "1\n",
      "2\n",
      "3\n",
      "4\n",
      "6\n",
      "7\n",
      "8\n",
      "9\n"
     ]
    }
   ],
   "source": [
    "for i in range(10):\n",
    "    if i == 5:\n",
    "        continue\n",
    "    print(i)"
   ]
  },
  {
   "cell_type": "markdown",
   "id": "c3ba1410",
   "metadata": {},
   "source": [
    "In the above example, when value of i is equal to 5 it will skip the rest of the code and skip to the next iterator."
   ]
  },
  {
   "cell_type": "markdown",
   "id": "9206f654",
   "metadata": {},
   "source": [
    "### 11. In a for loop, what is the difference between range(10), range(0, 10), and range(0, 10, 1)?"
   ]
  },
  {
   "cell_type": "markdown",
   "id": "3ec406c5",
   "metadata": {},
   "source": [
    "rnage(10) --> Will return a list 0 to 10. Here we are not defining the starting value and the step by default it will start from zero with 1 step.\n",
    "\n",
    "range(0,10) --> Here we are assigning the starting value to 0.\n",
    "\n",
    "range(0,10,1) --> Here we are assigning the starting and step both the value."
   ]
  },
  {
   "cell_type": "markdown",
   "id": "c8008586",
   "metadata": {},
   "source": [
    "### 12. Write a short program that prints the numbers 1 to 10 using a for loop. Then write an equivalent program that prints the numbers 1 to 10 using a while loop."
   ]
  },
  {
   "cell_type": "markdown",
   "id": "6c7d2cad",
   "metadata": {},
   "source": [
    "#### Using for loop"
   ]
  },
  {
   "cell_type": "code",
   "execution_count": 7,
   "id": "eee0e8aa",
   "metadata": {},
   "outputs": [
    {
     "name": "stdout",
     "output_type": "stream",
     "text": [
      "1\n",
      "2\n",
      "3\n",
      "4\n",
      "5\n",
      "6\n",
      "7\n",
      "8\n",
      "9\n",
      "10\n"
     ]
    }
   ],
   "source": [
    "for i in range(1,11):\n",
    "    print(i)"
   ]
  },
  {
   "cell_type": "markdown",
   "id": "a221cbf3",
   "metadata": {},
   "source": [
    "#### Using while loop"
   ]
  },
  {
   "cell_type": "code",
   "execution_count": 8,
   "id": "b2f72e9a",
   "metadata": {},
   "outputs": [
    {
     "name": "stdout",
     "output_type": "stream",
     "text": [
      "1\n",
      "2\n",
      "3\n",
      "4\n",
      "5\n",
      "6\n",
      "7\n",
      "8\n",
      "9\n",
      "10\n"
     ]
    }
   ],
   "source": [
    "i = 1\n",
    "while i<11:\n",
    "    print(i)\n",
    "    i+=1"
   ]
  },
  {
   "cell_type": "markdown",
   "id": "7b6f66e4",
   "metadata": {},
   "source": [
    "### 13. If you had a function named bacon() inside a module named spam, how would you call it after importing spam?"
   ]
  },
  {
   "cell_type": "markdown",
   "id": "4c30accc",
   "metadata": {},
   "source": [
    "--> By importing whole module\n",
    "\n",
    "import spam\n",
    "\n",
    "spam_object = spam()\n",
    "\n",
    "spam_object.becon()\n",
    "\n",
    "--> Only importing the bacon function\n",
    "\n",
    "from spam import bacon\n",
    "\n",
    "bacon()"
   ]
  },
  {
   "cell_type": "code",
   "execution_count": null,
   "id": "c4e3306d",
   "metadata": {},
   "outputs": [],
   "source": []
  }
 ],
 "metadata": {
  "kernelspec": {
   "display_name": "Python 3",
   "language": "python",
   "name": "python3"
  },
  "language_info": {
   "codemirror_mode": {
    "name": "ipython",
    "version": 3
   },
   "file_extension": ".py",
   "mimetype": "text/x-python",
   "name": "python",
   "nbconvert_exporter": "python",
   "pygments_lexer": "ipython3",
   "version": "3.8.8"
  }
 },
 "nbformat": 4,
 "nbformat_minor": 5
}
