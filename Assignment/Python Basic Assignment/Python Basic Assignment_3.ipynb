{
 "cells": [
  {
   "cell_type": "markdown",
   "id": "f47f1cb3",
   "metadata": {},
   "source": [
    "### Python Basic Assignment_3"
   ]
  },
  {
   "cell_type": "markdown",
   "id": "828ba81f",
   "metadata": {},
   "source": [
    "### 1. Why are functions advantageous to have in your programs?"
   ]
  },
  {
   "cell_type": "markdown",
   "id": "e6ed574a",
   "metadata": {},
   "source": [
    "- With the help of function we can reuse a code without writing multiple time.\n",
    "- It make easier to read the code.\n",
    "- Different programmer can work on different function for a program, it make scalability of the program more easier.\n",
    "- Creating module with the help of function will help to manage a project easier."
   ]
  },
  {
   "cell_type": "markdown",
   "id": "8248f786",
   "metadata": {},
   "source": [
    "### 2. When does the code in a function run: when it's specified or when it's called?\n"
   ]
  },
  {
   "cell_type": "markdown",
   "id": "eed415d4",
   "metadata": {},
   "source": [
    "When we know some piece of a code is going to use multiple time, then we define a function with same logic. \n",
    "Then whenever we need that logic we call the function, at that point that piece of code will run and after \n",
    "successful run rest of the code will run."
   ]
  },
  {
   "cell_type": "markdown",
   "id": "3db47da0",
   "metadata": {},
   "source": [
    "### 3. What statement creates a function?"
   ]
  },
  {
   "cell_type": "markdown",
   "id": "31971ab7",
   "metadata": {},
   "source": [
    "The statement which create the function that consist of name of the function, input argument(parameters) \n",
    "and main logic of the function.\n",
    "\n",
    "Example:\n",
    "    \n",
    "def function_name(input_arguments):\n",
    "\n",
    "    main_logic_goes_here"
   ]
  },
  {
   "cell_type": "markdown",
   "id": "0d94ed2e",
   "metadata": {},
   "source": [
    "### 4. What is the difference between a function and a function call"
   ]
  },
  {
   "cell_type": "markdown",
   "id": "4c673787",
   "metadata": {},
   "source": [
    "Function is a procedure to achive a task, whenever we need to do that task we call that perticular function."
   ]
  },
  {
   "cell_type": "markdown",
   "id": "35a9d23d",
   "metadata": {},
   "source": [
    "### 5. How many global scopes are there in a Python program? How many local scopes?\n"
   ]
  },
  {
   "cell_type": "markdown",
   "id": "c8512a72",
   "metadata": {},
   "source": [
    "There are only one global scopes is in a python program."
   ]
  },
  {
   "cell_type": "markdown",
   "id": "5720b14c",
   "metadata": {},
   "source": [
    "### 6. What happens to variables in a local scope when the function call returns?"
   ]
  },
  {
   "cell_type": "markdown",
   "id": "d5a9cba9",
   "metadata": {},
   "source": [
    "After calling the return in a function all the variable in a local scope will be destroyed. "
   ]
  },
  {
   "cell_type": "markdown",
   "id": "968e1b45",
   "metadata": {},
   "source": [
    "### 7. What is the concept of a return value? Is it possible to have a return value in an expression?"
   ]
  },
  {
   "cell_type": "markdown",
   "id": "9d95620b",
   "metadata": {},
   "source": [
    "A function will be terminated at the point of return statement, and it will give a defined value as a result.\n",
    "\n",
    "It is possible to have a return value in a expression.\n",
    "\n",
    "Example:\n",
    "\n",
    "def return_value():\n",
    "\n",
    "    return 5\n",
    "    \n",
    "$ retrun_value()+5\n",
    "\n",
    ">>Output: 10\n",
    "\n"
   ]
  },
  {
   "cell_type": "markdown",
   "id": "e05e8dcc",
   "metadata": {},
   "source": [
    "### 8. If a function does not have a return statement, what is the return value of a call to that function?\n"
   ]
  },
  {
   "cell_type": "markdown",
   "id": "9323d565",
   "metadata": {},
   "source": [
    "None"
   ]
  },
  {
   "cell_type": "markdown",
   "id": "a0e43301",
   "metadata": {},
   "source": [
    "### 9. How do you make a function variable refer to the global variable?"
   ]
  },
  {
   "cell_type": "code",
   "execution_count": 13,
   "id": "1d517cd0",
   "metadata": {},
   "outputs": [],
   "source": [
    "def make_global():\n",
    "    global a\n",
    "    a = 5"
   ]
  },
  {
   "cell_type": "code",
   "execution_count": 15,
   "id": "524ceb6f",
   "metadata": {},
   "outputs": [],
   "source": [
    "make_global()"
   ]
  },
  {
   "cell_type": "code",
   "execution_count": 16,
   "id": "cd32ca29",
   "metadata": {},
   "outputs": [
    {
     "data": {
      "text/plain": [
       "5"
      ]
     },
     "execution_count": 16,
     "metadata": {},
     "output_type": "execute_result"
    }
   ],
   "source": [
    "a"
   ]
  },
  {
   "cell_type": "markdown",
   "id": "94d36ad7",
   "metadata": {},
   "source": [
    "### 10. What is the data type of None?"
   ]
  },
  {
   "cell_type": "markdown",
   "id": "274cb4c3",
   "metadata": {},
   "source": [
    "NoneType"
   ]
  },
  {
   "cell_type": "code",
   "execution_count": 19,
   "id": "2f0bfcb2",
   "metadata": {},
   "outputs": [
    {
     "data": {
      "text/plain": [
       "NoneType"
      ]
     },
     "execution_count": 19,
     "metadata": {},
     "output_type": "execute_result"
    }
   ],
   "source": [
    "type(None)"
   ]
  },
  {
   "cell_type": "markdown",
   "id": "ba5c03cb",
   "metadata": {},
   "source": [
    "### 11. What does the sentence import areallyourpetsnamederic do?"
   ]
  },
  {
   "cell_type": "markdown",
   "id": "937e29f0",
   "metadata": {},
   "source": [
    "\"import areallyourpetsnamederic\" will add areallyourpetsnamederic library to my current program."
   ]
  },
  {
   "cell_type": "markdown",
   "id": "c2807231",
   "metadata": {},
   "source": [
    "### 12. If you had a bacon() feature in a spam module, what would you call it after importing spam?"
   ]
  },
  {
   "cell_type": "markdown",
   "id": "7f55421a",
   "metadata": {},
   "source": [
    "import spam\n",
    "\n",
    "spm = spam() ##By creating a object\n",
    "\n",
    "spm.bacon()\n",
    "\n",
    "-----------------------------------\n",
    "import spam\n",
    "spam.bacon()\n"
   ]
  },
  {
   "cell_type": "markdown",
   "id": "16b85edb",
   "metadata": {},
   "source": [
    "### 13. What can you do to save a programme from crashing if it encounters an error?"
   ]
  },
  {
   "cell_type": "markdown",
   "id": "9e8c8879",
   "metadata": {},
   "source": [
    "We can use try and except clause."
   ]
  },
  {
   "cell_type": "markdown",
   "id": "d78cb5f0",
   "metadata": {},
   "source": [
    "### 14. What is the purpose of the try clause? What is the purpose of the except clause?"
   ]
  },
  {
   "cell_type": "code",
   "execution_count": null,
   "id": "c0810140",
   "metadata": {},
   "outputs": [],
   "source": [
    "Try and except clause will help to error handeling. If any pices of giving an error in try clause it wi"
   ]
  },
  {
   "cell_type": "code",
   "execution_count": null,
   "id": "358cab61",
   "metadata": {},
   "outputs": [],
   "source": []
  }
 ],
 "metadata": {
  "kernelspec": {
   "display_name": "Python 3",
   "language": "python",
   "name": "python3"
  },
  "language_info": {
   "codemirror_mode": {
    "name": "ipython",
    "version": 3
   },
   "file_extension": ".py",
   "mimetype": "text/x-python",
   "name": "python",
   "nbconvert_exporter": "python",
   "pygments_lexer": "ipython3",
   "version": "3.8.8"
  }
 },
 "nbformat": 4,
 "nbformat_minor": 5
}
