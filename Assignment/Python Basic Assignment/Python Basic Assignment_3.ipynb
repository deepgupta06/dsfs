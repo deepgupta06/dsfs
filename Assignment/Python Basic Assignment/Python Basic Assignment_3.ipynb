{
 "cells": [
  {
   "cell_type": "markdown",
   "id": "94383b69",
   "metadata": {},
   "source": [
    "### Python Basic Assignment_3"
   ]
  },
  {
   "cell_type": "markdown",
   "id": "bd30409f",
   "metadata": {},
   "source": [
    "### 1. Why are functions advantageous to have in your programs?"
   ]
  },
  {
   "cell_type": "markdown",
   "id": "43419d27",
   "metadata": {},
   "source": [
    "- With the help of function we can reuse a code without writing multiple time.\n",
    "- It make easier to read the code.\n",
    "- Different programmer can work on different function for a program, it make scalability of the program more easier.\n",
    "- Creating module with the help of function will help to manage a project easier."
   ]
  },
  {
   "cell_type": "markdown",
   "id": "ddd167d9",
   "metadata": {},
   "source": [
    "### 2. When does the code in a function run: when it's specified or when it's called?\n"
   ]
  },
  {
   "cell_type": "markdown",
   "id": "e9f06396",
   "metadata": {},
   "source": [
    "When we know some piece of a code is going to use multiple time, then we define a function with same logic. \n",
    "Then whenever we need that logic we call the function, at that point that piece of code will run and after \n",
    "successful run rest of the code will run."
   ]
  },
  {
   "cell_type": "markdown",
   "id": "2b538593",
   "metadata": {},
   "source": [
    "### 3. What statement creates a function?"
   ]
  },
  {
   "cell_type": "markdown",
   "id": "69d4d64d",
   "metadata": {},
   "source": [
    "The statement which create the function that consist of name of the function, input argument(parameters) \n",
    "and main logic of the function.\n",
    "\n",
    "Example:\n",
    "    \n",
    "def function_name(input_arguments):\n",
    "\n",
    "    main_logic_goes_here"
   ]
  },
  {
   "cell_type": "markdown",
   "id": "9e941472",
   "metadata": {},
   "source": [
    "### 4. What is the difference between a function and a function call"
   ]
  },
  {
   "cell_type": "markdown",
   "id": "228dee98",
   "metadata": {},
   "source": [
    "Function is a procedure to achive a task, whenever we need to do that task we call that perticular function."
   ]
  },
  {
   "cell_type": "markdown",
   "id": "0375bea7",
   "metadata": {},
   "source": [
    "### 5. How many global scopes are there in a Python program? How many local scopes?\n"
   ]
  },
  {
   "cell_type": "markdown",
   "id": "142c087a",
   "metadata": {},
   "source": [
    "There are only one global scopes is in a python program."
   ]
  },
  {
   "cell_type": "markdown",
   "id": "42b413e4",
   "metadata": {},
   "source": [
    "### 6. What happens to variables in a local scope when the function call returns?"
   ]
  },
  {
   "cell_type": "markdown",
   "id": "e1d6f9e4",
   "metadata": {},
   "source": [
    "After calling the return in a function all the variable in a local scope will be destroyed. "
   ]
  },
  {
   "cell_type": "markdown",
   "id": "ecbe95ae",
   "metadata": {},
   "source": [
    "### 7. What is the concept of a return value? Is it possible to have a return value in an expression?"
   ]
  },
  {
   "cell_type": "markdown",
   "id": "e0b48ab3",
   "metadata": {},
   "source": [
    "A function will be terminated at the point of return statement, and it will give a defined value as a result.\n",
    "\n",
    "It is possible to have a return value in a expression.\n",
    "\n",
    "Example:\n",
    "\n",
    "def return_value():\n",
    "\n",
    "    return 5\n",
    "    \n",
    "$ retrun_value()+5\n",
    "\n",
    ">>Output: 10\n",
    "\n"
   ]
  },
  {
   "cell_type": "markdown",
   "id": "86bc2bca",
   "metadata": {},
   "source": [
    "### 8. If a function does not have a return statement, what is the return value of a call to that function?\n"
   ]
  },
  {
   "cell_type": "markdown",
   "id": "d055c39d",
   "metadata": {},
   "source": [
    "None"
   ]
  },
  {
   "cell_type": "markdown",
   "id": "336ba466",
   "metadata": {},
   "source": [
    "### 9. How do you make a function variable refer to the global variable?"
   ]
  },
  {
   "cell_type": "code",
   "execution_count": 1,
   "id": "f8f9b653",
   "metadata": {},
   "outputs": [],
   "source": [
    "def make_global():\n",
    "    global a\n",
    "    a = 5"
   ]
  },
  {
   "cell_type": "code",
   "execution_count": 2,
   "id": "8391e641",
   "metadata": {},
   "outputs": [],
   "source": [
    "make_global()"
   ]
  },
  {
   "cell_type": "code",
   "execution_count": 3,
   "id": "83e04781",
   "metadata": {},
   "outputs": [
    {
     "data": {
      "text/plain": [
       "5"
      ]
     },
     "execution_count": 3,
     "metadata": {},
     "output_type": "execute_result"
    }
   ],
   "source": [
    "a"
   ]
  },
  {
   "cell_type": "markdown",
   "id": "89451e3e",
   "metadata": {},
   "source": [
    "### 10. What is the data type of None?"
   ]
  },
  {
   "cell_type": "markdown",
   "id": "84f140e9",
   "metadata": {},
   "source": [
    "NoneType"
   ]
  },
  {
   "cell_type": "code",
   "execution_count": 4,
   "id": "fbc259f2",
   "metadata": {},
   "outputs": [
    {
     "data": {
      "text/plain": [
       "NoneType"
      ]
     },
     "execution_count": 4,
     "metadata": {},
     "output_type": "execute_result"
    }
   ],
   "source": [
    "type(None)"
   ]
  },
  {
   "cell_type": "markdown",
   "id": "1887b376",
   "metadata": {},
   "source": [
    "### 11. What does the sentence import areallyourpetsnamederic do?"
   ]
  },
  {
   "cell_type": "markdown",
   "id": "f97c82cf",
   "metadata": {},
   "source": [
    "\"import areallyourpetsnamederic\" will add areallyourpetsnamederic library to my current program."
   ]
  },
  {
   "cell_type": "markdown",
   "id": "7172b1a4",
   "metadata": {},
   "source": [
    "### 12. If you had a bacon() feature in a spam module, what would you call it after importing spam?"
   ]
  },
  {
   "cell_type": "markdown",
   "id": "3514639d",
   "metadata": {},
   "source": [
    "import spam\n",
    "\n",
    "spm = spam() ##By creating a object\n",
    "\n",
    "spm.bacon()\n",
    "\n",
    "-----------------------------------\n",
    "import spam\n",
    "spam.bacon()\n"
   ]
  },
  {
   "cell_type": "markdown",
   "id": "fa48c4eb",
   "metadata": {},
   "source": [
    "### 13. What can you do to save a programme from crashing if it encounters an error?"
   ]
  },
  {
   "cell_type": "markdown",
   "id": "2a395760",
   "metadata": {},
   "source": [
    "We can use try and except clause."
   ]
  },
  {
   "cell_type": "markdown",
   "id": "0145c236",
   "metadata": {},
   "source": [
    "### 14. What is the purpose of the try clause? What is the purpose of the except clause?"
   ]
  },
  {
   "cell_type": "markdown",
   "id": "98ca2895",
   "metadata": {},
   "source": [
    "Try and except clause will help to error handeling. If any pices of giving an error in try clause it will be handel in except clause."
   ]
  },
  {
   "cell_type": "code",
   "execution_count": null,
   "id": "2b132d07",
   "metadata": {},
   "outputs": [],
   "source": []
  }
 ],
 "metadata": {
  "kernelspec": {
   "display_name": "Python 3",
   "language": "python",
   "name": "python3"
  },
  "language_info": {
   "codemirror_mode": {
    "name": "ipython",
    "version": 3
   },
   "file_extension": ".py",
   "mimetype": "text/x-python",
   "name": "python",
   "nbconvert_exporter": "python",
   "pygments_lexer": "ipython3",
   "version": "3.8.8"
  }
 },
 "nbformat": 4,
 "nbformat_minor": 5
}
